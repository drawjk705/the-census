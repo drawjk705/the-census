{
 "cells": [
  {
   "cell_type": "markdown",
   "metadata": {},
   "source": [
    "[Census Documentation](https://www2.census.gov/programs-surveys/acs/tech_docs/subject_definitions/2019_ACSSubjectDefinitions.pdf)"
   ]
  },
  {
   "cell_type": "code",
   "execution_count": 1,
   "metadata": {},
   "outputs": [],
   "source": [
    "%config Completer.use_jedi = False"
   ]
  },
  {
   "cell_type": "code",
   "execution_count": 2,
   "metadata": {},
   "outputs": [],
   "source": [
    "from census.getCensus import getCensus\n",
    "from census.variables.models import GroupCode\n",
    "from census.models import GeoDomain\n",
    "import pandas as pd\n",
    "from pprint import pprint"
   ]
  },
  {
   "cell_type": "markdown",
   "metadata": {},
   "source": [
    "We'll use these since these are the primary geographies we care about"
   ]
  },
  {
   "cell_type": "code",
   "execution_count": 3,
   "metadata": {},
   "outputs": [],
   "source": [
    "geoDomains = [GeoDomain('congressional district'), GeoDomain('state')]"
   ]
  },
  {
   "cell_type": "code",
   "execution_count": 4,
   "metadata": {},
   "outputs": [],
   "source": [
    "c = getCensus(2019, shouldCacheOnDisk=True, shouldLoadFromExistingCache=True, shouldReplaceColumnHeaders=True)"
   ]
  },
  {
   "cell_type": "markdown",
   "metadata": {},
   "source": [
    "Get the group data"
   ]
  },
  {
   "cell_type": "code",
   "execution_count": 5,
   "metadata": {},
   "outputs": [],
   "source": [
    "_ = c.getGroups()"
   ]
  },
  {
   "cell_type": "markdown",
   "metadata": {},
   "source": [
    "# Education statistics"
   ]
  },
  {
   "cell_type": "code",
   "execution_count": 6,
   "metadata": {},
   "outputs": [
    {
     "data": {
      "application/vnd.jupyter.widget-view+json": {
       "model_id": "c1b56d59b0794980b2dc150c0fbd8c50",
       "version_major": 2,
       "version_minor": 0
      },
      "text/plain": [
       "  0%|          | 0/1 [00:00<?, ?it/s]"
      ]
     },
     "metadata": {},
     "output_type": "display_data"
    }
   ],
   "source": [
    "educVars = c.getVariablesByGroup(c.groups.EducationalAttainmentForThePopulation25YearsAndOver.code)"
   ]
  },
  {
   "cell_type": "code",
   "execution_count": 7,
   "metadata": {},
   "outputs": [
    {
     "data": {
      "application/vnd.jupyter.widget-view+json": {
       "model_id": "dd0d5d7abb53495a82defd2c43910e46",
       "version_major": 2,
       "version_minor": 0
      },
      "text/plain": [
       "|          | 0/? [00:00<?, ?it/s]"
      ]
     },
     "metadata": {},
     "output_type": "display_data"
    }
   ],
   "source": [
    "educData = c.getStats(educVars['code'].tolist(), *geoDomains)\n"
   ]
  },
  {
   "cell_type": "code",
   "execution_count": 8,
   "metadata": {},
   "outputs": [],
   "source": [
    "educPcts = educData.loc[:,['NAME', 'congressional district', 'state']]"
   ]
  },
  {
   "cell_type": "code",
   "execution_count": 9,
   "metadata": {},
   "outputs": [],
   "source": [
    "educPcts['pctNoHs'] = (educData.Estimate_Total_NoSchoolingCompleted \\\n",
    "                    + educData.Estimate_Total_NurseryTo4thGrade \\\n",
    "                    + educData.Estimate_Total_5thAnd6thGrade \\\n",
    "                    + educData.Estimate_Total_7thAnd8thGrade \\\n",
    "                    + educData.Estimate_Total_9thGrade \\\n",
    "                    + educData.Estimate_Total_10thGrade \\\n",
    "                    + educData.Estimate_Total_11thGrade \\\n",
    "                    + educData.Estimate_Total_12thGradeNoDiploma) / educData.Estimate_Total\n",
    "educPcts['pctHs'] = (educData.Estimate_Total_RegularHighSchoolDiploma \\\n",
    "                     + educData.Estimate_Total_GedOrAlternativeCredential) \\\n",
    "                        / educData.Estimate_Total\n",
    "educPcts['pctBach'] = educData.Estimate_Total_BachelorsDegree / educData.Estimate_Total\n",
    "educPcts['pctSomeCollege1YrNoDegree'] = educData.Estimate_Total_SomeCollegeLessThan1Year / educData.Estimate_Total\n",
    "educPcts['pctSomeCollegeManyYrsNoDegree'] = educData.Estimate_Total_SomeCollege1OrMoreYearsNoDegree / educData.Estimate_Total\n",
    "educPcts['pctGradPlus'] = (educData.Estimate_Total_DoctorateDegree + \\\n",
    "                          educData.Estimate_Total_MastersDegree ) / educData.Estimate_Total"
   ]
  },
  {
   "cell_type": "markdown",
   "metadata": {},
   "source": [
    "# Employment statistics"
   ]
  },
  {
   "cell_type": "code",
   "execution_count": 10,
   "metadata": {},
   "outputs": [
    {
     "data": {
      "application/vnd.jupyter.widget-view+json": {
       "model_id": "1fc8d4c42266441d98629604f06d05d4",
       "version_major": 2,
       "version_minor": 0
      },
      "text/plain": [
       "  0%|          | 0/1 [00:00<?, ?it/s]"
      ]
     },
     "metadata": {},
     "output_type": "display_data"
    },
    {
     "data": {
      "application/vnd.jupyter.widget-view+json": {
       "model_id": "9f6c602347884af2822603138e15cf74",
       "version_major": 2,
       "version_minor": 0
      },
      "text/plain": [
       "|          | 0/? [00:00<?, ?it/s]"
      ]
     },
     "metadata": {},
     "output_type": "display_data"
    }
   ],
   "source": [
    "emplVars = c.getVariablesByGroup(c.groups.EmploymentStatusForThePopulation16YearsAndOver.code)\n",
    "emplData = c.getStats(emplVars['code'].tolist(), *geoDomains)"
   ]
  },
  {
   "cell_type": "code",
   "execution_count": 11,
   "metadata": {},
   "outputs": [],
   "source": [
    "emplPcts = emplData.loc[:,['NAME', 'state', 'congressional district']]"
   ]
  },
  {
   "cell_type": "code",
   "execution_count": 12,
   "metadata": {},
   "outputs": [],
   "source": [
    "emplPcts['pctInLaborForce'] = (emplData.Estimate_Total_InLaborForce_CivilianLaborForce / \n",
    "                             emplData.Estimate_Total)\n",
    "emplPcts['pctEmployed'] = (emplData.Estimate_Total_InLaborForce_CivilianLaborForce_Employed /\n",
    "                         emplData.Estimate_Total_InLaborForce_CivilianLaborForce)\n",
    "emplPcts['pctUnemployed'] = (emplData.Estimate_Total_InLaborForce_CivilianLaborForce_Unemployed /\n",
    "                         emplData.Estimate_Total_InLaborForce_CivilianLaborForce)"
   ]
  },
  {
   "cell_type": "code",
   "execution_count": 13,
   "metadata": {},
   "outputs": [
    {
     "data": {
      "application/vnd.jupyter.widget-view+json": {
       "model_id": "2c965391c8e941e08707289707f42de2",
       "version_major": 2,
       "version_minor": 0
      },
      "text/plain": [
       "  0%|          | 0/1 [00:00<?, ?it/s]"
      ]
     },
     "metadata": {},
     "output_type": "display_data"
    },
    {
     "data": {
      "application/vnd.jupyter.widget-view+json": {
       "model_id": "6c5d03c94d0d4e41a7e8519eaa8e42e2",
       "version_major": 2,
       "version_minor": 0
      },
      "text/plain": [
       "|          | 0/? [00:00<?, ?it/s]"
      ]
     },
     "metadata": {},
     "output_type": "display_data"
    }
   ],
   "source": [
    "healthInsVars = c.getVariablesByGroup(c.groups.HealthInsuranceCoverageStatusBySexByAge.code)\n",
    "healthInsData = c.getStats(healthInsVars['code'].tolist(), *geoDomains)\n",
    "healthInsPct = healthInsData.loc[:,['NAME', 'state', 'congressional district']]"
   ]
  },
  {
   "cell_type": "code",
   "execution_count": 14,
   "metadata": {},
   "outputs": [],
   "source": [
    "healthInsPct['pctMaleWithIns'] = ( healthInsData.Estimate_Total_Male_19To64Years_WithHealthInsuranceCoverage /\n",
    "                                    healthInsData.Estimate_Total_Male_19To64Years)\n",
    "healthInsPct['pctFemWithIns'] = ( healthInsData.Estimate_Total_Female_19To64Years_WithHealthInsuranceCoverage /\n",
    "                                    healthInsData.Estimate_Total_Female_19To64Years)\n",
    "healthInsPct['pctMaleWithoutIns'] = ( healthInsData.Estimate_Total_Male_19To64Years_NoHealthInsuranceCoverage /\n",
    "                                    healthInsData.Estimate_Total_Male_19To64Years)\n",
    "healthInsPct['pctFemWithoutIns'] = ( healthInsData.Estimate_Total_Female_19To64Years_NoHealthInsuranceCoverage /\n",
    "                                    healthInsData.Estimate_Total_Female_19To64Years)\n",
    "healthInsPct['pctWithIns'] = (( healthInsData.Estimate_Total_Male_19To64Years_WithHealthInsuranceCoverage + \n",
    "                               healthInsData.Estimate_Total_Female_19To64Years_WithHealthInsuranceCoverage) /\n",
    "                                (healthInsData.Estimate_Total_Male_19To64Years +\n",
    "                                    healthInsData.Estimate_Total_Female_19To64Years))\n",
    "healthInsPct['pctWithoutIns'] = (( healthInsData.Estimate_Total_Male_19To64Years_NoHealthInsuranceCoverage +\n",
    "                                  healthInsData.Estimate_Total_Female_19To64Years_NoHealthInsuranceCoverage) /\n",
    "                                (healthInsData.Estimate_Total_Male_19To64Years +\n",
    "                                    healthInsData.Estimate_Total_Female_19To64Years))\n"
   ]
  },
  {
   "cell_type": "code",
   "execution_count": 15,
   "metadata": {},
   "outputs": [
    {
     "data": {
      "text/html": [
       "<div>\n",
       "<style scoped>\n",
       "    .dataframe tbody tr th:only-of-type {\n",
       "        vertical-align: middle;\n",
       "    }\n",
       "\n",
       "    .dataframe tbody tr th {\n",
       "        vertical-align: top;\n",
       "    }\n",
       "\n",
       "    .dataframe thead th {\n",
       "        text-align: right;\n",
       "    }\n",
       "</style>\n",
       "<table border=\"1\" class=\"dataframe\">\n",
       "  <thead>\n",
       "    <tr style=\"text-align: right;\">\n",
       "      <th></th>\n",
       "      <th>NAME</th>\n",
       "      <th>state</th>\n",
       "      <th>congressional district</th>\n",
       "      <th>pctMaleWithIns</th>\n",
       "      <th>pctFemWithIns</th>\n",
       "      <th>pctMaleWithoutIns</th>\n",
       "      <th>pctFemWithoutIns</th>\n",
       "      <th>pctWithIns</th>\n",
       "      <th>pctWithoutIns</th>\n",
       "    </tr>\n",
       "  </thead>\n",
       "  <tbody>\n",
       "    <tr>\n",
       "      <th>0</th>\n",
       "      <td>Congressional District 3 (116th Congress), California</td>\n",
       "      <td>06</td>\n",
       "      <td>03</td>\n",
       "      <td>0.913085</td>\n",
       "      <td>0.930216</td>\n",
       "      <td>0.086915</td>\n",
       "      <td>0.069784</td>\n",
       "      <td>0.921750</td>\n",
       "      <td>0.078250</td>\n",
       "    </tr>\n",
       "    <tr>\n",
       "      <th>1</th>\n",
       "      <td>Congressional District 21 (116th Congress), California</td>\n",
       "      <td>06</td>\n",
       "      <td>21</td>\n",
       "      <td>0.814732</td>\n",
       "      <td>0.863114</td>\n",
       "      <td>0.185268</td>\n",
       "      <td>0.136886</td>\n",
       "      <td>0.838887</td>\n",
       "      <td>0.161113</td>\n",
       "    </tr>\n",
       "  </tbody>\n",
       "</table>\n",
       "</div>"
      ],
      "text/plain": [
       "                                                     NAME state  \\\n",
       "0   Congressional District 3 (116th Congress), California    06   \n",
       "1  Congressional District 21 (116th Congress), California    06   \n",
       "\n",
       "  congressional district  pctMaleWithIns  pctFemWithIns  pctMaleWithoutIns  \\\n",
       "0                     03        0.913085       0.930216           0.086915   \n",
       "1                     21        0.814732       0.863114           0.185268   \n",
       "\n",
       "   pctFemWithoutIns  pctWithIns  pctWithoutIns  \n",
       "0          0.069784    0.921750       0.078250  \n",
       "1          0.136886    0.838887       0.161113  "
      ]
     },
     "execution_count": 15,
     "metadata": {},
     "output_type": "execute_result"
    }
   ],
   "source": [
    "healthInsPct.head(n=2)"
   ]
  },
  {
   "cell_type": "markdown",
   "metadata": {},
   "source": [
    "# Gini Index"
   ]
  },
  {
   "cell_type": "code",
   "execution_count": 16,
   "metadata": {},
   "outputs": [
    {
     "data": {
      "application/vnd.jupyter.widget-view+json": {
       "model_id": "02860add4fa14cf5915d897064a7d00d",
       "version_major": 2,
       "version_minor": 0
      },
      "text/plain": [
       "  0%|          | 0/1 [00:00<?, ?it/s]"
      ]
     },
     "metadata": {},
     "output_type": "display_data"
    },
    {
     "data": {
      "application/vnd.jupyter.widget-view+json": {
       "model_id": "ef4396599f4e48c4bcc648e8390da342",
       "version_major": 2,
       "version_minor": 0
      },
      "text/plain": [
       "|          | 0/? [00:00<?, ?it/s]"
      ]
     },
     "metadata": {},
     "output_type": "display_data"
    }
   ],
   "source": [
    "giniVars = c.getVariablesByGroup(c.groups.GiniIndexOfIncomeInequality.code)\n",
    "giniData = c.getStats(giniVars['code'].tolist(), *geoDomains)"
   ]
  },
  {
   "cell_type": "code",
   "execution_count": 17,
   "metadata": {},
   "outputs": [
    {
     "data": {
      "text/plain": [
       "count    437.000000\n",
       "mean       0.459643\n",
       "std        0.031104\n",
       "min        0.392500\n",
       "25%        0.439100\n",
       "50%        0.456200\n",
       "75%        0.475000\n",
       "max        0.581900\n",
       "Name: Estimate_GiniIndex, dtype: float64"
      ]
     },
     "execution_count": 17,
     "metadata": {},
     "output_type": "execute_result"
    }
   ],
   "source": [
    "giniData.Estimate_GiniIndex.describe()"
   ]
  },
  {
   "cell_type": "markdown",
   "metadata": {},
   "source": [
    "# Income"
   ]
  },
  {
   "cell_type": "code",
   "execution_count": 18,
   "metadata": {},
   "outputs": [
    {
     "data": {
      "application/vnd.jupyter.widget-view+json": {
       "model_id": "5d58023d34b1452d8d01c489bc9d8ed2",
       "version_major": 2,
       "version_minor": 0
      },
      "text/plain": [
       "  0%|          | 0/1 [00:00<?, ?it/s]"
      ]
     },
     "metadata": {},
     "output_type": "display_data"
    },
    {
     "data": {
      "application/vnd.jupyter.widget-view+json": {
       "model_id": "146ef0513b164175bd0e29b074a02143",
       "version_major": 2,
       "version_minor": 0
      },
      "text/plain": [
       "|          | 0/? [00:00<?, ?it/s]"
      ]
     },
     "metadata": {},
     "output_type": "display_data"
    },
    {
     "data": {
      "application/vnd.jupyter.widget-view+json": {
       "model_id": "6e00638d61cf44938c6b3e4a1e332c02",
       "version_major": 2,
       "version_minor": 0
      },
      "text/plain": [
       "  0%|          | 0/1 [00:00<?, ?it/s]"
      ]
     },
     "metadata": {},
     "output_type": "display_data"
    },
    {
     "data": {
      "application/vnd.jupyter.widget-view+json": {
       "model_id": "ad3e6c041f1249d7bbc1bd5ba3683d5d",
       "version_major": 2,
       "version_minor": 0
      },
      "text/plain": [
       "|          | 0/? [00:00<?, ?it/s]"
      ]
     },
     "metadata": {},
     "output_type": "display_data"
    }
   ],
   "source": [
    "c.searchGroups('aggregate income')\n",
    "\n",
    "incomeVars = c.getVariablesByGroup(c.groups.AggregateIncomeInThePast12MonthsIn2019InflationAdjustedDollars.code)\n",
    "incomeData = c.getStats(incomeVars['code'].tolist(), *geoDomains)\n",
    "\n",
    "populationVars = c.getVariablesByGroup(c.groups.TotalPopulation.code)\n",
    "populationData = c.getStats(populationVars['code'].tolist(), *geoDomains)"
   ]
  },
  {
   "cell_type": "code",
   "execution_count": 19,
   "metadata": {},
   "outputs": [],
   "source": [
    "avgIncome = incomeData.loc[:,['NAME', 'state', 'congressional district']]\n",
    "\n",
    "avgIncome['avgIncome'] = (incomeData.Estimate_AggregateIncomeInThePast12MonthsIn2019InflationAdjustedDollars /\n",
    "                         populationData.Estimate_Total)"
   ]
  },
  {
   "cell_type": "code",
   "execution_count": 20,
   "metadata": {},
   "outputs": [
    {
     "data": {
      "text/html": [
       "<div>\n",
       "<style scoped>\n",
       "    .dataframe tbody tr th:only-of-type {\n",
       "        vertical-align: middle;\n",
       "    }\n",
       "\n",
       "    .dataframe tbody tr th {\n",
       "        vertical-align: top;\n",
       "    }\n",
       "\n",
       "    .dataframe thead th {\n",
       "        text-align: right;\n",
       "    }\n",
       "</style>\n",
       "<table border=\"1\" class=\"dataframe\">\n",
       "  <thead>\n",
       "    <tr style=\"text-align: right;\">\n",
       "      <th></th>\n",
       "      <th>NAME</th>\n",
       "      <th>state</th>\n",
       "      <th>congressional district</th>\n",
       "      <th>avgIncome</th>\n",
       "    </tr>\n",
       "  </thead>\n",
       "  <tbody>\n",
       "    <tr>\n",
       "      <th>0</th>\n",
       "      <td>Congressional District 1 (116th Congress), Alabama</td>\n",
       "      <td>01</td>\n",
       "      <td>01</td>\n",
       "      <td>27463.206159</td>\n",
       "    </tr>\n",
       "    <tr>\n",
       "      <th>1</th>\n",
       "      <td>Congressional District 2 (116th Congress), Alabama</td>\n",
       "      <td>01</td>\n",
       "      <td>02</td>\n",
       "      <td>26790.405233</td>\n",
       "    </tr>\n",
       "  </tbody>\n",
       "</table>\n",
       "</div>"
      ],
      "text/plain": [
       "                                                 NAME state  \\\n",
       "0  Congressional District 1 (116th Congress), Alabama    01   \n",
       "1  Congressional District 2 (116th Congress), Alabama    01   \n",
       "\n",
       "  congressional district     avgIncome  \n",
       "0                     01  27463.206159  \n",
       "1                     02  26790.405233  "
      ]
     },
     "execution_count": 20,
     "metadata": {},
     "output_type": "execute_result"
    }
   ],
   "source": [
    "avgIncome.head(n=2)"
   ]
  },
  {
   "cell_type": "markdown",
   "metadata": {},
   "source": [
    "# Internet access"
   ]
  },
  {
   "cell_type": "code",
   "execution_count": 21,
   "metadata": {},
   "outputs": [
    {
     "data": {
      "application/vnd.jupyter.widget-view+json": {
       "model_id": "1cad713410744d979e72c92864b24a58",
       "version_major": 2,
       "version_minor": 0
      },
      "text/plain": [
       "  0%|          | 0/1 [00:00<?, ?it/s]"
      ]
     },
     "metadata": {},
     "output_type": "display_data"
    },
    {
     "data": {
      "application/vnd.jupyter.widget-view+json": {
       "model_id": "cd3f545df35149e3b30eef3a6db33301",
       "version_major": 2,
       "version_minor": 0
      },
      "text/plain": [
       "|          | 0/? [00:00<?, ?it/s]"
      ]
     },
     "metadata": {},
     "output_type": "display_data"
    }
   ],
   "source": [
    "c.searchGroups('internet')\n",
    "internetVars = c.getVariablesByGroup(c.groups.PresenceAndTypesOfInternetSubscriptionsInHousehold.code)\n",
    "internetData = c.getStats(internetVars['code'].tolist(), *geoDomains)"
   ]
  },
  {
   "cell_type": "code",
   "execution_count": 22,
   "metadata": {},
   "outputs": [
    {
     "data": {
      "text/plain": [
       "['Estimate_Total',\n",
       " 'Estimate_Total_WithAnInternetSubscription',\n",
       " 'Estimate_Total_WithAnInternetSubscription_DialUpWithNoOtherTypeOfInternetSubscription',\n",
       " 'Estimate_Total_WithAnInternetSubscription_BroadbandOfAnyType',\n",
       " 'Estimate_Total_WithAnInternetSubscription_CellularDataPlan',\n",
       " 'Estimate_Total_WithAnInternetSubscription_CellularDataPlan_CellularDataPlanWithNoOtherTypeOfInternetSubscription',\n",
       " 'Estimate_Total_WithAnInternetSubscription_BroadbandSuchAsCableFiberOpticOrDsl',\n",
       " 'Estimate_Total_WithAnInternetSubscription_BroadbandSuchAsCableFiberOpticOrDsl_BroadbandSuchAsCableFiberOpticOrDslWithNoOtherTypeOfInternetSubscription',\n",
       " 'Estimate_Total_WithAnInternetSubscription_SatelliteInternetService',\n",
       " 'Estimate_Total_WithAnInternetSubscription_SatelliteInternetService_SatelliteInternetServiceWithNoOtherTypeOfInternetSubscription',\n",
       " 'Estimate_Total_WithAnInternetSubscription_OtherServiceWithNoOtherTypeOfInternetSubscription',\n",
       " 'Estimate_Total_InternetAccessWithoutASubscription',\n",
       " 'Estimate_Total_NoInternetAccess']"
      ]
     },
     "execution_count": 22,
     "metadata": {},
     "output_type": "execute_result"
    }
   ],
   "source": [
    "[col for col in internetData.columns.tolist() if col.startswith('Estimate')]"
   ]
  },
  {
   "cell_type": "code",
   "execution_count": 23,
   "metadata": {},
   "outputs": [],
   "source": [
    "pctInternetAccess = internetData.loc[:,['NAME', 'state', 'congressional district']]\n",
    "\n",
    "pctInternetAccess['pctHasInternet'] = (internetData.Estimate_Total_WithAnInternetSubscription /\n",
    "                                      internetData.Estimate_Total)\n",
    "pctInternetAccess['pctHasNoInternet'] = (internetData.Estimate_Total_NoInternetAccess /\n",
    "                                        internetData.Estimate_Total)\n",
    "pctInternetAccess['pctCellData'] = (internetData.Estimate_Total_WithAnInternetSubscription_CellularDataPlan /\n",
    "                                   internetData.Estimate_Total_WithAnInternetSubscription) * pctInternetAccess.pctHasInternet"
   ]
  },
  {
   "cell_type": "code",
   "execution_count": 24,
   "metadata": {},
   "outputs": [
    {
     "data": {
      "text/html": [
       "<div>\n",
       "<style scoped>\n",
       "    .dataframe tbody tr th:only-of-type {\n",
       "        vertical-align: middle;\n",
       "    }\n",
       "\n",
       "    .dataframe tbody tr th {\n",
       "        vertical-align: top;\n",
       "    }\n",
       "\n",
       "    .dataframe thead th {\n",
       "        text-align: right;\n",
       "    }\n",
       "</style>\n",
       "<table border=\"1\" class=\"dataframe\">\n",
       "  <thead>\n",
       "    <tr style=\"text-align: right;\">\n",
       "      <th></th>\n",
       "      <th>NAME</th>\n",
       "      <th>state</th>\n",
       "      <th>congressional district</th>\n",
       "      <th>pctHasInternet</th>\n",
       "      <th>pctHasNoInternet</th>\n",
       "      <th>pctCellData</th>\n",
       "    </tr>\n",
       "  </thead>\n",
       "  <tbody>\n",
       "    <tr>\n",
       "      <th>0</th>\n",
       "      <td>Congressional District 3 (116th Congress), California</td>\n",
       "      <td>06</td>\n",
       "      <td>03</td>\n",
       "      <td>0.901977</td>\n",
       "      <td>0.081209</td>\n",
       "      <td>0.844984</td>\n",
       "    </tr>\n",
       "    <tr>\n",
       "      <th>1</th>\n",
       "      <td>Congressional District 21 (116th Congress), California</td>\n",
       "      <td>06</td>\n",
       "      <td>21</td>\n",
       "      <td>0.767401</td>\n",
       "      <td>0.208614</td>\n",
       "      <td>0.649278</td>\n",
       "    </tr>\n",
       "  </tbody>\n",
       "</table>\n",
       "</div>"
      ],
      "text/plain": [
       "                                                     NAME state  \\\n",
       "0   Congressional District 3 (116th Congress), California    06   \n",
       "1  Congressional District 21 (116th Congress), California    06   \n",
       "\n",
       "  congressional district  pctHasInternet  pctHasNoInternet  pctCellData  \n",
       "0                     03        0.901977          0.081209     0.844984  \n",
       "1                     21        0.767401          0.208614     0.649278  "
      ]
     },
     "execution_count": 24,
     "metadata": {},
     "output_type": "execute_result"
    }
   ],
   "source": [
    "pctInternetAccess.head(n=2)"
   ]
  },
  {
   "cell_type": "markdown",
   "metadata": {},
   "source": [
    "# Tech access"
   ]
  },
  {
   "cell_type": "code",
   "execution_count": 25,
   "metadata": {},
   "outputs": [
    {
     "data": {
      "application/vnd.jupyter.widget-view+json": {
       "model_id": "60b3a60b4da54300822d2d557040a939",
       "version_major": 2,
       "version_minor": 0
      },
      "text/plain": [
       "  0%|          | 0/1 [00:00<?, ?it/s]"
      ]
     },
     "metadata": {},
     "output_type": "display_data"
    }
   ],
   "source": [
    "computerVars = c.getVariablesByGroup(c.groups.TypesOfComputersInHousehold.code)"
   ]
  },
  {
   "cell_type": "code",
   "execution_count": 26,
   "metadata": {},
   "outputs": [
    {
     "data": {
      "text/plain": [
       "['Estimate!!Total:',\n",
       " 'Estimate!!Total:!!Has one or more types of computing devices:',\n",
       " 'Estimate!!Total:!!Has one or more types of computing devices:!!Desktop or laptop',\n",
       " 'Estimate!!Total:!!Has one or more types of computing devices:!!Desktop or laptop!!Desktop or laptop with no other type of computing device',\n",
       " 'Estimate!!Total:!!Has one or more types of computing devices:!!Smartphone',\n",
       " 'Estimate!!Total:!!Has one or more types of computing devices:!!Smartphone!!Smartphone with no other type of computing device',\n",
       " 'Estimate!!Total:!!Has one or more types of computing devices:!!Tablet or other portable wireless computer',\n",
       " 'Estimate!!Total:!!Has one or more types of computing devices:!!Tablet or other portable wireless computer!!Tablet or other portable wireless computer with no other type of computing device',\n",
       " 'Estimate!!Total:!!Has one or more types of computing devices:!!Other computer',\n",
       " 'Estimate!!Total:!!Has one or more types of computing devices:!!Other computer!!Other computer with no other type of computing device',\n",
       " 'Estimate!!Total:!!No Computer']"
      ]
     },
     "execution_count": 26,
     "metadata": {},
     "output_type": "execute_result"
    }
   ],
   "source": [
    "[var for var in computerVars['name'].tolist() if var.startswith('Estimate')]"
   ]
  },
  {
   "cell_type": "code",
   "execution_count": 27,
   "metadata": {},
   "outputs": [
    {
     "data": {
      "application/vnd.jupyter.widget-view+json": {
       "model_id": "99623e6dfd8146199842a023290044d7",
       "version_major": 2,
       "version_minor": 0
      },
      "text/plain": [
       "|          | 0/? [00:00<?, ?it/s]"
      ]
     },
     "metadata": {},
     "output_type": "display_data"
    }
   ],
   "source": [
    "computerStats = c.getStats(computerVars['code'].tolist(), *geoDomains)"
   ]
  },
  {
   "cell_type": "code",
   "execution_count": 28,
   "metadata": {},
   "outputs": [],
   "source": [
    "computerPcts = computerStats.loc[:,[\"NAME\", \"state\", \"congressional district\"]]\n",
    "\n",
    "computerPcts['pctHasTech'] = (computerStats.Estimate_Total_HasOneOrMoreTypesOfComputingDevices /\n",
    "                                 computerStats.Estimate_Total)\n",
    "computerPcts['pctNoTech'] = (computerStats.Estimate_Total_NoComputer / \n",
    "                                computerStats.Estimate_Total)\n",
    "computerPcts['pctSmartphone'] = (computerStats.Estimate_Total_HasOneOrMoreTypesOfComputingDevices_Smartphone /\n",
    "                               computerStats.Estimate_Total)\n",
    "computerPcts['pctNoSmartphone'] = 1 - computerPcts.pctSmartphone"
   ]
  },
  {
   "cell_type": "code",
   "execution_count": 29,
   "metadata": {},
   "outputs": [
    {
     "data": {
      "text/html": [
       "<div>\n",
       "<style scoped>\n",
       "    .dataframe tbody tr th:only-of-type {\n",
       "        vertical-align: middle;\n",
       "    }\n",
       "\n",
       "    .dataframe tbody tr th {\n",
       "        vertical-align: top;\n",
       "    }\n",
       "\n",
       "    .dataframe thead th {\n",
       "        text-align: right;\n",
       "    }\n",
       "</style>\n",
       "<table border=\"1\" class=\"dataframe\">\n",
       "  <thead>\n",
       "    <tr style=\"text-align: right;\">\n",
       "      <th></th>\n",
       "      <th>NAME</th>\n",
       "      <th>state</th>\n",
       "      <th>congressional district</th>\n",
       "      <th>pctHasTech</th>\n",
       "      <th>pctNoTech</th>\n",
       "      <th>pctSmartphone</th>\n",
       "      <th>pctNoSmartphone</th>\n",
       "    </tr>\n",
       "  </thead>\n",
       "  <tbody>\n",
       "    <tr>\n",
       "      <th>0</th>\n",
       "      <td>Congressional District 3 (116th Congress), California</td>\n",
       "      <td>06</td>\n",
       "      <td>03</td>\n",
       "      <td>0.947079</td>\n",
       "      <td>0.052921</td>\n",
       "      <td>0.896871</td>\n",
       "      <td>0.103129</td>\n",
       "    </tr>\n",
       "    <tr>\n",
       "      <th>1</th>\n",
       "      <td>Congressional District 21 (116th Congress), California</td>\n",
       "      <td>06</td>\n",
       "      <td>21</td>\n",
       "      <td>0.871476</td>\n",
       "      <td>0.128524</td>\n",
       "      <td>0.839932</td>\n",
       "      <td>0.160068</td>\n",
       "    </tr>\n",
       "  </tbody>\n",
       "</table>\n",
       "</div>"
      ],
      "text/plain": [
       "                                                     NAME state  \\\n",
       "0   Congressional District 3 (116th Congress), California    06   \n",
       "1  Congressional District 21 (116th Congress), California    06   \n",
       "\n",
       "  congressional district  pctHasTech  pctNoTech  pctSmartphone  \\\n",
       "0                     03    0.947079   0.052921       0.896871   \n",
       "1                     21    0.871476   0.128524       0.839932   \n",
       "\n",
       "   pctNoSmartphone  \n",
       "0         0.103129  \n",
       "1         0.160068  "
      ]
     },
     "execution_count": 29,
     "metadata": {},
     "output_type": "execute_result"
    }
   ],
   "source": [
    "computerPcts.head(n=2)"
   ]
  },
  {
   "cell_type": "markdown",
   "metadata": {},
   "source": [
    "# Language spoken at home"
   ]
  },
  {
   "cell_type": "code",
   "execution_count": 30,
   "metadata": {},
   "outputs": [
    {
     "data": {
      "text/plain": [
       "('HouseholdLanguageByHouseholdLimitedEnglishSpeakingStatus',)"
      ]
     },
     "execution_count": 30,
     "metadata": {},
     "output_type": "execute_result"
    }
   ],
   "source": [
    " 'LanguageSpokenAtHomeForThePopulation5YearsAndOver',\n",
    " 'HouseholdLanguageByHouseholdLimitedEnglishSpeakingStatus',"
   ]
  },
  {
   "cell_type": "markdown",
   "metadata": {},
   "source": [
    "# Work commute"
   ]
  },
  {
   "cell_type": "code",
   "execution_count": 31,
   "metadata": {},
   "outputs": [
    {
     "data": {
      "application/vnd.jupyter.widget-view+json": {
       "model_id": "34a8567527e649dd99288065b38eb191",
       "version_major": 2,
       "version_minor": 0
      },
      "text/plain": [
       "  0%|          | 0/1 [00:00<?, ?it/s]"
      ]
     },
     "metadata": {},
     "output_type": "display_data"
    },
    {
     "data": {
      "application/vnd.jupyter.widget-view+json": {
       "model_id": "fe750b86cc214bd9bd6f8ae363726e8c",
       "version_major": 2,
       "version_minor": 0
      },
      "text/plain": [
       "|          | 0/? [00:00<?, ?it/s]"
      ]
     },
     "metadata": {},
     "output_type": "display_data"
    }
   ],
   "source": [
    "transportationVars = c.getVariablesByGroup(c.groups.MeansOfTransportationToWork.code)\n",
    "transportationStats = c.getStats(transportationVars['code'].tolist(), *geoDomains)"
   ]
  },
  {
   "cell_type": "code",
   "execution_count": 32,
   "metadata": {},
   "outputs": [
    {
     "data": {
      "text/plain": [
       "['Estimate_Total',\n",
       " 'Estimate_Total_CarTruckOrVan',\n",
       " 'Estimate_Total_CarTruckOrVan_DroveAlone',\n",
       " 'Estimate_Total_CarTruckOrVan_Carpooled',\n",
       " 'Estimate_Total_CarTruckOrVan_Carpooled_In2PersonCarpool',\n",
       " 'Estimate_Total_CarTruckOrVan_Carpooled_In3PersonCarpool',\n",
       " 'Estimate_Total_CarTruckOrVan_Carpooled_In4OrMorePersonCarpool',\n",
       " 'Estimate_Total_PublicTransportationExcludingTaxicab',\n",
       " 'Estimate_Total_Walked',\n",
       " 'Estimate_Total_TaxicabMotorcycleBicycleOrOtherMeans',\n",
       " 'Estimate_Total_WorkedFromHome']"
      ]
     },
     "execution_count": 32,
     "metadata": {},
     "output_type": "execute_result"
    }
   ],
   "source": [
    "[stat for stat in transportationStats.columns.tolist() if stat.startswith('Estimate')]"
   ]
  },
  {
   "cell_type": "markdown",
   "metadata": {},
   "source": [
    "# Commute time"
   ]
  },
  {
   "cell_type": "code",
   "execution_count": 33,
   "metadata": {},
   "outputs": [
    {
     "data": {
      "text/html": [
       "<div>\n",
       "<style scoped>\n",
       "    .dataframe tbody tr th:only-of-type {\n",
       "        vertical-align: middle;\n",
       "    }\n",
       "\n",
       "    .dataframe tbody tr th {\n",
       "        vertical-align: top;\n",
       "    }\n",
       "\n",
       "    .dataframe thead th {\n",
       "        text-align: right;\n",
       "    }\n",
       "</style>\n",
       "<table border=\"1\" class=\"dataframe\">\n",
       "  <thead>\n",
       "    <tr style=\"text-align: right;\">\n",
       "      <th></th>\n",
       "      <th>code</th>\n",
       "      <th>description</th>\n",
       "    </tr>\n",
       "  </thead>\n",
       "  <tbody>\n",
       "    <tr>\n",
       "      <th>0</th>\n",
       "      <td>B08012</td>\n",
       "      <td>SEX OF WORKERS BY TRAVEL TIME TO WORK</td>\n",
       "    </tr>\n",
       "    <tr>\n",
       "      <th>1</th>\n",
       "      <td>B08013</td>\n",
       "      <td>AGGREGATE TRAVEL TIME TO WORK (IN MINUTES) OF WORKERS BY SEX</td>\n",
       "    </tr>\n",
       "    <tr>\n",
       "      <th>2</th>\n",
       "      <td>B08131</td>\n",
       "      <td>AGGREGATE TRAVEL TIME TO WORK (IN MINUTES) OF WORKERS BY PLACE OF WORK--STATE AND COUNTY LEVEL</td>\n",
       "    </tr>\n",
       "    <tr>\n",
       "      <th>3</th>\n",
       "      <td>B08133</td>\n",
       "      <td>AGGREGATE TRAVEL TIME TO WORK (IN MINUTES) OF WORKERS BY TIME OF DEPARTURE TO GO TO WORK</td>\n",
       "    </tr>\n",
       "    <tr>\n",
       "      <th>4</th>\n",
       "      <td>B08134</td>\n",
       "      <td>MEANS OF TRANSPORTATION TO WORK BY TRAVEL TIME TO WORK</td>\n",
       "    </tr>\n",
       "    <tr>\n",
       "      <th>5</th>\n",
       "      <td>B08135</td>\n",
       "      <td>AGGREGATE TRAVEL TIME TO WORK (IN MINUTES) OF WORKERS BY TRAVEL TIME TO WORK</td>\n",
       "    </tr>\n",
       "    <tr>\n",
       "      <th>6</th>\n",
       "      <td>B08136</td>\n",
       "      <td>AGGREGATE TRAVEL TIME TO WORK (IN MINUTES) OF WORKERS BY MEANS OF TRANSPORTATION TO WORK</td>\n",
       "    </tr>\n",
       "    <tr>\n",
       "      <th>7</th>\n",
       "      <td>B08303</td>\n",
       "      <td>TRAVEL TIME TO WORK</td>\n",
       "    </tr>\n",
       "    <tr>\n",
       "      <th>8</th>\n",
       "      <td>B08412</td>\n",
       "      <td>SEX OF WORKERS BY TRAVEL TIME TO WORK FOR WORKPLACE GEOGRAPHY</td>\n",
       "    </tr>\n",
       "    <tr>\n",
       "      <th>9</th>\n",
       "      <td>B08534</td>\n",
       "      <td>MEANS OF TRANSPORTATION TO WORK BY TRAVEL TIME TO WORK FOR WORKPLACE GEOGRAPHY</td>\n",
       "    </tr>\n",
       "    <tr>\n",
       "      <th>10</th>\n",
       "      <td>B08536</td>\n",
       "      <td>AGGREGATE TRAVEL TIME TO WORK (IN MINUTES) OF WORKERS BY MEANS OF TRANSPORTATION TO WORK FOR WORKPLACE GEOGRAPHY</td>\n",
       "    </tr>\n",
       "    <tr>\n",
       "      <th>11</th>\n",
       "      <td>B08603</td>\n",
       "      <td>TRAVEL TIME TO WORK FOR WORKPLACE GEOGRAPHY</td>\n",
       "    </tr>\n",
       "    <tr>\n",
       "      <th>12</th>\n",
       "      <td>B99084</td>\n",
       "      <td>ALLOCATION OF TRAVEL TIME TO WORK</td>\n",
       "    </tr>\n",
       "    <tr>\n",
       "      <th>13</th>\n",
       "      <td>B99088</td>\n",
       "      <td>ALLOCATION OF TRAVEL TIME TO WORK FOR WORKPLACE GEOGRAPHY</td>\n",
       "    </tr>\n",
       "    <tr>\n",
       "      <th>14</th>\n",
       "      <td>C08134</td>\n",
       "      <td>MEANS OF TRANSPORTATION TO WORK BY TRAVEL TIME TO WORK</td>\n",
       "    </tr>\n",
       "    <tr>\n",
       "      <th>15</th>\n",
       "      <td>C08136</td>\n",
       "      <td>AGGREGATE TRAVEL TIME TO WORK (IN MINUTES) OF WORKERS BY MEANS OF TRANSPORTATION TO WORK</td>\n",
       "    </tr>\n",
       "    <tr>\n",
       "      <th>16</th>\n",
       "      <td>C08534</td>\n",
       "      <td>MEANS OF TRANSPORTATION TO WORK BY TRAVEL TIME TO WORK FOR WORKPLACE GEOGRAPHY</td>\n",
       "    </tr>\n",
       "    <tr>\n",
       "      <th>17</th>\n",
       "      <td>C08536</td>\n",
       "      <td>AGGREGATE TRAVEL TIME TO WORK (IN MINUTES) OF WORKERS BY MEANS OF TRANSPORTATION TO WORK FOR WORKPLACE GEOGRAPHY</td>\n",
       "    </tr>\n",
       "  </tbody>\n",
       "</table>\n",
       "</div>"
      ],
      "text/plain": [
       "      code  \\\n",
       "0   B08012   \n",
       "1   B08013   \n",
       "2   B08131   \n",
       "3   B08133   \n",
       "4   B08134   \n",
       "5   B08135   \n",
       "6   B08136   \n",
       "7   B08303   \n",
       "8   B08412   \n",
       "9   B08534   \n",
       "10  B08536   \n",
       "11  B08603   \n",
       "12  B99084   \n",
       "13  B99088   \n",
       "14  C08134   \n",
       "15  C08136   \n",
       "16  C08534   \n",
       "17  C08536   \n",
       "\n",
       "                                                                                                         description  \n",
       "0                                                                              SEX OF WORKERS BY TRAVEL TIME TO WORK  \n",
       "1                                                       AGGREGATE TRAVEL TIME TO WORK (IN MINUTES) OF WORKERS BY SEX  \n",
       "2                     AGGREGATE TRAVEL TIME TO WORK (IN MINUTES) OF WORKERS BY PLACE OF WORK--STATE AND COUNTY LEVEL  \n",
       "3                           AGGREGATE TRAVEL TIME TO WORK (IN MINUTES) OF WORKERS BY TIME OF DEPARTURE TO GO TO WORK  \n",
       "4                                                             MEANS OF TRANSPORTATION TO WORK BY TRAVEL TIME TO WORK  \n",
       "5                                       AGGREGATE TRAVEL TIME TO WORK (IN MINUTES) OF WORKERS BY TRAVEL TIME TO WORK  \n",
       "6                           AGGREGATE TRAVEL TIME TO WORK (IN MINUTES) OF WORKERS BY MEANS OF TRANSPORTATION TO WORK  \n",
       "7                                                                                                TRAVEL TIME TO WORK  \n",
       "8                                                      SEX OF WORKERS BY TRAVEL TIME TO WORK FOR WORKPLACE GEOGRAPHY  \n",
       "9                                     MEANS OF TRANSPORTATION TO WORK BY TRAVEL TIME TO WORK FOR WORKPLACE GEOGRAPHY  \n",
       "10  AGGREGATE TRAVEL TIME TO WORK (IN MINUTES) OF WORKERS BY MEANS OF TRANSPORTATION TO WORK FOR WORKPLACE GEOGRAPHY  \n",
       "11                                                                       TRAVEL TIME TO WORK FOR WORKPLACE GEOGRAPHY  \n",
       "12                                                                                 ALLOCATION OF TRAVEL TIME TO WORK  \n",
       "13                                                         ALLOCATION OF TRAVEL TIME TO WORK FOR WORKPLACE GEOGRAPHY  \n",
       "14                                                            MEANS OF TRANSPORTATION TO WORK BY TRAVEL TIME TO WORK  \n",
       "15                          AGGREGATE TRAVEL TIME TO WORK (IN MINUTES) OF WORKERS BY MEANS OF TRANSPORTATION TO WORK  \n",
       "16                                    MEANS OF TRANSPORTATION TO WORK BY TRAVEL TIME TO WORK FOR WORKPLACE GEOGRAPHY  \n",
       "17  AGGREGATE TRAVEL TIME TO WORK (IN MINUTES) OF WORKERS BY MEANS OF TRANSPORTATION TO WORK FOR WORKPLACE GEOGRAPHY  "
      ]
     },
     "execution_count": 33,
     "metadata": {},
     "output_type": "execute_result"
    }
   ],
   "source": [
    "c.searchGroups('travel')"
   ]
  },
  {
   "cell_type": "markdown",
   "metadata": {},
   "source": [
    "# Means of transportation by commute time"
   ]
  },
  {
   "cell_type": "code",
   "execution_count": 34,
   "metadata": {},
   "outputs": [
    {
     "data": {
      "application/vnd.jupyter.widget-view+json": {
       "model_id": "6529b0f201074ae7a718394f3cba59ff",
       "version_major": 2,
       "version_minor": 0
      },
      "text/plain": [
       "  0%|          | 0/1 [00:00<?, ?it/s]"
      ]
     },
     "metadata": {},
     "output_type": "display_data"
    },
    {
     "data": {
      "application/vnd.jupyter.widget-view+json": {
       "model_id": "7fea3855175243ae9d721778a2c6cc43",
       "version_major": 2,
       "version_minor": 0
      },
      "text/plain": [
       "|          | 0/? [00:00<?, ?it/s]"
      ]
     },
     "metadata": {},
     "output_type": "display_data"
    }
   ],
   "source": [
    "transByCommuteTimeVars = c.getVariablesByGroup(c.groups.MeansOfTransportationToWorkByTravelTimeToWork.code)\n",
    "transByCommuteTimeStats = c.getStats(transByCommuteTimeVars['code'].tolist(), *geoDomains)"
   ]
  },
  {
   "cell_type": "code",
   "execution_count": 35,
   "metadata": {},
   "outputs": [],
   "source": [
    "cols = [col for col in transByCommuteTimeStats.columns.tolist() if col.startswith('Estimate')]\n",
    "transByCommuteTimeStats = transByCommuteTimeStats[['NAME', 'state', 'congressional district'] + cols]"
   ]
  },
  {
   "cell_type": "code",
   "execution_count": 36,
   "metadata": {},
   "outputs": [],
   "source": [
    "transByCommuteTimePcts = transByCommuteTimeStats.loc[:,['NAME', 'state', 'congressional district']]\n",
    "\n",
    "transByCommuteTimePcts['pctLt10'] = (transByCommuteTimeStats.Estimate_Total_LessThan10Minutes /\n",
    "                                    transByCommuteTimeStats.Estimate_Total)\n",
    "transByCommuteTimePcts['pct10to14'] = (transByCommuteTimeStats.Estimate_Total_10To14Minutes /\n",
    "                                    transByCommuteTimeStats.Estimate_Total)\n",
    "transByCommuteTimePcts['pct15to19'] = (transByCommuteTimeStats.Estimate_Total_15To19Minutes /\n",
    "                                    transByCommuteTimeStats.Estimate_Total)\n",
    "transByCommuteTimePcts['pct20to24'] = (transByCommuteTimeStats.Estimate_Total_20To24Minutes /\n",
    "                                    transByCommuteTimeStats.Estimate_Total)\n",
    "transByCommuteTimePcts['pct25to29'] = (transByCommuteTimeStats.Estimate_Total_25To29Minutes /\n",
    "                                    transByCommuteTimeStats.Estimate_Total)\n",
    "transByCommuteTimePcts['pct30to34'] = (transByCommuteTimeStats.Estimate_Total_30To34Minutes /\n",
    "                                    transByCommuteTimeStats.Estimate_Total)\n",
    "transByCommuteTimePcts['pct35to44'] = (transByCommuteTimeStats.Estimate_Total_35To44Minutes /\n",
    "                                    transByCommuteTimeStats.Estimate_Total)\n",
    "transByCommuteTimePcts['pct44to59'] = (transByCommuteTimeStats.Estimate_Total_45To59Minutes /\n",
    "                                    transByCommuteTimeStats.Estimate_Total)\n",
    "transByCommuteTimePcts['pct60plus'] = (transByCommuteTimeStats.Estimate_Total_60OrMoreMinutes /\n",
    "                                    transByCommuteTimeStats.Estimate_Total)"
   ]
  },
  {
   "cell_type": "code",
   "execution_count": 37,
   "metadata": {},
   "outputs": [
    {
     "data": {
      "text/html": [
       "<div>\n",
       "<style scoped>\n",
       "    .dataframe tbody tr th:only-of-type {\n",
       "        vertical-align: middle;\n",
       "    }\n",
       "\n",
       "    .dataframe tbody tr th {\n",
       "        vertical-align: top;\n",
       "    }\n",
       "\n",
       "    .dataframe thead th {\n",
       "        text-align: right;\n",
       "    }\n",
       "</style>\n",
       "<table border=\"1\" class=\"dataframe\">\n",
       "  <thead>\n",
       "    <tr style=\"text-align: right;\">\n",
       "      <th></th>\n",
       "      <th>pctLt10</th>\n",
       "      <th>pct10to14</th>\n",
       "      <th>pct15to19</th>\n",
       "      <th>pct20to24</th>\n",
       "      <th>pct25to29</th>\n",
       "      <th>pct30to34</th>\n",
       "      <th>pct35to44</th>\n",
       "      <th>pct44to59</th>\n",
       "      <th>pct60plus</th>\n",
       "    </tr>\n",
       "  </thead>\n",
       "  <tbody>\n",
       "    <tr>\n",
       "      <th>count</th>\n",
       "      <td>437.000000</td>\n",
       "      <td>437.000000</td>\n",
       "      <td>437.000000</td>\n",
       "      <td>437.000000</td>\n",
       "      <td>437.000000</td>\n",
       "      <td>437.000000</td>\n",
       "      <td>437.000000</td>\n",
       "      <td>437.000000</td>\n",
       "      <td>437.000000</td>\n",
       "    </tr>\n",
       "    <tr>\n",
       "      <th>mean</th>\n",
       "      <td>0.121342</td>\n",
       "      <td>0.130172</td>\n",
       "      <td>0.149963</td>\n",
       "      <td>0.140375</td>\n",
       "      <td>0.065557</td>\n",
       "      <td>0.137498</td>\n",
       "      <td>0.072203</td>\n",
       "      <td>0.084572</td>\n",
       "      <td>0.098318</td>\n",
       "    </tr>\n",
       "    <tr>\n",
       "      <th>std</th>\n",
       "      <td>0.055188</td>\n",
       "      <td>0.034026</td>\n",
       "      <td>0.030290</td>\n",
       "      <td>0.026597</td>\n",
       "      <td>0.016654</td>\n",
       "      <td>0.031528</td>\n",
       "      <td>0.021628</td>\n",
       "      <td>0.032521</td>\n",
       "      <td>0.057980</td>\n",
       "    </tr>\n",
       "    <tr>\n",
       "      <th>min</th>\n",
       "      <td>0.020903</td>\n",
       "      <td>0.036667</td>\n",
       "      <td>0.035380</td>\n",
       "      <td>0.061593</td>\n",
       "      <td>0.023220</td>\n",
       "      <td>0.056777</td>\n",
       "      <td>0.019706</td>\n",
       "      <td>0.025861</td>\n",
       "      <td>0.024628</td>\n",
       "    </tr>\n",
       "    <tr>\n",
       "      <th>25%</th>\n",
       "      <td>0.079812</td>\n",
       "      <td>0.108312</td>\n",
       "      <td>0.131845</td>\n",
       "      <td>0.122912</td>\n",
       "      <td>0.055837</td>\n",
       "      <td>0.116477</td>\n",
       "      <td>0.056266</td>\n",
       "      <td>0.060898</td>\n",
       "      <td>0.058075</td>\n",
       "    </tr>\n",
       "    <tr>\n",
       "      <th>50%</th>\n",
       "      <td>0.113645</td>\n",
       "      <td>0.130965</td>\n",
       "      <td>0.150303</td>\n",
       "      <td>0.139941</td>\n",
       "      <td>0.065057</td>\n",
       "      <td>0.133991</td>\n",
       "      <td>0.070505</td>\n",
       "      <td>0.080233</td>\n",
       "      <td>0.081621</td>\n",
       "    </tr>\n",
       "    <tr>\n",
       "      <th>75%</th>\n",
       "      <td>0.148323</td>\n",
       "      <td>0.152541</td>\n",
       "      <td>0.169617</td>\n",
       "      <td>0.154432</td>\n",
       "      <td>0.074629</td>\n",
       "      <td>0.156770</td>\n",
       "      <td>0.086230</td>\n",
       "      <td>0.104302</td>\n",
       "      <td>0.122141</td>\n",
       "    </tr>\n",
       "    <tr>\n",
       "      <th>max</th>\n",
       "      <td>0.377546</td>\n",
       "      <td>0.224908</td>\n",
       "      <td>0.246341</td>\n",
       "      <td>0.220081</td>\n",
       "      <td>0.224424</td>\n",
       "      <td>0.251859</td>\n",
       "      <td>0.147998</td>\n",
       "      <td>0.216932</td>\n",
       "      <td>0.384638</td>\n",
       "    </tr>\n",
       "  </tbody>\n",
       "</table>\n",
       "</div>"
      ],
      "text/plain": [
       "          pctLt10   pct10to14   pct15to19   pct20to24   pct25to29   pct30to34  \\\n",
       "count  437.000000  437.000000  437.000000  437.000000  437.000000  437.000000   \n",
       "mean     0.121342    0.130172    0.149963    0.140375    0.065557    0.137498   \n",
       "std      0.055188    0.034026    0.030290    0.026597    0.016654    0.031528   \n",
       "min      0.020903    0.036667    0.035380    0.061593    0.023220    0.056777   \n",
       "25%      0.079812    0.108312    0.131845    0.122912    0.055837    0.116477   \n",
       "50%      0.113645    0.130965    0.150303    0.139941    0.065057    0.133991   \n",
       "75%      0.148323    0.152541    0.169617    0.154432    0.074629    0.156770   \n",
       "max      0.377546    0.224908    0.246341    0.220081    0.224424    0.251859   \n",
       "\n",
       "        pct35to44   pct44to59   pct60plus  \n",
       "count  437.000000  437.000000  437.000000  \n",
       "mean     0.072203    0.084572    0.098318  \n",
       "std      0.021628    0.032521    0.057980  \n",
       "min      0.019706    0.025861    0.024628  \n",
       "25%      0.056266    0.060898    0.058075  \n",
       "50%      0.070505    0.080233    0.081621  \n",
       "75%      0.086230    0.104302    0.122141  \n",
       "max      0.147998    0.216932    0.384638  "
      ]
     },
     "execution_count": 37,
     "metadata": {},
     "output_type": "execute_result"
    }
   ],
   "source": [
    "transByCommuteTimePcts.describe()"
   ]
  },
  {
   "cell_type": "markdown",
   "metadata": {},
   "source": [
    "# Agg Traveltime"
   ]
  },
  {
   "cell_type": "code",
   "execution_count": 38,
   "metadata": {},
   "outputs": [
    {
     "data": {
      "application/vnd.jupyter.widget-view+json": {
       "model_id": "7c902a345367467bbd79b5d1c2d6a79e",
       "version_major": 2,
       "version_minor": 0
      },
      "text/plain": [
       "  0%|          | 0/1 [00:00<?, ?it/s]"
      ]
     },
     "metadata": {},
     "output_type": "display_data"
    },
    {
     "data": {
      "application/vnd.jupyter.widget-view+json": {
       "model_id": "dc5d73ca01f345238fb8c6f079c1d796",
       "version_major": 2,
       "version_minor": 0
      },
      "text/plain": [
       "|          | 0/? [00:00<?, ?it/s]"
      ]
     },
     "metadata": {},
     "output_type": "display_data"
    }
   ],
   "source": [
    "aggTravTimeVars = c.getVariablesByGroup(c.groups.AggregateTravelTimeToWorkInMinutesOfWorkersByTravelTimeToWork.code)\n",
    "aggTravTimeStats = c.getStats(aggTravTimeVars['code'].tolist(), *geoDomains)"
   ]
  },
  {
   "cell_type": "code",
   "execution_count": 39,
   "metadata": {},
   "outputs": [],
   "source": [
    "avgTravelTime = aggTravTimeStats.loc[:,['NAME', 'state', 'congressional district']]\n",
    "avgTravelTime['avgTravelTime'] = (aggTravTimeStats.Estimate_AggregateTravelTimeToWorkInMinutes /\n",
    "                                 populationData.Estimate_Total)"
   ]
  },
  {
   "cell_type": "code",
   "execution_count": 40,
   "metadata": {},
   "outputs": [
    {
     "data": {
      "text/html": [
       "<div>\n",
       "<style scoped>\n",
       "    .dataframe tbody tr th:only-of-type {\n",
       "        vertical-align: middle;\n",
       "    }\n",
       "\n",
       "    .dataframe tbody tr th {\n",
       "        vertical-align: top;\n",
       "    }\n",
       "\n",
       "    .dataframe thead th {\n",
       "        text-align: right;\n",
       "    }\n",
       "</style>\n",
       "<table border=\"1\" class=\"dataframe\">\n",
       "  <thead>\n",
       "    <tr style=\"text-align: right;\">\n",
       "      <th></th>\n",
       "      <th>avgTravelTime</th>\n",
       "    </tr>\n",
       "  </thead>\n",
       "  <tbody>\n",
       "    <tr>\n",
       "      <th>count</th>\n",
       "      <td>437.000000</td>\n",
       "    </tr>\n",
       "    <tr>\n",
       "      <th>mean</th>\n",
       "      <td>12.511271</td>\n",
       "    </tr>\n",
       "    <tr>\n",
       "      <th>std</th>\n",
       "      <td>3.214731</td>\n",
       "    </tr>\n",
       "    <tr>\n",
       "      <th>min</th>\n",
       "      <td>5.195114</td>\n",
       "    </tr>\n",
       "    <tr>\n",
       "      <th>25%</th>\n",
       "      <td>10.289913</td>\n",
       "    </tr>\n",
       "    <tr>\n",
       "      <th>50%</th>\n",
       "      <td>11.995362</td>\n",
       "    </tr>\n",
       "    <tr>\n",
       "      <th>75%</th>\n",
       "      <td>14.555139</td>\n",
       "    </tr>\n",
       "    <tr>\n",
       "      <th>max</th>\n",
       "      <td>35.766639</td>\n",
       "    </tr>\n",
       "  </tbody>\n",
       "</table>\n",
       "</div>"
      ],
      "text/plain": [
       "       avgTravelTime\n",
       "count     437.000000\n",
       "mean       12.511271\n",
       "std         3.214731\n",
       "min         5.195114\n",
       "25%        10.289913\n",
       "50%        11.995362\n",
       "75%        14.555139\n",
       "max        35.766639"
      ]
     },
     "execution_count": 40,
     "metadata": {},
     "output_type": "execute_result"
    }
   ],
   "source": [
    "avgTravelTime.describe()"
   ]
  },
  {
   "cell_type": "markdown",
   "metadata": {},
   "source": [
    "# Time of departure to work"
   ]
  },
  {
   "cell_type": "code",
   "execution_count": 41,
   "metadata": {},
   "outputs": [
    {
     "data": {
      "application/vnd.jupyter.widget-view+json": {
       "model_id": "24d5b3c8942840ba88c022dff1317b69",
       "version_major": 2,
       "version_minor": 0
      },
      "text/plain": [
       "  0%|          | 0/1 [00:00<?, ?it/s]"
      ]
     },
     "metadata": {},
     "output_type": "display_data"
    },
    {
     "data": {
      "application/vnd.jupyter.widget-view+json": {
       "model_id": "a476fcf25edb45f1aa7ccef83a359530",
       "version_major": 2,
       "version_minor": 0
      },
      "text/plain": [
       "|          | 0/? [00:00<?, ?it/s]"
      ]
     },
     "metadata": {},
     "output_type": "display_data"
    }
   ],
   "source": [
    "depTimeVars = c.getVariablesByGroup(c.groups.TimeOfDepartureToGoToWork.code)\n",
    "filteredVars = [rec['code'] for rec in depTimeVars.to_dict('records') if rec['name'].startswith('Estimate')]\n",
    "depTimeStats = c.getStats(filteredVars, *geoDomains)"
   ]
  },
  {
   "cell_type": "code",
   "execution_count": 42,
   "metadata": {},
   "outputs": [
    {
     "data": {
      "text/html": [
       "<div>\n",
       "<style scoped>\n",
       "    .dataframe tbody tr th:only-of-type {\n",
       "        vertical-align: middle;\n",
       "    }\n",
       "\n",
       "    .dataframe tbody tr th {\n",
       "        vertical-align: top;\n",
       "    }\n",
       "\n",
       "    .dataframe thead th {\n",
       "        text-align: right;\n",
       "    }\n",
       "</style>\n",
       "<table border=\"1\" class=\"dataframe\">\n",
       "  <thead>\n",
       "    <tr style=\"text-align: right;\">\n",
       "      <th></th>\n",
       "      <th>NAME</th>\n",
       "      <th>congressional district</th>\n",
       "      <th>state</th>\n",
       "      <th>Estimate_Total</th>\n",
       "      <th>Estimate_Total_1200AMTo459AM</th>\n",
       "      <th>Estimate_Total_500AMTo529AM</th>\n",
       "      <th>Estimate_Total_530AMTo559AM</th>\n",
       "      <th>Estimate_Total_600AMTo629AM</th>\n",
       "      <th>Estimate_Total_630AMTo659AM</th>\n",
       "      <th>Estimate_Total_700AMTo729AM</th>\n",
       "      <th>Estimate_Total_730AMTo759AM</th>\n",
       "      <th>Estimate_Total_800AMTo829AM</th>\n",
       "      <th>Estimate_Total_830AMTo859AM</th>\n",
       "      <th>Estimate_Total_900AMTo959AM</th>\n",
       "      <th>Estimate_Total_1000AMTo1059AM</th>\n",
       "      <th>Estimate_Total_1100AMTo1159AM</th>\n",
       "      <th>Estimate_Total_1200PMTo359PM</th>\n",
       "      <th>Estimate_Total_400PMTo1159PM</th>\n",
       "    </tr>\n",
       "  </thead>\n",
       "  <tbody>\n",
       "    <tr>\n",
       "      <th>0</th>\n",
       "      <td>Congressional District 3 (116th Congress), California</td>\n",
       "      <td>03</td>\n",
       "      <td>06</td>\n",
       "      <td>314682</td>\n",
       "      <td>26741</td>\n",
       "      <td>16787</td>\n",
       "      <td>19492</td>\n",
       "      <td>31712</td>\n",
       "      <td>26062</td>\n",
       "      <td>43886</td>\n",
       "      <td>31333</td>\n",
       "      <td>33143</td>\n",
       "      <td>12272</td>\n",
       "      <td>17245</td>\n",
       "      <td>9211</td>\n",
       "      <td>5075</td>\n",
       "      <td>21692</td>\n",
       "      <td>20031</td>\n",
       "    </tr>\n",
       "    <tr>\n",
       "      <th>1</th>\n",
       "      <td>Congressional District 21 (116th Congress), California</td>\n",
       "      <td>21</td>\n",
       "      <td>06</td>\n",
       "      <td>256320</td>\n",
       "      <td>26698</td>\n",
       "      <td>21522</td>\n",
       "      <td>18375</td>\n",
       "      <td>45534</td>\n",
       "      <td>22858</td>\n",
       "      <td>31950</td>\n",
       "      <td>21036</td>\n",
       "      <td>21417</td>\n",
       "      <td>4900</td>\n",
       "      <td>6170</td>\n",
       "      <td>2632</td>\n",
       "      <td>4165</td>\n",
       "      <td>14240</td>\n",
       "      <td>14823</td>\n",
       "    </tr>\n",
       "    <tr>\n",
       "      <th>2</th>\n",
       "      <td>Congressional District 48 (116th Congress), California</td>\n",
       "      <td>48</td>\n",
       "      <td>06</td>\n",
       "      <td>329666</td>\n",
       "      <td>12781</td>\n",
       "      <td>9615</td>\n",
       "      <td>12462</td>\n",
       "      <td>19348</td>\n",
       "      <td>27016</td>\n",
       "      <td>47089</td>\n",
       "      <td>39038</td>\n",
       "      <td>45705</td>\n",
       "      <td>24188</td>\n",
       "      <td>36766</td>\n",
       "      <td>15167</td>\n",
       "      <td>4614</td>\n",
       "      <td>17659</td>\n",
       "      <td>18218</td>\n",
       "    </tr>\n",
       "    <tr>\n",
       "      <th>3</th>\n",
       "      <td>Congressional District 10 (116th Congress), California</td>\n",
       "      <td>10</td>\n",
       "      <td>06</td>\n",
       "      <td>312510</td>\n",
       "      <td>43302</td>\n",
       "      <td>16967</td>\n",
       "      <td>17249</td>\n",
       "      <td>28971</td>\n",
       "      <td>21347</td>\n",
       "      <td>40645</td>\n",
       "      <td>30509</td>\n",
       "      <td>31312</td>\n",
       "      <td>8217</td>\n",
       "      <td>16879</td>\n",
       "      <td>7730</td>\n",
       "      <td>3197</td>\n",
       "      <td>19128</td>\n",
       "      <td>27057</td>\n",
       "    </tr>\n",
       "    <tr>\n",
       "      <th>4</th>\n",
       "      <td>Congressional District 34 (116th Congress), California</td>\n",
       "      <td>34</td>\n",
       "      <td>06</td>\n",
       "      <td>343177</td>\n",
       "      <td>13176</td>\n",
       "      <td>16335</td>\n",
       "      <td>12591</td>\n",
       "      <td>25823</td>\n",
       "      <td>23396</td>\n",
       "      <td>51813</td>\n",
       "      <td>30443</td>\n",
       "      <td>48710</td>\n",
       "      <td>27191</td>\n",
       "      <td>30991</td>\n",
       "      <td>15428</td>\n",
       "      <td>5885</td>\n",
       "      <td>22384</td>\n",
       "      <td>19011</td>\n",
       "    </tr>\n",
       "    <tr>\n",
       "      <th>...</th>\n",
       "      <td>...</td>\n",
       "      <td>...</td>\n",
       "      <td>...</td>\n",
       "      <td>...</td>\n",
       "      <td>...</td>\n",
       "      <td>...</td>\n",
       "      <td>...</td>\n",
       "      <td>...</td>\n",
       "      <td>...</td>\n",
       "      <td>...</td>\n",
       "      <td>...</td>\n",
       "      <td>...</td>\n",
       "      <td>...</td>\n",
       "      <td>...</td>\n",
       "      <td>...</td>\n",
       "      <td>...</td>\n",
       "      <td>...</td>\n",
       "      <td>...</td>\n",
       "    </tr>\n",
       "    <tr>\n",
       "      <th>432</th>\n",
       "      <td>Congressional District 1 (116th Congress), New York</td>\n",
       "      <td>01</td>\n",
       "      <td>36</td>\n",
       "      <td>343248</td>\n",
       "      <td>14557</td>\n",
       "      <td>10292</td>\n",
       "      <td>11127</td>\n",
       "      <td>30171</td>\n",
       "      <td>27786</td>\n",
       "      <td>45043</td>\n",
       "      <td>33763</td>\n",
       "      <td>63262</td>\n",
       "      <td>28084</td>\n",
       "      <td>28805</td>\n",
       "      <td>9873</td>\n",
       "      <td>4863</td>\n",
       "      <td>17306</td>\n",
       "      <td>18316</td>\n",
       "    </tr>\n",
       "    <tr>\n",
       "      <th>433</th>\n",
       "      <td>Congressional District 7 (116th Congress), New York</td>\n",
       "      <td>07</td>\n",
       "      <td>36</td>\n",
       "      <td>323486</td>\n",
       "      <td>7733</td>\n",
       "      <td>6897</td>\n",
       "      <td>7439</td>\n",
       "      <td>15247</td>\n",
       "      <td>13294</td>\n",
       "      <td>45222</td>\n",
       "      <td>29388</td>\n",
       "      <td>55117</td>\n",
       "      <td>35142</td>\n",
       "      <td>55118</td>\n",
       "      <td>17095</td>\n",
       "      <td>5985</td>\n",
       "      <td>16117</td>\n",
       "      <td>13692</td>\n",
       "    </tr>\n",
       "    <tr>\n",
       "      <th>434</th>\n",
       "      <td>Congressional District 17 (116th Congress), New York</td>\n",
       "      <td>17</td>\n",
       "      <td>36</td>\n",
       "      <td>335642</td>\n",
       "      <td>6810</td>\n",
       "      <td>8097</td>\n",
       "      <td>9804</td>\n",
       "      <td>25144</td>\n",
       "      <td>31342</td>\n",
       "      <td>50233</td>\n",
       "      <td>40410</td>\n",
       "      <td>49224</td>\n",
       "      <td>32979</td>\n",
       "      <td>28732</td>\n",
       "      <td>10567</td>\n",
       "      <td>5500</td>\n",
       "      <td>20374</td>\n",
       "      <td>16426</td>\n",
       "    </tr>\n",
       "    <tr>\n",
       "      <th>435</th>\n",
       "      <td>Congressional District 6 (116th Congress), New York</td>\n",
       "      <td>06</td>\n",
       "      <td>36</td>\n",
       "      <td>336560</td>\n",
       "      <td>10341</td>\n",
       "      <td>7139</td>\n",
       "      <td>7643</td>\n",
       "      <td>23829</td>\n",
       "      <td>18490</td>\n",
       "      <td>62061</td>\n",
       "      <td>30334</td>\n",
       "      <td>65258</td>\n",
       "      <td>22214</td>\n",
       "      <td>40017</td>\n",
       "      <td>14310</td>\n",
       "      <td>6583</td>\n",
       "      <td>17712</td>\n",
       "      <td>10629</td>\n",
       "    </tr>\n",
       "    <tr>\n",
       "      <th>436</th>\n",
       "      <td>Congressional District 5 (116th Congress), New York</td>\n",
       "      <td>05</td>\n",
       "      <td>36</td>\n",
       "      <td>346669</td>\n",
       "      <td>21987</td>\n",
       "      <td>13224</td>\n",
       "      <td>16274</td>\n",
       "      <td>34539</td>\n",
       "      <td>23274</td>\n",
       "      <td>63941</td>\n",
       "      <td>26725</td>\n",
       "      <td>38297</td>\n",
       "      <td>12958</td>\n",
       "      <td>25287</td>\n",
       "      <td>10576</td>\n",
       "      <td>4653</td>\n",
       "      <td>29522</td>\n",
       "      <td>25412</td>\n",
       "    </tr>\n",
       "  </tbody>\n",
       "</table>\n",
       "<p>437 rows × 18 columns</p>\n",
       "</div>"
      ],
      "text/plain": [
       "                                                       NAME  \\\n",
       "0     Congressional District 3 (116th Congress), California   \n",
       "1    Congressional District 21 (116th Congress), California   \n",
       "2    Congressional District 48 (116th Congress), California   \n",
       "3    Congressional District 10 (116th Congress), California   \n",
       "4    Congressional District 34 (116th Congress), California   \n",
       "..                                                      ...   \n",
       "432     Congressional District 1 (116th Congress), New York   \n",
       "433     Congressional District 7 (116th Congress), New York   \n",
       "434    Congressional District 17 (116th Congress), New York   \n",
       "435     Congressional District 6 (116th Congress), New York   \n",
       "436     Congressional District 5 (116th Congress), New York   \n",
       "\n",
       "    congressional district state  Estimate_Total  \\\n",
       "0                       03    06          314682   \n",
       "1                       21    06          256320   \n",
       "2                       48    06          329666   \n",
       "3                       10    06          312510   \n",
       "4                       34    06          343177   \n",
       "..                     ...   ...             ...   \n",
       "432                     01    36          343248   \n",
       "433                     07    36          323486   \n",
       "434                     17    36          335642   \n",
       "435                     06    36          336560   \n",
       "436                     05    36          346669   \n",
       "\n",
       "     Estimate_Total_1200AMTo459AM  Estimate_Total_500AMTo529AM  \\\n",
       "0                           26741                        16787   \n",
       "1                           26698                        21522   \n",
       "2                           12781                         9615   \n",
       "3                           43302                        16967   \n",
       "4                           13176                        16335   \n",
       "..                            ...                          ...   \n",
       "432                         14557                        10292   \n",
       "433                          7733                         6897   \n",
       "434                          6810                         8097   \n",
       "435                         10341                         7139   \n",
       "436                         21987                        13224   \n",
       "\n",
       "     Estimate_Total_530AMTo559AM  Estimate_Total_600AMTo629AM  \\\n",
       "0                          19492                        31712   \n",
       "1                          18375                        45534   \n",
       "2                          12462                        19348   \n",
       "3                          17249                        28971   \n",
       "4                          12591                        25823   \n",
       "..                           ...                          ...   \n",
       "432                        11127                        30171   \n",
       "433                         7439                        15247   \n",
       "434                         9804                        25144   \n",
       "435                         7643                        23829   \n",
       "436                        16274                        34539   \n",
       "\n",
       "     Estimate_Total_630AMTo659AM  Estimate_Total_700AMTo729AM  \\\n",
       "0                          26062                        43886   \n",
       "1                          22858                        31950   \n",
       "2                          27016                        47089   \n",
       "3                          21347                        40645   \n",
       "4                          23396                        51813   \n",
       "..                           ...                          ...   \n",
       "432                        27786                        45043   \n",
       "433                        13294                        45222   \n",
       "434                        31342                        50233   \n",
       "435                        18490                        62061   \n",
       "436                        23274                        63941   \n",
       "\n",
       "     Estimate_Total_730AMTo759AM  Estimate_Total_800AMTo829AM  \\\n",
       "0                          31333                        33143   \n",
       "1                          21036                        21417   \n",
       "2                          39038                        45705   \n",
       "3                          30509                        31312   \n",
       "4                          30443                        48710   \n",
       "..                           ...                          ...   \n",
       "432                        33763                        63262   \n",
       "433                        29388                        55117   \n",
       "434                        40410                        49224   \n",
       "435                        30334                        65258   \n",
       "436                        26725                        38297   \n",
       "\n",
       "     Estimate_Total_830AMTo859AM  Estimate_Total_900AMTo959AM  \\\n",
       "0                          12272                        17245   \n",
       "1                           4900                         6170   \n",
       "2                          24188                        36766   \n",
       "3                           8217                        16879   \n",
       "4                          27191                        30991   \n",
       "..                           ...                          ...   \n",
       "432                        28084                        28805   \n",
       "433                        35142                        55118   \n",
       "434                        32979                        28732   \n",
       "435                        22214                        40017   \n",
       "436                        12958                        25287   \n",
       "\n",
       "     Estimate_Total_1000AMTo1059AM  Estimate_Total_1100AMTo1159AM  \\\n",
       "0                             9211                           5075   \n",
       "1                             2632                           4165   \n",
       "2                            15167                           4614   \n",
       "3                             7730                           3197   \n",
       "4                            15428                           5885   \n",
       "..                             ...                            ...   \n",
       "432                           9873                           4863   \n",
       "433                          17095                           5985   \n",
       "434                          10567                           5500   \n",
       "435                          14310                           6583   \n",
       "436                          10576                           4653   \n",
       "\n",
       "     Estimate_Total_1200PMTo359PM  Estimate_Total_400PMTo1159PM  \n",
       "0                           21692                         20031  \n",
       "1                           14240                         14823  \n",
       "2                           17659                         18218  \n",
       "3                           19128                         27057  \n",
       "4                           22384                         19011  \n",
       "..                            ...                           ...  \n",
       "432                         17306                         18316  \n",
       "433                         16117                         13692  \n",
       "434                         20374                         16426  \n",
       "435                         17712                         10629  \n",
       "436                         29522                         25412  \n",
       "\n",
       "[437 rows x 18 columns]"
      ]
     },
     "execution_count": 42,
     "metadata": {},
     "output_type": "execute_result"
    }
   ],
   "source": [
    "depTimeStats"
   ]
  },
  {
   "cell_type": "code",
   "execution_count": 43,
   "metadata": {},
   "outputs": [],
   "source": [
    "mgd = pd.merge(left=educPcts, right=emplPcts, on=['state', 'congressional district', 'NAME'])\n",
    "mgd = pd.merge(left=mgd, right=computerPcts, on=['state', 'congressional district', 'NAME'])\n",
    "mgd = pd.merge(left=mgd, right=giniData, on=['state', 'congressional district', 'NAME'])\n",
    "mgd = pd.merge(left=mgd, right=avgIncome, on=['state', 'congressional district', 'NAME'])"
   ]
  },
  {
   "cell_type": "code",
   "execution_count": 44,
   "metadata": {},
   "outputs": [
    {
     "data": {
      "text/html": [
       "<div>\n",
       "<style scoped>\n",
       "    .dataframe tbody tr th:only-of-type {\n",
       "        vertical-align: middle;\n",
       "    }\n",
       "\n",
       "    .dataframe tbody tr th {\n",
       "        vertical-align: top;\n",
       "    }\n",
       "\n",
       "    .dataframe thead th {\n",
       "        text-align: right;\n",
       "    }\n",
       "</style>\n",
       "<table border=\"1\" class=\"dataframe\">\n",
       "  <thead>\n",
       "    <tr style=\"text-align: right;\">\n",
       "      <th></th>\n",
       "      <th>pctNoHs</th>\n",
       "      <th>pctHs</th>\n",
       "      <th>pctBach</th>\n",
       "      <th>pctSomeCollege1YrNoDegree</th>\n",
       "      <th>pctSomeCollegeManyYrsNoDegree</th>\n",
       "      <th>pctGradPlus</th>\n",
       "      <th>pctInLaborForce</th>\n",
       "      <th>pctEmployed</th>\n",
       "      <th>pctUnemployed</th>\n",
       "      <th>pctHasTech</th>\n",
       "      <th>pctNoTech</th>\n",
       "      <th>pctSmartphone</th>\n",
       "      <th>pctNoSmartphone</th>\n",
       "      <th>Estimate_GiniIndex</th>\n",
       "      <th>MarginOfError_GiniIndex</th>\n",
       "      <th>avgIncome</th>\n",
       "    </tr>\n",
       "  </thead>\n",
       "  <tbody>\n",
       "    <tr>\n",
       "      <th>pctNoHs</th>\n",
       "      <td>1.000000</td>\n",
       "      <td>0.178613</td>\n",
       "      <td>-0.559658</td>\n",
       "      <td>-0.198253</td>\n",
       "      <td>0.105307</td>\n",
       "      <td>-0.531119</td>\n",
       "      <td>-0.245193</td>\n",
       "      <td>-0.502975</td>\n",
       "      <td>0.502975</td>\n",
       "      <td>-0.345541</td>\n",
       "      <td>0.345541</td>\n",
       "      <td>-0.079459</td>\n",
       "      <td>0.079459</td>\n",
       "      <td>0.091300</td>\n",
       "      <td>0.291348</td>\n",
       "      <td>-0.525402</td>\n",
       "    </tr>\n",
       "    <tr>\n",
       "      <th>pctHs</th>\n",
       "      <td>0.178613</td>\n",
       "      <td>1.000000</td>\n",
       "      <td>-0.820182</td>\n",
       "      <td>0.419146</td>\n",
       "      <td>0.099233</td>\n",
       "      <td>-0.725833</td>\n",
       "      <td>-0.576897</td>\n",
       "      <td>-0.217133</td>\n",
       "      <td>0.217133</td>\n",
       "      <td>-0.709414</td>\n",
       "      <td>0.709414</td>\n",
       "      <td>-0.767809</td>\n",
       "      <td>0.767809</td>\n",
       "      <td>-0.190939</td>\n",
       "      <td>0.153568</td>\n",
       "      <td>-0.714676</td>\n",
       "    </tr>\n",
       "    <tr>\n",
       "      <th>pctBach</th>\n",
       "      <td>-0.559658</td>\n",
       "      <td>-0.820182</td>\n",
       "      <td>1.000000</td>\n",
       "      <td>-0.456921</td>\n",
       "      <td>-0.388264</td>\n",
       "      <td>0.845960</td>\n",
       "      <td>0.677671</td>\n",
       "      <td>0.471912</td>\n",
       "      <td>-0.471912</td>\n",
       "      <td>0.665961</td>\n",
       "      <td>-0.665961</td>\n",
       "      <td>0.620782</td>\n",
       "      <td>-0.620782</td>\n",
       "      <td>0.176874</td>\n",
       "      <td>-0.263496</td>\n",
       "      <td>0.860153</td>\n",
       "    </tr>\n",
       "    <tr>\n",
       "      <th>pctSomeCollege1YrNoDegree</th>\n",
       "      <td>-0.198253</td>\n",
       "      <td>0.419146</td>\n",
       "      <td>-0.456921</td>\n",
       "      <td>1.000000</td>\n",
       "      <td>0.607048</td>\n",
       "      <td>-0.521287</td>\n",
       "      <td>-0.390142</td>\n",
       "      <td>0.017666</td>\n",
       "      <td>-0.017666</td>\n",
       "      <td>-0.060080</td>\n",
       "      <td>0.060080</td>\n",
       "      <td>-0.236031</td>\n",
       "      <td>0.236031</td>\n",
       "      <td>-0.468974</td>\n",
       "      <td>-0.010577</td>\n",
       "      <td>-0.432199</td>\n",
       "    </tr>\n",
       "    <tr>\n",
       "      <th>pctSomeCollegeManyYrsNoDegree</th>\n",
       "      <td>0.105307</td>\n",
       "      <td>0.099233</td>\n",
       "      <td>-0.388264</td>\n",
       "      <td>0.607048</td>\n",
       "      <td>1.000000</td>\n",
       "      <td>-0.526781</td>\n",
       "      <td>-0.292324</td>\n",
       "      <td>-0.300941</td>\n",
       "      <td>0.300941</td>\n",
       "      <td>0.022361</td>\n",
       "      <td>-0.022361</td>\n",
       "      <td>0.077350</td>\n",
       "      <td>-0.077350</td>\n",
       "      <td>-0.251097</td>\n",
       "      <td>0.115139</td>\n",
       "      <td>-0.485254</td>\n",
       "    </tr>\n",
       "    <tr>\n",
       "      <th>pctGradPlus</th>\n",
       "      <td>-0.531119</td>\n",
       "      <td>-0.725833</td>\n",
       "      <td>0.845960</td>\n",
       "      <td>-0.521287</td>\n",
       "      <td>-0.526781</td>\n",
       "      <td>1.000000</td>\n",
       "      <td>0.538701</td>\n",
       "      <td>0.369490</td>\n",
       "      <td>-0.369490</td>\n",
       "      <td>0.511530</td>\n",
       "      <td>-0.511530</td>\n",
       "      <td>0.442343</td>\n",
       "      <td>-0.442343</td>\n",
       "      <td>0.258362</td>\n",
       "      <td>-0.229895</td>\n",
       "      <td>0.881395</td>\n",
       "    </tr>\n",
       "    <tr>\n",
       "      <th>pctInLaborForce</th>\n",
       "      <td>-0.245193</td>\n",
       "      <td>-0.576897</td>\n",
       "      <td>0.677671</td>\n",
       "      <td>-0.390142</td>\n",
       "      <td>-0.292324</td>\n",
       "      <td>0.538701</td>\n",
       "      <td>1.000000</td>\n",
       "      <td>0.451960</td>\n",
       "      <td>-0.451960</td>\n",
       "      <td>0.582327</td>\n",
       "      <td>-0.582327</td>\n",
       "      <td>0.604844</td>\n",
       "      <td>-0.604844</td>\n",
       "      <td>-0.112872</td>\n",
       "      <td>-0.203314</td>\n",
       "      <td>0.538522</td>\n",
       "    </tr>\n",
       "    <tr>\n",
       "      <th>pctEmployed</th>\n",
       "      <td>-0.502975</td>\n",
       "      <td>-0.217133</td>\n",
       "      <td>0.471912</td>\n",
       "      <td>0.017666</td>\n",
       "      <td>-0.300941</td>\n",
       "      <td>0.369490</td>\n",
       "      <td>0.451960</td>\n",
       "      <td>1.000000</td>\n",
       "      <td>-1.000000</td>\n",
       "      <td>0.432663</td>\n",
       "      <td>-0.432663</td>\n",
       "      <td>0.263500</td>\n",
       "      <td>-0.263500</td>\n",
       "      <td>-0.287001</td>\n",
       "      <td>-0.311713</td>\n",
       "      <td>0.444400</td>\n",
       "    </tr>\n",
       "    <tr>\n",
       "      <th>pctUnemployed</th>\n",
       "      <td>0.502975</td>\n",
       "      <td>0.217133</td>\n",
       "      <td>-0.471912</td>\n",
       "      <td>-0.017666</td>\n",
       "      <td>0.300941</td>\n",
       "      <td>-0.369490</td>\n",
       "      <td>-0.451960</td>\n",
       "      <td>-1.000000</td>\n",
       "      <td>1.000000</td>\n",
       "      <td>-0.432663</td>\n",
       "      <td>0.432663</td>\n",
       "      <td>-0.263500</td>\n",
       "      <td>0.263500</td>\n",
       "      <td>0.287001</td>\n",
       "      <td>0.311713</td>\n",
       "      <td>-0.444400</td>\n",
       "    </tr>\n",
       "    <tr>\n",
       "      <th>pctHasTech</th>\n",
       "      <td>-0.345541</td>\n",
       "      <td>-0.709414</td>\n",
       "      <td>0.665961</td>\n",
       "      <td>-0.060080</td>\n",
       "      <td>0.022361</td>\n",
       "      <td>0.511530</td>\n",
       "      <td>0.582327</td>\n",
       "      <td>0.432663</td>\n",
       "      <td>-0.432663</td>\n",
       "      <td>1.000000</td>\n",
       "      <td>-1.000000</td>\n",
       "      <td>0.899346</td>\n",
       "      <td>-0.899346</td>\n",
       "      <td>-0.234855</td>\n",
       "      <td>-0.163076</td>\n",
       "      <td>0.578956</td>\n",
       "    </tr>\n",
       "    <tr>\n",
       "      <th>pctNoTech</th>\n",
       "      <td>0.345541</td>\n",
       "      <td>0.709414</td>\n",
       "      <td>-0.665961</td>\n",
       "      <td>0.060080</td>\n",
       "      <td>-0.022361</td>\n",
       "      <td>-0.511530</td>\n",
       "      <td>-0.582327</td>\n",
       "      <td>-0.432663</td>\n",
       "      <td>0.432663</td>\n",
       "      <td>-1.000000</td>\n",
       "      <td>1.000000</td>\n",
       "      <td>-0.899346</td>\n",
       "      <td>0.899346</td>\n",
       "      <td>0.234855</td>\n",
       "      <td>0.163076</td>\n",
       "      <td>-0.578956</td>\n",
       "    </tr>\n",
       "    <tr>\n",
       "      <th>pctSmartphone</th>\n",
       "      <td>-0.079459</td>\n",
       "      <td>-0.767809</td>\n",
       "      <td>0.620782</td>\n",
       "      <td>-0.236031</td>\n",
       "      <td>0.077350</td>\n",
       "      <td>0.442343</td>\n",
       "      <td>0.604844</td>\n",
       "      <td>0.263500</td>\n",
       "      <td>-0.263500</td>\n",
       "      <td>0.899346</td>\n",
       "      <td>-0.899346</td>\n",
       "      <td>1.000000</td>\n",
       "      <td>-1.000000</td>\n",
       "      <td>-0.097597</td>\n",
       "      <td>-0.062808</td>\n",
       "      <td>0.486996</td>\n",
       "    </tr>\n",
       "    <tr>\n",
       "      <th>pctNoSmartphone</th>\n",
       "      <td>0.079459</td>\n",
       "      <td>0.767809</td>\n",
       "      <td>-0.620782</td>\n",
       "      <td>0.236031</td>\n",
       "      <td>-0.077350</td>\n",
       "      <td>-0.442343</td>\n",
       "      <td>-0.604844</td>\n",
       "      <td>-0.263500</td>\n",
       "      <td>0.263500</td>\n",
       "      <td>-0.899346</td>\n",
       "      <td>0.899346</td>\n",
       "      <td>-1.000000</td>\n",
       "      <td>1.000000</td>\n",
       "      <td>0.097597</td>\n",
       "      <td>0.062808</td>\n",
       "      <td>-0.486996</td>\n",
       "    </tr>\n",
       "    <tr>\n",
       "      <th>Estimate_GiniIndex</th>\n",
       "      <td>0.091300</td>\n",
       "      <td>-0.190939</td>\n",
       "      <td>0.176874</td>\n",
       "      <td>-0.468974</td>\n",
       "      <td>-0.251097</td>\n",
       "      <td>0.258362</td>\n",
       "      <td>-0.112872</td>\n",
       "      <td>-0.287001</td>\n",
       "      <td>0.287001</td>\n",
       "      <td>-0.234855</td>\n",
       "      <td>0.234855</td>\n",
       "      <td>-0.097597</td>\n",
       "      <td>0.097597</td>\n",
       "      <td>1.000000</td>\n",
       "      <td>0.308439</td>\n",
       "      <td>0.245679</td>\n",
       "    </tr>\n",
       "    <tr>\n",
       "      <th>MarginOfError_GiniIndex</th>\n",
       "      <td>0.291348</td>\n",
       "      <td>0.153568</td>\n",
       "      <td>-0.263496</td>\n",
       "      <td>-0.010577</td>\n",
       "      <td>0.115139</td>\n",
       "      <td>-0.229895</td>\n",
       "      <td>-0.203314</td>\n",
       "      <td>-0.311713</td>\n",
       "      <td>0.311713</td>\n",
       "      <td>-0.163076</td>\n",
       "      <td>0.163076</td>\n",
       "      <td>-0.062808</td>\n",
       "      <td>0.062808</td>\n",
       "      <td>0.308439</td>\n",
       "      <td>1.000000</td>\n",
       "      <td>-0.221991</td>\n",
       "    </tr>\n",
       "    <tr>\n",
       "      <th>avgIncome</th>\n",
       "      <td>-0.525402</td>\n",
       "      <td>-0.714676</td>\n",
       "      <td>0.860153</td>\n",
       "      <td>-0.432199</td>\n",
       "      <td>-0.485254</td>\n",
       "      <td>0.881395</td>\n",
       "      <td>0.538522</td>\n",
       "      <td>0.444400</td>\n",
       "      <td>-0.444400</td>\n",
       "      <td>0.578956</td>\n",
       "      <td>-0.578956</td>\n",
       "      <td>0.486996</td>\n",
       "      <td>-0.486996</td>\n",
       "      <td>0.245679</td>\n",
       "      <td>-0.221991</td>\n",
       "      <td>1.000000</td>\n",
       "    </tr>\n",
       "  </tbody>\n",
       "</table>\n",
       "</div>"
      ],
      "text/plain": [
       "                                pctNoHs     pctHs   pctBach  \\\n",
       "pctNoHs                        1.000000  0.178613 -0.559658   \n",
       "pctHs                          0.178613  1.000000 -0.820182   \n",
       "pctBach                       -0.559658 -0.820182  1.000000   \n",
       "pctSomeCollege1YrNoDegree     -0.198253  0.419146 -0.456921   \n",
       "pctSomeCollegeManyYrsNoDegree  0.105307  0.099233 -0.388264   \n",
       "pctGradPlus                   -0.531119 -0.725833  0.845960   \n",
       "pctInLaborForce               -0.245193 -0.576897  0.677671   \n",
       "pctEmployed                   -0.502975 -0.217133  0.471912   \n",
       "pctUnemployed                  0.502975  0.217133 -0.471912   \n",
       "pctHasTech                    -0.345541 -0.709414  0.665961   \n",
       "pctNoTech                      0.345541  0.709414 -0.665961   \n",
       "pctSmartphone                 -0.079459 -0.767809  0.620782   \n",
       "pctNoSmartphone                0.079459  0.767809 -0.620782   \n",
       "Estimate_GiniIndex             0.091300 -0.190939  0.176874   \n",
       "MarginOfError_GiniIndex        0.291348  0.153568 -0.263496   \n",
       "avgIncome                     -0.525402 -0.714676  0.860153   \n",
       "\n",
       "                               pctSomeCollege1YrNoDegree  \\\n",
       "pctNoHs                                        -0.198253   \n",
       "pctHs                                           0.419146   \n",
       "pctBach                                        -0.456921   \n",
       "pctSomeCollege1YrNoDegree                       1.000000   \n",
       "pctSomeCollegeManyYrsNoDegree                   0.607048   \n",
       "pctGradPlus                                    -0.521287   \n",
       "pctInLaborForce                                -0.390142   \n",
       "pctEmployed                                     0.017666   \n",
       "pctUnemployed                                  -0.017666   \n",
       "pctHasTech                                     -0.060080   \n",
       "pctNoTech                                       0.060080   \n",
       "pctSmartphone                                  -0.236031   \n",
       "pctNoSmartphone                                 0.236031   \n",
       "Estimate_GiniIndex                             -0.468974   \n",
       "MarginOfError_GiniIndex                        -0.010577   \n",
       "avgIncome                                      -0.432199   \n",
       "\n",
       "                               pctSomeCollegeManyYrsNoDegree  pctGradPlus  \\\n",
       "pctNoHs                                             0.105307    -0.531119   \n",
       "pctHs                                               0.099233    -0.725833   \n",
       "pctBach                                            -0.388264     0.845960   \n",
       "pctSomeCollege1YrNoDegree                           0.607048    -0.521287   \n",
       "pctSomeCollegeManyYrsNoDegree                       1.000000    -0.526781   \n",
       "pctGradPlus                                        -0.526781     1.000000   \n",
       "pctInLaborForce                                    -0.292324     0.538701   \n",
       "pctEmployed                                        -0.300941     0.369490   \n",
       "pctUnemployed                                       0.300941    -0.369490   \n",
       "pctHasTech                                          0.022361     0.511530   \n",
       "pctNoTech                                          -0.022361    -0.511530   \n",
       "pctSmartphone                                       0.077350     0.442343   \n",
       "pctNoSmartphone                                    -0.077350    -0.442343   \n",
       "Estimate_GiniIndex                                 -0.251097     0.258362   \n",
       "MarginOfError_GiniIndex                             0.115139    -0.229895   \n",
       "avgIncome                                          -0.485254     0.881395   \n",
       "\n",
       "                               pctInLaborForce  pctEmployed  pctUnemployed  \\\n",
       "pctNoHs                              -0.245193    -0.502975       0.502975   \n",
       "pctHs                                -0.576897    -0.217133       0.217133   \n",
       "pctBach                               0.677671     0.471912      -0.471912   \n",
       "pctSomeCollege1YrNoDegree            -0.390142     0.017666      -0.017666   \n",
       "pctSomeCollegeManyYrsNoDegree        -0.292324    -0.300941       0.300941   \n",
       "pctGradPlus                           0.538701     0.369490      -0.369490   \n",
       "pctInLaborForce                       1.000000     0.451960      -0.451960   \n",
       "pctEmployed                           0.451960     1.000000      -1.000000   \n",
       "pctUnemployed                        -0.451960    -1.000000       1.000000   \n",
       "pctHasTech                            0.582327     0.432663      -0.432663   \n",
       "pctNoTech                            -0.582327    -0.432663       0.432663   \n",
       "pctSmartphone                         0.604844     0.263500      -0.263500   \n",
       "pctNoSmartphone                      -0.604844    -0.263500       0.263500   \n",
       "Estimate_GiniIndex                   -0.112872    -0.287001       0.287001   \n",
       "MarginOfError_GiniIndex              -0.203314    -0.311713       0.311713   \n",
       "avgIncome                             0.538522     0.444400      -0.444400   \n",
       "\n",
       "                               pctHasTech  pctNoTech  pctSmartphone  \\\n",
       "pctNoHs                         -0.345541   0.345541      -0.079459   \n",
       "pctHs                           -0.709414   0.709414      -0.767809   \n",
       "pctBach                          0.665961  -0.665961       0.620782   \n",
       "pctSomeCollege1YrNoDegree       -0.060080   0.060080      -0.236031   \n",
       "pctSomeCollegeManyYrsNoDegree    0.022361  -0.022361       0.077350   \n",
       "pctGradPlus                      0.511530  -0.511530       0.442343   \n",
       "pctInLaborForce                  0.582327  -0.582327       0.604844   \n",
       "pctEmployed                      0.432663  -0.432663       0.263500   \n",
       "pctUnemployed                   -0.432663   0.432663      -0.263500   \n",
       "pctHasTech                       1.000000  -1.000000       0.899346   \n",
       "pctNoTech                       -1.000000   1.000000      -0.899346   \n",
       "pctSmartphone                    0.899346  -0.899346       1.000000   \n",
       "pctNoSmartphone                 -0.899346   0.899346      -1.000000   \n",
       "Estimate_GiniIndex              -0.234855   0.234855      -0.097597   \n",
       "MarginOfError_GiniIndex         -0.163076   0.163076      -0.062808   \n",
       "avgIncome                        0.578956  -0.578956       0.486996   \n",
       "\n",
       "                               pctNoSmartphone  Estimate_GiniIndex  \\\n",
       "pctNoHs                               0.079459            0.091300   \n",
       "pctHs                                 0.767809           -0.190939   \n",
       "pctBach                              -0.620782            0.176874   \n",
       "pctSomeCollege1YrNoDegree             0.236031           -0.468974   \n",
       "pctSomeCollegeManyYrsNoDegree        -0.077350           -0.251097   \n",
       "pctGradPlus                          -0.442343            0.258362   \n",
       "pctInLaborForce                      -0.604844           -0.112872   \n",
       "pctEmployed                          -0.263500           -0.287001   \n",
       "pctUnemployed                         0.263500            0.287001   \n",
       "pctHasTech                           -0.899346           -0.234855   \n",
       "pctNoTech                             0.899346            0.234855   \n",
       "pctSmartphone                        -1.000000           -0.097597   \n",
       "pctNoSmartphone                       1.000000            0.097597   \n",
       "Estimate_GiniIndex                    0.097597            1.000000   \n",
       "MarginOfError_GiniIndex               0.062808            0.308439   \n",
       "avgIncome                            -0.486996            0.245679   \n",
       "\n",
       "                               MarginOfError_GiniIndex  avgIncome  \n",
       "pctNoHs                                       0.291348  -0.525402  \n",
       "pctHs                                         0.153568  -0.714676  \n",
       "pctBach                                      -0.263496   0.860153  \n",
       "pctSomeCollege1YrNoDegree                    -0.010577  -0.432199  \n",
       "pctSomeCollegeManyYrsNoDegree                 0.115139  -0.485254  \n",
       "pctGradPlus                                  -0.229895   0.881395  \n",
       "pctInLaborForce                              -0.203314   0.538522  \n",
       "pctEmployed                                  -0.311713   0.444400  \n",
       "pctUnemployed                                 0.311713  -0.444400  \n",
       "pctHasTech                                   -0.163076   0.578956  \n",
       "pctNoTech                                     0.163076  -0.578956  \n",
       "pctSmartphone                                -0.062808   0.486996  \n",
       "pctNoSmartphone                               0.062808  -0.486996  \n",
       "Estimate_GiniIndex                            0.308439   0.245679  \n",
       "MarginOfError_GiniIndex                       1.000000  -0.221991  \n",
       "avgIncome                                    -0.221991   1.000000  "
      ]
     },
     "execution_count": 44,
     "metadata": {},
     "output_type": "execute_result"
    }
   ],
   "source": [
    "mgd.corr()"
   ]
  },
  {
   "cell_type": "markdown",
   "metadata": {},
   "source": [
    "# Poverty"
   ]
  },
  {
   "cell_type": "code",
   "execution_count": 45,
   "metadata": {},
   "outputs": [
    {
     "data": {
      "application/vnd.jupyter.widget-view+json": {
       "model_id": "874f2fd900d6487794298dd14dcb7618",
       "version_major": 2,
       "version_minor": 0
      },
      "text/plain": [
       "  0%|          | 0/1 [00:00<?, ?it/s]"
      ]
     },
     "metadata": {},
     "output_type": "display_data"
    },
    {
     "data": {
      "application/vnd.jupyter.widget-view+json": {
       "model_id": "ba5c037448854c00910fa6153f85101e",
       "version_major": 2,
       "version_minor": 0
      },
      "text/plain": [
       "|          | 0/? [00:00<?, ?it/s]"
      ]
     },
     "metadata": {},
     "output_type": "display_data"
    }
   ],
   "source": [
    "povertyVars = c.getVariablesByGroup(c.groups.PovertyStatusInThePast12MonthsByAge.code)\n",
    "filteredVars = [var['code'] for var in povertyVars.to_dict('records') if var['name'].startswith('Estimate')]\n",
    "povertyStats = c.getStats(filteredVars, *geoDomains)"
   ]
  },
  {
   "cell_type": "code",
   "execution_count": 46,
   "metadata": {},
   "outputs": [],
   "source": [
    "povertyPcts = povertyStats.loc[:,['NAME', 'state', 'congressional district']]\n",
    "\n",
    "povertyPcts['atOrAbove'] = (povertyStats.Estimate_Total_IncomeInThePast12MonthsAtOrAbovePovertyLevel /\n",
    "             povertyStats.Estimate_Total)\n",
    "\n",
    "povertyPcts['below'] = (povertyStats.Estimate_Total_IncomeInThePast12MonthsBelowPovertyLevel /\n",
    "                       povertyStats.Estimate_Total)"
   ]
  },
  {
   "cell_type": "code",
   "execution_count": 47,
   "metadata": {},
   "outputs": [
    {
     "data": {
      "text/html": [
       "<div>\n",
       "<style scoped>\n",
       "    .dataframe tbody tr th:only-of-type {\n",
       "        vertical-align: middle;\n",
       "    }\n",
       "\n",
       "    .dataframe tbody tr th {\n",
       "        vertical-align: top;\n",
       "    }\n",
       "\n",
       "    .dataframe thead th {\n",
       "        text-align: right;\n",
       "    }\n",
       "</style>\n",
       "<table border=\"1\" class=\"dataframe\">\n",
       "  <thead>\n",
       "    <tr style=\"text-align: right;\">\n",
       "      <th></th>\n",
       "      <th>atOrAbove</th>\n",
       "      <th>below</th>\n",
       "    </tr>\n",
       "  </thead>\n",
       "  <tbody>\n",
       "    <tr>\n",
       "      <th>count</th>\n",
       "      <td>437.000000</td>\n",
       "      <td>437.000000</td>\n",
       "    </tr>\n",
       "    <tr>\n",
       "      <th>mean</th>\n",
       "      <td>0.875172</td>\n",
       "      <td>0.124828</td>\n",
       "    </tr>\n",
       "    <tr>\n",
       "      <th>std</th>\n",
       "      <td>0.047464</td>\n",
       "      <td>0.047464</td>\n",
       "    </tr>\n",
       "    <tr>\n",
       "      <th>min</th>\n",
       "      <td>0.565290</td>\n",
       "      <td>0.034630</td>\n",
       "    </tr>\n",
       "    <tr>\n",
       "      <th>25%</th>\n",
       "      <td>0.852099</td>\n",
       "      <td>0.091802</td>\n",
       "    </tr>\n",
       "    <tr>\n",
       "      <th>50%</th>\n",
       "      <td>0.881482</td>\n",
       "      <td>0.118518</td>\n",
       "    </tr>\n",
       "    <tr>\n",
       "      <th>75%</th>\n",
       "      <td>0.908198</td>\n",
       "      <td>0.147901</td>\n",
       "    </tr>\n",
       "    <tr>\n",
       "      <th>max</th>\n",
       "      <td>0.965370</td>\n",
       "      <td>0.434710</td>\n",
       "    </tr>\n",
       "  </tbody>\n",
       "</table>\n",
       "</div>"
      ],
      "text/plain": [
       "        atOrAbove       below\n",
       "count  437.000000  437.000000\n",
       "mean     0.875172    0.124828\n",
       "std      0.047464    0.047464\n",
       "min      0.565290    0.034630\n",
       "25%      0.852099    0.091802\n",
       "50%      0.881482    0.118518\n",
       "75%      0.908198    0.147901\n",
       "max      0.965370    0.434710"
      ]
     },
     "execution_count": 47,
     "metadata": {},
     "output_type": "execute_result"
    }
   ],
   "source": [
    "povertyPcts.describe()"
   ]
  },
  {
   "cell_type": "code",
   "execution_count": 48,
   "metadata": {},
   "outputs": [],
   "source": [
    "geoCodes = c.getGeographyCodes(GeoDomain('state'))"
   ]
  },
  {
   "cell_type": "code",
   "execution_count": 49,
   "metadata": {},
   "outputs": [
    {
     "data": {
      "text/html": [
       "<div>\n",
       "<style scoped>\n",
       "    .dataframe tbody tr th:only-of-type {\n",
       "        vertical-align: middle;\n",
       "    }\n",
       "\n",
       "    .dataframe tbody tr th {\n",
       "        vertical-align: top;\n",
       "    }\n",
       "\n",
       "    .dataframe thead th {\n",
       "        text-align: right;\n",
       "    }\n",
       "</style>\n",
       "<table border=\"1\" class=\"dataframe\">\n",
       "  <thead>\n",
       "    <tr style=\"text-align: right;\">\n",
       "      <th></th>\n",
       "      <th>NAME</th>\n",
       "      <th>state</th>\n",
       "    </tr>\n",
       "  </thead>\n",
       "  <tbody>\n",
       "    <tr>\n",
       "      <th>32</th>\n",
       "      <td>New York</td>\n",
       "      <td>36</td>\n",
       "    </tr>\n",
       "  </tbody>\n",
       "</table>\n",
       "</div>"
      ],
      "text/plain": [
       "        NAME state\n",
       "32  New York    36"
      ]
     },
     "execution_count": 49,
     "metadata": {},
     "output_type": "execute_result"
    }
   ],
   "source": [
    "geoCodes[geoCodes['NAME'] == 'New York']"
   ]
  },
  {
   "cell_type": "code",
   "execution_count": 50,
   "metadata": {},
   "outputs": [],
   "source": [
    "congDistCodes = c.getGeographyCodes(GeoDomain('congressional district'),\n",
    "                                   GeoDomain('state', '36'))"
   ]
  },
  {
   "cell_type": "code",
   "execution_count": 51,
   "metadata": {},
   "outputs": [
    {
     "data": {
      "text/html": [
       "<div>\n",
       "<style scoped>\n",
       "    .dataframe tbody tr th:only-of-type {\n",
       "        vertical-align: middle;\n",
       "    }\n",
       "\n",
       "    .dataframe tbody tr th {\n",
       "        vertical-align: top;\n",
       "    }\n",
       "\n",
       "    .dataframe thead th {\n",
       "        text-align: right;\n",
       "    }\n",
       "</style>\n",
       "<table border=\"1\" class=\"dataframe\">\n",
       "  <thead>\n",
       "    <tr style=\"text-align: right;\">\n",
       "      <th></th>\n",
       "      <th>NAME</th>\n",
       "      <th>state</th>\n",
       "      <th>congressional district</th>\n",
       "    </tr>\n",
       "  </thead>\n",
       "  <tbody>\n",
       "    <tr>\n",
       "      <th>0</th>\n",
       "      <td>Congressional District 1 (116th Congress), New York</td>\n",
       "      <td>36</td>\n",
       "      <td>01</td>\n",
       "    </tr>\n",
       "    <tr>\n",
       "      <th>1</th>\n",
       "      <td>Congressional District 2 (116th Congress), New York</td>\n",
       "      <td>36</td>\n",
       "      <td>02</td>\n",
       "    </tr>\n",
       "    <tr>\n",
       "      <th>2</th>\n",
       "      <td>Congressional District 3 (116th Congress), New York</td>\n",
       "      <td>36</td>\n",
       "      <td>03</td>\n",
       "    </tr>\n",
       "    <tr>\n",
       "      <th>3</th>\n",
       "      <td>Congressional District 4 (116th Congress), New York</td>\n",
       "      <td>36</td>\n",
       "      <td>04</td>\n",
       "    </tr>\n",
       "    <tr>\n",
       "      <th>4</th>\n",
       "      <td>Congressional District 5 (116th Congress), New York</td>\n",
       "      <td>36</td>\n",
       "      <td>05</td>\n",
       "    </tr>\n",
       "    <tr>\n",
       "      <th>5</th>\n",
       "      <td>Congressional District 6 (116th Congress), New York</td>\n",
       "      <td>36</td>\n",
       "      <td>06</td>\n",
       "    </tr>\n",
       "    <tr>\n",
       "      <th>6</th>\n",
       "      <td>Congressional District 7 (116th Congress), New York</td>\n",
       "      <td>36</td>\n",
       "      <td>07</td>\n",
       "    </tr>\n",
       "    <tr>\n",
       "      <th>7</th>\n",
       "      <td>Congressional District 8 (116th Congress), New York</td>\n",
       "      <td>36</td>\n",
       "      <td>08</td>\n",
       "    </tr>\n",
       "    <tr>\n",
       "      <th>8</th>\n",
       "      <td>Congressional District 9 (116th Congress), New York</td>\n",
       "      <td>36</td>\n",
       "      <td>09</td>\n",
       "    </tr>\n",
       "    <tr>\n",
       "      <th>9</th>\n",
       "      <td>Congressional District 10 (116th Congress), New York</td>\n",
       "      <td>36</td>\n",
       "      <td>10</td>\n",
       "    </tr>\n",
       "    <tr>\n",
       "      <th>10</th>\n",
       "      <td>Congressional District 11 (116th Congress), New York</td>\n",
       "      <td>36</td>\n",
       "      <td>11</td>\n",
       "    </tr>\n",
       "    <tr>\n",
       "      <th>11</th>\n",
       "      <td>Congressional District 12 (116th Congress), New York</td>\n",
       "      <td>36</td>\n",
       "      <td>12</td>\n",
       "    </tr>\n",
       "    <tr>\n",
       "      <th>12</th>\n",
       "      <td>Congressional District 13 (116th Congress), New York</td>\n",
       "      <td>36</td>\n",
       "      <td>13</td>\n",
       "    </tr>\n",
       "    <tr>\n",
       "      <th>13</th>\n",
       "      <td>Congressional District 14 (116th Congress), New York</td>\n",
       "      <td>36</td>\n",
       "      <td>14</td>\n",
       "    </tr>\n",
       "    <tr>\n",
       "      <th>14</th>\n",
       "      <td>Congressional District 15 (116th Congress), New York</td>\n",
       "      <td>36</td>\n",
       "      <td>15</td>\n",
       "    </tr>\n",
       "    <tr>\n",
       "      <th>15</th>\n",
       "      <td>Congressional District 16 (116th Congress), New York</td>\n",
       "      <td>36</td>\n",
       "      <td>16</td>\n",
       "    </tr>\n",
       "    <tr>\n",
       "      <th>16</th>\n",
       "      <td>Congressional District 17 (116th Congress), New York</td>\n",
       "      <td>36</td>\n",
       "      <td>17</td>\n",
       "    </tr>\n",
       "    <tr>\n",
       "      <th>17</th>\n",
       "      <td>Congressional District 18 (116th Congress), New York</td>\n",
       "      <td>36</td>\n",
       "      <td>18</td>\n",
       "    </tr>\n",
       "    <tr>\n",
       "      <th>18</th>\n",
       "      <td>Congressional District 19 (116th Congress), New York</td>\n",
       "      <td>36</td>\n",
       "      <td>19</td>\n",
       "    </tr>\n",
       "    <tr>\n",
       "      <th>19</th>\n",
       "      <td>Congressional District 20 (116th Congress), New York</td>\n",
       "      <td>36</td>\n",
       "      <td>20</td>\n",
       "    </tr>\n",
       "    <tr>\n",
       "      <th>20</th>\n",
       "      <td>Congressional District 21 (116th Congress), New York</td>\n",
       "      <td>36</td>\n",
       "      <td>21</td>\n",
       "    </tr>\n",
       "    <tr>\n",
       "      <th>21</th>\n",
       "      <td>Congressional District 22 (116th Congress), New York</td>\n",
       "      <td>36</td>\n",
       "      <td>22</td>\n",
       "    </tr>\n",
       "    <tr>\n",
       "      <th>22</th>\n",
       "      <td>Congressional District 23 (116th Congress), New York</td>\n",
       "      <td>36</td>\n",
       "      <td>23</td>\n",
       "    </tr>\n",
       "    <tr>\n",
       "      <th>23</th>\n",
       "      <td>Congressional District 24 (116th Congress), New York</td>\n",
       "      <td>36</td>\n",
       "      <td>24</td>\n",
       "    </tr>\n",
       "    <tr>\n",
       "      <th>24</th>\n",
       "      <td>Congressional District 25 (116th Congress), New York</td>\n",
       "      <td>36</td>\n",
       "      <td>25</td>\n",
       "    </tr>\n",
       "    <tr>\n",
       "      <th>25</th>\n",
       "      <td>Congressional District 26 (116th Congress), New York</td>\n",
       "      <td>36</td>\n",
       "      <td>26</td>\n",
       "    </tr>\n",
       "    <tr>\n",
       "      <th>26</th>\n",
       "      <td>Congressional District 27 (116th Congress), New York</td>\n",
       "      <td>36</td>\n",
       "      <td>27</td>\n",
       "    </tr>\n",
       "  </tbody>\n",
       "</table>\n",
       "</div>"
      ],
      "text/plain": [
       "                                                    NAME state  \\\n",
       "0    Congressional District 1 (116th Congress), New York    36   \n",
       "1    Congressional District 2 (116th Congress), New York    36   \n",
       "2    Congressional District 3 (116th Congress), New York    36   \n",
       "3    Congressional District 4 (116th Congress), New York    36   \n",
       "4    Congressional District 5 (116th Congress), New York    36   \n",
       "5    Congressional District 6 (116th Congress), New York    36   \n",
       "6    Congressional District 7 (116th Congress), New York    36   \n",
       "7    Congressional District 8 (116th Congress), New York    36   \n",
       "8    Congressional District 9 (116th Congress), New York    36   \n",
       "9   Congressional District 10 (116th Congress), New York    36   \n",
       "10  Congressional District 11 (116th Congress), New York    36   \n",
       "11  Congressional District 12 (116th Congress), New York    36   \n",
       "12  Congressional District 13 (116th Congress), New York    36   \n",
       "13  Congressional District 14 (116th Congress), New York    36   \n",
       "14  Congressional District 15 (116th Congress), New York    36   \n",
       "15  Congressional District 16 (116th Congress), New York    36   \n",
       "16  Congressional District 17 (116th Congress), New York    36   \n",
       "17  Congressional District 18 (116th Congress), New York    36   \n",
       "18  Congressional District 19 (116th Congress), New York    36   \n",
       "19  Congressional District 20 (116th Congress), New York    36   \n",
       "20  Congressional District 21 (116th Congress), New York    36   \n",
       "21  Congressional District 22 (116th Congress), New York    36   \n",
       "22  Congressional District 23 (116th Congress), New York    36   \n",
       "23  Congressional District 24 (116th Congress), New York    36   \n",
       "24  Congressional District 25 (116th Congress), New York    36   \n",
       "25  Congressional District 26 (116th Congress), New York    36   \n",
       "26  Congressional District 27 (116th Congress), New York    36   \n",
       "\n",
       "   congressional district  \n",
       "0                      01  \n",
       "1                      02  \n",
       "2                      03  \n",
       "3                      04  \n",
       "4                      05  \n",
       "5                      06  \n",
       "6                      07  \n",
       "7                      08  \n",
       "8                      09  \n",
       "9                      10  \n",
       "10                     11  \n",
       "11                     12  \n",
       "12                     13  \n",
       "13                     14  \n",
       "14                     15  \n",
       "15                     16  \n",
       "16                     17  \n",
       "17                     18  \n",
       "18                     19  \n",
       "19                     20  \n",
       "20                     21  \n",
       "21                     22  \n",
       "22                     23  \n",
       "23                     24  \n",
       "24                     25  \n",
       "25                     26  \n",
       "26                     27  "
      ]
     },
     "execution_count": 51,
     "metadata": {},
     "output_type": "execute_result"
    }
   ],
   "source": [
    "congDistCodes"
   ]
  },
  {
   "cell_type": "code",
   "execution_count": null,
   "metadata": {},
   "outputs": [],
   "source": []
  },
  {
   "cell_type": "code",
   "execution_count": null,
   "metadata": {},
   "outputs": [],
   "source": []
  },
  {
   "cell_type": "code",
   "execution_count": null,
   "metadata": {},
   "outputs": [],
   "source": []
  }
 ],
 "metadata": {
  "kernelspec": {
   "display_name": "Python 3.9.1 64-bit ('.venv')",
   "language": "python",
   "name": "python39164bitvenv24530a99c8a64e648fbc291cfc88a7f8"
  },
  "language_info": {
   "codemirror_mode": {
    "name": "ipython",
    "version": 3
   },
   "file_extension": ".py",
   "mimetype": "text/x-python",
   "name": "python",
   "nbconvert_exporter": "python",
   "pygments_lexer": "ipython3",
   "version": "3.9.1"
  }
 },
 "nbformat": 4,
 "nbformat_minor": 4
}
