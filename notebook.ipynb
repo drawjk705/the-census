{
 "cells": [
  {
   "cell_type": "markdown",
   "metadata": {},
   "source": [
    "[Census Documentation](https://www2.census.gov/programs-surveys/acs/tech_docs/subject_definitions/2019_ACSSubjectDefinitions.pdf)"
   ]
  },
  {
   "cell_type": "code",
   "execution_count": 1,
   "metadata": {},
   "outputs": [],
   "source": [
    "%config Completer.use_jedi = False"
   ]
  },
  {
   "cell_type": "code",
   "execution_count": 2,
   "metadata": {},
   "outputs": [],
   "source": [
    "from census.getCensus import getCensus\n",
    "from census.variables.models import GroupCode\n",
    "from census.models import GeoDomain\n",
    "import pandas as pd\n",
    "from pprint import pprint"
   ]
  },
  {
   "cell_type": "markdown",
   "metadata": {},
   "source": [
    "We'll use these since these are the primary geographies we care about"
   ]
  },
  {
   "cell_type": "code",
   "execution_count": 3,
   "metadata": {},
   "outputs": [],
   "source": [
    "geoDomains = [GeoDomain('congressional district'), GeoDomain('state')]"
   ]
  },
  {
   "cell_type": "code",
   "execution_count": 4,
   "metadata": {},
   "outputs": [],
   "source": [
    "c = getCensus(2019, shouldCacheOnDisk=True, shouldLoadFromExistingCache=True, shouldReplaceColumnHeaders=True)"
   ]
  },
  {
   "cell_type": "markdown",
   "metadata": {},
   "source": [
    "Get the group data"
   ]
  },
  {
   "cell_type": "code",
   "execution_count": 5,
   "metadata": {},
   "outputs": [],
   "source": [
    "_ = c.getGroups()"
   ]
  },
  {
   "cell_type": "markdown",
   "metadata": {},
   "source": [
    "# Education statistics"
   ]
  },
  {
   "cell_type": "code",
   "execution_count": 6,
   "metadata": {},
   "outputs": [
    {
     "data": {
      "application/vnd.jupyter.widget-view+json": {
       "model_id": "d152ce204db34186b8c364842224fe92",
       "version_major": 2,
       "version_minor": 0
      },
      "text/plain": [
       "  0%|          | 0/1 [00:00<?, ?it/s]"
      ]
     },
     "metadata": {},
     "output_type": "display_data"
    }
   ],
   "source": [
    "educVars = c.getVariablesByGroup(c.groups.EducationalAttainmentForThePopulation25YearsAndOver.code)"
   ]
  },
  {
   "cell_type": "code",
   "execution_count": 7,
   "metadata": {},
   "outputs": [
    {
     "data": {
      "application/vnd.jupyter.widget-view+json": {
       "model_id": "c1453fe285ce40a68bc3834a1c44b406",
       "version_major": 2,
       "version_minor": 0
      },
      "text/plain": [
       "|          | 0/? [00:00<?, ?it/s]"
      ]
     },
     "metadata": {},
     "output_type": "display_data"
    }
   ],
   "source": [
    "educData = c.getStats(educVars['code'].tolist(), *geoDomains)\n"
   ]
  },
  {
   "cell_type": "code",
   "execution_count": 8,
   "metadata": {},
   "outputs": [],
   "source": [
    "educPcts = educData.loc[:,['NAME', 'congressional district', 'state']]"
   ]
  },
  {
   "cell_type": "code",
   "execution_count": 9,
   "metadata": {},
   "outputs": [],
   "source": [
    "educPcts['pctNoHs'] = (educData.Estimate_Total_NoSchoolingCompleted \\\n",
    "                    + educData.Estimate_Total_NurseryTo4thGrade \\\n",
    "                    + educData.Estimate_Total_5thAnd6thGrade \\\n",
    "                    + educData.Estimate_Total_7thAnd8thGrade \\\n",
    "                    + educData.Estimate_Total_9thGrade \\\n",
    "                    + educData.Estimate_Total_10thGrade \\\n",
    "                    + educData.Estimate_Total_11thGrade \\\n",
    "                    + educData.Estimate_Total_12thGradeNoDiploma) / educData.Estimate_Total\n",
    "educPcts['pctHs'] = (educData.Estimate_Total_RegularHighSchoolDiploma \\\n",
    "                     + educData.Estimate_Total_GedOrAlternativeCredential) \\\n",
    "                        / educData.Estimate_Total\n",
    "educPcts['pctBach'] = educData.Estimate_Total_BachelorsDegree / educData.Estimate_Total\n",
    "educPcts['pctSomeCollege1YrNoDegree'] = educData.Estimate_Total_SomeCollegeLessThan1Year / educData.Estimate_Total\n",
    "educPcts['pctSomeCollegeManyYrsNoDegree'] = educData.Estimate_Total_SomeCollege1OrMoreYearsNoDegree / educData.Estimate_Total\n",
    "educPcts['pctGradPlus'] = (educData.Estimate_Total_DoctorateDegree + \\\n",
    "                          educData.Estimate_Total_MastersDegree ) / educData.Estimate_Total"
   ]
  },
  {
   "cell_type": "markdown",
   "metadata": {},
   "source": [
    "# Employment statistics"
   ]
  },
  {
   "cell_type": "code",
   "execution_count": 10,
   "metadata": {},
   "outputs": [
    {
     "data": {
      "application/vnd.jupyter.widget-view+json": {
       "model_id": "dbc274dfab3d4a4788c14217928284cb",
       "version_major": 2,
       "version_minor": 0
      },
      "text/plain": [
       "  0%|          | 0/1 [00:00<?, ?it/s]"
      ]
     },
     "metadata": {},
     "output_type": "display_data"
    },
    {
     "data": {
      "application/vnd.jupyter.widget-view+json": {
       "model_id": "b1527c197be4453b8c25b40356000184",
       "version_major": 2,
       "version_minor": 0
      },
      "text/plain": [
       "|          | 0/? [00:00<?, ?it/s]"
      ]
     },
     "metadata": {},
     "output_type": "display_data"
    }
   ],
   "source": [
    "emplVars = c.getVariablesByGroup(c.groups.EmploymentStatusForThePopulation16YearsAndOver.code)\n",
    "emplData = c.getStats(emplVars['code'].tolist(), *geoDomains)"
   ]
  },
  {
   "cell_type": "code",
   "execution_count": 11,
   "metadata": {},
   "outputs": [],
   "source": [
    "emplPcts = emplData.loc[:,['NAME', 'state', 'congressional district']]"
   ]
  },
  {
   "cell_type": "code",
   "execution_count": 12,
   "metadata": {},
   "outputs": [],
   "source": [
    "emplPcts['pctInLaborForce'] = (emplData.Estimate_Total_InLaborForce_CivilianLaborForce / \n",
    "                             emplData.Estimate_Total)\n",
    "emplPcts['pctEmployed'] = (emplData.Estimate_Total_InLaborForce_CivilianLaborForce_Employed /\n",
    "                         emplData.Estimate_Total_InLaborForce_CivilianLaborForce)\n",
    "emplPcts['pctUnemployed'] = (emplData.Estimate_Total_InLaborForce_CivilianLaborForce_Unemployed /\n",
    "                         emplData.Estimate_Total_InLaborForce_CivilianLaborForce)"
   ]
  },
  {
   "cell_type": "code",
   "execution_count": 13,
   "metadata": {},
   "outputs": [
    {
     "data": {
      "application/vnd.jupyter.widget-view+json": {
       "model_id": "6574b259710f4adea6d69bd65c353e05",
       "version_major": 2,
       "version_minor": 0
      },
      "text/plain": [
       "  0%|          | 0/1 [00:00<?, ?it/s]"
      ]
     },
     "metadata": {},
     "output_type": "display_data"
    },
    {
     "data": {
      "application/vnd.jupyter.widget-view+json": {
       "model_id": "8ec943de0d86494baed0ae0bcc88b6f5",
       "version_major": 2,
       "version_minor": 0
      },
      "text/plain": [
       "|          | 0/? [00:00<?, ?it/s]"
      ]
     },
     "metadata": {},
     "output_type": "display_data"
    }
   ],
   "source": [
    "healthInsVars = c.getVariablesByGroup(c.groups.HealthInsuranceCoverageStatusBySexByAge.code)\n",
    "healthInsData = c.getStats(healthInsVars['code'].tolist(), *geoDomains)\n",
    "healthInsPct = healthInsData.loc[:,['NAME', 'state', 'congressional district']]"
   ]
  },
  {
   "cell_type": "code",
   "execution_count": 14,
   "metadata": {},
   "outputs": [],
   "source": [
    "healthInsPct['pctMaleWithIns'] = ( healthInsData.Estimate_Total_Male_19To64Years_WithHealthInsuranceCoverage /\n",
    "                                    healthInsData.Estimate_Total_Male_19To64Years)\n",
    "healthInsPct['pctFemWithIns'] = ( healthInsData.Estimate_Total_Female_19To64Years_WithHealthInsuranceCoverage /\n",
    "                                    healthInsData.Estimate_Total_Female_19To64Years)\n",
    "healthInsPct['pctMaleWithoutIns'] = ( healthInsData.Estimate_Total_Male_19To64Years_NoHealthInsuranceCoverage /\n",
    "                                    healthInsData.Estimate_Total_Male_19To64Years)\n",
    "healthInsPct['pctFemWithoutIns'] = ( healthInsData.Estimate_Total_Female_19To64Years_NoHealthInsuranceCoverage /\n",
    "                                    healthInsData.Estimate_Total_Female_19To64Years)\n",
    "healthInsPct['pctWithIns'] = (( healthInsData.Estimate_Total_Male_19To64Years_WithHealthInsuranceCoverage + \n",
    "                               healthInsData.Estimate_Total_Female_19To64Years_WithHealthInsuranceCoverage) /\n",
    "                                (healthInsData.Estimate_Total_Male_19To64Years +\n",
    "                                    healthInsData.Estimate_Total_Female_19To64Years))\n",
    "healthInsPct['pctWithoutIns'] = (( healthInsData.Estimate_Total_Male_19To64Years_NoHealthInsuranceCoverage +\n",
    "                                  healthInsData.Estimate_Total_Female_19To64Years_NoHealthInsuranceCoverage) /\n",
    "                                (healthInsData.Estimate_Total_Male_19To64Years +\n",
    "                                    healthInsData.Estimate_Total_Female_19To64Years))\n"
   ]
  },
  {
   "cell_type": "code",
   "execution_count": 15,
   "metadata": {},
   "outputs": [
    {
     "data": {
      "text/html": [
       "<div>\n",
       "<style scoped>\n",
       "    .dataframe tbody tr th:only-of-type {\n",
       "        vertical-align: middle;\n",
       "    }\n",
       "\n",
       "    .dataframe tbody tr th {\n",
       "        vertical-align: top;\n",
       "    }\n",
       "\n",
       "    .dataframe thead th {\n",
       "        text-align: right;\n",
       "    }\n",
       "</style>\n",
       "<table border=\"1\" class=\"dataframe\">\n",
       "  <thead>\n",
       "    <tr style=\"text-align: right;\">\n",
       "      <th></th>\n",
       "      <th>NAME</th>\n",
       "      <th>state</th>\n",
       "      <th>congressional district</th>\n",
       "      <th>pctMaleWithIns</th>\n",
       "      <th>pctFemWithIns</th>\n",
       "      <th>pctMaleWithoutIns</th>\n",
       "      <th>pctFemWithoutIns</th>\n",
       "      <th>pctWithIns</th>\n",
       "      <th>pctWithoutIns</th>\n",
       "    </tr>\n",
       "  </thead>\n",
       "  <tbody>\n",
       "    <tr>\n",
       "      <th>0</th>\n",
       "      <td>Congressional District 1 (116th Congress), Alabama</td>\n",
       "      <td>01</td>\n",
       "      <td>01</td>\n",
       "      <td>0.813100</td>\n",
       "      <td>0.856890</td>\n",
       "      <td>0.186900</td>\n",
       "      <td>0.143110</td>\n",
       "      <td>0.836327</td>\n",
       "      <td>0.163673</td>\n",
       "    </tr>\n",
       "    <tr>\n",
       "      <th>1</th>\n",
       "      <td>Congressional District 2 (116th Congress), Alabama</td>\n",
       "      <td>01</td>\n",
       "      <td>02</td>\n",
       "      <td>0.802246</td>\n",
       "      <td>0.860867</td>\n",
       "      <td>0.197754</td>\n",
       "      <td>0.139133</td>\n",
       "      <td>0.833703</td>\n",
       "      <td>0.166297</td>\n",
       "    </tr>\n",
       "  </tbody>\n",
       "</table>\n",
       "</div>"
      ],
      "text/plain": [
       "                                                 NAME state  \\\n",
       "0  Congressional District 1 (116th Congress), Alabama    01   \n",
       "1  Congressional District 2 (116th Congress), Alabama    01   \n",
       "\n",
       "  congressional district  pctMaleWithIns  pctFemWithIns  pctMaleWithoutIns  \\\n",
       "0                     01        0.813100       0.856890           0.186900   \n",
       "1                     02        0.802246       0.860867           0.197754   \n",
       "\n",
       "   pctFemWithoutIns  pctWithIns  pctWithoutIns  \n",
       "0          0.143110    0.836327       0.163673  \n",
       "1          0.139133    0.833703       0.166297  "
      ]
     },
     "execution_count": 15,
     "metadata": {},
     "output_type": "execute_result"
    }
   ],
   "source": [
    "healthInsPct.head(n=2)"
   ]
  },
  {
   "cell_type": "markdown",
   "metadata": {},
   "source": [
    "# Gini Index"
   ]
  },
  {
   "cell_type": "code",
   "execution_count": 16,
   "metadata": {},
   "outputs": [
    {
     "data": {
      "application/vnd.jupyter.widget-view+json": {
       "model_id": "2b7a705eb3ee47d78811b4025e98cf76",
       "version_major": 2,
       "version_minor": 0
      },
      "text/plain": [
       "  0%|          | 0/1 [00:00<?, ?it/s]"
      ]
     },
     "metadata": {},
     "output_type": "display_data"
    },
    {
     "data": {
      "application/vnd.jupyter.widget-view+json": {
       "model_id": "0791b43a448544d99f527a3b636fa491",
       "version_major": 2,
       "version_minor": 0
      },
      "text/plain": [
       "|          | 0/? [00:00<?, ?it/s]"
      ]
     },
     "metadata": {},
     "output_type": "display_data"
    }
   ],
   "source": [
    "giniVars = c.getVariablesByGroup(c.groups.GiniIndexOfIncomeInequality.code)\n",
    "giniData = c.getStats(giniVars['code'].tolist(), *geoDomains)"
   ]
  },
  {
   "cell_type": "code",
   "execution_count": 17,
   "metadata": {},
   "outputs": [
    {
     "data": {
      "text/plain": [
       "count    437.000000\n",
       "mean       0.459643\n",
       "std        0.031104\n",
       "min        0.392500\n",
       "25%        0.439100\n",
       "50%        0.456200\n",
       "75%        0.475000\n",
       "max        0.581900\n",
       "Name: Estimate_GiniIndex, dtype: float64"
      ]
     },
     "execution_count": 17,
     "metadata": {},
     "output_type": "execute_result"
    }
   ],
   "source": [
    "giniData.Estimate_GiniIndex.describe()"
   ]
  },
  {
   "cell_type": "markdown",
   "metadata": {},
   "source": [
    "# Income"
   ]
  },
  {
   "cell_type": "code",
   "execution_count": 18,
   "metadata": {},
   "outputs": [
    {
     "data": {
      "application/vnd.jupyter.widget-view+json": {
       "model_id": "a8f6cbb31ff74c60a6dc02a531d95e52",
       "version_major": 2,
       "version_minor": 0
      },
      "text/plain": [
       "  0%|          | 0/1 [00:00<?, ?it/s]"
      ]
     },
     "metadata": {},
     "output_type": "display_data"
    },
    {
     "data": {
      "application/vnd.jupyter.widget-view+json": {
       "model_id": "b798f5aa4a7f442dbebda186ed4bf07f",
       "version_major": 2,
       "version_minor": 0
      },
      "text/plain": [
       "|          | 0/? [00:00<?, ?it/s]"
      ]
     },
     "metadata": {},
     "output_type": "display_data"
    },
    {
     "data": {
      "application/vnd.jupyter.widget-view+json": {
       "model_id": "46170a6cde814b8b89fffe383aca5c02",
       "version_major": 2,
       "version_minor": 0
      },
      "text/plain": [
       "  0%|          | 0/1 [00:00<?, ?it/s]"
      ]
     },
     "metadata": {},
     "output_type": "display_data"
    },
    {
     "data": {
      "application/vnd.jupyter.widget-view+json": {
       "model_id": "dffba8108ae344c49b82d1f7d9d28f4d",
       "version_major": 2,
       "version_minor": 0
      },
      "text/plain": [
       "|          | 0/? [00:00<?, ?it/s]"
      ]
     },
     "metadata": {},
     "output_type": "display_data"
    }
   ],
   "source": [
    "c.searchGroups('aggregate income')\n",
    "\n",
    "incomeVars = c.getVariablesByGroup(c.groups.AggregateIncomeInThePast12MonthsIn2019InflationAdjustedDollars.code)\n",
    "incomeData = c.getStats(incomeVars['code'].tolist(), *geoDomains)\n",
    "\n",
    "populationVars = c.getVariablesByGroup(c.groups.TotalPopulation.code)\n",
    "populationData = c.getStats(populationVars['code'].tolist(), *geoDomains)"
   ]
  },
  {
   "cell_type": "code",
   "execution_count": 19,
   "metadata": {},
   "outputs": [],
   "source": [
    "avgIncome = incomeData.loc[:,['NAME', 'state', 'congressional district']]\n",
    "\n",
    "avgIncome['avgIncome'] = (incomeData.Estimate_AggregateIncomeInThePast12MonthsIn2019InflationAdjustedDollars /\n",
    "                         populationData.Estimate_Total)"
   ]
  },
  {
   "cell_type": "code",
   "execution_count": 20,
   "metadata": {},
   "outputs": [
    {
     "data": {
      "text/html": [
       "<div>\n",
       "<style scoped>\n",
       "    .dataframe tbody tr th:only-of-type {\n",
       "        vertical-align: middle;\n",
       "    }\n",
       "\n",
       "    .dataframe tbody tr th {\n",
       "        vertical-align: top;\n",
       "    }\n",
       "\n",
       "    .dataframe thead th {\n",
       "        text-align: right;\n",
       "    }\n",
       "</style>\n",
       "<table border=\"1\" class=\"dataframe\">\n",
       "  <thead>\n",
       "    <tr style=\"text-align: right;\">\n",
       "      <th></th>\n",
       "      <th>NAME</th>\n",
       "      <th>state</th>\n",
       "      <th>congressional district</th>\n",
       "      <th>avgIncome</th>\n",
       "    </tr>\n",
       "  </thead>\n",
       "  <tbody>\n",
       "    <tr>\n",
       "      <th>0</th>\n",
       "      <td>Congressional District 1 (116th Congress), Alabama</td>\n",
       "      <td>01</td>\n",
       "      <td>01</td>\n",
       "      <td>27463.206159</td>\n",
       "    </tr>\n",
       "    <tr>\n",
       "      <th>1</th>\n",
       "      <td>Congressional District 2 (116th Congress), Alabama</td>\n",
       "      <td>01</td>\n",
       "      <td>02</td>\n",
       "      <td>26790.405233</td>\n",
       "    </tr>\n",
       "  </tbody>\n",
       "</table>\n",
       "</div>"
      ],
      "text/plain": [
       "                                                 NAME state  \\\n",
       "0  Congressional District 1 (116th Congress), Alabama    01   \n",
       "1  Congressional District 2 (116th Congress), Alabama    01   \n",
       "\n",
       "  congressional district     avgIncome  \n",
       "0                     01  27463.206159  \n",
       "1                     02  26790.405233  "
      ]
     },
     "execution_count": 20,
     "metadata": {},
     "output_type": "execute_result"
    }
   ],
   "source": [
    "avgIncome.head(n=2)"
   ]
  },
  {
   "cell_type": "markdown",
   "metadata": {},
   "source": [
    "# Internet access"
   ]
  },
  {
   "cell_type": "code",
   "execution_count": 21,
   "metadata": {},
   "outputs": [
    {
     "data": {
      "application/vnd.jupyter.widget-view+json": {
       "model_id": "717de2249bdc47ce8e28bd9083a1744c",
       "version_major": 2,
       "version_minor": 0
      },
      "text/plain": [
       "  0%|          | 0/1 [00:00<?, ?it/s]"
      ]
     },
     "metadata": {},
     "output_type": "display_data"
    },
    {
     "data": {
      "application/vnd.jupyter.widget-view+json": {
       "model_id": "126da3279d9d412187c66af679f05031",
       "version_major": 2,
       "version_minor": 0
      },
      "text/plain": [
       "|          | 0/? [00:00<?, ?it/s]"
      ]
     },
     "metadata": {},
     "output_type": "display_data"
    }
   ],
   "source": [
    "c.searchGroups('internet')\n",
    "internetVars = c.getVariablesByGroup(c.groups.PresenceAndTypesOfInternetSubscriptionsInHousehold.code)\n",
    "internetData = c.getStats(internetVars['code'].tolist(), *geoDomains)"
   ]
  },
  {
   "cell_type": "code",
   "execution_count": 22,
   "metadata": {},
   "outputs": [
    {
     "data": {
      "text/plain": [
       "['Estimate_Total',\n",
       " 'Estimate_Total_WithAnInternetSubscription',\n",
       " 'Estimate_Total_WithAnInternetSubscription_DialUpWithNoOtherTypeOfInternetSubscription',\n",
       " 'Estimate_Total_WithAnInternetSubscription_BroadbandOfAnyType',\n",
       " 'Estimate_Total_WithAnInternetSubscription_CellularDataPlan',\n",
       " 'Estimate_Total_WithAnInternetSubscription_CellularDataPlan_CellularDataPlanWithNoOtherTypeOfInternetSubscription',\n",
       " 'Estimate_Total_WithAnInternetSubscription_BroadbandSuchAsCableFiberOpticOrDsl',\n",
       " 'Estimate_Total_WithAnInternetSubscription_BroadbandSuchAsCableFiberOpticOrDsl_BroadbandSuchAsCableFiberOpticOrDslWithNoOtherTypeOfInternetSubscription',\n",
       " 'Estimate_Total_WithAnInternetSubscription_SatelliteInternetService',\n",
       " 'Estimate_Total_WithAnInternetSubscription_SatelliteInternetService_SatelliteInternetServiceWithNoOtherTypeOfInternetSubscription',\n",
       " 'Estimate_Total_WithAnInternetSubscription_OtherServiceWithNoOtherTypeOfInternetSubscription',\n",
       " 'Estimate_Total_InternetAccessWithoutASubscription',\n",
       " 'Estimate_Total_NoInternetAccess']"
      ]
     },
     "execution_count": 22,
     "metadata": {},
     "output_type": "execute_result"
    }
   ],
   "source": [
    "[col for col in internetData.columns.tolist() if col.startswith('Estimate')]"
   ]
  },
  {
   "cell_type": "code",
   "execution_count": 23,
   "metadata": {},
   "outputs": [],
   "source": [
    "pctInternetAccess = internetData.loc[:,['NAME', 'state', 'congressional district']]\n",
    "\n",
    "pctInternetAccess['pctHasInternet'] = (internetData.Estimate_Total_WithAnInternetSubscription /\n",
    "                                      internetData.Estimate_Total)\n",
    "pctInternetAccess['pctHasNoInternet'] = (internetData.Estimate_Total_NoInternetAccess /\n",
    "                                        internetData.Estimate_Total)\n",
    "pctInternetAccess['pctCellData'] = (internetData.Estimate_Total_WithAnInternetSubscription_CellularDataPlan /\n",
    "                                   internetData.Estimate_Total_WithAnInternetSubscription) * pctInternetAccess.pctHasInternet"
   ]
  },
  {
   "cell_type": "code",
   "execution_count": 24,
   "metadata": {},
   "outputs": [
    {
     "data": {
      "text/html": [
       "<div>\n",
       "<style scoped>\n",
       "    .dataframe tbody tr th:only-of-type {\n",
       "        vertical-align: middle;\n",
       "    }\n",
       "\n",
       "    .dataframe tbody tr th {\n",
       "        vertical-align: top;\n",
       "    }\n",
       "\n",
       "    .dataframe thead th {\n",
       "        text-align: right;\n",
       "    }\n",
       "</style>\n",
       "<table border=\"1\" class=\"dataframe\">\n",
       "  <thead>\n",
       "    <tr style=\"text-align: right;\">\n",
       "      <th></th>\n",
       "      <th>NAME</th>\n",
       "      <th>state</th>\n",
       "      <th>congressional district</th>\n",
       "      <th>pctHasInternet</th>\n",
       "      <th>pctHasNoInternet</th>\n",
       "      <th>pctCellData</th>\n",
       "    </tr>\n",
       "  </thead>\n",
       "  <tbody>\n",
       "    <tr>\n",
       "      <th>0</th>\n",
       "      <td>Congressional District 1 (116th Congress), Alabama</td>\n",
       "      <td>01</td>\n",
       "      <td>01</td>\n",
       "      <td>0.805464</td>\n",
       "      <td>0.169390</td>\n",
       "      <td>0.730832</td>\n",
       "    </tr>\n",
       "    <tr>\n",
       "      <th>1</th>\n",
       "      <td>Congressional District 2 (116th Congress), Alabama</td>\n",
       "      <td>01</td>\n",
       "      <td>02</td>\n",
       "      <td>0.820166</td>\n",
       "      <td>0.158101</td>\n",
       "      <td>0.743104</td>\n",
       "    </tr>\n",
       "  </tbody>\n",
       "</table>\n",
       "</div>"
      ],
      "text/plain": [
       "                                                 NAME state  \\\n",
       "0  Congressional District 1 (116th Congress), Alabama    01   \n",
       "1  Congressional District 2 (116th Congress), Alabama    01   \n",
       "\n",
       "  congressional district  pctHasInternet  pctHasNoInternet  pctCellData  \n",
       "0                     01        0.805464          0.169390     0.730832  \n",
       "1                     02        0.820166          0.158101     0.743104  "
      ]
     },
     "execution_count": 24,
     "metadata": {},
     "output_type": "execute_result"
    }
   ],
   "source": [
    "pctInternetAccess.head(n=2)"
   ]
  },
  {
   "cell_type": "markdown",
   "metadata": {},
   "source": [
    "# Tech access"
   ]
  },
  {
   "cell_type": "code",
   "execution_count": 25,
   "metadata": {},
   "outputs": [
    {
     "data": {
      "application/vnd.jupyter.widget-view+json": {
       "model_id": "aa7228fe6b5545e2bc6d498b4cdb5756",
       "version_major": 2,
       "version_minor": 0
      },
      "text/plain": [
       "  0%|          | 0/1 [00:00<?, ?it/s]"
      ]
     },
     "metadata": {},
     "output_type": "display_data"
    }
   ],
   "source": [
    "computerVars = c.getVariablesByGroup(c.groups.TypesOfComputersInHousehold.code)"
   ]
  },
  {
   "cell_type": "code",
   "execution_count": 26,
   "metadata": {},
   "outputs": [
    {
     "data": {
      "text/plain": [
       "['Estimate!!Total:',\n",
       " 'Estimate!!Total:!!Has one or more types of computing devices:',\n",
       " 'Estimate!!Total:!!Has one or more types of computing devices:!!Desktop or laptop',\n",
       " 'Estimate!!Total:!!Has one or more types of computing devices:!!Desktop or laptop!!Desktop or laptop with no other type of computing device',\n",
       " 'Estimate!!Total:!!Has one or more types of computing devices:!!Smartphone',\n",
       " 'Estimate!!Total:!!Has one or more types of computing devices:!!Smartphone!!Smartphone with no other type of computing device',\n",
       " 'Estimate!!Total:!!Has one or more types of computing devices:!!Tablet or other portable wireless computer',\n",
       " 'Estimate!!Total:!!Has one or more types of computing devices:!!Tablet or other portable wireless computer!!Tablet or other portable wireless computer with no other type of computing device',\n",
       " 'Estimate!!Total:!!Has one or more types of computing devices:!!Other computer',\n",
       " 'Estimate!!Total:!!Has one or more types of computing devices:!!Other computer!!Other computer with no other type of computing device',\n",
       " 'Estimate!!Total:!!No Computer']"
      ]
     },
     "execution_count": 26,
     "metadata": {},
     "output_type": "execute_result"
    }
   ],
   "source": [
    "[var for var in computerVars['name'].tolist() if var.startswith('Estimate')]"
   ]
  },
  {
   "cell_type": "code",
   "execution_count": 27,
   "metadata": {},
   "outputs": [
    {
     "data": {
      "application/vnd.jupyter.widget-view+json": {
       "model_id": "b8e2b741c16440cbb4525cd5a0fa9718",
       "version_major": 2,
       "version_minor": 0
      },
      "text/plain": [
       "|          | 0/? [00:00<?, ?it/s]"
      ]
     },
     "metadata": {},
     "output_type": "display_data"
    }
   ],
   "source": [
    "computerStats = c.getStats(computerVars['code'].tolist(), *geoDomains)"
   ]
  },
  {
   "cell_type": "code",
   "execution_count": 28,
   "metadata": {},
   "outputs": [],
   "source": [
    "computerPcts = computerStats.loc[:,[\"NAME\", \"state\", \"congressional district\"]]\n",
    "\n",
    "computerPcts['pctHasTech'] = (computerStats.Estimate_Total_HasOneOrMoreTypesOfComputingDevices /\n",
    "                                 computerStats.Estimate_Total)\n",
    "computerPcts['pctNoTech'] = (computerStats.Estimate_Total_NoComputer / \n",
    "                                computerStats.Estimate_Total)\n",
    "computerPcts['pctSmartphone'] = (computerStats.Estimate_Total_HasOneOrMoreTypesOfComputingDevices_Smartphone /\n",
    "                               computerStats.Estimate_Total)\n",
    "computerPcts['pctNoSmartphone'] = 1 - computerPcts.pctSmartphone"
   ]
  },
  {
   "cell_type": "code",
   "execution_count": 29,
   "metadata": {},
   "outputs": [
    {
     "data": {
      "text/html": [
       "<div>\n",
       "<style scoped>\n",
       "    .dataframe tbody tr th:only-of-type {\n",
       "        vertical-align: middle;\n",
       "    }\n",
       "\n",
       "    .dataframe tbody tr th {\n",
       "        vertical-align: top;\n",
       "    }\n",
       "\n",
       "    .dataframe thead th {\n",
       "        text-align: right;\n",
       "    }\n",
       "</style>\n",
       "<table border=\"1\" class=\"dataframe\">\n",
       "  <thead>\n",
       "    <tr style=\"text-align: right;\">\n",
       "      <th></th>\n",
       "      <th>NAME</th>\n",
       "      <th>state</th>\n",
       "      <th>congressional district</th>\n",
       "      <th>pctHasTech</th>\n",
       "      <th>pctNoTech</th>\n",
       "      <th>pctSmartphone</th>\n",
       "      <th>pctNoSmartphone</th>\n",
       "    </tr>\n",
       "  </thead>\n",
       "  <tbody>\n",
       "    <tr>\n",
       "      <th>0</th>\n",
       "      <td>Congressional District 1 (116th Congress), Alabama</td>\n",
       "      <td>01</td>\n",
       "      <td>01</td>\n",
       "      <td>0.899878</td>\n",
       "      <td>0.100122</td>\n",
       "      <td>0.832166</td>\n",
       "      <td>0.167834</td>\n",
       "    </tr>\n",
       "    <tr>\n",
       "      <th>1</th>\n",
       "      <td>Congressional District 2 (116th Congress), Alabama</td>\n",
       "      <td>01</td>\n",
       "      <td>02</td>\n",
       "      <td>0.892745</td>\n",
       "      <td>0.107255</td>\n",
       "      <td>0.826951</td>\n",
       "      <td>0.173049</td>\n",
       "    </tr>\n",
       "  </tbody>\n",
       "</table>\n",
       "</div>"
      ],
      "text/plain": [
       "                                                 NAME state  \\\n",
       "0  Congressional District 1 (116th Congress), Alabama    01   \n",
       "1  Congressional District 2 (116th Congress), Alabama    01   \n",
       "\n",
       "  congressional district  pctHasTech  pctNoTech  pctSmartphone  \\\n",
       "0                     01    0.899878   0.100122       0.832166   \n",
       "1                     02    0.892745   0.107255       0.826951   \n",
       "\n",
       "   pctNoSmartphone  \n",
       "0         0.167834  \n",
       "1         0.173049  "
      ]
     },
     "execution_count": 29,
     "metadata": {},
     "output_type": "execute_result"
    }
   ],
   "source": [
    "computerPcts.head(n=2)"
   ]
  },
  {
   "cell_type": "markdown",
   "metadata": {},
   "source": [
    "# Language spoken at home"
   ]
  },
  {
   "cell_type": "code",
   "execution_count": 30,
   "metadata": {},
   "outputs": [
    {
     "data": {
      "text/plain": [
       "('HouseholdLanguageByHouseholdLimitedEnglishSpeakingStatus',)"
      ]
     },
     "execution_count": 30,
     "metadata": {},
     "output_type": "execute_result"
    }
   ],
   "source": [
    " 'LanguageSpokenAtHomeForThePopulation5YearsAndOver',\n",
    " 'HouseholdLanguageByHouseholdLimitedEnglishSpeakingStatus',"
   ]
  },
  {
   "cell_type": "markdown",
   "metadata": {},
   "source": [
    "# Work commute"
   ]
  },
  {
   "cell_type": "code",
   "execution_count": 31,
   "metadata": {},
   "outputs": [
    {
     "data": {
      "application/vnd.jupyter.widget-view+json": {
       "model_id": "522d44112328404483ba3ac10b763180",
       "version_major": 2,
       "version_minor": 0
      },
      "text/plain": [
       "  0%|          | 0/1 [00:00<?, ?it/s]"
      ]
     },
     "metadata": {},
     "output_type": "display_data"
    },
    {
     "data": {
      "application/vnd.jupyter.widget-view+json": {
       "model_id": "ba79255310fe45239ba16873765c6d75",
       "version_major": 2,
       "version_minor": 0
      },
      "text/plain": [
       "|          | 0/? [00:00<?, ?it/s]"
      ]
     },
     "metadata": {},
     "output_type": "display_data"
    }
   ],
   "source": [
    "transportationVars = c.getVariablesByGroup(c.groups.MeansOfTransportationToWork.code)\n",
    "transportationStats = c.getStats(transportationVars['code'].tolist(), *geoDomains)"
   ]
  },
  {
   "cell_type": "code",
   "execution_count": 32,
   "metadata": {},
   "outputs": [
    {
     "data": {
      "text/plain": [
       "['Estimate_Total',\n",
       " 'Estimate_Total_CarTruckOrVan',\n",
       " 'Estimate_Total_CarTruckOrVan_DroveAlone',\n",
       " 'Estimate_Total_CarTruckOrVan_Carpooled',\n",
       " 'Estimate_Total_CarTruckOrVan_Carpooled_In2PersonCarpool',\n",
       " 'Estimate_Total_CarTruckOrVan_Carpooled_In3PersonCarpool',\n",
       " 'Estimate_Total_CarTruckOrVan_Carpooled_In4OrMorePersonCarpool',\n",
       " 'Estimate_Total_PublicTransportationExcludingTaxicab',\n",
       " 'Estimate_Total_Walked',\n",
       " 'Estimate_Total_TaxicabMotorcycleBicycleOrOtherMeans',\n",
       " 'Estimate_Total_WorkedFromHome']"
      ]
     },
     "execution_count": 32,
     "metadata": {},
     "output_type": "execute_result"
    }
   ],
   "source": [
    "[stat for stat in transportationStats.columns.tolist() if stat.startswith('Estimate')]"
   ]
  },
  {
   "cell_type": "markdown",
   "metadata": {},
   "source": [
    "# Commute time"
   ]
  },
  {
   "cell_type": "code",
   "execution_count": 33,
   "metadata": {},
   "outputs": [
    {
     "data": {
      "text/html": [
       "<div>\n",
       "<style scoped>\n",
       "    .dataframe tbody tr th:only-of-type {\n",
       "        vertical-align: middle;\n",
       "    }\n",
       "\n",
       "    .dataframe tbody tr th {\n",
       "        vertical-align: top;\n",
       "    }\n",
       "\n",
       "    .dataframe thead th {\n",
       "        text-align: right;\n",
       "    }\n",
       "</style>\n",
       "<table border=\"1\" class=\"dataframe\">\n",
       "  <thead>\n",
       "    <tr style=\"text-align: right;\">\n",
       "      <th></th>\n",
       "      <th>code</th>\n",
       "      <th>description</th>\n",
       "    </tr>\n",
       "  </thead>\n",
       "  <tbody>\n",
       "    <tr>\n",
       "      <th>0</th>\n",
       "      <td>B08012</td>\n",
       "      <td>SEX OF WORKERS BY TRAVEL TIME TO WORK</td>\n",
       "    </tr>\n",
       "    <tr>\n",
       "      <th>1</th>\n",
       "      <td>B08013</td>\n",
       "      <td>AGGREGATE TRAVEL TIME TO WORK (IN MINUTES) OF WORKERS BY SEX</td>\n",
       "    </tr>\n",
       "    <tr>\n",
       "      <th>2</th>\n",
       "      <td>B08131</td>\n",
       "      <td>AGGREGATE TRAVEL TIME TO WORK (IN MINUTES) OF WORKERS BY PLACE OF WORK--STATE AND COUNTY LEVEL</td>\n",
       "    </tr>\n",
       "    <tr>\n",
       "      <th>3</th>\n",
       "      <td>B08133</td>\n",
       "      <td>AGGREGATE TRAVEL TIME TO WORK (IN MINUTES) OF WORKERS BY TIME OF DEPARTURE TO GO TO WORK</td>\n",
       "    </tr>\n",
       "    <tr>\n",
       "      <th>4</th>\n",
       "      <td>B08134</td>\n",
       "      <td>MEANS OF TRANSPORTATION TO WORK BY TRAVEL TIME TO WORK</td>\n",
       "    </tr>\n",
       "    <tr>\n",
       "      <th>5</th>\n",
       "      <td>B08135</td>\n",
       "      <td>AGGREGATE TRAVEL TIME TO WORK (IN MINUTES) OF WORKERS BY TRAVEL TIME TO WORK</td>\n",
       "    </tr>\n",
       "    <tr>\n",
       "      <th>6</th>\n",
       "      <td>B08136</td>\n",
       "      <td>AGGREGATE TRAVEL TIME TO WORK (IN MINUTES) OF WORKERS BY MEANS OF TRANSPORTATION TO WORK</td>\n",
       "    </tr>\n",
       "    <tr>\n",
       "      <th>7</th>\n",
       "      <td>B08303</td>\n",
       "      <td>TRAVEL TIME TO WORK</td>\n",
       "    </tr>\n",
       "    <tr>\n",
       "      <th>8</th>\n",
       "      <td>B08412</td>\n",
       "      <td>SEX OF WORKERS BY TRAVEL TIME TO WORK FOR WORKPLACE GEOGRAPHY</td>\n",
       "    </tr>\n",
       "    <tr>\n",
       "      <th>9</th>\n",
       "      <td>B08534</td>\n",
       "      <td>MEANS OF TRANSPORTATION TO WORK BY TRAVEL TIME TO WORK FOR WORKPLACE GEOGRAPHY</td>\n",
       "    </tr>\n",
       "    <tr>\n",
       "      <th>10</th>\n",
       "      <td>B08536</td>\n",
       "      <td>AGGREGATE TRAVEL TIME TO WORK (IN MINUTES) OF WORKERS BY MEANS OF TRANSPORTATION TO WORK FOR WORKPLACE GEOGRAPHY</td>\n",
       "    </tr>\n",
       "    <tr>\n",
       "      <th>11</th>\n",
       "      <td>B08603</td>\n",
       "      <td>TRAVEL TIME TO WORK FOR WORKPLACE GEOGRAPHY</td>\n",
       "    </tr>\n",
       "    <tr>\n",
       "      <th>12</th>\n",
       "      <td>B99084</td>\n",
       "      <td>ALLOCATION OF TRAVEL TIME TO WORK</td>\n",
       "    </tr>\n",
       "    <tr>\n",
       "      <th>13</th>\n",
       "      <td>B99088</td>\n",
       "      <td>ALLOCATION OF TRAVEL TIME TO WORK FOR WORKPLACE GEOGRAPHY</td>\n",
       "    </tr>\n",
       "    <tr>\n",
       "      <th>14</th>\n",
       "      <td>C08134</td>\n",
       "      <td>MEANS OF TRANSPORTATION TO WORK BY TRAVEL TIME TO WORK</td>\n",
       "    </tr>\n",
       "    <tr>\n",
       "      <th>15</th>\n",
       "      <td>C08136</td>\n",
       "      <td>AGGREGATE TRAVEL TIME TO WORK (IN MINUTES) OF WORKERS BY MEANS OF TRANSPORTATION TO WORK</td>\n",
       "    </tr>\n",
       "    <tr>\n",
       "      <th>16</th>\n",
       "      <td>C08534</td>\n",
       "      <td>MEANS OF TRANSPORTATION TO WORK BY TRAVEL TIME TO WORK FOR WORKPLACE GEOGRAPHY</td>\n",
       "    </tr>\n",
       "    <tr>\n",
       "      <th>17</th>\n",
       "      <td>C08536</td>\n",
       "      <td>AGGREGATE TRAVEL TIME TO WORK (IN MINUTES) OF WORKERS BY MEANS OF TRANSPORTATION TO WORK FOR WORKPLACE GEOGRAPHY</td>\n",
       "    </tr>\n",
       "  </tbody>\n",
       "</table>\n",
       "</div>"
      ],
      "text/plain": [
       "      code  \\\n",
       "0   B08012   \n",
       "1   B08013   \n",
       "2   B08131   \n",
       "3   B08133   \n",
       "4   B08134   \n",
       "5   B08135   \n",
       "6   B08136   \n",
       "7   B08303   \n",
       "8   B08412   \n",
       "9   B08534   \n",
       "10  B08536   \n",
       "11  B08603   \n",
       "12  B99084   \n",
       "13  B99088   \n",
       "14  C08134   \n",
       "15  C08136   \n",
       "16  C08534   \n",
       "17  C08536   \n",
       "\n",
       "                                                                                                         description  \n",
       "0                                                                              SEX OF WORKERS BY TRAVEL TIME TO WORK  \n",
       "1                                                       AGGREGATE TRAVEL TIME TO WORK (IN MINUTES) OF WORKERS BY SEX  \n",
       "2                     AGGREGATE TRAVEL TIME TO WORK (IN MINUTES) OF WORKERS BY PLACE OF WORK--STATE AND COUNTY LEVEL  \n",
       "3                           AGGREGATE TRAVEL TIME TO WORK (IN MINUTES) OF WORKERS BY TIME OF DEPARTURE TO GO TO WORK  \n",
       "4                                                             MEANS OF TRANSPORTATION TO WORK BY TRAVEL TIME TO WORK  \n",
       "5                                       AGGREGATE TRAVEL TIME TO WORK (IN MINUTES) OF WORKERS BY TRAVEL TIME TO WORK  \n",
       "6                           AGGREGATE TRAVEL TIME TO WORK (IN MINUTES) OF WORKERS BY MEANS OF TRANSPORTATION TO WORK  \n",
       "7                                                                                                TRAVEL TIME TO WORK  \n",
       "8                                                      SEX OF WORKERS BY TRAVEL TIME TO WORK FOR WORKPLACE GEOGRAPHY  \n",
       "9                                     MEANS OF TRANSPORTATION TO WORK BY TRAVEL TIME TO WORK FOR WORKPLACE GEOGRAPHY  \n",
       "10  AGGREGATE TRAVEL TIME TO WORK (IN MINUTES) OF WORKERS BY MEANS OF TRANSPORTATION TO WORK FOR WORKPLACE GEOGRAPHY  \n",
       "11                                                                       TRAVEL TIME TO WORK FOR WORKPLACE GEOGRAPHY  \n",
       "12                                                                                 ALLOCATION OF TRAVEL TIME TO WORK  \n",
       "13                                                         ALLOCATION OF TRAVEL TIME TO WORK FOR WORKPLACE GEOGRAPHY  \n",
       "14                                                            MEANS OF TRANSPORTATION TO WORK BY TRAVEL TIME TO WORK  \n",
       "15                          AGGREGATE TRAVEL TIME TO WORK (IN MINUTES) OF WORKERS BY MEANS OF TRANSPORTATION TO WORK  \n",
       "16                                    MEANS OF TRANSPORTATION TO WORK BY TRAVEL TIME TO WORK FOR WORKPLACE GEOGRAPHY  \n",
       "17  AGGREGATE TRAVEL TIME TO WORK (IN MINUTES) OF WORKERS BY MEANS OF TRANSPORTATION TO WORK FOR WORKPLACE GEOGRAPHY  "
      ]
     },
     "execution_count": 33,
     "metadata": {},
     "output_type": "execute_result"
    }
   ],
   "source": [
    "c.searchGroups('travel')"
   ]
  },
  {
   "cell_type": "markdown",
   "metadata": {},
   "source": [
    "# Means of transportation by commute time"
   ]
  },
  {
   "cell_type": "code",
   "execution_count": 34,
   "metadata": {},
   "outputs": [
    {
     "data": {
      "application/vnd.jupyter.widget-view+json": {
       "model_id": "3bbcd2ddcdf1421087211797bdeb86f9",
       "version_major": 2,
       "version_minor": 0
      },
      "text/plain": [
       "  0%|          | 0/1 [00:00<?, ?it/s]"
      ]
     },
     "metadata": {},
     "output_type": "display_data"
    },
    {
     "data": {
      "application/vnd.jupyter.widget-view+json": {
       "model_id": "f6135f16a097464daa87d47b0517f2b2",
       "version_major": 2,
       "version_minor": 0
      },
      "text/plain": [
       "|          | 0/? [00:00<?, ?it/s]"
      ]
     },
     "metadata": {},
     "output_type": "display_data"
    }
   ],
   "source": [
    "transByCommuteTimeVars = c.getVariablesByGroup(c.groups.MeansOfTransportationToWorkByTravelTimeToWork.code)\n",
    "transByCommuteTimeStats = c.getStats(transByCommuteTimeVars['code'].tolist(), *geoDomains)"
   ]
  },
  {
   "cell_type": "code",
   "execution_count": 35,
   "metadata": {},
   "outputs": [],
   "source": [
    "cols = [col for col in transByCommuteTimeStats.columns.tolist() if col.startswith('Estimate')]\n",
    "transByCommuteTimeStats = transByCommuteTimeStats[['NAME', 'state', 'congressional district'] + cols]"
   ]
  },
  {
   "cell_type": "code",
   "execution_count": 36,
   "metadata": {},
   "outputs": [],
   "source": [
    "transByCommuteTimePcts = transByCommuteTimeStats.loc[:,['NAME', 'state', 'congressional district']]\n",
    "\n",
    "transByCommuteTimePcts['pctLt10'] = (transByCommuteTimeStats.Estimate_Total_LessThan10Minutes /\n",
    "                                    transByCommuteTimeStats.Estimate_Total)\n",
    "transByCommuteTimePcts['pct10to14'] = (transByCommuteTimeStats.Estimate_Total_10To14Minutes /\n",
    "                                    transByCommuteTimeStats.Estimate_Total)\n",
    "transByCommuteTimePcts['pct15to19'] = (transByCommuteTimeStats.Estimate_Total_15To19Minutes /\n",
    "                                    transByCommuteTimeStats.Estimate_Total)\n",
    "transByCommuteTimePcts['pct20to24'] = (transByCommuteTimeStats.Estimate_Total_20To24Minutes /\n",
    "                                    transByCommuteTimeStats.Estimate_Total)\n",
    "transByCommuteTimePcts['pct25to29'] = (transByCommuteTimeStats.Estimate_Total_25To29Minutes /\n",
    "                                    transByCommuteTimeStats.Estimate_Total)\n",
    "transByCommuteTimePcts['pct30to34'] = (transByCommuteTimeStats.Estimate_Total_30To34Minutes /\n",
    "                                    transByCommuteTimeStats.Estimate_Total)\n",
    "transByCommuteTimePcts['pct35to44'] = (transByCommuteTimeStats.Estimate_Total_35To44Minutes /\n",
    "                                    transByCommuteTimeStats.Estimate_Total)\n",
    "transByCommuteTimePcts['pct44to59'] = (transByCommuteTimeStats.Estimate_Total_45To59Minutes /\n",
    "                                    transByCommuteTimeStats.Estimate_Total)\n",
    "transByCommuteTimePcts['pct60plus'] = (transByCommuteTimeStats.Estimate_Total_60OrMoreMinutes /\n",
    "                                    transByCommuteTimeStats.Estimate_Total)"
   ]
  },
  {
   "cell_type": "code",
   "execution_count": 37,
   "metadata": {},
   "outputs": [
    {
     "data": {
      "text/html": [
       "<div>\n",
       "<style scoped>\n",
       "    .dataframe tbody tr th:only-of-type {\n",
       "        vertical-align: middle;\n",
       "    }\n",
       "\n",
       "    .dataframe tbody tr th {\n",
       "        vertical-align: top;\n",
       "    }\n",
       "\n",
       "    .dataframe thead th {\n",
       "        text-align: right;\n",
       "    }\n",
       "</style>\n",
       "<table border=\"1\" class=\"dataframe\">\n",
       "  <thead>\n",
       "    <tr style=\"text-align: right;\">\n",
       "      <th></th>\n",
       "      <th>pctLt10</th>\n",
       "      <th>pct10to14</th>\n",
       "      <th>pct15to19</th>\n",
       "      <th>pct20to24</th>\n",
       "      <th>pct25to29</th>\n",
       "      <th>pct30to34</th>\n",
       "      <th>pct35to44</th>\n",
       "      <th>pct44to59</th>\n",
       "      <th>pct60plus</th>\n",
       "    </tr>\n",
       "  </thead>\n",
       "  <tbody>\n",
       "    <tr>\n",
       "      <th>count</th>\n",
       "      <td>437.000000</td>\n",
       "      <td>437.000000</td>\n",
       "      <td>437.000000</td>\n",
       "      <td>437.000000</td>\n",
       "      <td>437.000000</td>\n",
       "      <td>437.000000</td>\n",
       "      <td>437.000000</td>\n",
       "      <td>437.000000</td>\n",
       "      <td>437.000000</td>\n",
       "    </tr>\n",
       "    <tr>\n",
       "      <th>mean</th>\n",
       "      <td>0.121342</td>\n",
       "      <td>0.130172</td>\n",
       "      <td>0.149963</td>\n",
       "      <td>0.140375</td>\n",
       "      <td>0.065557</td>\n",
       "      <td>0.137498</td>\n",
       "      <td>0.072203</td>\n",
       "      <td>0.084572</td>\n",
       "      <td>0.098318</td>\n",
       "    </tr>\n",
       "    <tr>\n",
       "      <th>std</th>\n",
       "      <td>0.055188</td>\n",
       "      <td>0.034026</td>\n",
       "      <td>0.030290</td>\n",
       "      <td>0.026597</td>\n",
       "      <td>0.016654</td>\n",
       "      <td>0.031528</td>\n",
       "      <td>0.021628</td>\n",
       "      <td>0.032521</td>\n",
       "      <td>0.057980</td>\n",
       "    </tr>\n",
       "    <tr>\n",
       "      <th>min</th>\n",
       "      <td>0.020903</td>\n",
       "      <td>0.036667</td>\n",
       "      <td>0.035380</td>\n",
       "      <td>0.061593</td>\n",
       "      <td>0.023220</td>\n",
       "      <td>0.056777</td>\n",
       "      <td>0.019706</td>\n",
       "      <td>0.025861</td>\n",
       "      <td>0.024628</td>\n",
       "    </tr>\n",
       "    <tr>\n",
       "      <th>25%</th>\n",
       "      <td>0.079812</td>\n",
       "      <td>0.108312</td>\n",
       "      <td>0.131845</td>\n",
       "      <td>0.122912</td>\n",
       "      <td>0.055837</td>\n",
       "      <td>0.116477</td>\n",
       "      <td>0.056266</td>\n",
       "      <td>0.060898</td>\n",
       "      <td>0.058075</td>\n",
       "    </tr>\n",
       "    <tr>\n",
       "      <th>50%</th>\n",
       "      <td>0.113645</td>\n",
       "      <td>0.130965</td>\n",
       "      <td>0.150303</td>\n",
       "      <td>0.139941</td>\n",
       "      <td>0.065057</td>\n",
       "      <td>0.133991</td>\n",
       "      <td>0.070505</td>\n",
       "      <td>0.080233</td>\n",
       "      <td>0.081621</td>\n",
       "    </tr>\n",
       "    <tr>\n",
       "      <th>75%</th>\n",
       "      <td>0.148323</td>\n",
       "      <td>0.152541</td>\n",
       "      <td>0.169617</td>\n",
       "      <td>0.154432</td>\n",
       "      <td>0.074629</td>\n",
       "      <td>0.156770</td>\n",
       "      <td>0.086230</td>\n",
       "      <td>0.104302</td>\n",
       "      <td>0.122141</td>\n",
       "    </tr>\n",
       "    <tr>\n",
       "      <th>max</th>\n",
       "      <td>0.377546</td>\n",
       "      <td>0.224908</td>\n",
       "      <td>0.246341</td>\n",
       "      <td>0.220081</td>\n",
       "      <td>0.224424</td>\n",
       "      <td>0.251859</td>\n",
       "      <td>0.147998</td>\n",
       "      <td>0.216932</td>\n",
       "      <td>0.384638</td>\n",
       "    </tr>\n",
       "  </tbody>\n",
       "</table>\n",
       "</div>"
      ],
      "text/plain": [
       "          pctLt10   pct10to14   pct15to19   pct20to24   pct25to29   pct30to34  \\\n",
       "count  437.000000  437.000000  437.000000  437.000000  437.000000  437.000000   \n",
       "mean     0.121342    0.130172    0.149963    0.140375    0.065557    0.137498   \n",
       "std      0.055188    0.034026    0.030290    0.026597    0.016654    0.031528   \n",
       "min      0.020903    0.036667    0.035380    0.061593    0.023220    0.056777   \n",
       "25%      0.079812    0.108312    0.131845    0.122912    0.055837    0.116477   \n",
       "50%      0.113645    0.130965    0.150303    0.139941    0.065057    0.133991   \n",
       "75%      0.148323    0.152541    0.169617    0.154432    0.074629    0.156770   \n",
       "max      0.377546    0.224908    0.246341    0.220081    0.224424    0.251859   \n",
       "\n",
       "        pct35to44   pct44to59   pct60plus  \n",
       "count  437.000000  437.000000  437.000000  \n",
       "mean     0.072203    0.084572    0.098318  \n",
       "std      0.021628    0.032521    0.057980  \n",
       "min      0.019706    0.025861    0.024628  \n",
       "25%      0.056266    0.060898    0.058075  \n",
       "50%      0.070505    0.080233    0.081621  \n",
       "75%      0.086230    0.104302    0.122141  \n",
       "max      0.147998    0.216932    0.384638  "
      ]
     },
     "execution_count": 37,
     "metadata": {},
     "output_type": "execute_result"
    }
   ],
   "source": [
    "transByCommuteTimePcts.describe()"
   ]
  },
  {
   "cell_type": "markdown",
   "metadata": {},
   "source": [
    "# Agg Traveltime"
   ]
  },
  {
   "cell_type": "code",
   "execution_count": 38,
   "metadata": {},
   "outputs": [
    {
     "data": {
      "application/vnd.jupyter.widget-view+json": {
       "model_id": "f1cb62e6924c4c7d94c63a2154b8493f",
       "version_major": 2,
       "version_minor": 0
      },
      "text/plain": [
       "  0%|          | 0/1 [00:00<?, ?it/s]"
      ]
     },
     "metadata": {},
     "output_type": "display_data"
    },
    {
     "data": {
      "application/vnd.jupyter.widget-view+json": {
       "model_id": "1482665d1e334d80b0cd481527ab45b9",
       "version_major": 2,
       "version_minor": 0
      },
      "text/plain": [
       "|          | 0/? [00:00<?, ?it/s]"
      ]
     },
     "metadata": {},
     "output_type": "display_data"
    }
   ],
   "source": [
    "aggTravTimeVars = c.getVariablesByGroup(c.groups.AggregateTravelTimeToWorkInMinutesOfWorkersByTravelTimeToWork.code)\n",
    "aggTravTimeStats = c.getStats(aggTravTimeVars['code'].tolist(), *geoDomains)"
   ]
  },
  {
   "cell_type": "code",
   "execution_count": 39,
   "metadata": {},
   "outputs": [],
   "source": [
    "avgTravelTime = aggTravTimeStats.loc[:,['NAME', 'state', 'congressional district']]\n",
    "avgTravelTime['avgTravelTime'] = (aggTravTimeStats.Estimate_AggregateTravelTimeToWorkInMinutes /\n",
    "                                 populationData.Estimate_Total)"
   ]
  },
  {
   "cell_type": "code",
   "execution_count": 40,
   "metadata": {},
   "outputs": [
    {
     "data": {
      "text/html": [
       "<div>\n",
       "<style scoped>\n",
       "    .dataframe tbody tr th:only-of-type {\n",
       "        vertical-align: middle;\n",
       "    }\n",
       "\n",
       "    .dataframe tbody tr th {\n",
       "        vertical-align: top;\n",
       "    }\n",
       "\n",
       "    .dataframe thead th {\n",
       "        text-align: right;\n",
       "    }\n",
       "</style>\n",
       "<table border=\"1\" class=\"dataframe\">\n",
       "  <thead>\n",
       "    <tr style=\"text-align: right;\">\n",
       "      <th></th>\n",
       "      <th>avgTravelTime</th>\n",
       "    </tr>\n",
       "  </thead>\n",
       "  <tbody>\n",
       "    <tr>\n",
       "      <th>count</th>\n",
       "      <td>437.000000</td>\n",
       "    </tr>\n",
       "    <tr>\n",
       "      <th>mean</th>\n",
       "      <td>12.401007</td>\n",
       "    </tr>\n",
       "    <tr>\n",
       "      <th>std</th>\n",
       "      <td>2.651061</td>\n",
       "    </tr>\n",
       "    <tr>\n",
       "      <th>min</th>\n",
       "      <td>7.789928</td>\n",
       "    </tr>\n",
       "    <tr>\n",
       "      <th>25%</th>\n",
       "      <td>10.325869</td>\n",
       "    </tr>\n",
       "    <tr>\n",
       "      <th>50%</th>\n",
       "      <td>11.974308</td>\n",
       "    </tr>\n",
       "    <tr>\n",
       "      <th>75%</th>\n",
       "      <td>14.145483</td>\n",
       "    </tr>\n",
       "    <tr>\n",
       "      <th>max</th>\n",
       "      <td>21.859793</td>\n",
       "    </tr>\n",
       "  </tbody>\n",
       "</table>\n",
       "</div>"
      ],
      "text/plain": [
       "       avgTravelTime\n",
       "count     437.000000\n",
       "mean       12.401007\n",
       "std         2.651061\n",
       "min         7.789928\n",
       "25%        10.325869\n",
       "50%        11.974308\n",
       "75%        14.145483\n",
       "max        21.859793"
      ]
     },
     "execution_count": 40,
     "metadata": {},
     "output_type": "execute_result"
    }
   ],
   "source": [
    "avgTravelTime.describe()"
   ]
  },
  {
   "cell_type": "markdown",
   "metadata": {},
   "source": [
    "# Time of departure to work"
   ]
  },
  {
   "cell_type": "code",
   "execution_count": 41,
   "metadata": {},
   "outputs": [
    {
     "data": {
      "application/vnd.jupyter.widget-view+json": {
       "model_id": "4984a1e0ca084b9b8d122d487221cc7a",
       "version_major": 2,
       "version_minor": 0
      },
      "text/plain": [
       "  0%|          | 0/1 [00:00<?, ?it/s]"
      ]
     },
     "metadata": {},
     "output_type": "display_data"
    },
    {
     "data": {
      "application/vnd.jupyter.widget-view+json": {
       "model_id": "e7c27bee240f4513960a09aef0985604",
       "version_major": 2,
       "version_minor": 0
      },
      "text/plain": [
       "|          | 0/? [00:00<?, ?it/s]"
      ]
     },
     "metadata": {},
     "output_type": "display_data"
    }
   ],
   "source": [
    "depTimeVars = c.getVariablesByGroup(c.groups.TimeOfDepartureToGoToWork.code)\n",
    "filteredVars = [rec['code'] for rec in depTimeVars.to_dict('records') if rec['name'].startswith('Estimate')]\n",
    "depTimeStats = c.getStats(filteredVars, *geoDomains)"
   ]
  },
  {
   "cell_type": "code",
   "execution_count": 42,
   "metadata": {},
   "outputs": [
    {
     "data": {
      "text/html": [
       "<div>\n",
       "<style scoped>\n",
       "    .dataframe tbody tr th:only-of-type {\n",
       "        vertical-align: middle;\n",
       "    }\n",
       "\n",
       "    .dataframe tbody tr th {\n",
       "        vertical-align: top;\n",
       "    }\n",
       "\n",
       "    .dataframe thead th {\n",
       "        text-align: right;\n",
       "    }\n",
       "</style>\n",
       "<table border=\"1\" class=\"dataframe\">\n",
       "  <thead>\n",
       "    <tr style=\"text-align: right;\">\n",
       "      <th></th>\n",
       "      <th>NAME</th>\n",
       "      <th>state</th>\n",
       "      <th>congressional district</th>\n",
       "      <th>Estimate_Total</th>\n",
       "      <th>Estimate_Total_1200AMTo459AM</th>\n",
       "      <th>Estimate_Total_500AMTo529AM</th>\n",
       "      <th>Estimate_Total_530AMTo559AM</th>\n",
       "      <th>Estimate_Total_600AMTo629AM</th>\n",
       "      <th>Estimate_Total_630AMTo659AM</th>\n",
       "      <th>Estimate_Total_700AMTo729AM</th>\n",
       "      <th>Estimate_Total_730AMTo759AM</th>\n",
       "      <th>Estimate_Total_800AMTo829AM</th>\n",
       "      <th>Estimate_Total_830AMTo859AM</th>\n",
       "      <th>Estimate_Total_900AMTo959AM</th>\n",
       "      <th>Estimate_Total_1000AMTo1059AM</th>\n",
       "      <th>Estimate_Total_1100AMTo1159AM</th>\n",
       "      <th>Estimate_Total_1200PMTo359PM</th>\n",
       "      <th>Estimate_Total_400PMTo1159PM</th>\n",
       "    </tr>\n",
       "  </thead>\n",
       "  <tbody>\n",
       "    <tr>\n",
       "      <th>0</th>\n",
       "      <td>Congressional District 1 (116th Congress), Alabama</td>\n",
       "      <td>01</td>\n",
       "      <td>01</td>\n",
       "      <td>289834.0</td>\n",
       "      <td>19948.0</td>\n",
       "      <td>17340.0</td>\n",
       "      <td>16942.0</td>\n",
       "      <td>33089.0</td>\n",
       "      <td>39346.0</td>\n",
       "      <td>46086.0</td>\n",
       "      <td>30700.0</td>\n",
       "      <td>29126.0</td>\n",
       "      <td>10014.0</td>\n",
       "      <td>10926.0</td>\n",
       "      <td>5357.0</td>\n",
       "      <td>1734.0</td>\n",
       "      <td>14431.0</td>\n",
       "      <td>14795.0</td>\n",
       "    </tr>\n",
       "    <tr>\n",
       "      <th>1</th>\n",
       "      <td>Congressional District 2 (116th Congress), Alabama</td>\n",
       "      <td>01</td>\n",
       "      <td>02</td>\n",
       "      <td>278361.0</td>\n",
       "      <td>19195.0</td>\n",
       "      <td>12600.0</td>\n",
       "      <td>15820.0</td>\n",
       "      <td>25110.0</td>\n",
       "      <td>33375.0</td>\n",
       "      <td>47271.0</td>\n",
       "      <td>35988.0</td>\n",
       "      <td>18799.0</td>\n",
       "      <td>9934.0</td>\n",
       "      <td>12530.0</td>\n",
       "      <td>6013.0</td>\n",
       "      <td>2523.0</td>\n",
       "      <td>17367.0</td>\n",
       "      <td>21836.0</td>\n",
       "    </tr>\n",
       "    <tr>\n",
       "      <th>2</th>\n",
       "      <td>Congressional District 3 (116th Congress), Alabama</td>\n",
       "      <td>01</td>\n",
       "      <td>03</td>\n",
       "      <td>302519.0</td>\n",
       "      <td>21752.0</td>\n",
       "      <td>17167.0</td>\n",
       "      <td>17248.0</td>\n",
       "      <td>31476.0</td>\n",
       "      <td>35674.0</td>\n",
       "      <td>48185.0</td>\n",
       "      <td>36391.0</td>\n",
       "      <td>27035.0</td>\n",
       "      <td>6764.0</td>\n",
       "      <td>13610.0</td>\n",
       "      <td>6821.0</td>\n",
       "      <td>3614.0</td>\n",
       "      <td>16728.0</td>\n",
       "      <td>20054.0</td>\n",
       "    </tr>\n",
       "    <tr>\n",
       "      <th>3</th>\n",
       "      <td>Congressional District 4 (116th Congress), Alabama</td>\n",
       "      <td>01</td>\n",
       "      <td>04</td>\n",
       "      <td>283047.0</td>\n",
       "      <td>22197.0</td>\n",
       "      <td>15481.0</td>\n",
       "      <td>21391.0</td>\n",
       "      <td>32074.0</td>\n",
       "      <td>34498.0</td>\n",
       "      <td>43436.0</td>\n",
       "      <td>28541.0</td>\n",
       "      <td>21792.0</td>\n",
       "      <td>6915.0</td>\n",
       "      <td>9381.0</td>\n",
       "      <td>5450.0</td>\n",
       "      <td>2083.0</td>\n",
       "      <td>21650.0</td>\n",
       "      <td>18158.0</td>\n",
       "    </tr>\n",
       "    <tr>\n",
       "      <th>4</th>\n",
       "      <td>Congressional District 5 (116th Congress), Alabama</td>\n",
       "      <td>01</td>\n",
       "      <td>05</td>\n",
       "      <td>325914.0</td>\n",
       "      <td>17554.0</td>\n",
       "      <td>17370.0</td>\n",
       "      <td>19756.0</td>\n",
       "      <td>34071.0</td>\n",
       "      <td>34644.0</td>\n",
       "      <td>57659.0</td>\n",
       "      <td>39132.0</td>\n",
       "      <td>25566.0</td>\n",
       "      <td>13477.0</td>\n",
       "      <td>14035.0</td>\n",
       "      <td>6790.0</td>\n",
       "      <td>3110.0</td>\n",
       "      <td>23542.0</td>\n",
       "      <td>19208.0</td>\n",
       "    </tr>\n",
       "    <tr>\n",
       "      <th>...</th>\n",
       "      <td>...</td>\n",
       "      <td>...</td>\n",
       "      <td>...</td>\n",
       "      <td>...</td>\n",
       "      <td>...</td>\n",
       "      <td>...</td>\n",
       "      <td>...</td>\n",
       "      <td>...</td>\n",
       "      <td>...</td>\n",
       "      <td>...</td>\n",
       "      <td>...</td>\n",
       "      <td>...</td>\n",
       "      <td>...</td>\n",
       "      <td>...</td>\n",
       "      <td>...</td>\n",
       "      <td>...</td>\n",
       "      <td>...</td>\n",
       "      <td>...</td>\n",
       "    </tr>\n",
       "    <tr>\n",
       "      <th>432</th>\n",
       "      <td>Congressional District 6 (116th Congress), Wisconsin</td>\n",
       "      <td>55</td>\n",
       "      <td>06</td>\n",
       "      <td>346742.0</td>\n",
       "      <td>25751.0</td>\n",
       "      <td>18583.0</td>\n",
       "      <td>26223.0</td>\n",
       "      <td>30585.0</td>\n",
       "      <td>38488.0</td>\n",
       "      <td>49968.0</td>\n",
       "      <td>41454.0</td>\n",
       "      <td>26719.0</td>\n",
       "      <td>12497.0</td>\n",
       "      <td>11344.0</td>\n",
       "      <td>5552.0</td>\n",
       "      <td>5054.0</td>\n",
       "      <td>31326.0</td>\n",
       "      <td>23198.0</td>\n",
       "    </tr>\n",
       "    <tr>\n",
       "      <th>433</th>\n",
       "      <td>Congressional District 7 (116th Congress), Wisconsin</td>\n",
       "      <td>55</td>\n",
       "      <td>07</td>\n",
       "      <td>328293.0</td>\n",
       "      <td>24376.0</td>\n",
       "      <td>18297.0</td>\n",
       "      <td>23478.0</td>\n",
       "      <td>31327.0</td>\n",
       "      <td>40552.0</td>\n",
       "      <td>48256.0</td>\n",
       "      <td>40639.0</td>\n",
       "      <td>23250.0</td>\n",
       "      <td>10898.0</td>\n",
       "      <td>13669.0</td>\n",
       "      <td>5943.0</td>\n",
       "      <td>3587.0</td>\n",
       "      <td>24349.0</td>\n",
       "      <td>19672.0</td>\n",
       "    </tr>\n",
       "    <tr>\n",
       "      <th>434</th>\n",
       "      <td>Congressional District 8 (116th Congress), Wisconsin</td>\n",
       "      <td>55</td>\n",
       "      <td>08</td>\n",
       "      <td>362084.0</td>\n",
       "      <td>26739.0</td>\n",
       "      <td>20866.0</td>\n",
       "      <td>27208.0</td>\n",
       "      <td>33390.0</td>\n",
       "      <td>40594.0</td>\n",
       "      <td>57992.0</td>\n",
       "      <td>43755.0</td>\n",
       "      <td>25338.0</td>\n",
       "      <td>11613.0</td>\n",
       "      <td>14931.0</td>\n",
       "      <td>8020.0</td>\n",
       "      <td>3909.0</td>\n",
       "      <td>27741.0</td>\n",
       "      <td>19988.0</td>\n",
       "    </tr>\n",
       "    <tr>\n",
       "      <th>435</th>\n",
       "      <td>Congressional District (at Large) (116th Congress), Wyoming</td>\n",
       "      <td>56</td>\n",
       "      <td>00</td>\n",
       "      <td>263524.0</td>\n",
       "      <td>15903.0</td>\n",
       "      <td>11917.0</td>\n",
       "      <td>20018.0</td>\n",
       "      <td>20258.0</td>\n",
       "      <td>27370.0</td>\n",
       "      <td>40236.0</td>\n",
       "      <td>44573.0</td>\n",
       "      <td>20177.0</td>\n",
       "      <td>9141.0</td>\n",
       "      <td>16613.0</td>\n",
       "      <td>5718.0</td>\n",
       "      <td>3698.0</td>\n",
       "      <td>13012.0</td>\n",
       "      <td>14890.0</td>\n",
       "    </tr>\n",
       "    <tr>\n",
       "      <th>436</th>\n",
       "      <td>Resident Commissioner District (at Large) (116th Congress), Puerto Rico</td>\n",
       "      <td>72</td>\n",
       "      <td>98</td>\n",
       "      <td>997979.0</td>\n",
       "      <td>59643.0</td>\n",
       "      <td>51707.0</td>\n",
       "      <td>57832.0</td>\n",
       "      <td>123704.0</td>\n",
       "      <td>107168.0</td>\n",
       "      <td>187220.0</td>\n",
       "      <td>95931.0</td>\n",
       "      <td>90608.0</td>\n",
       "      <td>29621.0</td>\n",
       "      <td>51481.0</td>\n",
       "      <td>21746.0</td>\n",
       "      <td>17093.0</td>\n",
       "      <td>55661.0</td>\n",
       "      <td>48564.0</td>\n",
       "    </tr>\n",
       "  </tbody>\n",
       "</table>\n",
       "<p>437 rows × 18 columns</p>\n",
       "</div>"
      ],
      "text/plain": [
       "                                                                        NAME  \\\n",
       "0                         Congressional District 1 (116th Congress), Alabama   \n",
       "1                         Congressional District 2 (116th Congress), Alabama   \n",
       "2                         Congressional District 3 (116th Congress), Alabama   \n",
       "3                         Congressional District 4 (116th Congress), Alabama   \n",
       "4                         Congressional District 5 (116th Congress), Alabama   \n",
       "..                                                                       ...   \n",
       "432                     Congressional District 6 (116th Congress), Wisconsin   \n",
       "433                     Congressional District 7 (116th Congress), Wisconsin   \n",
       "434                     Congressional District 8 (116th Congress), Wisconsin   \n",
       "435              Congressional District (at Large) (116th Congress), Wyoming   \n",
       "436  Resident Commissioner District (at Large) (116th Congress), Puerto Rico   \n",
       "\n",
       "    state congressional district  Estimate_Total  \\\n",
       "0      01                     01        289834.0   \n",
       "1      01                     02        278361.0   \n",
       "2      01                     03        302519.0   \n",
       "3      01                     04        283047.0   \n",
       "4      01                     05        325914.0   \n",
       "..    ...                    ...             ...   \n",
       "432    55                     06        346742.0   \n",
       "433    55                     07        328293.0   \n",
       "434    55                     08        362084.0   \n",
       "435    56                     00        263524.0   \n",
       "436    72                     98        997979.0   \n",
       "\n",
       "     Estimate_Total_1200AMTo459AM  Estimate_Total_500AMTo529AM  \\\n",
       "0                         19948.0                      17340.0   \n",
       "1                         19195.0                      12600.0   \n",
       "2                         21752.0                      17167.0   \n",
       "3                         22197.0                      15481.0   \n",
       "4                         17554.0                      17370.0   \n",
       "..                            ...                          ...   \n",
       "432                       25751.0                      18583.0   \n",
       "433                       24376.0                      18297.0   \n",
       "434                       26739.0                      20866.0   \n",
       "435                       15903.0                      11917.0   \n",
       "436                       59643.0                      51707.0   \n",
       "\n",
       "     Estimate_Total_530AMTo559AM  Estimate_Total_600AMTo629AM  \\\n",
       "0                        16942.0                      33089.0   \n",
       "1                        15820.0                      25110.0   \n",
       "2                        17248.0                      31476.0   \n",
       "3                        21391.0                      32074.0   \n",
       "4                        19756.0                      34071.0   \n",
       "..                           ...                          ...   \n",
       "432                      26223.0                      30585.0   \n",
       "433                      23478.0                      31327.0   \n",
       "434                      27208.0                      33390.0   \n",
       "435                      20018.0                      20258.0   \n",
       "436                      57832.0                     123704.0   \n",
       "\n",
       "     Estimate_Total_630AMTo659AM  Estimate_Total_700AMTo729AM  \\\n",
       "0                        39346.0                      46086.0   \n",
       "1                        33375.0                      47271.0   \n",
       "2                        35674.0                      48185.0   \n",
       "3                        34498.0                      43436.0   \n",
       "4                        34644.0                      57659.0   \n",
       "..                           ...                          ...   \n",
       "432                      38488.0                      49968.0   \n",
       "433                      40552.0                      48256.0   \n",
       "434                      40594.0                      57992.0   \n",
       "435                      27370.0                      40236.0   \n",
       "436                     107168.0                     187220.0   \n",
       "\n",
       "     Estimate_Total_730AMTo759AM  Estimate_Total_800AMTo829AM  \\\n",
       "0                        30700.0                      29126.0   \n",
       "1                        35988.0                      18799.0   \n",
       "2                        36391.0                      27035.0   \n",
       "3                        28541.0                      21792.0   \n",
       "4                        39132.0                      25566.0   \n",
       "..                           ...                          ...   \n",
       "432                      41454.0                      26719.0   \n",
       "433                      40639.0                      23250.0   \n",
       "434                      43755.0                      25338.0   \n",
       "435                      44573.0                      20177.0   \n",
       "436                      95931.0                      90608.0   \n",
       "\n",
       "     Estimate_Total_830AMTo859AM  Estimate_Total_900AMTo959AM  \\\n",
       "0                        10014.0                      10926.0   \n",
       "1                         9934.0                      12530.0   \n",
       "2                         6764.0                      13610.0   \n",
       "3                         6915.0                       9381.0   \n",
       "4                        13477.0                      14035.0   \n",
       "..                           ...                          ...   \n",
       "432                      12497.0                      11344.0   \n",
       "433                      10898.0                      13669.0   \n",
       "434                      11613.0                      14931.0   \n",
       "435                       9141.0                      16613.0   \n",
       "436                      29621.0                      51481.0   \n",
       "\n",
       "     Estimate_Total_1000AMTo1059AM  Estimate_Total_1100AMTo1159AM  \\\n",
       "0                           5357.0                         1734.0   \n",
       "1                           6013.0                         2523.0   \n",
       "2                           6821.0                         3614.0   \n",
       "3                           5450.0                         2083.0   \n",
       "4                           6790.0                         3110.0   \n",
       "..                             ...                            ...   \n",
       "432                         5552.0                         5054.0   \n",
       "433                         5943.0                         3587.0   \n",
       "434                         8020.0                         3909.0   \n",
       "435                         5718.0                         3698.0   \n",
       "436                        21746.0                        17093.0   \n",
       "\n",
       "     Estimate_Total_1200PMTo359PM  Estimate_Total_400PMTo1159PM  \n",
       "0                         14431.0                       14795.0  \n",
       "1                         17367.0                       21836.0  \n",
       "2                         16728.0                       20054.0  \n",
       "3                         21650.0                       18158.0  \n",
       "4                         23542.0                       19208.0  \n",
       "..                            ...                           ...  \n",
       "432                       31326.0                       23198.0  \n",
       "433                       24349.0                       19672.0  \n",
       "434                       27741.0                       19988.0  \n",
       "435                       13012.0                       14890.0  \n",
       "436                       55661.0                       48564.0  \n",
       "\n",
       "[437 rows x 18 columns]"
      ]
     },
     "execution_count": 42,
     "metadata": {},
     "output_type": "execute_result"
    }
   ],
   "source": [
    "depTimeStats"
   ]
  },
  {
   "cell_type": "code",
   "execution_count": 43,
   "metadata": {},
   "outputs": [],
   "source": [
    "mgd = pd.merge(left=educPcts, right=emplPcts, on=['state', 'congressional district', 'NAME'])\n",
    "mgd = pd.merge(left=mgd, right=computerPcts, on=['state', 'congressional district', 'NAME'])\n",
    "mgd = pd.merge(left=mgd, right=giniData, on=['state', 'congressional district', 'NAME'])\n",
    "mgd = pd.merge(left=mgd, right=avgIncome, on=['state', 'congressional district', 'NAME'])"
   ]
  },
  {
   "cell_type": "code",
   "execution_count": 44,
   "metadata": {},
   "outputs": [
    {
     "data": {
      "text/html": [
       "<div>\n",
       "<style scoped>\n",
       "    .dataframe tbody tr th:only-of-type {\n",
       "        vertical-align: middle;\n",
       "    }\n",
       "\n",
       "    .dataframe tbody tr th {\n",
       "        vertical-align: top;\n",
       "    }\n",
       "\n",
       "    .dataframe thead th {\n",
       "        text-align: right;\n",
       "    }\n",
       "</style>\n",
       "<table border=\"1\" class=\"dataframe\">\n",
       "  <thead>\n",
       "    <tr style=\"text-align: right;\">\n",
       "      <th></th>\n",
       "      <th>pctNoHs</th>\n",
       "      <th>pctHs</th>\n",
       "      <th>pctBach</th>\n",
       "      <th>pctSomeCollege1YrNoDegree</th>\n",
       "      <th>pctSomeCollegeManyYrsNoDegree</th>\n",
       "      <th>pctGradPlus</th>\n",
       "      <th>pctInLaborForce</th>\n",
       "      <th>pctEmployed</th>\n",
       "      <th>pctUnemployed</th>\n",
       "      <th>pctHasTech</th>\n",
       "      <th>pctNoTech</th>\n",
       "      <th>pctSmartphone</th>\n",
       "      <th>pctNoSmartphone</th>\n",
       "      <th>Estimate_GiniIndex</th>\n",
       "      <th>MarginOfError_GiniIndex</th>\n",
       "      <th>avgIncome</th>\n",
       "    </tr>\n",
       "  </thead>\n",
       "  <tbody>\n",
       "    <tr>\n",
       "      <th>pctNoHs</th>\n",
       "      <td>1.000000</td>\n",
       "      <td>0.178613</td>\n",
       "      <td>-0.559658</td>\n",
       "      <td>-0.198253</td>\n",
       "      <td>0.105307</td>\n",
       "      <td>-0.531119</td>\n",
       "      <td>-0.245193</td>\n",
       "      <td>-0.502975</td>\n",
       "      <td>0.502975</td>\n",
       "      <td>-0.345541</td>\n",
       "      <td>0.345541</td>\n",
       "      <td>-0.079459</td>\n",
       "      <td>0.079459</td>\n",
       "      <td>0.091300</td>\n",
       "      <td>0.291348</td>\n",
       "      <td>-0.525402</td>\n",
       "    </tr>\n",
       "    <tr>\n",
       "      <th>pctHs</th>\n",
       "      <td>0.178613</td>\n",
       "      <td>1.000000</td>\n",
       "      <td>-0.820182</td>\n",
       "      <td>0.419146</td>\n",
       "      <td>0.099233</td>\n",
       "      <td>-0.725833</td>\n",
       "      <td>-0.576897</td>\n",
       "      <td>-0.217133</td>\n",
       "      <td>0.217133</td>\n",
       "      <td>-0.709414</td>\n",
       "      <td>0.709414</td>\n",
       "      <td>-0.767809</td>\n",
       "      <td>0.767809</td>\n",
       "      <td>-0.190939</td>\n",
       "      <td>0.153568</td>\n",
       "      <td>-0.714676</td>\n",
       "    </tr>\n",
       "    <tr>\n",
       "      <th>pctBach</th>\n",
       "      <td>-0.559658</td>\n",
       "      <td>-0.820182</td>\n",
       "      <td>1.000000</td>\n",
       "      <td>-0.456921</td>\n",
       "      <td>-0.388264</td>\n",
       "      <td>0.845960</td>\n",
       "      <td>0.677671</td>\n",
       "      <td>0.471912</td>\n",
       "      <td>-0.471912</td>\n",
       "      <td>0.665961</td>\n",
       "      <td>-0.665961</td>\n",
       "      <td>0.620782</td>\n",
       "      <td>-0.620782</td>\n",
       "      <td>0.176874</td>\n",
       "      <td>-0.263496</td>\n",
       "      <td>0.860153</td>\n",
       "    </tr>\n",
       "    <tr>\n",
       "      <th>pctSomeCollege1YrNoDegree</th>\n",
       "      <td>-0.198253</td>\n",
       "      <td>0.419146</td>\n",
       "      <td>-0.456921</td>\n",
       "      <td>1.000000</td>\n",
       "      <td>0.607048</td>\n",
       "      <td>-0.521287</td>\n",
       "      <td>-0.390142</td>\n",
       "      <td>0.017666</td>\n",
       "      <td>-0.017666</td>\n",
       "      <td>-0.060080</td>\n",
       "      <td>0.060080</td>\n",
       "      <td>-0.236031</td>\n",
       "      <td>0.236031</td>\n",
       "      <td>-0.468974</td>\n",
       "      <td>-0.010577</td>\n",
       "      <td>-0.432199</td>\n",
       "    </tr>\n",
       "    <tr>\n",
       "      <th>pctSomeCollegeManyYrsNoDegree</th>\n",
       "      <td>0.105307</td>\n",
       "      <td>0.099233</td>\n",
       "      <td>-0.388264</td>\n",
       "      <td>0.607048</td>\n",
       "      <td>1.000000</td>\n",
       "      <td>-0.526781</td>\n",
       "      <td>-0.292324</td>\n",
       "      <td>-0.300941</td>\n",
       "      <td>0.300941</td>\n",
       "      <td>0.022361</td>\n",
       "      <td>-0.022361</td>\n",
       "      <td>0.077350</td>\n",
       "      <td>-0.077350</td>\n",
       "      <td>-0.251097</td>\n",
       "      <td>0.115139</td>\n",
       "      <td>-0.485254</td>\n",
       "    </tr>\n",
       "    <tr>\n",
       "      <th>pctGradPlus</th>\n",
       "      <td>-0.531119</td>\n",
       "      <td>-0.725833</td>\n",
       "      <td>0.845960</td>\n",
       "      <td>-0.521287</td>\n",
       "      <td>-0.526781</td>\n",
       "      <td>1.000000</td>\n",
       "      <td>0.538701</td>\n",
       "      <td>0.369490</td>\n",
       "      <td>-0.369490</td>\n",
       "      <td>0.511530</td>\n",
       "      <td>-0.511530</td>\n",
       "      <td>0.442343</td>\n",
       "      <td>-0.442343</td>\n",
       "      <td>0.258362</td>\n",
       "      <td>-0.229895</td>\n",
       "      <td>0.881395</td>\n",
       "    </tr>\n",
       "    <tr>\n",
       "      <th>pctInLaborForce</th>\n",
       "      <td>-0.245193</td>\n",
       "      <td>-0.576897</td>\n",
       "      <td>0.677671</td>\n",
       "      <td>-0.390142</td>\n",
       "      <td>-0.292324</td>\n",
       "      <td>0.538701</td>\n",
       "      <td>1.000000</td>\n",
       "      <td>0.451960</td>\n",
       "      <td>-0.451960</td>\n",
       "      <td>0.582327</td>\n",
       "      <td>-0.582327</td>\n",
       "      <td>0.604844</td>\n",
       "      <td>-0.604844</td>\n",
       "      <td>-0.112872</td>\n",
       "      <td>-0.203314</td>\n",
       "      <td>0.538522</td>\n",
       "    </tr>\n",
       "    <tr>\n",
       "      <th>pctEmployed</th>\n",
       "      <td>-0.502975</td>\n",
       "      <td>-0.217133</td>\n",
       "      <td>0.471912</td>\n",
       "      <td>0.017666</td>\n",
       "      <td>-0.300941</td>\n",
       "      <td>0.369490</td>\n",
       "      <td>0.451960</td>\n",
       "      <td>1.000000</td>\n",
       "      <td>-1.000000</td>\n",
       "      <td>0.432663</td>\n",
       "      <td>-0.432663</td>\n",
       "      <td>0.263500</td>\n",
       "      <td>-0.263500</td>\n",
       "      <td>-0.287001</td>\n",
       "      <td>-0.311713</td>\n",
       "      <td>0.444400</td>\n",
       "    </tr>\n",
       "    <tr>\n",
       "      <th>pctUnemployed</th>\n",
       "      <td>0.502975</td>\n",
       "      <td>0.217133</td>\n",
       "      <td>-0.471912</td>\n",
       "      <td>-0.017666</td>\n",
       "      <td>0.300941</td>\n",
       "      <td>-0.369490</td>\n",
       "      <td>-0.451960</td>\n",
       "      <td>-1.000000</td>\n",
       "      <td>1.000000</td>\n",
       "      <td>-0.432663</td>\n",
       "      <td>0.432663</td>\n",
       "      <td>-0.263500</td>\n",
       "      <td>0.263500</td>\n",
       "      <td>0.287001</td>\n",
       "      <td>0.311713</td>\n",
       "      <td>-0.444400</td>\n",
       "    </tr>\n",
       "    <tr>\n",
       "      <th>pctHasTech</th>\n",
       "      <td>-0.345541</td>\n",
       "      <td>-0.709414</td>\n",
       "      <td>0.665961</td>\n",
       "      <td>-0.060080</td>\n",
       "      <td>0.022361</td>\n",
       "      <td>0.511530</td>\n",
       "      <td>0.582327</td>\n",
       "      <td>0.432663</td>\n",
       "      <td>-0.432663</td>\n",
       "      <td>1.000000</td>\n",
       "      <td>-1.000000</td>\n",
       "      <td>0.899346</td>\n",
       "      <td>-0.899346</td>\n",
       "      <td>-0.234855</td>\n",
       "      <td>-0.163076</td>\n",
       "      <td>0.578956</td>\n",
       "    </tr>\n",
       "    <tr>\n",
       "      <th>pctNoTech</th>\n",
       "      <td>0.345541</td>\n",
       "      <td>0.709414</td>\n",
       "      <td>-0.665961</td>\n",
       "      <td>0.060080</td>\n",
       "      <td>-0.022361</td>\n",
       "      <td>-0.511530</td>\n",
       "      <td>-0.582327</td>\n",
       "      <td>-0.432663</td>\n",
       "      <td>0.432663</td>\n",
       "      <td>-1.000000</td>\n",
       "      <td>1.000000</td>\n",
       "      <td>-0.899346</td>\n",
       "      <td>0.899346</td>\n",
       "      <td>0.234855</td>\n",
       "      <td>0.163076</td>\n",
       "      <td>-0.578956</td>\n",
       "    </tr>\n",
       "    <tr>\n",
       "      <th>pctSmartphone</th>\n",
       "      <td>-0.079459</td>\n",
       "      <td>-0.767809</td>\n",
       "      <td>0.620782</td>\n",
       "      <td>-0.236031</td>\n",
       "      <td>0.077350</td>\n",
       "      <td>0.442343</td>\n",
       "      <td>0.604844</td>\n",
       "      <td>0.263500</td>\n",
       "      <td>-0.263500</td>\n",
       "      <td>0.899346</td>\n",
       "      <td>-0.899346</td>\n",
       "      <td>1.000000</td>\n",
       "      <td>-1.000000</td>\n",
       "      <td>-0.097597</td>\n",
       "      <td>-0.062808</td>\n",
       "      <td>0.486996</td>\n",
       "    </tr>\n",
       "    <tr>\n",
       "      <th>pctNoSmartphone</th>\n",
       "      <td>0.079459</td>\n",
       "      <td>0.767809</td>\n",
       "      <td>-0.620782</td>\n",
       "      <td>0.236031</td>\n",
       "      <td>-0.077350</td>\n",
       "      <td>-0.442343</td>\n",
       "      <td>-0.604844</td>\n",
       "      <td>-0.263500</td>\n",
       "      <td>0.263500</td>\n",
       "      <td>-0.899346</td>\n",
       "      <td>0.899346</td>\n",
       "      <td>-1.000000</td>\n",
       "      <td>1.000000</td>\n",
       "      <td>0.097597</td>\n",
       "      <td>0.062808</td>\n",
       "      <td>-0.486996</td>\n",
       "    </tr>\n",
       "    <tr>\n",
       "      <th>Estimate_GiniIndex</th>\n",
       "      <td>0.091300</td>\n",
       "      <td>-0.190939</td>\n",
       "      <td>0.176874</td>\n",
       "      <td>-0.468974</td>\n",
       "      <td>-0.251097</td>\n",
       "      <td>0.258362</td>\n",
       "      <td>-0.112872</td>\n",
       "      <td>-0.287001</td>\n",
       "      <td>0.287001</td>\n",
       "      <td>-0.234855</td>\n",
       "      <td>0.234855</td>\n",
       "      <td>-0.097597</td>\n",
       "      <td>0.097597</td>\n",
       "      <td>1.000000</td>\n",
       "      <td>0.308439</td>\n",
       "      <td>0.245679</td>\n",
       "    </tr>\n",
       "    <tr>\n",
       "      <th>MarginOfError_GiniIndex</th>\n",
       "      <td>0.291348</td>\n",
       "      <td>0.153568</td>\n",
       "      <td>-0.263496</td>\n",
       "      <td>-0.010577</td>\n",
       "      <td>0.115139</td>\n",
       "      <td>-0.229895</td>\n",
       "      <td>-0.203314</td>\n",
       "      <td>-0.311713</td>\n",
       "      <td>0.311713</td>\n",
       "      <td>-0.163076</td>\n",
       "      <td>0.163076</td>\n",
       "      <td>-0.062808</td>\n",
       "      <td>0.062808</td>\n",
       "      <td>0.308439</td>\n",
       "      <td>1.000000</td>\n",
       "      <td>-0.221991</td>\n",
       "    </tr>\n",
       "    <tr>\n",
       "      <th>avgIncome</th>\n",
       "      <td>-0.525402</td>\n",
       "      <td>-0.714676</td>\n",
       "      <td>0.860153</td>\n",
       "      <td>-0.432199</td>\n",
       "      <td>-0.485254</td>\n",
       "      <td>0.881395</td>\n",
       "      <td>0.538522</td>\n",
       "      <td>0.444400</td>\n",
       "      <td>-0.444400</td>\n",
       "      <td>0.578956</td>\n",
       "      <td>-0.578956</td>\n",
       "      <td>0.486996</td>\n",
       "      <td>-0.486996</td>\n",
       "      <td>0.245679</td>\n",
       "      <td>-0.221991</td>\n",
       "      <td>1.000000</td>\n",
       "    </tr>\n",
       "  </tbody>\n",
       "</table>\n",
       "</div>"
      ],
      "text/plain": [
       "                                pctNoHs     pctHs   pctBach  \\\n",
       "pctNoHs                        1.000000  0.178613 -0.559658   \n",
       "pctHs                          0.178613  1.000000 -0.820182   \n",
       "pctBach                       -0.559658 -0.820182  1.000000   \n",
       "pctSomeCollege1YrNoDegree     -0.198253  0.419146 -0.456921   \n",
       "pctSomeCollegeManyYrsNoDegree  0.105307  0.099233 -0.388264   \n",
       "pctGradPlus                   -0.531119 -0.725833  0.845960   \n",
       "pctInLaborForce               -0.245193 -0.576897  0.677671   \n",
       "pctEmployed                   -0.502975 -0.217133  0.471912   \n",
       "pctUnemployed                  0.502975  0.217133 -0.471912   \n",
       "pctHasTech                    -0.345541 -0.709414  0.665961   \n",
       "pctNoTech                      0.345541  0.709414 -0.665961   \n",
       "pctSmartphone                 -0.079459 -0.767809  0.620782   \n",
       "pctNoSmartphone                0.079459  0.767809 -0.620782   \n",
       "Estimate_GiniIndex             0.091300 -0.190939  0.176874   \n",
       "MarginOfError_GiniIndex        0.291348  0.153568 -0.263496   \n",
       "avgIncome                     -0.525402 -0.714676  0.860153   \n",
       "\n",
       "                               pctSomeCollege1YrNoDegree  \\\n",
       "pctNoHs                                        -0.198253   \n",
       "pctHs                                           0.419146   \n",
       "pctBach                                        -0.456921   \n",
       "pctSomeCollege1YrNoDegree                       1.000000   \n",
       "pctSomeCollegeManyYrsNoDegree                   0.607048   \n",
       "pctGradPlus                                    -0.521287   \n",
       "pctInLaborForce                                -0.390142   \n",
       "pctEmployed                                     0.017666   \n",
       "pctUnemployed                                  -0.017666   \n",
       "pctHasTech                                     -0.060080   \n",
       "pctNoTech                                       0.060080   \n",
       "pctSmartphone                                  -0.236031   \n",
       "pctNoSmartphone                                 0.236031   \n",
       "Estimate_GiniIndex                             -0.468974   \n",
       "MarginOfError_GiniIndex                        -0.010577   \n",
       "avgIncome                                      -0.432199   \n",
       "\n",
       "                               pctSomeCollegeManyYrsNoDegree  pctGradPlus  \\\n",
       "pctNoHs                                             0.105307    -0.531119   \n",
       "pctHs                                               0.099233    -0.725833   \n",
       "pctBach                                            -0.388264     0.845960   \n",
       "pctSomeCollege1YrNoDegree                           0.607048    -0.521287   \n",
       "pctSomeCollegeManyYrsNoDegree                       1.000000    -0.526781   \n",
       "pctGradPlus                                        -0.526781     1.000000   \n",
       "pctInLaborForce                                    -0.292324     0.538701   \n",
       "pctEmployed                                        -0.300941     0.369490   \n",
       "pctUnemployed                                       0.300941    -0.369490   \n",
       "pctHasTech                                          0.022361     0.511530   \n",
       "pctNoTech                                          -0.022361    -0.511530   \n",
       "pctSmartphone                                       0.077350     0.442343   \n",
       "pctNoSmartphone                                    -0.077350    -0.442343   \n",
       "Estimate_GiniIndex                                 -0.251097     0.258362   \n",
       "MarginOfError_GiniIndex                             0.115139    -0.229895   \n",
       "avgIncome                                          -0.485254     0.881395   \n",
       "\n",
       "                               pctInLaborForce  pctEmployed  pctUnemployed  \\\n",
       "pctNoHs                              -0.245193    -0.502975       0.502975   \n",
       "pctHs                                -0.576897    -0.217133       0.217133   \n",
       "pctBach                               0.677671     0.471912      -0.471912   \n",
       "pctSomeCollege1YrNoDegree            -0.390142     0.017666      -0.017666   \n",
       "pctSomeCollegeManyYrsNoDegree        -0.292324    -0.300941       0.300941   \n",
       "pctGradPlus                           0.538701     0.369490      -0.369490   \n",
       "pctInLaborForce                       1.000000     0.451960      -0.451960   \n",
       "pctEmployed                           0.451960     1.000000      -1.000000   \n",
       "pctUnemployed                        -0.451960    -1.000000       1.000000   \n",
       "pctHasTech                            0.582327     0.432663      -0.432663   \n",
       "pctNoTech                            -0.582327    -0.432663       0.432663   \n",
       "pctSmartphone                         0.604844     0.263500      -0.263500   \n",
       "pctNoSmartphone                      -0.604844    -0.263500       0.263500   \n",
       "Estimate_GiniIndex                   -0.112872    -0.287001       0.287001   \n",
       "MarginOfError_GiniIndex              -0.203314    -0.311713       0.311713   \n",
       "avgIncome                             0.538522     0.444400      -0.444400   \n",
       "\n",
       "                               pctHasTech  pctNoTech  pctSmartphone  \\\n",
       "pctNoHs                         -0.345541   0.345541      -0.079459   \n",
       "pctHs                           -0.709414   0.709414      -0.767809   \n",
       "pctBach                          0.665961  -0.665961       0.620782   \n",
       "pctSomeCollege1YrNoDegree       -0.060080   0.060080      -0.236031   \n",
       "pctSomeCollegeManyYrsNoDegree    0.022361  -0.022361       0.077350   \n",
       "pctGradPlus                      0.511530  -0.511530       0.442343   \n",
       "pctInLaborForce                  0.582327  -0.582327       0.604844   \n",
       "pctEmployed                      0.432663  -0.432663       0.263500   \n",
       "pctUnemployed                   -0.432663   0.432663      -0.263500   \n",
       "pctHasTech                       1.000000  -1.000000       0.899346   \n",
       "pctNoTech                       -1.000000   1.000000      -0.899346   \n",
       "pctSmartphone                    0.899346  -0.899346       1.000000   \n",
       "pctNoSmartphone                 -0.899346   0.899346      -1.000000   \n",
       "Estimate_GiniIndex              -0.234855   0.234855      -0.097597   \n",
       "MarginOfError_GiniIndex         -0.163076   0.163076      -0.062808   \n",
       "avgIncome                        0.578956  -0.578956       0.486996   \n",
       "\n",
       "                               pctNoSmartphone  Estimate_GiniIndex  \\\n",
       "pctNoHs                               0.079459            0.091300   \n",
       "pctHs                                 0.767809           -0.190939   \n",
       "pctBach                              -0.620782            0.176874   \n",
       "pctSomeCollege1YrNoDegree             0.236031           -0.468974   \n",
       "pctSomeCollegeManyYrsNoDegree        -0.077350           -0.251097   \n",
       "pctGradPlus                          -0.442343            0.258362   \n",
       "pctInLaborForce                      -0.604844           -0.112872   \n",
       "pctEmployed                          -0.263500           -0.287001   \n",
       "pctUnemployed                         0.263500            0.287001   \n",
       "pctHasTech                           -0.899346           -0.234855   \n",
       "pctNoTech                             0.899346            0.234855   \n",
       "pctSmartphone                        -1.000000           -0.097597   \n",
       "pctNoSmartphone                       1.000000            0.097597   \n",
       "Estimate_GiniIndex                    0.097597            1.000000   \n",
       "MarginOfError_GiniIndex               0.062808            0.308439   \n",
       "avgIncome                            -0.486996            0.245679   \n",
       "\n",
       "                               MarginOfError_GiniIndex  avgIncome  \n",
       "pctNoHs                                       0.291348  -0.525402  \n",
       "pctHs                                         0.153568  -0.714676  \n",
       "pctBach                                      -0.263496   0.860153  \n",
       "pctSomeCollege1YrNoDegree                    -0.010577  -0.432199  \n",
       "pctSomeCollegeManyYrsNoDegree                 0.115139  -0.485254  \n",
       "pctGradPlus                                  -0.229895   0.881395  \n",
       "pctInLaborForce                              -0.203314   0.538522  \n",
       "pctEmployed                                  -0.311713   0.444400  \n",
       "pctUnemployed                                 0.311713  -0.444400  \n",
       "pctHasTech                                   -0.163076   0.578956  \n",
       "pctNoTech                                     0.163076  -0.578956  \n",
       "pctSmartphone                                -0.062808   0.486996  \n",
       "pctNoSmartphone                               0.062808  -0.486996  \n",
       "Estimate_GiniIndex                            0.308439   0.245679  \n",
       "MarginOfError_GiniIndex                       1.000000  -0.221991  \n",
       "avgIncome                                    -0.221991   1.000000  "
      ]
     },
     "execution_count": 44,
     "metadata": {},
     "output_type": "execute_result"
    }
   ],
   "source": [
    "mgd.corr()"
   ]
  },
  {
   "cell_type": "markdown",
   "metadata": {},
   "source": [
    "# Poverty"
   ]
  },
  {
   "cell_type": "code",
   "execution_count": 45,
   "metadata": {},
   "outputs": [
    {
     "data": {
      "application/vnd.jupyter.widget-view+json": {
       "model_id": "7fd8b8c2f5c24fcaa3d83ed2a4702ba8",
       "version_major": 2,
       "version_minor": 0
      },
      "text/plain": [
       "  0%|          | 0/1 [00:00<?, ?it/s]"
      ]
     },
     "metadata": {},
     "output_type": "display_data"
    },
    {
     "data": {
      "application/vnd.jupyter.widget-view+json": {
       "model_id": "2b4ed2ba8df2415ca2122c71fdee4680",
       "version_major": 2,
       "version_minor": 0
      },
      "text/plain": [
       "|          | 0/? [00:00<?, ?it/s]"
      ]
     },
     "metadata": {},
     "output_type": "display_data"
    }
   ],
   "source": [
    "povertyVars = c.getVariablesByGroup(c.groups.PovertyStatusInThePast12MonthsByAge.code)\n",
    "filteredVars = [var['code'] for var in povertyVars.to_dict('records') if var['name'].startswith('Estimate')]\n",
    "povertyStats = c.getStats(filteredVars, *geoDomains)"
   ]
  },
  {
   "cell_type": "code",
   "execution_count": 46,
   "metadata": {},
   "outputs": [],
   "source": [
    "povertyPcts = povertyStats.loc[:,['NAME', 'state', 'congressional district']]\n",
    "\n",
    "povertyPcts['atOrAbove'] = (povertyStats.Estimate_Total_IncomeInThePast12MonthsAtOrAbovePovertyLevel /\n",
    "             povertyStats.Estimate_Total)\n",
    "\n",
    "povertyPcts['below'] = (povertyStats.Estimate_Total_IncomeInThePast12MonthsBelowPovertyLevel /\n",
    "                       povertyStats.Estimate_Total)"
   ]
  },
  {
   "cell_type": "code",
   "execution_count": 47,
   "metadata": {},
   "outputs": [
    {
     "data": {
      "text/html": [
       "<div>\n",
       "<style scoped>\n",
       "    .dataframe tbody tr th:only-of-type {\n",
       "        vertical-align: middle;\n",
       "    }\n",
       "\n",
       "    .dataframe tbody tr th {\n",
       "        vertical-align: top;\n",
       "    }\n",
       "\n",
       "    .dataframe thead th {\n",
       "        text-align: right;\n",
       "    }\n",
       "</style>\n",
       "<table border=\"1\" class=\"dataframe\">\n",
       "  <thead>\n",
       "    <tr style=\"text-align: right;\">\n",
       "      <th></th>\n",
       "      <th>atOrAbove</th>\n",
       "      <th>below</th>\n",
       "    </tr>\n",
       "  </thead>\n",
       "  <tbody>\n",
       "    <tr>\n",
       "      <th>count</th>\n",
       "      <td>437.000000</td>\n",
       "      <td>437.000000</td>\n",
       "    </tr>\n",
       "    <tr>\n",
       "      <th>mean</th>\n",
       "      <td>0.875172</td>\n",
       "      <td>0.124828</td>\n",
       "    </tr>\n",
       "    <tr>\n",
       "      <th>std</th>\n",
       "      <td>0.047464</td>\n",
       "      <td>0.047464</td>\n",
       "    </tr>\n",
       "    <tr>\n",
       "      <th>min</th>\n",
       "      <td>0.565290</td>\n",
       "      <td>0.034630</td>\n",
       "    </tr>\n",
       "    <tr>\n",
       "      <th>25%</th>\n",
       "      <td>0.852099</td>\n",
       "      <td>0.091802</td>\n",
       "    </tr>\n",
       "    <tr>\n",
       "      <th>50%</th>\n",
       "      <td>0.881482</td>\n",
       "      <td>0.118518</td>\n",
       "    </tr>\n",
       "    <tr>\n",
       "      <th>75%</th>\n",
       "      <td>0.908198</td>\n",
       "      <td>0.147901</td>\n",
       "    </tr>\n",
       "    <tr>\n",
       "      <th>max</th>\n",
       "      <td>0.965370</td>\n",
       "      <td>0.434710</td>\n",
       "    </tr>\n",
       "  </tbody>\n",
       "</table>\n",
       "</div>"
      ],
      "text/plain": [
       "        atOrAbove       below\n",
       "count  437.000000  437.000000\n",
       "mean     0.875172    0.124828\n",
       "std      0.047464    0.047464\n",
       "min      0.565290    0.034630\n",
       "25%      0.852099    0.091802\n",
       "50%      0.881482    0.118518\n",
       "75%      0.908198    0.147901\n",
       "max      0.965370    0.434710"
      ]
     },
     "execution_count": 47,
     "metadata": {},
     "output_type": "execute_result"
    }
   ],
   "source": [
    "povertyPcts.describe()"
   ]
  },
  {
   "cell_type": "code",
   "execution_count": 48,
   "metadata": {},
   "outputs": [],
   "source": [
    "geoCodes = c.getGeographyCodes(GeoDomain('state'))"
   ]
  },
  {
   "cell_type": "code",
   "execution_count": 49,
   "metadata": {},
   "outputs": [
    {
     "data": {
      "text/html": [
       "<div>\n",
       "<style scoped>\n",
       "    .dataframe tbody tr th:only-of-type {\n",
       "        vertical-align: middle;\n",
       "    }\n",
       "\n",
       "    .dataframe tbody tr th {\n",
       "        vertical-align: top;\n",
       "    }\n",
       "\n",
       "    .dataframe thead th {\n",
       "        text-align: right;\n",
       "    }\n",
       "</style>\n",
       "<table border=\"1\" class=\"dataframe\">\n",
       "  <thead>\n",
       "    <tr style=\"text-align: right;\">\n",
       "      <th></th>\n",
       "      <th>NAME</th>\n",
       "      <th>state</th>\n",
       "    </tr>\n",
       "  </thead>\n",
       "  <tbody>\n",
       "    <tr>\n",
       "      <th>32</th>\n",
       "      <td>New York</td>\n",
       "      <td>36</td>\n",
       "    </tr>\n",
       "  </tbody>\n",
       "</table>\n",
       "</div>"
      ],
      "text/plain": [
       "        NAME state\n",
       "32  New York    36"
      ]
     },
     "execution_count": 49,
     "metadata": {},
     "output_type": "execute_result"
    }
   ],
   "source": [
    "geoCodes[geoCodes['NAME'] == 'New York']"
   ]
  },
  {
   "cell_type": "code",
   "execution_count": 50,
   "metadata": {},
   "outputs": [],
   "source": [
    "congDistCodes = c.getGeographyCodes(GeoDomain('congressional district'),\n",
    "                                   GeoDomain('state', '36'))"
   ]
  },
  {
   "cell_type": "code",
   "execution_count": 51,
   "metadata": {},
   "outputs": [
    {
     "data": {
      "text/html": [
       "<div>\n",
       "<style scoped>\n",
       "    .dataframe tbody tr th:only-of-type {\n",
       "        vertical-align: middle;\n",
       "    }\n",
       "\n",
       "    .dataframe tbody tr th {\n",
       "        vertical-align: top;\n",
       "    }\n",
       "\n",
       "    .dataframe thead th {\n",
       "        text-align: right;\n",
       "    }\n",
       "</style>\n",
       "<table border=\"1\" class=\"dataframe\">\n",
       "  <thead>\n",
       "    <tr style=\"text-align: right;\">\n",
       "      <th></th>\n",
       "      <th>NAME</th>\n",
       "      <th>state</th>\n",
       "      <th>congressional district</th>\n",
       "      <th>atOrAbove</th>\n",
       "      <th>below</th>\n",
       "    </tr>\n",
       "  </thead>\n",
       "  <tbody>\n",
       "    <tr>\n",
       "      <th>271</th>\n",
       "      <td>Congressional District 14 (116th Congress), New York</td>\n",
       "      <td>36</td>\n",
       "      <td>14</td>\n",
       "      <td>0.871396</td>\n",
       "      <td>0.128604</td>\n",
       "    </tr>\n",
       "  </tbody>\n",
       "</table>\n",
       "</div>"
      ],
      "text/plain": [
       "                                                     NAME state  \\\n",
       "271  Congressional District 14 (116th Congress), New York    36   \n",
       "\n",
       "    congressional district  atOrAbove     below  \n",
       "271                     14   0.871396  0.128604  "
      ]
     },
     "execution_count": 51,
     "metadata": {},
     "output_type": "execute_result"
    }
   ],
   "source": [
    "povertyPcts[(povertyPcts.state == '36') & (povertyPcts['congressional district'] == '14')]"
   ]
  },
  {
   "cell_type": "code",
   "execution_count": 52,
   "metadata": {},
   "outputs": [
    {
     "data": {
      "application/vnd.jupyter.widget-view+json": {
       "model_id": "d49c742e5e7f4796abd0558471890ba1",
       "version_major": 2,
       "version_minor": 0
      },
      "text/plain": [
       "  0%|          | 0/1 [00:00<?, ?it/s]"
      ]
     },
     "metadata": {},
     "output_type": "display_data"
    },
    {
     "data": {
      "application/vnd.jupyter.widget-view+json": {
       "model_id": "099af41f4202482aad7c12f094e62425",
       "version_major": 2,
       "version_minor": 0
      },
      "text/plain": [
       "|          | 0/? [00:00<?, ?it/s]"
      ]
     },
     "metadata": {},
     "output_type": "display_data"
    }
   ],
   "source": [
    "blackPovVars = c.getVariablesByGroup(c.groups.PovertyStatusInThePast12MonthsByAgeBlackOrAfricanAmericanAlone.code)\n",
    "blackPovStats = c.getStats(blackPovVars['code'].tolist(), *geoDomains)"
   ]
  },
  {
   "cell_type": "code",
   "execution_count": 60,
   "metadata": {},
   "outputs": [],
   "source": [
    "blackPovPcts = blackPovStats.loc[:,['NAME', 'state', 'congressional district']]\n",
    "\n",
    "blackPovPcts['atOrAbove'] = (blackPovStats.Estimate_Total_IncomeInThePast12MonthsAtOrAbovePovertyLevel /\n",
    "             blackPovStats.Estimate_Total)\n",
    "\n",
    "blackPovPcts['below'] = (blackPovStats.Estimate_Total_IncomeInThePast12MonthsBelowPovertyLevel /\n",
    "                       blackPovStats.Estimate_Total)"
   ]
  },
  {
   "cell_type": "code",
   "execution_count": 62,
   "metadata": {},
   "outputs": [
    {
     "data": {
      "text/html": [
       "<div>\n",
       "<style scoped>\n",
       "    .dataframe tbody tr th:only-of-type {\n",
       "        vertical-align: middle;\n",
       "    }\n",
       "\n",
       "    .dataframe tbody tr th {\n",
       "        vertical-align: top;\n",
       "    }\n",
       "\n",
       "    .dataframe thead th {\n",
       "        text-align: right;\n",
       "    }\n",
       "</style>\n",
       "<table border=\"1\" class=\"dataframe\">\n",
       "  <thead>\n",
       "    <tr style=\"text-align: right;\">\n",
       "      <th></th>\n",
       "      <th>NAME</th>\n",
       "      <th>state</th>\n",
       "      <th>congressional district</th>\n",
       "      <th>atOrAbove</th>\n",
       "      <th>below</th>\n",
       "    </tr>\n",
       "  </thead>\n",
       "  <tbody>\n",
       "    <tr>\n",
       "      <th>271</th>\n",
       "      <td>Congressional District 14 (116th Congress), New York</td>\n",
       "      <td>36</td>\n",
       "      <td>14</td>\n",
       "      <td>0.830922</td>\n",
       "      <td>0.169078</td>\n",
       "    </tr>\n",
       "  </tbody>\n",
       "</table>\n",
       "</div>"
      ],
      "text/plain": [
       "                                                     NAME state  \\\n",
       "271  Congressional District 14 (116th Congress), New York    36   \n",
       "\n",
       "    congressional district  atOrAbove     below  \n",
       "271                     14   0.830922  0.169078  "
      ]
     },
     "execution_count": 62,
     "metadata": {},
     "output_type": "execute_result"
    }
   ],
   "source": [
    "blackPovPcts[(blackPovPcts.state == '36') & (blackPovPcts['congressional district'] == '14')]"
   ]
  },
  {
   "cell_type": "code",
   "execution_count": 63,
   "metadata": {},
   "outputs": [
    {
     "data": {
      "text/plain": [
       "<AxesSubplot:>"
      ]
     },
     "execution_count": 63,
     "metadata": {},
     "output_type": "execute_result"
    },
    {
     "data": {
      "image/png": "[encoded data removed]",
      "text/plain": [
       "<Figure size 432x288 with 1 Axes>"
      ]
     },
     "metadata": {
      "needs_background": "light"
     },
     "output_type": "display_data"
    }
   ],
   "source": [
    "povertyPcts.below.hist()"
   ]
  },
  {
   "cell_type": "code",
   "execution_count": 93,
   "metadata": {},
   "outputs": [],
   "source": [
    "povRatesAbove16Pct = povertyPcts[povertyPcts.below > .16]"
   ]
  },
  {
   "cell_type": "code",
   "execution_count": 94,
   "metadata": {},
   "outputs": [],
   "source": [
    "def getState(geoCode: str) -> str:\n",
    "    return geoCodes[geoCodes['state'] == geoCode]['NAME'].tolist()[0]"
   ]
  },
  {
   "cell_type": "code",
   "execution_count": 95,
   "metadata": {},
   "outputs": [
    {
     "name": "stderr",
     "output_type": "stream",
     "text": [
      "<ipython-input-95-50a86c0460f4>:1: SettingWithCopyWarning: \n",
      "A value is trying to be set on a copy of a slice from a DataFrame.\n",
      "Try using .loc[row_indexer,col_indexer] = value instead\n",
      "\n",
      "See the caveats in the documentation: https://pandas.pydata.org/pandas-docs/stable/user_guide/indexing.html#returning-a-view-versus-a-copy\n",
      "  povRatesAbove16Pct['state'] = povRatesAbove16Pct['state'].apply(getState)\n"
     ]
    }
   ],
   "source": [
    "povRatesAbove16Pct['state'] = povRatesAbove16Pct['state'].apply(getState)"
   ]
  },
  {
   "cell_type": "code",
   "execution_count": 131,
   "metadata": {},
   "outputs": [],
   "source": [
    "def fn(x):\n",
    "    print(x['below'])\n",
    "\n",
    "povAllocation = pd.pivot_table(povertyPcts,\n",
    "               index=['state'],\n",
    "               values=['atOrAbove', 'below'],\n",
    "               aggfunc={\n",
    "                   'below': lambda x: (x >= 0.16).sum(),\n",
    "                   'atOrAbove': lambda x: (x >= 0.85).sum()\n",
    "               })"
   ]
  },
  {
   "cell_type": "code",
   "execution_count": 139,
   "metadata": {},
   "outputs": [],
   "source": [
    "povAllocation['state'] = povAllocation.index\n",
    "povAllocation['state'] = povAllocation['state'].apply(getState)"
   ]
  },
  {
   "cell_type": "code",
   "execution_count": 149,
   "metadata": {},
   "outputs": [],
   "source": [
    "povAllocation = povAllocation.rename(columns={'below': 'atOrAbove16pctPov', 'atOrAbove': 'below16pctPov'},)\n",
    "povAllocation = povAllocation[['state', 'below16pctPov', 'atOrAbove16pctPov']]"
   ]
  },
  {
   "cell_type": "code",
   "execution_count": 154,
   "metadata": {},
   "outputs": [
    {
     "data": {
      "text/html": [
       "<div>\n",
       "<style scoped>\n",
       "    .dataframe tbody tr th:only-of-type {\n",
       "        vertical-align: middle;\n",
       "    }\n",
       "\n",
       "    .dataframe tbody tr th {\n",
       "        vertical-align: top;\n",
       "    }\n",
       "\n",
       "    .dataframe thead th {\n",
       "        text-align: right;\n",
       "    }\n",
       "</style>\n",
       "<table border=\"1\" class=\"dataframe\">\n",
       "  <thead>\n",
       "    <tr style=\"text-align: right;\">\n",
       "      <th></th>\n",
       "      <th>state</th>\n",
       "      <th>below16pctPov</th>\n",
       "      <th>atOrAbove16pctPov</th>\n",
       "      <th>pctBelow16pct</th>\n",
       "      <th>pctAbove16pct</th>\n",
       "    </tr>\n",
       "    <tr>\n",
       "      <th>state</th>\n",
       "      <th></th>\n",
       "      <th></th>\n",
       "      <th></th>\n",
       "      <th></th>\n",
       "      <th></th>\n",
       "    </tr>\n",
       "  </thead>\n",
       "  <tbody>\n",
       "    <tr>\n",
       "      <th>01</th>\n",
       "      <td>Alabama</td>\n",
       "      <td>3.0</td>\n",
       "      <td>2.0</td>\n",
       "      <td>60.000000</td>\n",
       "      <td>40.000000</td>\n",
       "    </tr>\n",
       "    <tr>\n",
       "      <th>02</th>\n",
       "      <td>Alaska</td>\n",
       "      <td>1.0</td>\n",
       "      <td>0.0</td>\n",
       "      <td>100.000000</td>\n",
       "      <td>0.000000</td>\n",
       "    </tr>\n",
       "    <tr>\n",
       "      <th>04</th>\n",
       "      <td>Arizona</td>\n",
       "      <td>6.0</td>\n",
       "      <td>3.0</td>\n",
       "      <td>66.666667</td>\n",
       "      <td>33.333333</td>\n",
       "    </tr>\n",
       "    <tr>\n",
       "      <th>05</th>\n",
       "      <td>Arkansas</td>\n",
       "      <td>2.0</td>\n",
       "      <td>2.0</td>\n",
       "      <td>50.000000</td>\n",
       "      <td>50.000000</td>\n",
       "    </tr>\n",
       "  </tbody>\n",
       "</table>\n",
       "</div>"
      ],
      "text/plain": [
       "          state  below16pctPov  atOrAbove16pctPov  pctBelow16pct  \\\n",
       "state                                                              \n",
       "01      Alabama            3.0                2.0      60.000000   \n",
       "02       Alaska            1.0                0.0     100.000000   \n",
       "04      Arizona            6.0                3.0      66.666667   \n",
       "05     Arkansas            2.0                2.0      50.000000   \n",
       "\n",
       "       pctAbove16pct  \n",
       "state                 \n",
       "01         40.000000  \n",
       "02          0.000000  \n",
       "04         33.333333  \n",
       "05         50.000000  "
      ]
     },
     "execution_count": 154,
     "metadata": {},
     "output_type": "execute_result"
    }
   ],
   "source": [
    "povAllocation['pctBelow16pct'] = (povAllocation.below16pctPov / \n",
    "                                  (povAllocation.atOrAbove16pctPov + povAllocation.below16pctPov)) * 100\n",
    "povAllocation['pctAbove16pct'] = (povAllocation.atOrAbove16pctPov / \n",
    "                                  (povAllocation.atOrAbove16pctPov + povAllocation.below16pctPov)) * 100\n",
    "povAllocation.head(n=4)"
   ]
  },
  {
   "cell_type": "code",
   "execution_count": null,
   "metadata": {},
   "outputs": [],
   "source": []
  }
 ],
 "metadata": {
  "kernelspec": {
   "display_name": "Python 3.9.1 64-bit ('.venv')",
   "language": "python",
   "name": "python39164bitvenv24530a99c8a64e648fbc291cfc88a7f8"
  },
  "language_info": {
   "codemirror_mode": {
    "name": "ipython",
    "version": 3
   },
   "file_extension": ".py",
   "mimetype": "text/x-python",
   "name": "python",
   "nbconvert_exporter": "python",
   "pygments_lexer": "ipython3",
   "version": "3.9.1"
  }
 },
 "nbformat": 4,
 "nbformat_minor": 4
}
