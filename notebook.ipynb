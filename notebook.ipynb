{
 "cells": [
  {
   "cell_type": "markdown",
   "metadata": {},
   "source": [
    "[Census Documentation](https://www2.census.gov/programs-surveys/acs/tech_docs/subject_definitions/2019_ACSSubjectDefinitions.pdf)"
   ]
  },
  {
   "cell_type": "code",
   "execution_count": 1,
   "metadata": {},
   "outputs": [],
   "source": [
    "%config Completer.use_jedi = False"
   ]
  },
  {
   "cell_type": "code",
   "execution_count": 2,
   "metadata": {},
   "outputs": [],
   "source": [
    "from census.getCensus import getCensus\n",
    "from census.variables.models import GroupCode\n",
    "from census.models import GeoDomain\n",
    "import pandas as pd\n",
    "from pprint import pprint"
   ]
  },
  {
   "cell_type": "markdown",
   "metadata": {},
   "source": [
    "We'll use these since these are the primary geographies we care about"
   ]
  },
  {
   "cell_type": "code",
   "execution_count": 3,
   "metadata": {},
   "outputs": [],
   "source": [
    "geoDomains = [GeoDomain('congressional district'), GeoDomain('state')]"
   ]
  },
  {
   "cell_type": "code",
   "execution_count": 4,
   "metadata": {},
   "outputs": [],
   "source": [
    "c = getCensus(2019, shouldCacheOnDisk=True, shouldLoadFromExistingCache=True, shouldReplaceColumnHeaders=True)"
   ]
  },
  {
   "cell_type": "markdown",
   "metadata": {},
   "source": [
    "Get the group data"
   ]
  },
  {
   "cell_type": "code",
   "execution_count": 5,
   "metadata": {},
   "outputs": [],
   "source": [
    "_ = c.getGroups()"
   ]
  },
  {
   "cell_type": "markdown",
   "metadata": {},
   "source": [
    "# Education statistics"
   ]
  },
  {
   "cell_type": "code",
   "execution_count": 6,
   "metadata": {},
   "outputs": [
    {
     "data": {
      "application/vnd.jupyter.widget-view+json": {
       "model_id": "b0c1c506ee184f3ba7964a99e2f21589",
       "version_major": 2,
       "version_minor": 0
      },
      "text/plain": [
       "  0%|          | 0/1 [00:00<?, ?it/s]"
      ]
     },
     "metadata": {},
     "output_type": "display_data"
    }
   ],
   "source": [
    "educVars = c.getVariablesByGroup(c.groups.EducationalAttainmentForThePopulation25YearsAndOver.code)"
   ]
  },
  {
   "cell_type": "code",
   "execution_count": 7,
   "metadata": {},
   "outputs": [
    {
     "data": {
      "application/vnd.jupyter.widget-view+json": {
       "model_id": "c2d55b4571ec4a1a857210b49125b304",
       "version_major": 2,
       "version_minor": 0
      },
      "text/plain": [
       "|          | 0/? [00:00<?, ?it/s]"
      ]
     },
     "metadata": {},
     "output_type": "display_data"
    }
   ],
   "source": [
    "educData = c.getStats(educVars['code'].tolist(), *geoDomains)\n"
   ]
  },
  {
   "cell_type": "code",
   "execution_count": 8,
   "metadata": {},
   "outputs": [],
   "source": [
    "educPcts = educData.loc[:,['NAME', 'congressional district', 'state']]"
   ]
  },
  {
   "cell_type": "code",
   "execution_count": 9,
   "metadata": {},
   "outputs": [],
   "source": [
    "educPcts['pctNoHs'] = (educData.Estimate_Total_NoSchoolingCompleted \\\n",
    "                    + educData.Estimate_Total_NurseryTo4thGrade \\\n",
    "                    + educData.Estimate_Total_5thAnd6thGrade \\\n",
    "                    + educData.Estimate_Total_7thAnd8thGrade \\\n",
    "                    + educData.Estimate_Total_9thGrade \\\n",
    "                    + educData.Estimate_Total_10thGrade \\\n",
    "                    + educData.Estimate_Total_11thGrade \\\n",
    "                    + educData.Estimate_Total_12thGradeNoDiploma) / educData.Estimate_Total\n",
    "educPcts['pctHs'] = (educData.Estimate_Total_RegularHighSchoolDiploma \\\n",
    "                     + educData.Estimate_Total_GedOrAlternativeCredential) \\\n",
    "                        / educData.Estimate_Total\n",
    "educPcts['pctBach'] = educData.Estimate_Total_BachelorsDegree / educData.Estimate_Total\n",
    "educPcts['pctSomeCollege1YrNoDegree'] = educData.Estimate_Total_SomeCollegeLessThan1Year / educData.Estimate_Total\n",
    "educPcts['pctSomeCollegeManyYrsNoDegree'] = educData.Estimate_Total_SomeCollege1OrMoreYearsNoDegree / educData.Estimate_Total\n",
    "educPcts['pctGradPlus'] = (educData.Estimate_Total_DoctorateDegree + \\\n",
    "                          educData.Estimate_Total_MastersDegree ) / educData.Estimate_Total"
   ]
  },
  {
   "cell_type": "markdown",
   "metadata": {},
   "source": [
    "# Employment statistics"
   ]
  },
  {
   "cell_type": "code",
   "execution_count": 10,
   "metadata": {},
   "outputs": [
    {
     "data": {
      "application/vnd.jupyter.widget-view+json": {
       "model_id": "27652c1c916b4a4bb2a6fe9c83416948",
       "version_major": 2,
       "version_minor": 0
      },
      "text/plain": [
       "  0%|          | 0/1 [00:00<?, ?it/s]"
      ]
     },
     "metadata": {},
     "output_type": "display_data"
    },
    {
     "data": {
      "application/vnd.jupyter.widget-view+json": {
       "model_id": "0bcb2da7a1fd4d5c8ec3484ccb533659",
       "version_major": 2,
       "version_minor": 0
      },
      "text/plain": [
       "|          | 0/? [00:00<?, ?it/s]"
      ]
     },
     "metadata": {},
     "output_type": "display_data"
    }
   ],
   "source": [
    "emplVars = c.getVariablesByGroup(c.groups.EmploymentStatusForThePopulation16YearsAndOver.code)\n",
    "emplData = c.getStats(emplVars['code'].tolist(), *geoDomains)"
   ]
  },
  {
   "cell_type": "code",
   "execution_count": 11,
   "metadata": {},
   "outputs": [],
   "source": [
    "emplPcts = emplData.loc[:,['NAME', 'state', 'congressional district']]"
   ]
  },
  {
   "cell_type": "code",
   "execution_count": 12,
   "metadata": {},
   "outputs": [],
   "source": [
    "emplPcts['pctInLaborForce'] = (emplData.Estimate_Total_InLaborForce_CivilianLaborForce / \n",
    "                             emplData.Estimate_Total)\n",
    "emplPcts['pctEmployed'] = (emplData.Estimate_Total_InLaborForce_CivilianLaborForce_Employed /\n",
    "                         emplData.Estimate_Total_InLaborForce_CivilianLaborForce)\n",
    "emplPcts['pctUnemployed'] = (emplData.Estimate_Total_InLaborForce_CivilianLaborForce_Unemployed /\n",
    "                         emplData.Estimate_Total_InLaborForce_CivilianLaborForce)"
   ]
  },
  {
   "cell_type": "code",
   "execution_count": 13,
   "metadata": {},
   "outputs": [
    {
     "data": {
      "application/vnd.jupyter.widget-view+json": {
       "model_id": "a94c12213c1d4870946f23dc11d13ef4",
       "version_major": 2,
       "version_minor": 0
      },
      "text/plain": [
       "  0%|          | 0/1 [00:00<?, ?it/s]"
      ]
     },
     "metadata": {},
     "output_type": "display_data"
    },
    {
     "data": {
      "application/vnd.jupyter.widget-view+json": {
       "model_id": "d61385f1a1bf4d629edb0b9a8757c780",
       "version_major": 2,
       "version_minor": 0
      },
      "text/plain": [
       "|          | 0/? [00:00<?, ?it/s]"
      ]
     },
     "metadata": {},
     "output_type": "display_data"
    }
   ],
   "source": [
    "healthInsVars = c.getVariablesByGroup(c.groups.HealthInsuranceCoverageStatusBySexByAge.code)\n",
    "healthInsData = c.getStats(healthInsVars['code'].tolist(), *geoDomains)\n",
    "healthInsPct = healthInsData.loc[:,['NAME', 'state', 'congressional district']]"
   ]
  },
  {
   "cell_type": "code",
   "execution_count": 14,
   "metadata": {},
   "outputs": [],
   "source": [
    "healthInsPct['pctMaleWithIns'] = ( healthInsData.Estimate_Total_Male_19To64Years_WithHealthInsuranceCoverage /\n",
    "                                    healthInsData.Estimate_Total_Male_19To64Years)\n",
    "healthInsPct['pctFemWithIns'] = ( healthInsData.Estimate_Total_Female_19To64Years_WithHealthInsuranceCoverage /\n",
    "                                    healthInsData.Estimate_Total_Female_19To64Years)\n",
    "healthInsPct['pctMaleWithoutIns'] = ( healthInsData.Estimate_Total_Male_19To64Years_NoHealthInsuranceCoverage /\n",
    "                                    healthInsData.Estimate_Total_Male_19To64Years)\n",
    "healthInsPct['pctFemWithoutIns'] = ( healthInsData.Estimate_Total_Female_19To64Years_NoHealthInsuranceCoverage /\n",
    "                                    healthInsData.Estimate_Total_Female_19To64Years)\n",
    "healthInsPct['pctWithIns'] = (( healthInsData.Estimate_Total_Male_19To64Years_WithHealthInsuranceCoverage + \n",
    "                               healthInsData.Estimate_Total_Female_19To64Years_WithHealthInsuranceCoverage) /\n",
    "                                (healthInsData.Estimate_Total_Male_19To64Years +\n",
    "                                    healthInsData.Estimate_Total_Female_19To64Years))\n",
    "healthInsPct['pctWithoutIns'] = (( healthInsData.Estimate_Total_Male_19To64Years_NoHealthInsuranceCoverage +\n",
    "                                  healthInsData.Estimate_Total_Female_19To64Years_NoHealthInsuranceCoverage) /\n",
    "                                (healthInsData.Estimate_Total_Male_19To64Years +\n",
    "                                    healthInsData.Estimate_Total_Female_19To64Years))\n"
   ]
  },
  {
   "cell_type": "code",
   "execution_count": 15,
   "metadata": {},
   "outputs": [
    {
     "data": {
      "text/html": [
       "<div>\n",
       "<style scoped>\n",
       "    .dataframe tbody tr th:only-of-type {\n",
       "        vertical-align: middle;\n",
       "    }\n",
       "\n",
       "    .dataframe tbody tr th {\n",
       "        vertical-align: top;\n",
       "    }\n",
       "\n",
       "    .dataframe thead th {\n",
       "        text-align: right;\n",
       "    }\n",
       "</style>\n",
       "<table border=\"1\" class=\"dataframe\">\n",
       "  <thead>\n",
       "    <tr style=\"text-align: right;\">\n",
       "      <th></th>\n",
       "      <th>NAME</th>\n",
       "      <th>state</th>\n",
       "      <th>congressional district</th>\n",
       "      <th>pctMaleWithIns</th>\n",
       "      <th>pctFemWithIns</th>\n",
       "      <th>pctMaleWithoutIns</th>\n",
       "      <th>pctFemWithoutIns</th>\n",
       "      <th>pctWithIns</th>\n",
       "      <th>pctWithoutIns</th>\n",
       "    </tr>\n",
       "  </thead>\n",
       "  <tbody>\n",
       "    <tr>\n",
       "      <th>0</th>\n",
       "      <td>Congressional District (at Large) (116th Congress), Alaska</td>\n",
       "      <td>02</td>\n",
       "      <td>00</td>\n",
       "      <td>0.824244</td>\n",
       "      <td>0.859597</td>\n",
       "      <td>0.175756</td>\n",
       "      <td>0.140403</td>\n",
       "      <td>0.841665</td>\n",
       "      <td>0.158335</td>\n",
       "    </tr>\n",
       "    <tr>\n",
       "      <th>1</th>\n",
       "      <td>Congressional District (at Large) (116th Congress), Delaware</td>\n",
       "      <td>10</td>\n",
       "      <td>00</td>\n",
       "      <td>0.885137</td>\n",
       "      <td>0.926468</td>\n",
       "      <td>0.114863</td>\n",
       "      <td>0.073532</td>\n",
       "      <td>0.906714</td>\n",
       "      <td>0.093286</td>\n",
       "    </tr>\n",
       "  </tbody>\n",
       "</table>\n",
       "</div>"
      ],
      "text/plain": [
       "                                                           NAME state  \\\n",
       "0    Congressional District (at Large) (116th Congress), Alaska    02   \n",
       "1  Congressional District (at Large) (116th Congress), Delaware    10   \n",
       "\n",
       "  congressional district  pctMaleWithIns  pctFemWithIns  pctMaleWithoutIns  \\\n",
       "0                     00        0.824244       0.859597           0.175756   \n",
       "1                     00        0.885137       0.926468           0.114863   \n",
       "\n",
       "   pctFemWithoutIns  pctWithIns  pctWithoutIns  \n",
       "0          0.140403    0.841665       0.158335  \n",
       "1          0.073532    0.906714       0.093286  "
      ]
     },
     "execution_count": 15,
     "metadata": {},
     "output_type": "execute_result"
    }
   ],
   "source": [
    "healthInsPct.head(n=2)"
   ]
  },
  {
   "cell_type": "markdown",
   "metadata": {},
   "source": [
    "# Gini Index"
   ]
  },
  {
   "cell_type": "code",
   "execution_count": 16,
   "metadata": {},
   "outputs": [
    {
     "data": {
      "application/vnd.jupyter.widget-view+json": {
       "model_id": "2b46755772024e4a9edf0e3e10860f93",
       "version_major": 2,
       "version_minor": 0
      },
      "text/plain": [
       "  0%|          | 0/1 [00:00<?, ?it/s]"
      ]
     },
     "metadata": {},
     "output_type": "display_data"
    },
    {
     "data": {
      "application/vnd.jupyter.widget-view+json": {
       "model_id": "d55fededb26f4bbca183db5383f2e5d0",
       "version_major": 2,
       "version_minor": 0
      },
      "text/plain": [
       "|          | 0/? [00:00<?, ?it/s]"
      ]
     },
     "metadata": {},
     "output_type": "display_data"
    }
   ],
   "source": [
    "giniVars = c.getVariablesByGroup(c.groups.GiniIndexOfIncomeInequality.code)\n",
    "giniData = c.getStats(giniVars['code'].tolist(), *geoDomains)"
   ]
  },
  {
   "cell_type": "code",
   "execution_count": 17,
   "metadata": {},
   "outputs": [
    {
     "data": {
      "text/plain": [
       "count    437.000000\n",
       "mean       0.459643\n",
       "std        0.031104\n",
       "min        0.392500\n",
       "25%        0.439100\n",
       "50%        0.456200\n",
       "75%        0.475000\n",
       "max        0.581900\n",
       "Name: Estimate_GiniIndex, dtype: float64"
      ]
     },
     "execution_count": 17,
     "metadata": {},
     "output_type": "execute_result"
    }
   ],
   "source": [
    "giniData.Estimate_GiniIndex.describe()"
   ]
  },
  {
   "cell_type": "markdown",
   "metadata": {},
   "source": [
    "# Income"
   ]
  },
  {
   "cell_type": "code",
   "execution_count": 18,
   "metadata": {},
   "outputs": [
    {
     "data": {
      "application/vnd.jupyter.widget-view+json": {
       "model_id": "12ebecfa9d2b4b93b92826164dbc0af8",
       "version_major": 2,
       "version_minor": 0
      },
      "text/plain": [
       "  0%|          | 0/1 [00:00<?, ?it/s]"
      ]
     },
     "metadata": {},
     "output_type": "display_data"
    },
    {
     "data": {
      "application/vnd.jupyter.widget-view+json": {
       "model_id": "1260fbcd679b419b8ee66494981a927e",
       "version_major": 2,
       "version_minor": 0
      },
      "text/plain": [
       "|          | 0/? [00:00<?, ?it/s]"
      ]
     },
     "metadata": {},
     "output_type": "display_data"
    },
    {
     "data": {
      "application/vnd.jupyter.widget-view+json": {
       "model_id": "9b395e2947cd4cbebbf001a5d54ace77",
       "version_major": 2,
       "version_minor": 0
      },
      "text/plain": [
       "  0%|          | 0/1 [00:00<?, ?it/s]"
      ]
     },
     "metadata": {},
     "output_type": "display_data"
    },
    {
     "data": {
      "application/vnd.jupyter.widget-view+json": {
       "model_id": "e1d9f9feb9db4be4976cdf421f6d088a",
       "version_major": 2,
       "version_minor": 0
      },
      "text/plain": [
       "|          | 0/? [00:00<?, ?it/s]"
      ]
     },
     "metadata": {},
     "output_type": "display_data"
    }
   ],
   "source": [
    "c.searchGroups('aggregate income')\n",
    "\n",
    "incomeVars = c.getVariablesByGroup(c.groups.AggregateIncomeInThePast12MonthsIn2019InflationAdjustedDollars.code)\n",
    "incomeData = c.getStats(incomeVars['code'].tolist(), *geoDomains)\n",
    "\n",
    "populationVars = c.getVariablesByGroup(c.groups.TotalPopulation.code)\n",
    "populationData = c.getStats(populationVars['code'].tolist(), *geoDomains)"
   ]
  },
  {
   "cell_type": "code",
   "execution_count": 19,
   "metadata": {},
   "outputs": [],
   "source": [
    "avgIncome = incomeData.loc[:,['NAME', 'state', 'congressional district']]\n",
    "\n",
    "avgIncome['avgIncome'] = (incomeData.Estimate_AggregateIncomeInThePast12MonthsIn2019InflationAdjustedDollars /\n",
    "                         populationData.Estimate_Total)"
   ]
  },
  {
   "cell_type": "code",
   "execution_count": 20,
   "metadata": {},
   "outputs": [
    {
     "data": {
      "text/html": [
       "<div>\n",
       "<style scoped>\n",
       "    .dataframe tbody tr th:only-of-type {\n",
       "        vertical-align: middle;\n",
       "    }\n",
       "\n",
       "    .dataframe tbody tr th {\n",
       "        vertical-align: top;\n",
       "    }\n",
       "\n",
       "    .dataframe thead th {\n",
       "        text-align: right;\n",
       "    }\n",
       "</style>\n",
       "<table border=\"1\" class=\"dataframe\">\n",
       "  <thead>\n",
       "    <tr style=\"text-align: right;\">\n",
       "      <th></th>\n",
       "      <th>NAME</th>\n",
       "      <th>state</th>\n",
       "      <th>congressional district</th>\n",
       "      <th>avgIncome</th>\n",
       "    </tr>\n",
       "  </thead>\n",
       "  <tbody>\n",
       "    <tr>\n",
       "      <th>0</th>\n",
       "      <td>Congressional District (at Large) (116th Congress), Alaska</td>\n",
       "      <td>02</td>\n",
       "      <td>00</td>\n",
       "      <td>36977.864246</td>\n",
       "    </tr>\n",
       "    <tr>\n",
       "      <th>1</th>\n",
       "      <td>Congressional District (at Large) (116th Congress), Delaware</td>\n",
       "      <td>10</td>\n",
       "      <td>00</td>\n",
       "      <td>36857.973698</td>\n",
       "    </tr>\n",
       "  </tbody>\n",
       "</table>\n",
       "</div>"
      ],
      "text/plain": [
       "                                                           NAME state  \\\n",
       "0    Congressional District (at Large) (116th Congress), Alaska    02   \n",
       "1  Congressional District (at Large) (116th Congress), Delaware    10   \n",
       "\n",
       "  congressional district     avgIncome  \n",
       "0                     00  36977.864246  \n",
       "1                     00  36857.973698  "
      ]
     },
     "execution_count": 20,
     "metadata": {},
     "output_type": "execute_result"
    }
   ],
   "source": [
    "avgIncome.head(n=2)"
   ]
  },
  {
   "cell_type": "markdown",
   "metadata": {},
   "source": [
    "# Internet access"
   ]
  },
  {
   "cell_type": "code",
   "execution_count": 21,
   "metadata": {},
   "outputs": [
    {
     "data": {
      "application/vnd.jupyter.widget-view+json": {
       "model_id": "91ac50e8d4e84f07bd19e55f99cf3631",
       "version_major": 2,
       "version_minor": 0
      },
      "text/plain": [
       "  0%|          | 0/1 [00:00<?, ?it/s]"
      ]
     },
     "metadata": {},
     "output_type": "display_data"
    },
    {
     "data": {
      "application/vnd.jupyter.widget-view+json": {
       "model_id": "df1d597597f84c6e89af799c1d679e8b",
       "version_major": 2,
       "version_minor": 0
      },
      "text/plain": [
       "|          | 0/? [00:00<?, ?it/s]"
      ]
     },
     "metadata": {},
     "output_type": "display_data"
    }
   ],
   "source": [
    "c.searchGroups('internet')\n",
    "internetVars = c.getVariablesByGroup(c.groups.PresenceAndTypesOfInternetSubscriptionsInHousehold.code)\n",
    "internetData = c.getStats(internetVars['code'].tolist(), *geoDomains)"
   ]
  },
  {
   "cell_type": "code",
   "execution_count": 22,
   "metadata": {},
   "outputs": [
    {
     "data": {
      "text/plain": [
       "['Estimate_Total',\n",
       " 'Estimate_Total_WithAnInternetSubscription',\n",
       " 'Estimate_Total_WithAnInternetSubscription_DialUpWithNoOtherTypeOfInternetSubscription',\n",
       " 'Estimate_Total_WithAnInternetSubscription_BroadbandOfAnyType',\n",
       " 'Estimate_Total_WithAnInternetSubscription_CellularDataPlan',\n",
       " 'Estimate_Total_WithAnInternetSubscription_CellularDataPlan_CellularDataPlanWithNoOtherTypeOfInternetSubscription',\n",
       " 'Estimate_Total_WithAnInternetSubscription_BroadbandSuchAsCableFiberOpticOrDsl',\n",
       " 'Estimate_Total_WithAnInternetSubscription_BroadbandSuchAsCableFiberOpticOrDsl_BroadbandSuchAsCableFiberOpticOrDslWithNoOtherTypeOfInternetSubscription',\n",
       " 'Estimate_Total_WithAnInternetSubscription_SatelliteInternetService',\n",
       " 'Estimate_Total_WithAnInternetSubscription_SatelliteInternetService_SatelliteInternetServiceWithNoOtherTypeOfInternetSubscription',\n",
       " 'Estimate_Total_WithAnInternetSubscription_OtherServiceWithNoOtherTypeOfInternetSubscription',\n",
       " 'Estimate_Total_InternetAccessWithoutASubscription',\n",
       " 'Estimate_Total_NoInternetAccess']"
      ]
     },
     "execution_count": 22,
     "metadata": {},
     "output_type": "execute_result"
    }
   ],
   "source": [
    "[col for col in internetData.columns.tolist() if col.startswith('Estimate')]"
   ]
  },
  {
   "cell_type": "code",
   "execution_count": 23,
   "metadata": {},
   "outputs": [],
   "source": [
    "pctInternetAccess = internetData.loc[:,['NAME', 'state', 'congressional district']]\n",
    "\n",
    "pctInternetAccess['pctHasInternet'] = (internetData.Estimate_Total_WithAnInternetSubscription /\n",
    "                                      internetData.Estimate_Total)\n",
    "pctInternetAccess['pctHasNoInternet'] = (internetData.Estimate_Total_NoInternetAccess /\n",
    "                                        internetData.Estimate_Total)\n",
    "pctInternetAccess['pctCellData'] = (internetData.Estimate_Total_WithAnInternetSubscription_CellularDataPlan /\n",
    "                                   internetData.Estimate_Total_WithAnInternetSubscription) * pctInternetAccess.pctHasInternet"
   ]
  },
  {
   "cell_type": "code",
   "execution_count": 24,
   "metadata": {},
   "outputs": [
    {
     "data": {
      "text/html": [
       "<div>\n",
       "<style scoped>\n",
       "    .dataframe tbody tr th:only-of-type {\n",
       "        vertical-align: middle;\n",
       "    }\n",
       "\n",
       "    .dataframe tbody tr th {\n",
       "        vertical-align: top;\n",
       "    }\n",
       "\n",
       "    .dataframe thead th {\n",
       "        text-align: right;\n",
       "    }\n",
       "</style>\n",
       "<table border=\"1\" class=\"dataframe\">\n",
       "  <thead>\n",
       "    <tr style=\"text-align: right;\">\n",
       "      <th></th>\n",
       "      <th>NAME</th>\n",
       "      <th>state</th>\n",
       "      <th>congressional district</th>\n",
       "      <th>pctHasInternet</th>\n",
       "      <th>pctHasNoInternet</th>\n",
       "      <th>pctCellData</th>\n",
       "    </tr>\n",
       "  </thead>\n",
       "  <tbody>\n",
       "    <tr>\n",
       "      <th>0</th>\n",
       "      <td>Congressional District (at Large) (116th Congress), Alaska</td>\n",
       "      <td>02</td>\n",
       "      <td>00</td>\n",
       "      <td>0.879718</td>\n",
       "      <td>0.102407</td>\n",
       "      <td>0.808909</td>\n",
       "    </tr>\n",
       "    <tr>\n",
       "      <th>1</th>\n",
       "      <td>Congressional District (at Large) (116th Congress), Delaware</td>\n",
       "      <td>10</td>\n",
       "      <td>00</td>\n",
       "      <td>0.889004</td>\n",
       "      <td>0.086169</td>\n",
       "      <td>0.820859</td>\n",
       "    </tr>\n",
       "  </tbody>\n",
       "</table>\n",
       "</div>"
      ],
      "text/plain": [
       "                                                           NAME state  \\\n",
       "0    Congressional District (at Large) (116th Congress), Alaska    02   \n",
       "1  Congressional District (at Large) (116th Congress), Delaware    10   \n",
       "\n",
       "  congressional district  pctHasInternet  pctHasNoInternet  pctCellData  \n",
       "0                     00        0.879718          0.102407     0.808909  \n",
       "1                     00        0.889004          0.086169     0.820859  "
      ]
     },
     "execution_count": 24,
     "metadata": {},
     "output_type": "execute_result"
    }
   ],
   "source": [
    "pctInternetAccess.head(n=2)"
   ]
  },
  {
   "cell_type": "markdown",
   "metadata": {},
   "source": [
    "# Tech access"
   ]
  },
  {
   "cell_type": "code",
   "execution_count": 25,
   "metadata": {},
   "outputs": [
    {
     "data": {
      "application/vnd.jupyter.widget-view+json": {
       "model_id": "cec83a8cd6eb4e98a996fdb743b26d37",
       "version_major": 2,
       "version_minor": 0
      },
      "text/plain": [
       "  0%|          | 0/1 [00:00<?, ?it/s]"
      ]
     },
     "metadata": {},
     "output_type": "display_data"
    }
   ],
   "source": [
    "computerVars = c.getVariablesByGroup(c.groups.TypesOfComputersInHousehold.code)"
   ]
  },
  {
   "cell_type": "code",
   "execution_count": 26,
   "metadata": {},
   "outputs": [
    {
     "data": {
      "text/plain": [
       "['Estimate!!Total:',\n",
       " 'Estimate!!Total:!!Has one or more types of computing devices:',\n",
       " 'Estimate!!Total:!!Has one or more types of computing devices:!!Desktop or laptop',\n",
       " 'Estimate!!Total:!!Has one or more types of computing devices:!!Desktop or laptop!!Desktop or laptop with no other type of computing device',\n",
       " 'Estimate!!Total:!!Has one or more types of computing devices:!!Smartphone',\n",
       " 'Estimate!!Total:!!Has one or more types of computing devices:!!Smartphone!!Smartphone with no other type of computing device',\n",
       " 'Estimate!!Total:!!Has one or more types of computing devices:!!Tablet or other portable wireless computer',\n",
       " 'Estimate!!Total:!!Has one or more types of computing devices:!!Tablet or other portable wireless computer!!Tablet or other portable wireless computer with no other type of computing device',\n",
       " 'Estimate!!Total:!!Has one or more types of computing devices:!!Other computer',\n",
       " 'Estimate!!Total:!!Has one or more types of computing devices:!!Other computer!!Other computer with no other type of computing device',\n",
       " 'Estimate!!Total:!!No Computer']"
      ]
     },
     "execution_count": 26,
     "metadata": {},
     "output_type": "execute_result"
    }
   ],
   "source": [
    "[var for var in computerVars['name'].tolist() if var.startswith('Estimate')]"
   ]
  },
  {
   "cell_type": "code",
   "execution_count": 27,
   "metadata": {},
   "outputs": [
    {
     "data": {
      "application/vnd.jupyter.widget-view+json": {
       "model_id": "c3217adff94144a496e24c4c9b27564f",
       "version_major": 2,
       "version_minor": 0
      },
      "text/plain": [
       "|          | 0/? [00:00<?, ?it/s]"
      ]
     },
     "metadata": {},
     "output_type": "display_data"
    }
   ],
   "source": [
    "computerStats = c.getStats(computerVars['code'].tolist(), *geoDomains)"
   ]
  },
  {
   "cell_type": "code",
   "execution_count": 28,
   "metadata": {},
   "outputs": [],
   "source": [
    "computerPcts = computerStats.loc[:,[\"NAME\", \"state\", \"congressional district\"]]\n",
    "\n",
    "computerPcts['pctHasTech'] = (computerStats.Estimate_Total_HasOneOrMoreTypesOfComputingDevices /\n",
    "                                 computerStats.Estimate_Total)\n",
    "computerPcts['pctNoTech'] = (computerStats.Estimate_Total_NoComputer / \n",
    "                                computerStats.Estimate_Total)\n",
    "computerPcts['pctSmartphone'] = (computerStats.Estimate_Total_HasOneOrMoreTypesOfComputingDevices_Smartphone /\n",
    "                               computerStats.Estimate_Total)\n",
    "computerPcts['pctNoSmartphone'] = 1 - computerPcts.pctSmartphone"
   ]
  },
  {
   "cell_type": "code",
   "execution_count": 29,
   "metadata": {},
   "outputs": [
    {
     "data": {
      "text/html": [
       "<div>\n",
       "<style scoped>\n",
       "    .dataframe tbody tr th:only-of-type {\n",
       "        vertical-align: middle;\n",
       "    }\n",
       "\n",
       "    .dataframe tbody tr th {\n",
       "        vertical-align: top;\n",
       "    }\n",
       "\n",
       "    .dataframe thead th {\n",
       "        text-align: right;\n",
       "    }\n",
       "</style>\n",
       "<table border=\"1\" class=\"dataframe\">\n",
       "  <thead>\n",
       "    <tr style=\"text-align: right;\">\n",
       "      <th></th>\n",
       "      <th>NAME</th>\n",
       "      <th>state</th>\n",
       "      <th>congressional district</th>\n",
       "      <th>pctHasTech</th>\n",
       "      <th>pctNoTech</th>\n",
       "      <th>pctSmartphone</th>\n",
       "      <th>pctNoSmartphone</th>\n",
       "    </tr>\n",
       "  </thead>\n",
       "  <tbody>\n",
       "    <tr>\n",
       "      <th>0</th>\n",
       "      <td>Congressional District (at Large) (116th Congress), Alaska</td>\n",
       "      <td>02</td>\n",
       "      <td>00</td>\n",
       "      <td>0.952728</td>\n",
       "      <td>0.047272</td>\n",
       "      <td>0.907712</td>\n",
       "      <td>0.092288</td>\n",
       "    </tr>\n",
       "    <tr>\n",
       "      <th>1</th>\n",
       "      <td>Congressional District (at Large) (116th Congress), Delaware</td>\n",
       "      <td>10</td>\n",
       "      <td>00</td>\n",
       "      <td>0.941136</td>\n",
       "      <td>0.058864</td>\n",
       "      <td>0.877841</td>\n",
       "      <td>0.122159</td>\n",
       "    </tr>\n",
       "  </tbody>\n",
       "</table>\n",
       "</div>"
      ],
      "text/plain": [
       "                                                           NAME state  \\\n",
       "0    Congressional District (at Large) (116th Congress), Alaska    02   \n",
       "1  Congressional District (at Large) (116th Congress), Delaware    10   \n",
       "\n",
       "  congressional district  pctHasTech  pctNoTech  pctSmartphone  \\\n",
       "0                     00    0.952728   0.047272       0.907712   \n",
       "1                     00    0.941136   0.058864       0.877841   \n",
       "\n",
       "   pctNoSmartphone  \n",
       "0         0.092288  \n",
       "1         0.122159  "
      ]
     },
     "execution_count": 29,
     "metadata": {},
     "output_type": "execute_result"
    }
   ],
   "source": [
    "computerPcts.head(n=2)"
   ]
  },
  {
   "cell_type": "markdown",
   "metadata": {},
   "source": [
    "# Language spoken at home"
   ]
  },
  {
   "cell_type": "code",
   "execution_count": 30,
   "metadata": {},
   "outputs": [
    {
     "data": {
      "text/plain": [
       "('HouseholdLanguageByHouseholdLimitedEnglishSpeakingStatus',)"
      ]
     },
     "execution_count": 30,
     "metadata": {},
     "output_type": "execute_result"
    }
   ],
   "source": [
    " 'LanguageSpokenAtHomeForThePopulation5YearsAndOver',\n",
    " 'HouseholdLanguageByHouseholdLimitedEnglishSpeakingStatus',"
   ]
  },
  {
   "cell_type": "markdown",
   "metadata": {},
   "source": [
    "# Work commute"
   ]
  },
  {
   "cell_type": "code",
   "execution_count": 31,
   "metadata": {},
   "outputs": [
    {
     "data": {
      "application/vnd.jupyter.widget-view+json": {
       "model_id": "8f923dfd082a40a49d27188727e3144c",
       "version_major": 2,
       "version_minor": 0
      },
      "text/plain": [
       "  0%|          | 0/1 [00:00<?, ?it/s]"
      ]
     },
     "metadata": {},
     "output_type": "display_data"
    },
    {
     "data": {
      "application/vnd.jupyter.widget-view+json": {
       "model_id": "b08716585a704ced9fd3514ac20823f4",
       "version_major": 2,
       "version_minor": 0
      },
      "text/plain": [
       "|          | 0/? [00:00<?, ?it/s]"
      ]
     },
     "metadata": {},
     "output_type": "display_data"
    }
   ],
   "source": [
    "transportationVars = c.getVariablesByGroup(c.groups.MeansOfTransportationToWork.code)\n",
    "transportationStats = c.getStats(transportationVars['code'].tolist(), *geoDomains)"
   ]
  },
  {
   "cell_type": "code",
   "execution_count": 32,
   "metadata": {},
   "outputs": [
    {
     "data": {
      "text/plain": [
       "['Estimate_Total',\n",
       " 'Estimate_Total_CarTruckOrVan',\n",
       " 'Estimate_Total_CarTruckOrVan_DroveAlone',\n",
       " 'Estimate_Total_CarTruckOrVan_Carpooled',\n",
       " 'Estimate_Total_CarTruckOrVan_Carpooled_In2PersonCarpool',\n",
       " 'Estimate_Total_CarTruckOrVan_Carpooled_In3PersonCarpool',\n",
       " 'Estimate_Total_CarTruckOrVan_Carpooled_In4OrMorePersonCarpool',\n",
       " 'Estimate_Total_PublicTransportationExcludingTaxicab',\n",
       " 'Estimate_Total_Walked',\n",
       " 'Estimate_Total_TaxicabMotorcycleBicycleOrOtherMeans',\n",
       " 'Estimate_Total_WorkedFromHome']"
      ]
     },
     "execution_count": 32,
     "metadata": {},
     "output_type": "execute_result"
    }
   ],
   "source": [
    "[stat for stat in transportationStats.columns.tolist() if stat.startswith('Estimate')]"
   ]
  },
  {
   "cell_type": "markdown",
   "metadata": {},
   "source": [
    "# Commute time"
   ]
  },
  {
   "cell_type": "code",
   "execution_count": 33,
   "metadata": {},
   "outputs": [
    {
     "data": {
      "text/html": [
       "<div>\n",
       "<style scoped>\n",
       "    .dataframe tbody tr th:only-of-type {\n",
       "        vertical-align: middle;\n",
       "    }\n",
       "\n",
       "    .dataframe tbody tr th {\n",
       "        vertical-align: top;\n",
       "    }\n",
       "\n",
       "    .dataframe thead th {\n",
       "        text-align: right;\n",
       "    }\n",
       "</style>\n",
       "<table border=\"1\" class=\"dataframe\">\n",
       "  <thead>\n",
       "    <tr style=\"text-align: right;\">\n",
       "      <th></th>\n",
       "      <th>code</th>\n",
       "      <th>description</th>\n",
       "    </tr>\n",
       "  </thead>\n",
       "  <tbody>\n",
       "    <tr>\n",
       "      <th>0</th>\n",
       "      <td>B08012</td>\n",
       "      <td>SEX OF WORKERS BY TRAVEL TIME TO WORK</td>\n",
       "    </tr>\n",
       "    <tr>\n",
       "      <th>1</th>\n",
       "      <td>B08013</td>\n",
       "      <td>AGGREGATE TRAVEL TIME TO WORK (IN MINUTES) OF WORKERS BY SEX</td>\n",
       "    </tr>\n",
       "    <tr>\n",
       "      <th>2</th>\n",
       "      <td>B08131</td>\n",
       "      <td>AGGREGATE TRAVEL TIME TO WORK (IN MINUTES) OF WORKERS BY PLACE OF WORK--STATE AND COUNTY LEVEL</td>\n",
       "    </tr>\n",
       "    <tr>\n",
       "      <th>3</th>\n",
       "      <td>B08133</td>\n",
       "      <td>AGGREGATE TRAVEL TIME TO WORK (IN MINUTES) OF WORKERS BY TIME OF DEPARTURE TO GO TO WORK</td>\n",
       "    </tr>\n",
       "    <tr>\n",
       "      <th>4</th>\n",
       "      <td>B08134</td>\n",
       "      <td>MEANS OF TRANSPORTATION TO WORK BY TRAVEL TIME TO WORK</td>\n",
       "    </tr>\n",
       "    <tr>\n",
       "      <th>5</th>\n",
       "      <td>B08135</td>\n",
       "      <td>AGGREGATE TRAVEL TIME TO WORK (IN MINUTES) OF WORKERS BY TRAVEL TIME TO WORK</td>\n",
       "    </tr>\n",
       "    <tr>\n",
       "      <th>6</th>\n",
       "      <td>B08136</td>\n",
       "      <td>AGGREGATE TRAVEL TIME TO WORK (IN MINUTES) OF WORKERS BY MEANS OF TRANSPORTATION TO WORK</td>\n",
       "    </tr>\n",
       "    <tr>\n",
       "      <th>7</th>\n",
       "      <td>B08303</td>\n",
       "      <td>TRAVEL TIME TO WORK</td>\n",
       "    </tr>\n",
       "    <tr>\n",
       "      <th>8</th>\n",
       "      <td>B08412</td>\n",
       "      <td>SEX OF WORKERS BY TRAVEL TIME TO WORK FOR WORKPLACE GEOGRAPHY</td>\n",
       "    </tr>\n",
       "    <tr>\n",
       "      <th>9</th>\n",
       "      <td>B08534</td>\n",
       "      <td>MEANS OF TRANSPORTATION TO WORK BY TRAVEL TIME TO WORK FOR WORKPLACE GEOGRAPHY</td>\n",
       "    </tr>\n",
       "    <tr>\n",
       "      <th>10</th>\n",
       "      <td>B08536</td>\n",
       "      <td>AGGREGATE TRAVEL TIME TO WORK (IN MINUTES) OF WORKERS BY MEANS OF TRANSPORTATION TO WORK FOR WORKPLACE GEOGRAPHY</td>\n",
       "    </tr>\n",
       "    <tr>\n",
       "      <th>11</th>\n",
       "      <td>B08603</td>\n",
       "      <td>TRAVEL TIME TO WORK FOR WORKPLACE GEOGRAPHY</td>\n",
       "    </tr>\n",
       "    <tr>\n",
       "      <th>12</th>\n",
       "      <td>B99084</td>\n",
       "      <td>ALLOCATION OF TRAVEL TIME TO WORK</td>\n",
       "    </tr>\n",
       "    <tr>\n",
       "      <th>13</th>\n",
       "      <td>B99088</td>\n",
       "      <td>ALLOCATION OF TRAVEL TIME TO WORK FOR WORKPLACE GEOGRAPHY</td>\n",
       "    </tr>\n",
       "    <tr>\n",
       "      <th>14</th>\n",
       "      <td>C08134</td>\n",
       "      <td>MEANS OF TRANSPORTATION TO WORK BY TRAVEL TIME TO WORK</td>\n",
       "    </tr>\n",
       "    <tr>\n",
       "      <th>15</th>\n",
       "      <td>C08136</td>\n",
       "      <td>AGGREGATE TRAVEL TIME TO WORK (IN MINUTES) OF WORKERS BY MEANS OF TRANSPORTATION TO WORK</td>\n",
       "    </tr>\n",
       "    <tr>\n",
       "      <th>16</th>\n",
       "      <td>C08534</td>\n",
       "      <td>MEANS OF TRANSPORTATION TO WORK BY TRAVEL TIME TO WORK FOR WORKPLACE GEOGRAPHY</td>\n",
       "    </tr>\n",
       "    <tr>\n",
       "      <th>17</th>\n",
       "      <td>C08536</td>\n",
       "      <td>AGGREGATE TRAVEL TIME TO WORK (IN MINUTES) OF WORKERS BY MEANS OF TRANSPORTATION TO WORK FOR WORKPLACE GEOGRAPHY</td>\n",
       "    </tr>\n",
       "  </tbody>\n",
       "</table>\n",
       "</div>"
      ],
      "text/plain": [
       "      code  \\\n",
       "0   B08012   \n",
       "1   B08013   \n",
       "2   B08131   \n",
       "3   B08133   \n",
       "4   B08134   \n",
       "5   B08135   \n",
       "6   B08136   \n",
       "7   B08303   \n",
       "8   B08412   \n",
       "9   B08534   \n",
       "10  B08536   \n",
       "11  B08603   \n",
       "12  B99084   \n",
       "13  B99088   \n",
       "14  C08134   \n",
       "15  C08136   \n",
       "16  C08534   \n",
       "17  C08536   \n",
       "\n",
       "                                                                                                         description  \n",
       "0                                                                              SEX OF WORKERS BY TRAVEL TIME TO WORK  \n",
       "1                                                       AGGREGATE TRAVEL TIME TO WORK (IN MINUTES) OF WORKERS BY SEX  \n",
       "2                     AGGREGATE TRAVEL TIME TO WORK (IN MINUTES) OF WORKERS BY PLACE OF WORK--STATE AND COUNTY LEVEL  \n",
       "3                           AGGREGATE TRAVEL TIME TO WORK (IN MINUTES) OF WORKERS BY TIME OF DEPARTURE TO GO TO WORK  \n",
       "4                                                             MEANS OF TRANSPORTATION TO WORK BY TRAVEL TIME TO WORK  \n",
       "5                                       AGGREGATE TRAVEL TIME TO WORK (IN MINUTES) OF WORKERS BY TRAVEL TIME TO WORK  \n",
       "6                           AGGREGATE TRAVEL TIME TO WORK (IN MINUTES) OF WORKERS BY MEANS OF TRANSPORTATION TO WORK  \n",
       "7                                                                                                TRAVEL TIME TO WORK  \n",
       "8                                                      SEX OF WORKERS BY TRAVEL TIME TO WORK FOR WORKPLACE GEOGRAPHY  \n",
       "9                                     MEANS OF TRANSPORTATION TO WORK BY TRAVEL TIME TO WORK FOR WORKPLACE GEOGRAPHY  \n",
       "10  AGGREGATE TRAVEL TIME TO WORK (IN MINUTES) OF WORKERS BY MEANS OF TRANSPORTATION TO WORK FOR WORKPLACE GEOGRAPHY  \n",
       "11                                                                       TRAVEL TIME TO WORK FOR WORKPLACE GEOGRAPHY  \n",
       "12                                                                                 ALLOCATION OF TRAVEL TIME TO WORK  \n",
       "13                                                         ALLOCATION OF TRAVEL TIME TO WORK FOR WORKPLACE GEOGRAPHY  \n",
       "14                                                            MEANS OF TRANSPORTATION TO WORK BY TRAVEL TIME TO WORK  \n",
       "15                          AGGREGATE TRAVEL TIME TO WORK (IN MINUTES) OF WORKERS BY MEANS OF TRANSPORTATION TO WORK  \n",
       "16                                    MEANS OF TRANSPORTATION TO WORK BY TRAVEL TIME TO WORK FOR WORKPLACE GEOGRAPHY  \n",
       "17  AGGREGATE TRAVEL TIME TO WORK (IN MINUTES) OF WORKERS BY MEANS OF TRANSPORTATION TO WORK FOR WORKPLACE GEOGRAPHY  "
      ]
     },
     "execution_count": 33,
     "metadata": {},
     "output_type": "execute_result"
    }
   ],
   "source": [
    "c.searchGroups('travel')"
   ]
  },
  {
   "cell_type": "markdown",
   "metadata": {},
   "source": [
    "# Means of transportation by commute time"
   ]
  },
  {
   "cell_type": "code",
   "execution_count": 34,
   "metadata": {},
   "outputs": [
    {
     "data": {
      "application/vnd.jupyter.widget-view+json": {
       "model_id": "6dd4edc8208a490d907915b1bb2feaae",
       "version_major": 2,
       "version_minor": 0
      },
      "text/plain": [
       "  0%|          | 0/1 [00:00<?, ?it/s]"
      ]
     },
     "metadata": {},
     "output_type": "display_data"
    },
    {
     "data": {
      "application/vnd.jupyter.widget-view+json": {
       "model_id": "cc5a5218499544aea88490fe07e358dd",
       "version_major": 2,
       "version_minor": 0
      },
      "text/plain": [
       "|          | 0/? [00:00<?, ?it/s]"
      ]
     },
     "metadata": {},
     "output_type": "display_data"
    }
   ],
   "source": [
    "transByCommuteTimeVars = c.getVariablesByGroup(c.groups.MeansOfTransportationToWorkByTravelTimeToWork.code)\n",
    "transByCommuteTimeStats = c.getStats(transByCommuteTimeVars['code'].tolist(), *geoDomains)"
   ]
  },
  {
   "cell_type": "code",
   "execution_count": 35,
   "metadata": {},
   "outputs": [],
   "source": [
    "cols = [col for col in transByCommuteTimeStats.columns.tolist() if col.startswith('Estimate')]\n",
    "transByCommuteTimeStats = transByCommuteTimeStats[['NAME', 'state', 'congressional district'] + cols]"
   ]
  },
  {
   "cell_type": "code",
   "execution_count": 36,
   "metadata": {},
   "outputs": [],
   "source": [
    "transByCommuteTimePcts = transByCommuteTimeStats.loc[:,['NAME', 'state', 'congressional district']]\n",
    "\n",
    "transByCommuteTimePcts['pctLt10'] = (transByCommuteTimeStats.Estimate_Total_LessThan10Minutes /\n",
    "                                    transByCommuteTimeStats.Estimate_Total)\n",
    "transByCommuteTimePcts['pct10to14'] = (transByCommuteTimeStats.Estimate_Total_10To14Minutes /\n",
    "                                    transByCommuteTimeStats.Estimate_Total)\n",
    "transByCommuteTimePcts['pct15to19'] = (transByCommuteTimeStats.Estimate_Total_15To19Minutes /\n",
    "                                    transByCommuteTimeStats.Estimate_Total)\n",
    "transByCommuteTimePcts['pct20to24'] = (transByCommuteTimeStats.Estimate_Total_20To24Minutes /\n",
    "                                    transByCommuteTimeStats.Estimate_Total)\n",
    "transByCommuteTimePcts['pct25to29'] = (transByCommuteTimeStats.Estimate_Total_25To29Minutes /\n",
    "                                    transByCommuteTimeStats.Estimate_Total)\n",
    "transByCommuteTimePcts['pct30to34'] = (transByCommuteTimeStats.Estimate_Total_30To34Minutes /\n",
    "                                    transByCommuteTimeStats.Estimate_Total)\n",
    "transByCommuteTimePcts['pct35to44'] = (transByCommuteTimeStats.Estimate_Total_35To44Minutes /\n",
    "                                    transByCommuteTimeStats.Estimate_Total)\n",
    "transByCommuteTimePcts['pct44to59'] = (transByCommuteTimeStats.Estimate_Total_45To59Minutes /\n",
    "                                    transByCommuteTimeStats.Estimate_Total)\n",
    "transByCommuteTimePcts['pct60plus'] = (transByCommuteTimeStats.Estimate_Total_60OrMoreMinutes /\n",
    "                                    transByCommuteTimeStats.Estimate_Total)"
   ]
  },
  {
   "cell_type": "code",
   "execution_count": 37,
   "metadata": {},
   "outputs": [
    {
     "data": {
      "text/html": [
       "<div>\n",
       "<style scoped>\n",
       "    .dataframe tbody tr th:only-of-type {\n",
       "        vertical-align: middle;\n",
       "    }\n",
       "\n",
       "    .dataframe tbody tr th {\n",
       "        vertical-align: top;\n",
       "    }\n",
       "\n",
       "    .dataframe thead th {\n",
       "        text-align: right;\n",
       "    }\n",
       "</style>\n",
       "<table border=\"1\" class=\"dataframe\">\n",
       "  <thead>\n",
       "    <tr style=\"text-align: right;\">\n",
       "      <th></th>\n",
       "      <th>pctLt10</th>\n",
       "      <th>pct10to14</th>\n",
       "      <th>pct15to19</th>\n",
       "      <th>pct20to24</th>\n",
       "      <th>pct25to29</th>\n",
       "      <th>pct30to34</th>\n",
       "      <th>pct35to44</th>\n",
       "      <th>pct44to59</th>\n",
       "      <th>pct60plus</th>\n",
       "    </tr>\n",
       "  </thead>\n",
       "  <tbody>\n",
       "    <tr>\n",
       "      <th>count</th>\n",
       "      <td>437.000000</td>\n",
       "      <td>437.000000</td>\n",
       "      <td>437.000000</td>\n",
       "      <td>437.000000</td>\n",
       "      <td>437.000000</td>\n",
       "      <td>437.000000</td>\n",
       "      <td>437.000000</td>\n",
       "      <td>437.000000</td>\n",
       "      <td>437.000000</td>\n",
       "    </tr>\n",
       "    <tr>\n",
       "      <th>mean</th>\n",
       "      <td>0.121342</td>\n",
       "      <td>0.130172</td>\n",
       "      <td>0.149963</td>\n",
       "      <td>0.140375</td>\n",
       "      <td>0.065557</td>\n",
       "      <td>0.137498</td>\n",
       "      <td>0.072203</td>\n",
       "      <td>0.084572</td>\n",
       "      <td>0.098318</td>\n",
       "    </tr>\n",
       "    <tr>\n",
       "      <th>std</th>\n",
       "      <td>0.055188</td>\n",
       "      <td>0.034026</td>\n",
       "      <td>0.030290</td>\n",
       "      <td>0.026597</td>\n",
       "      <td>0.016654</td>\n",
       "      <td>0.031528</td>\n",
       "      <td>0.021628</td>\n",
       "      <td>0.032521</td>\n",
       "      <td>0.057980</td>\n",
       "    </tr>\n",
       "    <tr>\n",
       "      <th>min</th>\n",
       "      <td>0.020903</td>\n",
       "      <td>0.036667</td>\n",
       "      <td>0.035380</td>\n",
       "      <td>0.061593</td>\n",
       "      <td>0.023220</td>\n",
       "      <td>0.056777</td>\n",
       "      <td>0.019706</td>\n",
       "      <td>0.025861</td>\n",
       "      <td>0.024628</td>\n",
       "    </tr>\n",
       "    <tr>\n",
       "      <th>25%</th>\n",
       "      <td>0.079812</td>\n",
       "      <td>0.108312</td>\n",
       "      <td>0.131845</td>\n",
       "      <td>0.122912</td>\n",
       "      <td>0.055837</td>\n",
       "      <td>0.116477</td>\n",
       "      <td>0.056266</td>\n",
       "      <td>0.060898</td>\n",
       "      <td>0.058075</td>\n",
       "    </tr>\n",
       "    <tr>\n",
       "      <th>50%</th>\n",
       "      <td>0.113645</td>\n",
       "      <td>0.130965</td>\n",
       "      <td>0.150303</td>\n",
       "      <td>0.139941</td>\n",
       "      <td>0.065057</td>\n",
       "      <td>0.133991</td>\n",
       "      <td>0.070505</td>\n",
       "      <td>0.080233</td>\n",
       "      <td>0.081621</td>\n",
       "    </tr>\n",
       "    <tr>\n",
       "      <th>75%</th>\n",
       "      <td>0.148323</td>\n",
       "      <td>0.152541</td>\n",
       "      <td>0.169617</td>\n",
       "      <td>0.154432</td>\n",
       "      <td>0.074629</td>\n",
       "      <td>0.156770</td>\n",
       "      <td>0.086230</td>\n",
       "      <td>0.104302</td>\n",
       "      <td>0.122141</td>\n",
       "    </tr>\n",
       "    <tr>\n",
       "      <th>max</th>\n",
       "      <td>0.377546</td>\n",
       "      <td>0.224908</td>\n",
       "      <td>0.246341</td>\n",
       "      <td>0.220081</td>\n",
       "      <td>0.224424</td>\n",
       "      <td>0.251859</td>\n",
       "      <td>0.147998</td>\n",
       "      <td>0.216932</td>\n",
       "      <td>0.384638</td>\n",
       "    </tr>\n",
       "  </tbody>\n",
       "</table>\n",
       "</div>"
      ],
      "text/plain": [
       "          pctLt10   pct10to14   pct15to19   pct20to24   pct25to29   pct30to34  \\\n",
       "count  437.000000  437.000000  437.000000  437.000000  437.000000  437.000000   \n",
       "mean     0.121342    0.130172    0.149963    0.140375    0.065557    0.137498   \n",
       "std      0.055188    0.034026    0.030290    0.026597    0.016654    0.031528   \n",
       "min      0.020903    0.036667    0.035380    0.061593    0.023220    0.056777   \n",
       "25%      0.079812    0.108312    0.131845    0.122912    0.055837    0.116477   \n",
       "50%      0.113645    0.130965    0.150303    0.139941    0.065057    0.133991   \n",
       "75%      0.148323    0.152541    0.169617    0.154432    0.074629    0.156770   \n",
       "max      0.377546    0.224908    0.246341    0.220081    0.224424    0.251859   \n",
       "\n",
       "        pct35to44   pct44to59   pct60plus  \n",
       "count  437.000000  437.000000  437.000000  \n",
       "mean     0.072203    0.084572    0.098318  \n",
       "std      0.021628    0.032521    0.057980  \n",
       "min      0.019706    0.025861    0.024628  \n",
       "25%      0.056266    0.060898    0.058075  \n",
       "50%      0.070505    0.080233    0.081621  \n",
       "75%      0.086230    0.104302    0.122141  \n",
       "max      0.147998    0.216932    0.384638  "
      ]
     },
     "execution_count": 37,
     "metadata": {},
     "output_type": "execute_result"
    }
   ],
   "source": [
    "transByCommuteTimePcts.describe()"
   ]
  },
  {
   "cell_type": "markdown",
   "metadata": {},
   "source": [
    "# Agg Traveltime"
   ]
  },
  {
   "cell_type": "code",
   "execution_count": 38,
   "metadata": {},
   "outputs": [
    {
     "data": {
      "application/vnd.jupyter.widget-view+json": {
       "model_id": "bedc9b66c99442de854a889a418e1488",
       "version_major": 2,
       "version_minor": 0
      },
      "text/plain": [
       "  0%|          | 0/1 [00:00<?, ?it/s]"
      ]
     },
     "metadata": {},
     "output_type": "display_data"
    },
    {
     "data": {
      "application/vnd.jupyter.widget-view+json": {
       "model_id": "f043119ae6d34444a6a90acc31a1bbfe",
       "version_major": 2,
       "version_minor": 0
      },
      "text/plain": [
       "|          | 0/? [00:00<?, ?it/s]"
      ]
     },
     "metadata": {},
     "output_type": "display_data"
    }
   ],
   "source": [
    "aggTravTimeVars = c.getVariablesByGroup(c.groups.AggregateTravelTimeToWorkInMinutesOfWorkersByTravelTimeToWork.code)\n",
    "aggTravTimeStats = c.getStats(aggTravTimeVars['code'].tolist(), *geoDomains)"
   ]
  },
  {
   "cell_type": "code",
   "execution_count": 39,
   "metadata": {},
   "outputs": [],
   "source": [
    "avgTravelTime = aggTravTimeStats.loc[:,['NAME', 'state', 'congressional district']]\n",
    "avgTravelTime['avgTravelTime'] = (aggTravTimeStats.Estimate_AggregateTravelTimeToWorkInMinutes /\n",
    "                                 populationData.Estimate_Total)"
   ]
  },
  {
   "cell_type": "code",
   "execution_count": 40,
   "metadata": {},
   "outputs": [
    {
     "data": {
      "text/html": [
       "<div>\n",
       "<style scoped>\n",
       "    .dataframe tbody tr th:only-of-type {\n",
       "        vertical-align: middle;\n",
       "    }\n",
       "\n",
       "    .dataframe tbody tr th {\n",
       "        vertical-align: top;\n",
       "    }\n",
       "\n",
       "    .dataframe thead th {\n",
       "        text-align: right;\n",
       "    }\n",
       "</style>\n",
       "<table border=\"1\" class=\"dataframe\">\n",
       "  <thead>\n",
       "    <tr style=\"text-align: right;\">\n",
       "      <th></th>\n",
       "      <th>avgTravelTime</th>\n",
       "    </tr>\n",
       "  </thead>\n",
       "  <tbody>\n",
       "    <tr>\n",
       "      <th>count</th>\n",
       "      <td>437.000000</td>\n",
       "    </tr>\n",
       "    <tr>\n",
       "      <th>mean</th>\n",
       "      <td>12.401007</td>\n",
       "    </tr>\n",
       "    <tr>\n",
       "      <th>std</th>\n",
       "      <td>2.651061</td>\n",
       "    </tr>\n",
       "    <tr>\n",
       "      <th>min</th>\n",
       "      <td>7.789928</td>\n",
       "    </tr>\n",
       "    <tr>\n",
       "      <th>25%</th>\n",
       "      <td>10.325869</td>\n",
       "    </tr>\n",
       "    <tr>\n",
       "      <th>50%</th>\n",
       "      <td>11.974308</td>\n",
       "    </tr>\n",
       "    <tr>\n",
       "      <th>75%</th>\n",
       "      <td>14.145483</td>\n",
       "    </tr>\n",
       "    <tr>\n",
       "      <th>max</th>\n",
       "      <td>21.859793</td>\n",
       "    </tr>\n",
       "  </tbody>\n",
       "</table>\n",
       "</div>"
      ],
      "text/plain": [
       "       avgTravelTime\n",
       "count     437.000000\n",
       "mean       12.401007\n",
       "std         2.651061\n",
       "min         7.789928\n",
       "25%        10.325869\n",
       "50%        11.974308\n",
       "75%        14.145483\n",
       "max        21.859793"
      ]
     },
     "execution_count": 40,
     "metadata": {},
     "output_type": "execute_result"
    }
   ],
   "source": [
    "avgTravelTime.describe()"
   ]
  },
  {
   "cell_type": "markdown",
   "metadata": {},
   "source": [
    "# Time of departure to work"
   ]
  },
  {
   "cell_type": "code",
   "execution_count": 41,
   "metadata": {},
   "outputs": [
    {
     "data": {
      "application/vnd.jupyter.widget-view+json": {
       "model_id": "e0fd0928545442d8a59129c12293f787",
       "version_major": 2,
       "version_minor": 0
      },
      "text/plain": [
       "  0%|          | 0/1 [00:00<?, ?it/s]"
      ]
     },
     "metadata": {},
     "output_type": "display_data"
    },
    {
     "data": {
      "application/vnd.jupyter.widget-view+json": {
       "model_id": "275e0a88eb914ef1b3491cd8435c134c",
       "version_major": 2,
       "version_minor": 0
      },
      "text/plain": [
       "|          | 0/? [00:00<?, ?it/s]"
      ]
     },
     "metadata": {},
     "output_type": "display_data"
    }
   ],
   "source": [
    "depTimeVars = c.getVariablesByGroup(c.groups.TimeOfDepartureToGoToWork.code)\n",
    "filteredVars = [rec['code'] for rec in depTimeVars.to_dict('records') if rec['name'].startswith('Estimate')]\n",
    "depTimeStats = c.getStats(filteredVars, *geoDomains)"
   ]
  },
  {
   "cell_type": "code",
   "execution_count": 42,
   "metadata": {},
   "outputs": [
    {
     "data": {
      "text/html": [
       "<div>\n",
       "<style scoped>\n",
       "    .dataframe tbody tr th:only-of-type {\n",
       "        vertical-align: middle;\n",
       "    }\n",
       "\n",
       "    .dataframe tbody tr th {\n",
       "        vertical-align: top;\n",
       "    }\n",
       "\n",
       "    .dataframe thead th {\n",
       "        text-align: right;\n",
       "    }\n",
       "</style>\n",
       "<table border=\"1\" class=\"dataframe\">\n",
       "  <thead>\n",
       "    <tr style=\"text-align: right;\">\n",
       "      <th></th>\n",
       "      <th>NAME</th>\n",
       "      <th>congressional district</th>\n",
       "      <th>state</th>\n",
       "      <th>Estimate_Total</th>\n",
       "      <th>Estimate_Total_1200AMTo459AM</th>\n",
       "      <th>Estimate_Total_500AMTo529AM</th>\n",
       "      <th>Estimate_Total_530AMTo559AM</th>\n",
       "      <th>Estimate_Total_600AMTo629AM</th>\n",
       "      <th>Estimate_Total_630AMTo659AM</th>\n",
       "      <th>Estimate_Total_700AMTo729AM</th>\n",
       "      <th>Estimate_Total_730AMTo759AM</th>\n",
       "      <th>Estimate_Total_800AMTo829AM</th>\n",
       "      <th>Estimate_Total_830AMTo859AM</th>\n",
       "      <th>Estimate_Total_900AMTo959AM</th>\n",
       "      <th>Estimate_Total_1000AMTo1059AM</th>\n",
       "      <th>Estimate_Total_1100AMTo1159AM</th>\n",
       "      <th>Estimate_Total_1200PMTo359PM</th>\n",
       "      <th>Estimate_Total_400PMTo1159PM</th>\n",
       "    </tr>\n",
       "  </thead>\n",
       "  <tbody>\n",
       "    <tr>\n",
       "      <th>0</th>\n",
       "      <td>Congressional District (at Large) (116th Congress), Alaska</td>\n",
       "      <td>00</td>\n",
       "      <td>02</td>\n",
       "      <td>334670.0</td>\n",
       "      <td>12751.0</td>\n",
       "      <td>11993.0</td>\n",
       "      <td>16398.0</td>\n",
       "      <td>24971.0</td>\n",
       "      <td>29944.0</td>\n",
       "      <td>41146.0</td>\n",
       "      <td>53250.0</td>\n",
       "      <td>38581.0</td>\n",
       "      <td>20031.0</td>\n",
       "      <td>24427.0</td>\n",
       "      <td>9451.0</td>\n",
       "      <td>5084.0</td>\n",
       "      <td>23001.0</td>\n",
       "      <td>23642.0</td>\n",
       "    </tr>\n",
       "    <tr>\n",
       "      <th>1</th>\n",
       "      <td>Congressional District (at Large) (116th Congress), Delaware</td>\n",
       "      <td>00</td>\n",
       "      <td>10</td>\n",
       "      <td>439954.0</td>\n",
       "      <td>18151.0</td>\n",
       "      <td>13422.0</td>\n",
       "      <td>19031.0</td>\n",
       "      <td>35151.0</td>\n",
       "      <td>41635.0</td>\n",
       "      <td>71341.0</td>\n",
       "      <td>60534.0</td>\n",
       "      <td>49165.0</td>\n",
       "      <td>25932.0</td>\n",
       "      <td>32465.0</td>\n",
       "      <td>12411.0</td>\n",
       "      <td>4435.0</td>\n",
       "      <td>29416.0</td>\n",
       "      <td>26865.0</td>\n",
       "    </tr>\n",
       "    <tr>\n",
       "      <th>2</th>\n",
       "      <td>Congressional District (at Large) (116th Congress), Montana</td>\n",
       "      <td>00</td>\n",
       "      <td>30</td>\n",
       "      <td>480953.0</td>\n",
       "      <td>18113.0</td>\n",
       "      <td>12502.0</td>\n",
       "      <td>18016.0</td>\n",
       "      <td>34709.0</td>\n",
       "      <td>44808.0</td>\n",
       "      <td>70479.0</td>\n",
       "      <td>96016.0</td>\n",
       "      <td>56001.0</td>\n",
       "      <td>27274.0</td>\n",
       "      <td>27442.0</td>\n",
       "      <td>14875.0</td>\n",
       "      <td>6683.0</td>\n",
       "      <td>26640.0</td>\n",
       "      <td>27395.0</td>\n",
       "    </tr>\n",
       "    <tr>\n",
       "      <th>3</th>\n",
       "      <td>Congressional District (at Large) (116th Congress), North Dakota</td>\n",
       "      <td>00</td>\n",
       "      <td>38</td>\n",
       "      <td>390897.0</td>\n",
       "      <td>15705.0</td>\n",
       "      <td>10453.0</td>\n",
       "      <td>19501.0</td>\n",
       "      <td>24652.0</td>\n",
       "      <td>43926.0</td>\n",
       "      <td>58746.0</td>\n",
       "      <td>81355.0</td>\n",
       "      <td>40659.0</td>\n",
       "      <td>15764.0</td>\n",
       "      <td>19342.0</td>\n",
       "      <td>8250.0</td>\n",
       "      <td>3592.0</td>\n",
       "      <td>24636.0</td>\n",
       "      <td>24316.0</td>\n",
       "    </tr>\n",
       "    <tr>\n",
       "      <th>4</th>\n",
       "      <td>Congressional District (at Large) (116th Congress), South Dakota</td>\n",
       "      <td>00</td>\n",
       "      <td>46</td>\n",
       "      <td>420853.0</td>\n",
       "      <td>14519.0</td>\n",
       "      <td>11674.0</td>\n",
       "      <td>19970.0</td>\n",
       "      <td>29725.0</td>\n",
       "      <td>44003.0</td>\n",
       "      <td>68122.0</td>\n",
       "      <td>88280.0</td>\n",
       "      <td>44644.0</td>\n",
       "      <td>14452.0</td>\n",
       "      <td>15968.0</td>\n",
       "      <td>9132.0</td>\n",
       "      <td>6269.0</td>\n",
       "      <td>29727.0</td>\n",
       "      <td>24368.0</td>\n",
       "    </tr>\n",
       "    <tr>\n",
       "      <th>...</th>\n",
       "      <td>...</td>\n",
       "      <td>...</td>\n",
       "      <td>...</td>\n",
       "      <td>...</td>\n",
       "      <td>...</td>\n",
       "      <td>...</td>\n",
       "      <td>...</td>\n",
       "      <td>...</td>\n",
       "      <td>...</td>\n",
       "      <td>...</td>\n",
       "      <td>...</td>\n",
       "      <td>...</td>\n",
       "      <td>...</td>\n",
       "      <td>...</td>\n",
       "      <td>...</td>\n",
       "      <td>...</td>\n",
       "      <td>...</td>\n",
       "      <td>...</td>\n",
       "    </tr>\n",
       "    <tr>\n",
       "      <th>432</th>\n",
       "      <td>Congressional District 51 (116th Congress), California</td>\n",
       "      <td>51</td>\n",
       "      <td>06</td>\n",
       "      <td>307126.0</td>\n",
       "      <td>26855.0</td>\n",
       "      <td>21414.0</td>\n",
       "      <td>17910.0</td>\n",
       "      <td>32457.0</td>\n",
       "      <td>21033.0</td>\n",
       "      <td>45338.0</td>\n",
       "      <td>29053.0</td>\n",
       "      <td>27124.0</td>\n",
       "      <td>10954.0</td>\n",
       "      <td>20193.0</td>\n",
       "      <td>8672.0</td>\n",
       "      <td>4690.0</td>\n",
       "      <td>23705.0</td>\n",
       "      <td>17728.0</td>\n",
       "    </tr>\n",
       "    <tr>\n",
       "      <th>433</th>\n",
       "      <td>Congressional District 52 (116th Congress), California</td>\n",
       "      <td>52</td>\n",
       "      <td>06</td>\n",
       "      <td>369142.0</td>\n",
       "      <td>11378.0</td>\n",
       "      <td>10295.0</td>\n",
       "      <td>16263.0</td>\n",
       "      <td>23232.0</td>\n",
       "      <td>30745.0</td>\n",
       "      <td>53677.0</td>\n",
       "      <td>44138.0</td>\n",
       "      <td>54561.0</td>\n",
       "      <td>27633.0</td>\n",
       "      <td>41829.0</td>\n",
       "      <td>15001.0</td>\n",
       "      <td>7229.0</td>\n",
       "      <td>18213.0</td>\n",
       "      <td>14948.0</td>\n",
       "    </tr>\n",
       "    <tr>\n",
       "      <th>434</th>\n",
       "      <td>Congressional District 53 (116th Congress), California</td>\n",
       "      <td>53</td>\n",
       "      <td>06</td>\n",
       "      <td>380471.0</td>\n",
       "      <td>19020.0</td>\n",
       "      <td>20046.0</td>\n",
       "      <td>20374.0</td>\n",
       "      <td>39043.0</td>\n",
       "      <td>33099.0</td>\n",
       "      <td>48958.0</td>\n",
       "      <td>42388.0</td>\n",
       "      <td>40847.0</td>\n",
       "      <td>21952.0</td>\n",
       "      <td>26952.0</td>\n",
       "      <td>12357.0</td>\n",
       "      <td>5472.0</td>\n",
       "      <td>27564.0</td>\n",
       "      <td>22399.0</td>\n",
       "    </tr>\n",
       "    <tr>\n",
       "      <th>435</th>\n",
       "      <td>Delegate District (at Large) (116th Congress), District of Columbia</td>\n",
       "      <td>98</td>\n",
       "      <td>11</td>\n",
       "      <td>357476.0</td>\n",
       "      <td>5305.0</td>\n",
       "      <td>6899.0</td>\n",
       "      <td>6534.0</td>\n",
       "      <td>16589.0</td>\n",
       "      <td>18110.0</td>\n",
       "      <td>45522.0</td>\n",
       "      <td>46706.0</td>\n",
       "      <td>73467.0</td>\n",
       "      <td>55654.0</td>\n",
       "      <td>41803.0</td>\n",
       "      <td>9599.0</td>\n",
       "      <td>3919.0</td>\n",
       "      <td>16067.0</td>\n",
       "      <td>11302.0</td>\n",
       "    </tr>\n",
       "    <tr>\n",
       "      <th>436</th>\n",
       "      <td>Resident Commissioner District (at Large) (116th Congress), Puerto Rico</td>\n",
       "      <td>98</td>\n",
       "      <td>72</td>\n",
       "      <td>997979.0</td>\n",
       "      <td>59643.0</td>\n",
       "      <td>51707.0</td>\n",
       "      <td>57832.0</td>\n",
       "      <td>123704.0</td>\n",
       "      <td>107168.0</td>\n",
       "      <td>187220.0</td>\n",
       "      <td>95931.0</td>\n",
       "      <td>90608.0</td>\n",
       "      <td>29621.0</td>\n",
       "      <td>51481.0</td>\n",
       "      <td>21746.0</td>\n",
       "      <td>17093.0</td>\n",
       "      <td>55661.0</td>\n",
       "      <td>48564.0</td>\n",
       "    </tr>\n",
       "  </tbody>\n",
       "</table>\n",
       "<p>437 rows × 18 columns</p>\n",
       "</div>"
      ],
      "text/plain": [
       "                                                                        NAME  \\\n",
       "0                 Congressional District (at Large) (116th Congress), Alaska   \n",
       "1               Congressional District (at Large) (116th Congress), Delaware   \n",
       "2                Congressional District (at Large) (116th Congress), Montana   \n",
       "3           Congressional District (at Large) (116th Congress), North Dakota   \n",
       "4           Congressional District (at Large) (116th Congress), South Dakota   \n",
       "..                                                                       ...   \n",
       "432                   Congressional District 51 (116th Congress), California   \n",
       "433                   Congressional District 52 (116th Congress), California   \n",
       "434                   Congressional District 53 (116th Congress), California   \n",
       "435      Delegate District (at Large) (116th Congress), District of Columbia   \n",
       "436  Resident Commissioner District (at Large) (116th Congress), Puerto Rico   \n",
       "\n",
       "    congressional district state  Estimate_Total  \\\n",
       "0                       00    02        334670.0   \n",
       "1                       00    10        439954.0   \n",
       "2                       00    30        480953.0   \n",
       "3                       00    38        390897.0   \n",
       "4                       00    46        420853.0   \n",
       "..                     ...   ...             ...   \n",
       "432                     51    06        307126.0   \n",
       "433                     52    06        369142.0   \n",
       "434                     53    06        380471.0   \n",
       "435                     98    11        357476.0   \n",
       "436                     98    72        997979.0   \n",
       "\n",
       "     Estimate_Total_1200AMTo459AM  Estimate_Total_500AMTo529AM  \\\n",
       "0                         12751.0                      11993.0   \n",
       "1                         18151.0                      13422.0   \n",
       "2                         18113.0                      12502.0   \n",
       "3                         15705.0                      10453.0   \n",
       "4                         14519.0                      11674.0   \n",
       "..                            ...                          ...   \n",
       "432                       26855.0                      21414.0   \n",
       "433                       11378.0                      10295.0   \n",
       "434                       19020.0                      20046.0   \n",
       "435                        5305.0                       6899.0   \n",
       "436                       59643.0                      51707.0   \n",
       "\n",
       "     Estimate_Total_530AMTo559AM  Estimate_Total_600AMTo629AM  \\\n",
       "0                        16398.0                      24971.0   \n",
       "1                        19031.0                      35151.0   \n",
       "2                        18016.0                      34709.0   \n",
       "3                        19501.0                      24652.0   \n",
       "4                        19970.0                      29725.0   \n",
       "..                           ...                          ...   \n",
       "432                      17910.0                      32457.0   \n",
       "433                      16263.0                      23232.0   \n",
       "434                      20374.0                      39043.0   \n",
       "435                       6534.0                      16589.0   \n",
       "436                      57832.0                     123704.0   \n",
       "\n",
       "     Estimate_Total_630AMTo659AM  Estimate_Total_700AMTo729AM  \\\n",
       "0                        29944.0                      41146.0   \n",
       "1                        41635.0                      71341.0   \n",
       "2                        44808.0                      70479.0   \n",
       "3                        43926.0                      58746.0   \n",
       "4                        44003.0                      68122.0   \n",
       "..                           ...                          ...   \n",
       "432                      21033.0                      45338.0   \n",
       "433                      30745.0                      53677.0   \n",
       "434                      33099.0                      48958.0   \n",
       "435                      18110.0                      45522.0   \n",
       "436                     107168.0                     187220.0   \n",
       "\n",
       "     Estimate_Total_730AMTo759AM  Estimate_Total_800AMTo829AM  \\\n",
       "0                        53250.0                      38581.0   \n",
       "1                        60534.0                      49165.0   \n",
       "2                        96016.0                      56001.0   \n",
       "3                        81355.0                      40659.0   \n",
       "4                        88280.0                      44644.0   \n",
       "..                           ...                          ...   \n",
       "432                      29053.0                      27124.0   \n",
       "433                      44138.0                      54561.0   \n",
       "434                      42388.0                      40847.0   \n",
       "435                      46706.0                      73467.0   \n",
       "436                      95931.0                      90608.0   \n",
       "\n",
       "     Estimate_Total_830AMTo859AM  Estimate_Total_900AMTo959AM  \\\n",
       "0                        20031.0                      24427.0   \n",
       "1                        25932.0                      32465.0   \n",
       "2                        27274.0                      27442.0   \n",
       "3                        15764.0                      19342.0   \n",
       "4                        14452.0                      15968.0   \n",
       "..                           ...                          ...   \n",
       "432                      10954.0                      20193.0   \n",
       "433                      27633.0                      41829.0   \n",
       "434                      21952.0                      26952.0   \n",
       "435                      55654.0                      41803.0   \n",
       "436                      29621.0                      51481.0   \n",
       "\n",
       "     Estimate_Total_1000AMTo1059AM  Estimate_Total_1100AMTo1159AM  \\\n",
       "0                           9451.0                         5084.0   \n",
       "1                          12411.0                         4435.0   \n",
       "2                          14875.0                         6683.0   \n",
       "3                           8250.0                         3592.0   \n",
       "4                           9132.0                         6269.0   \n",
       "..                             ...                            ...   \n",
       "432                         8672.0                         4690.0   \n",
       "433                        15001.0                         7229.0   \n",
       "434                        12357.0                         5472.0   \n",
       "435                         9599.0                         3919.0   \n",
       "436                        21746.0                        17093.0   \n",
       "\n",
       "     Estimate_Total_1200PMTo359PM  Estimate_Total_400PMTo1159PM  \n",
       "0                         23001.0                       23642.0  \n",
       "1                         29416.0                       26865.0  \n",
       "2                         26640.0                       27395.0  \n",
       "3                         24636.0                       24316.0  \n",
       "4                         29727.0                       24368.0  \n",
       "..                            ...                           ...  \n",
       "432                       23705.0                       17728.0  \n",
       "433                       18213.0                       14948.0  \n",
       "434                       27564.0                       22399.0  \n",
       "435                       16067.0                       11302.0  \n",
       "436                       55661.0                       48564.0  \n",
       "\n",
       "[437 rows x 18 columns]"
      ]
     },
     "execution_count": 42,
     "metadata": {},
     "output_type": "execute_result"
    }
   ],
   "source": [
    "depTimeStats"
   ]
  },
  {
   "cell_type": "code",
   "execution_count": 43,
   "metadata": {},
   "outputs": [],
   "source": [
    "mgd = pd.merge(left=educPcts, right=emplPcts, on=['state', 'congressional district', 'NAME'])\n",
    "mgd = pd.merge(left=mgd, right=computerPcts, on=['state', 'congressional district', 'NAME'])\n",
    "mgd = pd.merge(left=mgd, right=giniData, on=['state', 'congressional district', 'NAME'])\n",
    "mgd = pd.merge(left=mgd, right=avgIncome, on=['state', 'congressional district', 'NAME'])"
   ]
  },
  {
   "cell_type": "code",
   "execution_count": 44,
   "metadata": {},
   "outputs": [
    {
     "data": {
      "text/html": [
       "<div>\n",
       "<style scoped>\n",
       "    .dataframe tbody tr th:only-of-type {\n",
       "        vertical-align: middle;\n",
       "    }\n",
       "\n",
       "    .dataframe tbody tr th {\n",
       "        vertical-align: top;\n",
       "    }\n",
       "\n",
       "    .dataframe thead th {\n",
       "        text-align: right;\n",
       "    }\n",
       "</style>\n",
       "<table border=\"1\" class=\"dataframe\">\n",
       "  <thead>\n",
       "    <tr style=\"text-align: right;\">\n",
       "      <th></th>\n",
       "      <th>pctNoHs</th>\n",
       "      <th>pctHs</th>\n",
       "      <th>pctBach</th>\n",
       "      <th>pctSomeCollege1YrNoDegree</th>\n",
       "      <th>pctSomeCollegeManyYrsNoDegree</th>\n",
       "      <th>pctGradPlus</th>\n",
       "      <th>pctInLaborForce</th>\n",
       "      <th>pctEmployed</th>\n",
       "      <th>pctUnemployed</th>\n",
       "      <th>pctHasTech</th>\n",
       "      <th>pctNoTech</th>\n",
       "      <th>pctSmartphone</th>\n",
       "      <th>pctNoSmartphone</th>\n",
       "      <th>Estimate_GiniIndex</th>\n",
       "      <th>MarginOfError_GiniIndex</th>\n",
       "      <th>avgIncome</th>\n",
       "    </tr>\n",
       "  </thead>\n",
       "  <tbody>\n",
       "    <tr>\n",
       "      <th>pctNoHs</th>\n",
       "      <td>1.000000</td>\n",
       "      <td>0.178613</td>\n",
       "      <td>-0.559658</td>\n",
       "      <td>-0.198253</td>\n",
       "      <td>0.105307</td>\n",
       "      <td>-0.531119</td>\n",
       "      <td>-0.245193</td>\n",
       "      <td>-0.502975</td>\n",
       "      <td>0.502975</td>\n",
       "      <td>-0.345541</td>\n",
       "      <td>0.345541</td>\n",
       "      <td>-0.079459</td>\n",
       "      <td>0.079459</td>\n",
       "      <td>0.091300</td>\n",
       "      <td>0.291348</td>\n",
       "      <td>-0.525402</td>\n",
       "    </tr>\n",
       "    <tr>\n",
       "      <th>pctHs</th>\n",
       "      <td>0.178613</td>\n",
       "      <td>1.000000</td>\n",
       "      <td>-0.820182</td>\n",
       "      <td>0.419146</td>\n",
       "      <td>0.099233</td>\n",
       "      <td>-0.725833</td>\n",
       "      <td>-0.576897</td>\n",
       "      <td>-0.217133</td>\n",
       "      <td>0.217133</td>\n",
       "      <td>-0.709414</td>\n",
       "      <td>0.709414</td>\n",
       "      <td>-0.767809</td>\n",
       "      <td>0.767809</td>\n",
       "      <td>-0.190939</td>\n",
       "      <td>0.153568</td>\n",
       "      <td>-0.714676</td>\n",
       "    </tr>\n",
       "    <tr>\n",
       "      <th>pctBach</th>\n",
       "      <td>-0.559658</td>\n",
       "      <td>-0.820182</td>\n",
       "      <td>1.000000</td>\n",
       "      <td>-0.456921</td>\n",
       "      <td>-0.388264</td>\n",
       "      <td>0.845960</td>\n",
       "      <td>0.677671</td>\n",
       "      <td>0.471912</td>\n",
       "      <td>-0.471912</td>\n",
       "      <td>0.665961</td>\n",
       "      <td>-0.665961</td>\n",
       "      <td>0.620782</td>\n",
       "      <td>-0.620782</td>\n",
       "      <td>0.176874</td>\n",
       "      <td>-0.263496</td>\n",
       "      <td>0.860153</td>\n",
       "    </tr>\n",
       "    <tr>\n",
       "      <th>pctSomeCollege1YrNoDegree</th>\n",
       "      <td>-0.198253</td>\n",
       "      <td>0.419146</td>\n",
       "      <td>-0.456921</td>\n",
       "      <td>1.000000</td>\n",
       "      <td>0.607048</td>\n",
       "      <td>-0.521287</td>\n",
       "      <td>-0.390142</td>\n",
       "      <td>0.017666</td>\n",
       "      <td>-0.017666</td>\n",
       "      <td>-0.060080</td>\n",
       "      <td>0.060080</td>\n",
       "      <td>-0.236031</td>\n",
       "      <td>0.236031</td>\n",
       "      <td>-0.468974</td>\n",
       "      <td>-0.010577</td>\n",
       "      <td>-0.432199</td>\n",
       "    </tr>\n",
       "    <tr>\n",
       "      <th>pctSomeCollegeManyYrsNoDegree</th>\n",
       "      <td>0.105307</td>\n",
       "      <td>0.099233</td>\n",
       "      <td>-0.388264</td>\n",
       "      <td>0.607048</td>\n",
       "      <td>1.000000</td>\n",
       "      <td>-0.526781</td>\n",
       "      <td>-0.292324</td>\n",
       "      <td>-0.300941</td>\n",
       "      <td>0.300941</td>\n",
       "      <td>0.022361</td>\n",
       "      <td>-0.022361</td>\n",
       "      <td>0.077350</td>\n",
       "      <td>-0.077350</td>\n",
       "      <td>-0.251097</td>\n",
       "      <td>0.115139</td>\n",
       "      <td>-0.485254</td>\n",
       "    </tr>\n",
       "    <tr>\n",
       "      <th>pctGradPlus</th>\n",
       "      <td>-0.531119</td>\n",
       "      <td>-0.725833</td>\n",
       "      <td>0.845960</td>\n",
       "      <td>-0.521287</td>\n",
       "      <td>-0.526781</td>\n",
       "      <td>1.000000</td>\n",
       "      <td>0.538701</td>\n",
       "      <td>0.369490</td>\n",
       "      <td>-0.369490</td>\n",
       "      <td>0.511530</td>\n",
       "      <td>-0.511530</td>\n",
       "      <td>0.442343</td>\n",
       "      <td>-0.442343</td>\n",
       "      <td>0.258362</td>\n",
       "      <td>-0.229895</td>\n",
       "      <td>0.881395</td>\n",
       "    </tr>\n",
       "    <tr>\n",
       "      <th>pctInLaborForce</th>\n",
       "      <td>-0.245193</td>\n",
       "      <td>-0.576897</td>\n",
       "      <td>0.677671</td>\n",
       "      <td>-0.390142</td>\n",
       "      <td>-0.292324</td>\n",
       "      <td>0.538701</td>\n",
       "      <td>1.000000</td>\n",
       "      <td>0.451960</td>\n",
       "      <td>-0.451960</td>\n",
       "      <td>0.582327</td>\n",
       "      <td>-0.582327</td>\n",
       "      <td>0.604844</td>\n",
       "      <td>-0.604844</td>\n",
       "      <td>-0.112872</td>\n",
       "      <td>-0.203314</td>\n",
       "      <td>0.538522</td>\n",
       "    </tr>\n",
       "    <tr>\n",
       "      <th>pctEmployed</th>\n",
       "      <td>-0.502975</td>\n",
       "      <td>-0.217133</td>\n",
       "      <td>0.471912</td>\n",
       "      <td>0.017666</td>\n",
       "      <td>-0.300941</td>\n",
       "      <td>0.369490</td>\n",
       "      <td>0.451960</td>\n",
       "      <td>1.000000</td>\n",
       "      <td>-1.000000</td>\n",
       "      <td>0.432663</td>\n",
       "      <td>-0.432663</td>\n",
       "      <td>0.263500</td>\n",
       "      <td>-0.263500</td>\n",
       "      <td>-0.287001</td>\n",
       "      <td>-0.311713</td>\n",
       "      <td>0.444400</td>\n",
       "    </tr>\n",
       "    <tr>\n",
       "      <th>pctUnemployed</th>\n",
       "      <td>0.502975</td>\n",
       "      <td>0.217133</td>\n",
       "      <td>-0.471912</td>\n",
       "      <td>-0.017666</td>\n",
       "      <td>0.300941</td>\n",
       "      <td>-0.369490</td>\n",
       "      <td>-0.451960</td>\n",
       "      <td>-1.000000</td>\n",
       "      <td>1.000000</td>\n",
       "      <td>-0.432663</td>\n",
       "      <td>0.432663</td>\n",
       "      <td>-0.263500</td>\n",
       "      <td>0.263500</td>\n",
       "      <td>0.287001</td>\n",
       "      <td>0.311713</td>\n",
       "      <td>-0.444400</td>\n",
       "    </tr>\n",
       "    <tr>\n",
       "      <th>pctHasTech</th>\n",
       "      <td>-0.345541</td>\n",
       "      <td>-0.709414</td>\n",
       "      <td>0.665961</td>\n",
       "      <td>-0.060080</td>\n",
       "      <td>0.022361</td>\n",
       "      <td>0.511530</td>\n",
       "      <td>0.582327</td>\n",
       "      <td>0.432663</td>\n",
       "      <td>-0.432663</td>\n",
       "      <td>1.000000</td>\n",
       "      <td>-1.000000</td>\n",
       "      <td>0.899346</td>\n",
       "      <td>-0.899346</td>\n",
       "      <td>-0.234855</td>\n",
       "      <td>-0.163076</td>\n",
       "      <td>0.578956</td>\n",
       "    </tr>\n",
       "    <tr>\n",
       "      <th>pctNoTech</th>\n",
       "      <td>0.345541</td>\n",
       "      <td>0.709414</td>\n",
       "      <td>-0.665961</td>\n",
       "      <td>0.060080</td>\n",
       "      <td>-0.022361</td>\n",
       "      <td>-0.511530</td>\n",
       "      <td>-0.582327</td>\n",
       "      <td>-0.432663</td>\n",
       "      <td>0.432663</td>\n",
       "      <td>-1.000000</td>\n",
       "      <td>1.000000</td>\n",
       "      <td>-0.899346</td>\n",
       "      <td>0.899346</td>\n",
       "      <td>0.234855</td>\n",
       "      <td>0.163076</td>\n",
       "      <td>-0.578956</td>\n",
       "    </tr>\n",
       "    <tr>\n",
       "      <th>pctSmartphone</th>\n",
       "      <td>-0.079459</td>\n",
       "      <td>-0.767809</td>\n",
       "      <td>0.620782</td>\n",
       "      <td>-0.236031</td>\n",
       "      <td>0.077350</td>\n",
       "      <td>0.442343</td>\n",
       "      <td>0.604844</td>\n",
       "      <td>0.263500</td>\n",
       "      <td>-0.263500</td>\n",
       "      <td>0.899346</td>\n",
       "      <td>-0.899346</td>\n",
       "      <td>1.000000</td>\n",
       "      <td>-1.000000</td>\n",
       "      <td>-0.097597</td>\n",
       "      <td>-0.062808</td>\n",
       "      <td>0.486996</td>\n",
       "    </tr>\n",
       "    <tr>\n",
       "      <th>pctNoSmartphone</th>\n",
       "      <td>0.079459</td>\n",
       "      <td>0.767809</td>\n",
       "      <td>-0.620782</td>\n",
       "      <td>0.236031</td>\n",
       "      <td>-0.077350</td>\n",
       "      <td>-0.442343</td>\n",
       "      <td>-0.604844</td>\n",
       "      <td>-0.263500</td>\n",
       "      <td>0.263500</td>\n",
       "      <td>-0.899346</td>\n",
       "      <td>0.899346</td>\n",
       "      <td>-1.000000</td>\n",
       "      <td>1.000000</td>\n",
       "      <td>0.097597</td>\n",
       "      <td>0.062808</td>\n",
       "      <td>-0.486996</td>\n",
       "    </tr>\n",
       "    <tr>\n",
       "      <th>Estimate_GiniIndex</th>\n",
       "      <td>0.091300</td>\n",
       "      <td>-0.190939</td>\n",
       "      <td>0.176874</td>\n",
       "      <td>-0.468974</td>\n",
       "      <td>-0.251097</td>\n",
       "      <td>0.258362</td>\n",
       "      <td>-0.112872</td>\n",
       "      <td>-0.287001</td>\n",
       "      <td>0.287001</td>\n",
       "      <td>-0.234855</td>\n",
       "      <td>0.234855</td>\n",
       "      <td>-0.097597</td>\n",
       "      <td>0.097597</td>\n",
       "      <td>1.000000</td>\n",
       "      <td>0.308439</td>\n",
       "      <td>0.245679</td>\n",
       "    </tr>\n",
       "    <tr>\n",
       "      <th>MarginOfError_GiniIndex</th>\n",
       "      <td>0.291348</td>\n",
       "      <td>0.153568</td>\n",
       "      <td>-0.263496</td>\n",
       "      <td>-0.010577</td>\n",
       "      <td>0.115139</td>\n",
       "      <td>-0.229895</td>\n",
       "      <td>-0.203314</td>\n",
       "      <td>-0.311713</td>\n",
       "      <td>0.311713</td>\n",
       "      <td>-0.163076</td>\n",
       "      <td>0.163076</td>\n",
       "      <td>-0.062808</td>\n",
       "      <td>0.062808</td>\n",
       "      <td>0.308439</td>\n",
       "      <td>1.000000</td>\n",
       "      <td>-0.221991</td>\n",
       "    </tr>\n",
       "    <tr>\n",
       "      <th>avgIncome</th>\n",
       "      <td>-0.525402</td>\n",
       "      <td>-0.714676</td>\n",
       "      <td>0.860153</td>\n",
       "      <td>-0.432199</td>\n",
       "      <td>-0.485254</td>\n",
       "      <td>0.881395</td>\n",
       "      <td>0.538522</td>\n",
       "      <td>0.444400</td>\n",
       "      <td>-0.444400</td>\n",
       "      <td>0.578956</td>\n",
       "      <td>-0.578956</td>\n",
       "      <td>0.486996</td>\n",
       "      <td>-0.486996</td>\n",
       "      <td>0.245679</td>\n",
       "      <td>-0.221991</td>\n",
       "      <td>1.000000</td>\n",
       "    </tr>\n",
       "  </tbody>\n",
       "</table>\n",
       "</div>"
      ],
      "text/plain": [
       "                                pctNoHs     pctHs   pctBach  \\\n",
       "pctNoHs                        1.000000  0.178613 -0.559658   \n",
       "pctHs                          0.178613  1.000000 -0.820182   \n",
       "pctBach                       -0.559658 -0.820182  1.000000   \n",
       "pctSomeCollege1YrNoDegree     -0.198253  0.419146 -0.456921   \n",
       "pctSomeCollegeManyYrsNoDegree  0.105307  0.099233 -0.388264   \n",
       "pctGradPlus                   -0.531119 -0.725833  0.845960   \n",
       "pctInLaborForce               -0.245193 -0.576897  0.677671   \n",
       "pctEmployed                   -0.502975 -0.217133  0.471912   \n",
       "pctUnemployed                  0.502975  0.217133 -0.471912   \n",
       "pctHasTech                    -0.345541 -0.709414  0.665961   \n",
       "pctNoTech                      0.345541  0.709414 -0.665961   \n",
       "pctSmartphone                 -0.079459 -0.767809  0.620782   \n",
       "pctNoSmartphone                0.079459  0.767809 -0.620782   \n",
       "Estimate_GiniIndex             0.091300 -0.190939  0.176874   \n",
       "MarginOfError_GiniIndex        0.291348  0.153568 -0.263496   \n",
       "avgIncome                     -0.525402 -0.714676  0.860153   \n",
       "\n",
       "                               pctSomeCollege1YrNoDegree  \\\n",
       "pctNoHs                                        -0.198253   \n",
       "pctHs                                           0.419146   \n",
       "pctBach                                        -0.456921   \n",
       "pctSomeCollege1YrNoDegree                       1.000000   \n",
       "pctSomeCollegeManyYrsNoDegree                   0.607048   \n",
       "pctGradPlus                                    -0.521287   \n",
       "pctInLaborForce                                -0.390142   \n",
       "pctEmployed                                     0.017666   \n",
       "pctUnemployed                                  -0.017666   \n",
       "pctHasTech                                     -0.060080   \n",
       "pctNoTech                                       0.060080   \n",
       "pctSmartphone                                  -0.236031   \n",
       "pctNoSmartphone                                 0.236031   \n",
       "Estimate_GiniIndex                             -0.468974   \n",
       "MarginOfError_GiniIndex                        -0.010577   \n",
       "avgIncome                                      -0.432199   \n",
       "\n",
       "                               pctSomeCollegeManyYrsNoDegree  pctGradPlus  \\\n",
       "pctNoHs                                             0.105307    -0.531119   \n",
       "pctHs                                               0.099233    -0.725833   \n",
       "pctBach                                            -0.388264     0.845960   \n",
       "pctSomeCollege1YrNoDegree                           0.607048    -0.521287   \n",
       "pctSomeCollegeManyYrsNoDegree                       1.000000    -0.526781   \n",
       "pctGradPlus                                        -0.526781     1.000000   \n",
       "pctInLaborForce                                    -0.292324     0.538701   \n",
       "pctEmployed                                        -0.300941     0.369490   \n",
       "pctUnemployed                                       0.300941    -0.369490   \n",
       "pctHasTech                                          0.022361     0.511530   \n",
       "pctNoTech                                          -0.022361    -0.511530   \n",
       "pctSmartphone                                       0.077350     0.442343   \n",
       "pctNoSmartphone                                    -0.077350    -0.442343   \n",
       "Estimate_GiniIndex                                 -0.251097     0.258362   \n",
       "MarginOfError_GiniIndex                             0.115139    -0.229895   \n",
       "avgIncome                                          -0.485254     0.881395   \n",
       "\n",
       "                               pctInLaborForce  pctEmployed  pctUnemployed  \\\n",
       "pctNoHs                              -0.245193    -0.502975       0.502975   \n",
       "pctHs                                -0.576897    -0.217133       0.217133   \n",
       "pctBach                               0.677671     0.471912      -0.471912   \n",
       "pctSomeCollege1YrNoDegree            -0.390142     0.017666      -0.017666   \n",
       "pctSomeCollegeManyYrsNoDegree        -0.292324    -0.300941       0.300941   \n",
       "pctGradPlus                           0.538701     0.369490      -0.369490   \n",
       "pctInLaborForce                       1.000000     0.451960      -0.451960   \n",
       "pctEmployed                           0.451960     1.000000      -1.000000   \n",
       "pctUnemployed                        -0.451960    -1.000000       1.000000   \n",
       "pctHasTech                            0.582327     0.432663      -0.432663   \n",
       "pctNoTech                            -0.582327    -0.432663       0.432663   \n",
       "pctSmartphone                         0.604844     0.263500      -0.263500   \n",
       "pctNoSmartphone                      -0.604844    -0.263500       0.263500   \n",
       "Estimate_GiniIndex                   -0.112872    -0.287001       0.287001   \n",
       "MarginOfError_GiniIndex              -0.203314    -0.311713       0.311713   \n",
       "avgIncome                             0.538522     0.444400      -0.444400   \n",
       "\n",
       "                               pctHasTech  pctNoTech  pctSmartphone  \\\n",
       "pctNoHs                         -0.345541   0.345541      -0.079459   \n",
       "pctHs                           -0.709414   0.709414      -0.767809   \n",
       "pctBach                          0.665961  -0.665961       0.620782   \n",
       "pctSomeCollege1YrNoDegree       -0.060080   0.060080      -0.236031   \n",
       "pctSomeCollegeManyYrsNoDegree    0.022361  -0.022361       0.077350   \n",
       "pctGradPlus                      0.511530  -0.511530       0.442343   \n",
       "pctInLaborForce                  0.582327  -0.582327       0.604844   \n",
       "pctEmployed                      0.432663  -0.432663       0.263500   \n",
       "pctUnemployed                   -0.432663   0.432663      -0.263500   \n",
       "pctHasTech                       1.000000  -1.000000       0.899346   \n",
       "pctNoTech                       -1.000000   1.000000      -0.899346   \n",
       "pctSmartphone                    0.899346  -0.899346       1.000000   \n",
       "pctNoSmartphone                 -0.899346   0.899346      -1.000000   \n",
       "Estimate_GiniIndex              -0.234855   0.234855      -0.097597   \n",
       "MarginOfError_GiniIndex         -0.163076   0.163076      -0.062808   \n",
       "avgIncome                        0.578956  -0.578956       0.486996   \n",
       "\n",
       "                               pctNoSmartphone  Estimate_GiniIndex  \\\n",
       "pctNoHs                               0.079459            0.091300   \n",
       "pctHs                                 0.767809           -0.190939   \n",
       "pctBach                              -0.620782            0.176874   \n",
       "pctSomeCollege1YrNoDegree             0.236031           -0.468974   \n",
       "pctSomeCollegeManyYrsNoDegree        -0.077350           -0.251097   \n",
       "pctGradPlus                          -0.442343            0.258362   \n",
       "pctInLaborForce                      -0.604844           -0.112872   \n",
       "pctEmployed                          -0.263500           -0.287001   \n",
       "pctUnemployed                         0.263500            0.287001   \n",
       "pctHasTech                           -0.899346           -0.234855   \n",
       "pctNoTech                             0.899346            0.234855   \n",
       "pctSmartphone                        -1.000000           -0.097597   \n",
       "pctNoSmartphone                       1.000000            0.097597   \n",
       "Estimate_GiniIndex                    0.097597            1.000000   \n",
       "MarginOfError_GiniIndex               0.062808            0.308439   \n",
       "avgIncome                            -0.486996            0.245679   \n",
       "\n",
       "                               MarginOfError_GiniIndex  avgIncome  \n",
       "pctNoHs                                       0.291348  -0.525402  \n",
       "pctHs                                         0.153568  -0.714676  \n",
       "pctBach                                      -0.263496   0.860153  \n",
       "pctSomeCollege1YrNoDegree                    -0.010577  -0.432199  \n",
       "pctSomeCollegeManyYrsNoDegree                 0.115139  -0.485254  \n",
       "pctGradPlus                                  -0.229895   0.881395  \n",
       "pctInLaborForce                              -0.203314   0.538522  \n",
       "pctEmployed                                  -0.311713   0.444400  \n",
       "pctUnemployed                                 0.311713  -0.444400  \n",
       "pctHasTech                                   -0.163076   0.578956  \n",
       "pctNoTech                                     0.163076  -0.578956  \n",
       "pctSmartphone                                -0.062808   0.486996  \n",
       "pctNoSmartphone                               0.062808  -0.486996  \n",
       "Estimate_GiniIndex                            0.308439   0.245679  \n",
       "MarginOfError_GiniIndex                       1.000000  -0.221991  \n",
       "avgIncome                                    -0.221991   1.000000  "
      ]
     },
     "execution_count": 44,
     "metadata": {},
     "output_type": "execute_result"
    }
   ],
   "source": [
    "mgd.corr()"
   ]
  },
  {
   "cell_type": "markdown",
   "metadata": {},
   "source": [
    "# Poverty"
   ]
  },
  {
   "cell_type": "code",
   "execution_count": 45,
   "metadata": {},
   "outputs": [
    {
     "data": {
      "application/vnd.jupyter.widget-view+json": {
       "model_id": "52f8c0e16d284975914fcde26ee3430a",
       "version_major": 2,
       "version_minor": 0
      },
      "text/plain": [
       "  0%|          | 0/1 [00:00<?, ?it/s]"
      ]
     },
     "metadata": {},
     "output_type": "display_data"
    },
    {
     "data": {
      "application/vnd.jupyter.widget-view+json": {
       "model_id": "9851f2b8468342599f0886462709b6c9",
       "version_major": 2,
       "version_minor": 0
      },
      "text/plain": [
       "|          | 0/? [00:00<?, ?it/s]"
      ]
     },
     "metadata": {},
     "output_type": "display_data"
    }
   ],
   "source": [
    "povertyVars = c.getVariablesByGroup(c.groups.PovertyStatusInThePast12MonthsByAge.code)\n",
    "filteredVars = [var['code'] for var in povertyVars.to_dict('records') if var['name'].startswith('Estimate')]\n",
    "povertyStats = c.getStats(filteredVars, *geoDomains)"
   ]
  },
  {
   "cell_type": "code",
   "execution_count": 46,
   "metadata": {},
   "outputs": [],
   "source": [
    "povertyPcts = povertyStats.loc[:,['NAME', 'state', 'congressional district']]\n",
    "\n",
    "povertyPcts['atOrAbove'] = (povertyStats.Estimate_Total_IncomeInThePast12MonthsAtOrAbovePovertyLevel /\n",
    "             povertyStats.Estimate_Total)\n",
    "\n",
    "povertyPcts['below'] = (povertyStats.Estimate_Total_IncomeInThePast12MonthsBelowPovertyLevel /\n",
    "                       povertyStats.Estimate_Total)"
   ]
  },
  {
   "cell_type": "code",
   "execution_count": 47,
   "metadata": {},
   "outputs": [
    {
     "data": {
      "text/html": [
       "<div>\n",
       "<style scoped>\n",
       "    .dataframe tbody tr th:only-of-type {\n",
       "        vertical-align: middle;\n",
       "    }\n",
       "\n",
       "    .dataframe tbody tr th {\n",
       "        vertical-align: top;\n",
       "    }\n",
       "\n",
       "    .dataframe thead th {\n",
       "        text-align: right;\n",
       "    }\n",
       "</style>\n",
       "<table border=\"1\" class=\"dataframe\">\n",
       "  <thead>\n",
       "    <tr style=\"text-align: right;\">\n",
       "      <th></th>\n",
       "      <th>atOrAbove</th>\n",
       "      <th>below</th>\n",
       "    </tr>\n",
       "  </thead>\n",
       "  <tbody>\n",
       "    <tr>\n",
       "      <th>count</th>\n",
       "      <td>437.000000</td>\n",
       "      <td>437.000000</td>\n",
       "    </tr>\n",
       "    <tr>\n",
       "      <th>mean</th>\n",
       "      <td>0.875172</td>\n",
       "      <td>0.124828</td>\n",
       "    </tr>\n",
       "    <tr>\n",
       "      <th>std</th>\n",
       "      <td>0.047464</td>\n",
       "      <td>0.047464</td>\n",
       "    </tr>\n",
       "    <tr>\n",
       "      <th>min</th>\n",
       "      <td>0.565290</td>\n",
       "      <td>0.034630</td>\n",
       "    </tr>\n",
       "    <tr>\n",
       "      <th>25%</th>\n",
       "      <td>0.852099</td>\n",
       "      <td>0.091802</td>\n",
       "    </tr>\n",
       "    <tr>\n",
       "      <th>50%</th>\n",
       "      <td>0.881482</td>\n",
       "      <td>0.118518</td>\n",
       "    </tr>\n",
       "    <tr>\n",
       "      <th>75%</th>\n",
       "      <td>0.908198</td>\n",
       "      <td>0.147901</td>\n",
       "    </tr>\n",
       "    <tr>\n",
       "      <th>max</th>\n",
       "      <td>0.965370</td>\n",
       "      <td>0.434710</td>\n",
       "    </tr>\n",
       "  </tbody>\n",
       "</table>\n",
       "</div>"
      ],
      "text/plain": [
       "        atOrAbove       below\n",
       "count  437.000000  437.000000\n",
       "mean     0.875172    0.124828\n",
       "std      0.047464    0.047464\n",
       "min      0.565290    0.034630\n",
       "25%      0.852099    0.091802\n",
       "50%      0.881482    0.118518\n",
       "75%      0.908198    0.147901\n",
       "max      0.965370    0.434710"
      ]
     },
     "execution_count": 47,
     "metadata": {},
     "output_type": "execute_result"
    }
   ],
   "source": [
    "povertyPcts.describe()"
   ]
  },
  {
   "cell_type": "code",
   "execution_count": 48,
   "metadata": {},
   "outputs": [],
   "source": [
    "geoCodes = c.getGeographyCodes(GeoDomain('state'))"
   ]
  },
  {
   "cell_type": "code",
   "execution_count": 49,
   "metadata": {},
   "outputs": [
    {
     "data": {
      "text/html": [
       "<div>\n",
       "<style scoped>\n",
       "    .dataframe tbody tr th:only-of-type {\n",
       "        vertical-align: middle;\n",
       "    }\n",
       "\n",
       "    .dataframe tbody tr th {\n",
       "        vertical-align: top;\n",
       "    }\n",
       "\n",
       "    .dataframe thead th {\n",
       "        text-align: right;\n",
       "    }\n",
       "</style>\n",
       "<table border=\"1\" class=\"dataframe\">\n",
       "  <thead>\n",
       "    <tr style=\"text-align: right;\">\n",
       "      <th></th>\n",
       "      <th>NAME</th>\n",
       "      <th>state</th>\n",
       "    </tr>\n",
       "  </thead>\n",
       "  <tbody>\n",
       "    <tr>\n",
       "      <th>32</th>\n",
       "      <td>New York</td>\n",
       "      <td>36</td>\n",
       "    </tr>\n",
       "  </tbody>\n",
       "</table>\n",
       "</div>"
      ],
      "text/plain": [
       "        NAME state\n",
       "32  New York    36"
      ]
     },
     "execution_count": 49,
     "metadata": {},
     "output_type": "execute_result"
    }
   ],
   "source": [
    "geoCodes[geoCodes['NAME'] == 'New York']"
   ]
  },
  {
   "cell_type": "code",
   "execution_count": 50,
   "metadata": {},
   "outputs": [],
   "source": [
    "congDistCodes = c.getGeographyCodes(GeoDomain('congressional district'),\n",
    "                                   GeoDomain('state', '36'))"
   ]
  },
  {
   "cell_type": "code",
   "execution_count": 51,
   "metadata": {},
   "outputs": [
    {
     "data": {
      "text/html": [
       "<div>\n",
       "<style scoped>\n",
       "    .dataframe tbody tr th:only-of-type {\n",
       "        vertical-align: middle;\n",
       "    }\n",
       "\n",
       "    .dataframe tbody tr th {\n",
       "        vertical-align: top;\n",
       "    }\n",
       "\n",
       "    .dataframe thead th {\n",
       "        text-align: right;\n",
       "    }\n",
       "</style>\n",
       "<table border=\"1\" class=\"dataframe\">\n",
       "  <thead>\n",
       "    <tr style=\"text-align: right;\">\n",
       "      <th></th>\n",
       "      <th>NAME</th>\n",
       "      <th>state</th>\n",
       "      <th>congressional district</th>\n",
       "      <th>atOrAbove</th>\n",
       "      <th>below</th>\n",
       "    </tr>\n",
       "  </thead>\n",
       "  <tbody>\n",
       "    <tr>\n",
       "      <th>334</th>\n",
       "      <td>Congressional District 14 (116th Congress), New York</td>\n",
       "      <td>36</td>\n",
       "      <td>14</td>\n",
       "      <td>0.871396</td>\n",
       "      <td>0.128604</td>\n",
       "    </tr>\n",
       "  </tbody>\n",
       "</table>\n",
       "</div>"
      ],
      "text/plain": [
       "                                                     NAME state  \\\n",
       "334  Congressional District 14 (116th Congress), New York    36   \n",
       "\n",
       "    congressional district  atOrAbove     below  \n",
       "334                     14   0.871396  0.128604  "
      ]
     },
     "execution_count": 51,
     "metadata": {},
     "output_type": "execute_result"
    }
   ],
   "source": [
    "povertyPcts[(povertyPcts.state == '36') & (povertyPcts['congressional district'] == '14')]"
   ]
  },
  {
   "cell_type": "code",
   "execution_count": 52,
   "metadata": {},
   "outputs": [
    {
     "data": {
      "application/vnd.jupyter.widget-view+json": {
       "model_id": "41da85b40edc4ff7b985dd988204ff05",
       "version_major": 2,
       "version_minor": 0
      },
      "text/plain": [
       "  0%|          | 0/1 [00:00<?, ?it/s]"
      ]
     },
     "metadata": {},
     "output_type": "display_data"
    },
    {
     "data": {
      "application/vnd.jupyter.widget-view+json": {
       "model_id": "31c9bb7d1f074ffea41f74b4097353b9",
       "version_major": 2,
       "version_minor": 0
      },
      "text/plain": [
       "|          | 0/? [00:00<?, ?it/s]"
      ]
     },
     "metadata": {},
     "output_type": "display_data"
    }
   ],
   "source": [
    "blackPovVars = c.getVariablesByGroup(c.groups.PovertyStatusInThePast12MonthsByAgeBlackOrAfricanAmericanAlone.code)\n",
    "blackPovStats = c.getStats(blackPovVars['code'].tolist(), *geoDomains)"
   ]
  },
  {
   "cell_type": "code",
   "execution_count": 53,
   "metadata": {},
   "outputs": [
    {
     "data": {
      "text/html": [
       "<div>\n",
       "<style scoped>\n",
       "    .dataframe tbody tr th:only-of-type {\n",
       "        vertical-align: middle;\n",
       "    }\n",
       "\n",
       "    .dataframe tbody tr th {\n",
       "        vertical-align: top;\n",
       "    }\n",
       "\n",
       "    .dataframe thead th {\n",
       "        text-align: right;\n",
       "    }\n",
       "</style>\n",
       "<table border=\"1\" class=\"dataframe\">\n",
       "  <thead>\n",
       "    <tr style=\"text-align: right;\">\n",
       "      <th></th>\n",
       "      <th>NAME</th>\n",
       "      <th>congressional district</th>\n",
       "      <th>state</th>\n",
       "      <th>Estimate_Total</th>\n",
       "      <th>AnnotationOfEstimate_Total</th>\n",
       "      <th>MarginOfError_Total</th>\n",
       "      <th>AnnotationOfMarginOfError_Total</th>\n",
       "      <th>Estimate_Total_IncomeInThePast12MonthsBelowPovertyLevel</th>\n",
       "      <th>AnnotationOfEstimate_Total_IncomeInThePast12MonthsBelowPovertyLevel</th>\n",
       "      <th>MarginOfError_Total_IncomeInThePast12MonthsBelowPovertyLevel</th>\n",
       "      <th>...</th>\n",
       "      <th>MarginOfError_Total_IncomeInThePast12MonthsAtOrAbovePovertyLevel_60To74Years</th>\n",
       "      <th>AnnotationOfMarginOfError_Total_IncomeInThePast12MonthsAtOrAbovePovertyLevel_60To74Years</th>\n",
       "      <th>Estimate_Total_IncomeInThePast12MonthsAtOrAbovePovertyLevel_75To84Years</th>\n",
       "      <th>AnnotationOfEstimate_Total_IncomeInThePast12MonthsAtOrAbovePovertyLevel_75To84Years</th>\n",
       "      <th>MarginOfError_Total_IncomeInThePast12MonthsAtOrAbovePovertyLevel_75To84Years</th>\n",
       "      <th>AnnotationOfMarginOfError_Total_IncomeInThePast12MonthsAtOrAbovePovertyLevel_75To84Years</th>\n",
       "      <th>Estimate_Total_IncomeInThePast12MonthsAtOrAbovePovertyLevel_85YearsAndOver</th>\n",
       "      <th>AnnotationOfEstimate_Total_IncomeInThePast12MonthsAtOrAbovePovertyLevel_85YearsAndOver</th>\n",
       "      <th>MarginOfError_Total_IncomeInThePast12MonthsAtOrAbovePovertyLevel_85YearsAndOver</th>\n",
       "      <th>AnnotationOfMarginOfError_Total_IncomeInThePast12MonthsAtOrAbovePovertyLevel_85YearsAndOver</th>\n",
       "    </tr>\n",
       "  </thead>\n",
       "  <tbody>\n",
       "    <tr>\n",
       "      <th>0</th>\n",
       "      <td>Congressional District (at Large) (116th Congress), Alaska</td>\n",
       "      <td>00</td>\n",
       "      <td>02</td>\n",
       "      <td>20213.0</td>\n",
       "      <td>None</td>\n",
       "      <td>1817.0</td>\n",
       "      <td>None</td>\n",
       "      <td>3107.0</td>\n",
       "      <td>None</td>\n",
       "      <td>2003.0</td>\n",
       "      <td>...</td>\n",
       "      <td>836.0</td>\n",
       "      <td>None</td>\n",
       "      <td>465.0</td>\n",
       "      <td>None</td>\n",
       "      <td>369.0</td>\n",
       "      <td>None</td>\n",
       "      <td>0.0</td>\n",
       "      <td>None</td>\n",
       "      <td>163.0</td>\n",
       "      <td>None</td>\n",
       "    </tr>\n",
       "    <tr>\n",
       "      <th>1</th>\n",
       "      <td>Congressional District (at Large) (116th Congress), Delaware</td>\n",
       "      <td>00</td>\n",
       "      <td>10</td>\n",
       "      <td>209888.0</td>\n",
       "      <td>None</td>\n",
       "      <td>4154.0</td>\n",
       "      <td>None</td>\n",
       "      <td>36392.0</td>\n",
       "      <td>None</td>\n",
       "      <td>5758.0</td>\n",
       "      <td>...</td>\n",
       "      <td>1984.0</td>\n",
       "      <td>None</td>\n",
       "      <td>6485.0</td>\n",
       "      <td>None</td>\n",
       "      <td>1160.0</td>\n",
       "      <td>None</td>\n",
       "      <td>2124.0</td>\n",
       "      <td>None</td>\n",
       "      <td>849.0</td>\n",
       "      <td>None</td>\n",
       "    </tr>\n",
       "    <tr>\n",
       "      <th>2</th>\n",
       "      <td>Congressional District (at Large) (116th Congress), Montana</td>\n",
       "      <td>00</td>\n",
       "      <td>30</td>\n",
       "      <td>NaN</td>\n",
       "      <td>None</td>\n",
       "      <td>NaN</td>\n",
       "      <td>None</td>\n",
       "      <td>NaN</td>\n",
       "      <td>None</td>\n",
       "      <td>NaN</td>\n",
       "      <td>...</td>\n",
       "      <td>NaN</td>\n",
       "      <td>None</td>\n",
       "      <td>NaN</td>\n",
       "      <td>None</td>\n",
       "      <td>NaN</td>\n",
       "      <td>None</td>\n",
       "      <td>NaN</td>\n",
       "      <td>None</td>\n",
       "      <td>NaN</td>\n",
       "      <td>None</td>\n",
       "    </tr>\n",
       "    <tr>\n",
       "      <th>3</th>\n",
       "      <td>Congressional District (at Large) (116th Congress), North Dakota</td>\n",
       "      <td>00</td>\n",
       "      <td>38</td>\n",
       "      <td>NaN</td>\n",
       "      <td>None</td>\n",
       "      <td>NaN</td>\n",
       "      <td>None</td>\n",
       "      <td>NaN</td>\n",
       "      <td>None</td>\n",
       "      <td>NaN</td>\n",
       "      <td>...</td>\n",
       "      <td>NaN</td>\n",
       "      <td>None</td>\n",
       "      <td>NaN</td>\n",
       "      <td>None</td>\n",
       "      <td>NaN</td>\n",
       "      <td>None</td>\n",
       "      <td>NaN</td>\n",
       "      <td>None</td>\n",
       "      <td>NaN</td>\n",
       "      <td>None</td>\n",
       "    </tr>\n",
       "    <tr>\n",
       "      <th>4</th>\n",
       "      <td>Congressional District (at Large) (116th Congress), South Dakota</td>\n",
       "      <td>00</td>\n",
       "      <td>46</td>\n",
       "      <td>19537.0</td>\n",
       "      <td>None</td>\n",
       "      <td>2167.0</td>\n",
       "      <td>None</td>\n",
       "      <td>3891.0</td>\n",
       "      <td>None</td>\n",
       "      <td>2675.0</td>\n",
       "      <td>...</td>\n",
       "      <td>442.0</td>\n",
       "      <td>None</td>\n",
       "      <td>284.0</td>\n",
       "      <td>None</td>\n",
       "      <td>292.0</td>\n",
       "      <td>None</td>\n",
       "      <td>73.0</td>\n",
       "      <td>None</td>\n",
       "      <td>120.0</td>\n",
       "      <td>None</td>\n",
       "    </tr>\n",
       "    <tr>\n",
       "      <th>...</th>\n",
       "      <td>...</td>\n",
       "      <td>...</td>\n",
       "      <td>...</td>\n",
       "      <td>...</td>\n",
       "      <td>...</td>\n",
       "      <td>...</td>\n",
       "      <td>...</td>\n",
       "      <td>...</td>\n",
       "      <td>...</td>\n",
       "      <td>...</td>\n",
       "      <td>...</td>\n",
       "      <td>...</td>\n",
       "      <td>...</td>\n",
       "      <td>...</td>\n",
       "      <td>...</td>\n",
       "      <td>...</td>\n",
       "      <td>...</td>\n",
       "      <td>...</td>\n",
       "      <td>...</td>\n",
       "      <td>...</td>\n",
       "      <td>...</td>\n",
       "    </tr>\n",
       "    <tr>\n",
       "      <th>432</th>\n",
       "      <td>Congressional District 51 (116th Congress), California</td>\n",
       "      <td>51</td>\n",
       "      <td>06</td>\n",
       "      <td>41515.0</td>\n",
       "      <td>None</td>\n",
       "      <td>7317.0</td>\n",
       "      <td>None</td>\n",
       "      <td>9697.0</td>\n",
       "      <td>None</td>\n",
       "      <td>3492.0</td>\n",
       "      <td>...</td>\n",
       "      <td>1462.0</td>\n",
       "      <td>None</td>\n",
       "      <td>1522.0</td>\n",
       "      <td>None</td>\n",
       "      <td>645.0</td>\n",
       "      <td>None</td>\n",
       "      <td>408.0</td>\n",
       "      <td>None</td>\n",
       "      <td>315.0</td>\n",
       "      <td>None</td>\n",
       "    </tr>\n",
       "    <tr>\n",
       "      <th>433</th>\n",
       "      <td>Congressional District 52 (116th Congress), California</td>\n",
       "      <td>52</td>\n",
       "      <td>06</td>\n",
       "      <td>20868.0</td>\n",
       "      <td>None</td>\n",
       "      <td>4958.0</td>\n",
       "      <td>None</td>\n",
       "      <td>2137.0</td>\n",
       "      <td>None</td>\n",
       "      <td>933.0</td>\n",
       "      <td>...</td>\n",
       "      <td>691.0</td>\n",
       "      <td>None</td>\n",
       "      <td>274.0</td>\n",
       "      <td>None</td>\n",
       "      <td>241.0</td>\n",
       "      <td>None</td>\n",
       "      <td>20.0</td>\n",
       "      <td>None</td>\n",
       "      <td>34.0</td>\n",
       "      <td>None</td>\n",
       "    </tr>\n",
       "    <tr>\n",
       "      <th>434</th>\n",
       "      <td>Congressional District 53 (116th Congress), California</td>\n",
       "      <td>53</td>\n",
       "      <td>06</td>\n",
       "      <td>60956.0</td>\n",
       "      <td>None</td>\n",
       "      <td>6895.0</td>\n",
       "      <td>None</td>\n",
       "      <td>13268.0</td>\n",
       "      <td>None</td>\n",
       "      <td>5016.0</td>\n",
       "      <td>...</td>\n",
       "      <td>1442.0</td>\n",
       "      <td>None</td>\n",
       "      <td>2095.0</td>\n",
       "      <td>None</td>\n",
       "      <td>849.0</td>\n",
       "      <td>None</td>\n",
       "      <td>295.0</td>\n",
       "      <td>None</td>\n",
       "      <td>269.0</td>\n",
       "      <td>None</td>\n",
       "    </tr>\n",
       "    <tr>\n",
       "      <th>435</th>\n",
       "      <td>Delegate District (at Large) (116th Congress), District of Columbia</td>\n",
       "      <td>98</td>\n",
       "      <td>11</td>\n",
       "      <td>310435.0</td>\n",
       "      <td>None</td>\n",
       "      <td>4883.0</td>\n",
       "      <td>None</td>\n",
       "      <td>67097.0</td>\n",
       "      <td>None</td>\n",
       "      <td>7197.0</td>\n",
       "      <td>...</td>\n",
       "      <td>2574.0</td>\n",
       "      <td>None</td>\n",
       "      <td>12551.0</td>\n",
       "      <td>None</td>\n",
       "      <td>1335.0</td>\n",
       "      <td>None</td>\n",
       "      <td>5276.0</td>\n",
       "      <td>None</td>\n",
       "      <td>1103.0</td>\n",
       "      <td>None</td>\n",
       "    </tr>\n",
       "    <tr>\n",
       "      <th>436</th>\n",
       "      <td>Resident Commissioner District (at Large) (116th Congress), Puerto Rico</td>\n",
       "      <td>98</td>\n",
       "      <td>72</td>\n",
       "      <td>391675.0</td>\n",
       "      <td>None</td>\n",
       "      <td>11089.0</td>\n",
       "      <td>None</td>\n",
       "      <td>179788.0</td>\n",
       "      <td>None</td>\n",
       "      <td>11776.0</td>\n",
       "      <td>...</td>\n",
       "      <td>3539.0</td>\n",
       "      <td>None</td>\n",
       "      <td>14736.0</td>\n",
       "      <td>None</td>\n",
       "      <td>2082.0</td>\n",
       "      <td>None</td>\n",
       "      <td>5983.0</td>\n",
       "      <td>None</td>\n",
       "      <td>1382.0</td>\n",
       "      <td>None</td>\n",
       "    </tr>\n",
       "  </tbody>\n",
       "</table>\n",
       "<p>437 rows × 71 columns</p>\n",
       "</div>"
      ],
      "text/plain": [
       "                                                                        NAME  \\\n",
       "0                 Congressional District (at Large) (116th Congress), Alaska   \n",
       "1               Congressional District (at Large) (116th Congress), Delaware   \n",
       "2                Congressional District (at Large) (116th Congress), Montana   \n",
       "3           Congressional District (at Large) (116th Congress), North Dakota   \n",
       "4           Congressional District (at Large) (116th Congress), South Dakota   \n",
       "..                                                                       ...   \n",
       "432                   Congressional District 51 (116th Congress), California   \n",
       "433                   Congressional District 52 (116th Congress), California   \n",
       "434                   Congressional District 53 (116th Congress), California   \n",
       "435      Delegate District (at Large) (116th Congress), District of Columbia   \n",
       "436  Resident Commissioner District (at Large) (116th Congress), Puerto Rico   \n",
       "\n",
       "    congressional district state  Estimate_Total AnnotationOfEstimate_Total  \\\n",
       "0                       00    02         20213.0                       None   \n",
       "1                       00    10        209888.0                       None   \n",
       "2                       00    30             NaN                       None   \n",
       "3                       00    38             NaN                       None   \n",
       "4                       00    46         19537.0                       None   \n",
       "..                     ...   ...             ...                        ...   \n",
       "432                     51    06         41515.0                       None   \n",
       "433                     52    06         20868.0                       None   \n",
       "434                     53    06         60956.0                       None   \n",
       "435                     98    11        310435.0                       None   \n",
       "436                     98    72        391675.0                       None   \n",
       "\n",
       "     MarginOfError_Total AnnotationOfMarginOfError_Total  \\\n",
       "0                 1817.0                            None   \n",
       "1                 4154.0                            None   \n",
       "2                    NaN                            None   \n",
       "3                    NaN                            None   \n",
       "4                 2167.0                            None   \n",
       "..                   ...                             ...   \n",
       "432               7317.0                            None   \n",
       "433               4958.0                            None   \n",
       "434               6895.0                            None   \n",
       "435               4883.0                            None   \n",
       "436              11089.0                            None   \n",
       "\n",
       "     Estimate_Total_IncomeInThePast12MonthsBelowPovertyLevel  \\\n",
       "0                                                     3107.0   \n",
       "1                                                    36392.0   \n",
       "2                                                        NaN   \n",
       "3                                                        NaN   \n",
       "4                                                     3891.0   \n",
       "..                                                       ...   \n",
       "432                                                   9697.0   \n",
       "433                                                   2137.0   \n",
       "434                                                  13268.0   \n",
       "435                                                  67097.0   \n",
       "436                                                 179788.0   \n",
       "\n",
       "    AnnotationOfEstimate_Total_IncomeInThePast12MonthsBelowPovertyLevel  \\\n",
       "0                                                                  None   \n",
       "1                                                                  None   \n",
       "2                                                                  None   \n",
       "3                                                                  None   \n",
       "4                                                                  None   \n",
       "..                                                                  ...   \n",
       "432                                                                None   \n",
       "433                                                                None   \n",
       "434                                                                None   \n",
       "435                                                                None   \n",
       "436                                                                None   \n",
       "\n",
       "     MarginOfError_Total_IncomeInThePast12MonthsBelowPovertyLevel  ...  \\\n",
       "0                                                          2003.0  ...   \n",
       "1                                                          5758.0  ...   \n",
       "2                                                             NaN  ...   \n",
       "3                                                             NaN  ...   \n",
       "4                                                          2675.0  ...   \n",
       "..                                                            ...  ...   \n",
       "432                                                        3492.0  ...   \n",
       "433                                                         933.0  ...   \n",
       "434                                                        5016.0  ...   \n",
       "435                                                        7197.0  ...   \n",
       "436                                                       11776.0  ...   \n",
       "\n",
       "    MarginOfError_Total_IncomeInThePast12MonthsAtOrAbovePovertyLevel_60To74Years  \\\n",
       "0                                                                          836.0   \n",
       "1                                                                         1984.0   \n",
       "2                                                                            NaN   \n",
       "3                                                                            NaN   \n",
       "4                                                                          442.0   \n",
       "..                                                                           ...   \n",
       "432                                                                       1462.0   \n",
       "433                                                                        691.0   \n",
       "434                                                                       1442.0   \n",
       "435                                                                       2574.0   \n",
       "436                                                                       3539.0   \n",
       "\n",
       "     AnnotationOfMarginOfError_Total_IncomeInThePast12MonthsAtOrAbovePovertyLevel_60To74Years  \\\n",
       "0                                                                                        None   \n",
       "1                                                                                        None   \n",
       "2                                                                                        None   \n",
       "3                                                                                        None   \n",
       "4                                                                                        None   \n",
       "..                                                                                        ...   \n",
       "432                                                                                      None   \n",
       "433                                                                                      None   \n",
       "434                                                                                      None   \n",
       "435                                                                                      None   \n",
       "436                                                                                      None   \n",
       "\n",
       "    Estimate_Total_IncomeInThePast12MonthsAtOrAbovePovertyLevel_75To84Years  \\\n",
       "0                                                                     465.0   \n",
       "1                                                                    6485.0   \n",
       "2                                                                       NaN   \n",
       "3                                                                       NaN   \n",
       "4                                                                     284.0   \n",
       "..                                                                      ...   \n",
       "432                                                                  1522.0   \n",
       "433                                                                   274.0   \n",
       "434                                                                  2095.0   \n",
       "435                                                                 12551.0   \n",
       "436                                                                 14736.0   \n",
       "\n",
       "     AnnotationOfEstimate_Total_IncomeInThePast12MonthsAtOrAbovePovertyLevel_75To84Years  \\\n",
       "0                                                                                   None   \n",
       "1                                                                                   None   \n",
       "2                                                                                   None   \n",
       "3                                                                                   None   \n",
       "4                                                                                   None   \n",
       "..                                                                                   ...   \n",
       "432                                                                                 None   \n",
       "433                                                                                 None   \n",
       "434                                                                                 None   \n",
       "435                                                                                 None   \n",
       "436                                                                                 None   \n",
       "\n",
       "    MarginOfError_Total_IncomeInThePast12MonthsAtOrAbovePovertyLevel_75To84Years  \\\n",
       "0                                                                          369.0   \n",
       "1                                                                         1160.0   \n",
       "2                                                                            NaN   \n",
       "3                                                                            NaN   \n",
       "4                                                                          292.0   \n",
       "..                                                                           ...   \n",
       "432                                                                        645.0   \n",
       "433                                                                        241.0   \n",
       "434                                                                        849.0   \n",
       "435                                                                       1335.0   \n",
       "436                                                                       2082.0   \n",
       "\n",
       "     AnnotationOfMarginOfError_Total_IncomeInThePast12MonthsAtOrAbovePovertyLevel_75To84Years  \\\n",
       "0                                                                                        None   \n",
       "1                                                                                        None   \n",
       "2                                                                                        None   \n",
       "3                                                                                        None   \n",
       "4                                                                                        None   \n",
       "..                                                                                        ...   \n",
       "432                                                                                      None   \n",
       "433                                                                                      None   \n",
       "434                                                                                      None   \n",
       "435                                                                                      None   \n",
       "436                                                                                      None   \n",
       "\n",
       "    Estimate_Total_IncomeInThePast12MonthsAtOrAbovePovertyLevel_85YearsAndOver  \\\n",
       "0                                                                          0.0   \n",
       "1                                                                       2124.0   \n",
       "2                                                                          NaN   \n",
       "3                                                                          NaN   \n",
       "4                                                                         73.0   \n",
       "..                                                                         ...   \n",
       "432                                                                      408.0   \n",
       "433                                                                       20.0   \n",
       "434                                                                      295.0   \n",
       "435                                                                     5276.0   \n",
       "436                                                                     5983.0   \n",
       "\n",
       "     AnnotationOfEstimate_Total_IncomeInThePast12MonthsAtOrAbovePovertyLevel_85YearsAndOver  \\\n",
       "0                                                                                      None   \n",
       "1                                                                                      None   \n",
       "2                                                                                      None   \n",
       "3                                                                                      None   \n",
       "4                                                                                      None   \n",
       "..                                                                                      ...   \n",
       "432                                                                                    None   \n",
       "433                                                                                    None   \n",
       "434                                                                                    None   \n",
       "435                                                                                    None   \n",
       "436                                                                                    None   \n",
       "\n",
       "    MarginOfError_Total_IncomeInThePast12MonthsAtOrAbovePovertyLevel_85YearsAndOver  \\\n",
       "0                                                                             163.0   \n",
       "1                                                                             849.0   \n",
       "2                                                                               NaN   \n",
       "3                                                                               NaN   \n",
       "4                                                                             120.0   \n",
       "..                                                                              ...   \n",
       "432                                                                           315.0   \n",
       "433                                                                            34.0   \n",
       "434                                                                           269.0   \n",
       "435                                                                          1103.0   \n",
       "436                                                                          1382.0   \n",
       "\n",
       "     AnnotationOfMarginOfError_Total_IncomeInThePast12MonthsAtOrAbovePovertyLevel_85YearsAndOver  \n",
       "0                                                                                           None  \n",
       "1                                                                                           None  \n",
       "2                                                                                           None  \n",
       "3                                                                                           None  \n",
       "4                                                                                           None  \n",
       "..                                                                                           ...  \n",
       "432                                                                                         None  \n",
       "433                                                                                         None  \n",
       "434                                                                                         None  \n",
       "435                                                                                         None  \n",
       "436                                                                                         None  \n",
       "\n",
       "[437 rows x 71 columns]"
      ]
     },
     "execution_count": 53,
     "metadata": {},
     "output_type": "execute_result"
    }
   ],
   "source": [
    "blackPovStats"
   ]
  },
  {
   "cell_type": "code",
   "execution_count": null,
   "metadata": {},
   "outputs": [],
   "source": []
  }
 ],
 "metadata": {
  "kernelspec": {
   "display_name": "Python 3.9.1 64-bit ('.venv')",
   "language": "python",
   "name": "python39164bitvenv24530a99c8a64e648fbc291cfc88a7f8"
  },
  "language_info": {
   "codemirror_mode": {
    "name": "ipython",
    "version": 3
   },
   "file_extension": ".py",
   "mimetype": "text/x-python",
   "name": "python",
   "nbconvert_exporter": "python",
   "pygments_lexer": "ipython3",
   "version": "3.9.1"
  }
 },
 "nbformat": 4,
 "nbformat_minor": 4
}
