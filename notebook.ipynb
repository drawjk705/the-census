{
 "cells": [
  {
   "cell_type": "code",
   "execution_count": 1,
   "metadata": {},
   "outputs": [],
   "source": [
    "%config Completer.use_jedi = False"
   ]
  },
  {
   "cell_type": "code",
   "execution_count": 8,
   "metadata": {},
   "outputs": [],
   "source": [
    "from census.getCensus import getCensus\n",
    "from census.variables.models import GroupCode\n",
    "from census.models import GeoDomain\n",
    "import pandas as pd"
   ]
  },
  {
   "cell_type": "code",
   "execution_count": 3,
   "metadata": {},
   "outputs": [],
   "source": [
    "c = getCensus(2019, shouldCacheOnDisk=True, shouldLoadFromExistingCache=True)"
   ]
  },
  {
   "cell_type": "code",
   "execution_count": 4,
   "metadata": {},
   "outputs": [
    {
     "data": {
      "text/html": [
       "<div>\n",
       "<style scoped>\n",
       "    .dataframe tbody tr th:only-of-type {\n",
       "        vertical-align: middle;\n",
       "    }\n",
       "\n",
       "    .dataframe tbody tr th {\n",
       "        vertical-align: top;\n",
       "    }\n",
       "\n",
       "    .dataframe thead th {\n",
       "        text-align: right;\n",
       "    }\n",
       "</style>\n",
       "<table border=\"1\" class=\"dataframe\">\n",
       "  <thead>\n",
       "    <tr style=\"text-align: right;\">\n",
       "      <th></th>\n",
       "      <th>code</th>\n",
       "      <th>description</th>\n",
       "    </tr>\n",
       "  </thead>\n",
       "  <tbody>\n",
       "    <tr>\n",
       "      <th>0</th>\n",
       "      <td>B01001</td>\n",
       "      <td>SEX BY AGE</td>\n",
       "    </tr>\n",
       "    <tr>\n",
       "      <th>1</th>\n",
       "      <td>B01001A</td>\n",
       "      <td>SEX BY AGE (WHITE ALONE)</td>\n",
       "    </tr>\n",
       "    <tr>\n",
       "      <th>2</th>\n",
       "      <td>B01001B</td>\n",
       "      <td>SEX BY AGE (BLACK OR AFRICAN AMERICAN ALONE)</td>\n",
       "    </tr>\n",
       "    <tr>\n",
       "      <th>3</th>\n",
       "      <td>B01001C</td>\n",
       "      <td>SEX BY AGE (AMERICAN INDIAN AND ALASKA NATIVE ALONE)</td>\n",
       "    </tr>\n",
       "    <tr>\n",
       "      <th>4</th>\n",
       "      <td>B01001D</td>\n",
       "      <td>SEX BY AGE (ASIAN ALONE)</td>\n",
       "    </tr>\n",
       "  </tbody>\n",
       "</table>\n",
       "</div>"
      ],
      "text/plain": [
       "      code                                           description\n",
       "0   B01001                                            SEX BY AGE\n",
       "1  B01001A                              SEX BY AGE (WHITE ALONE)\n",
       "2  B01001B          SEX BY AGE (BLACK OR AFRICAN AMERICAN ALONE)\n",
       "3  B01001C  SEX BY AGE (AMERICAN INDIAN AND ALASKA NATIVE ALONE)\n",
       "4  B01001D                              SEX BY AGE (ASIAN ALONE)"
      ]
     },
     "execution_count": 4,
     "metadata": {},
     "output_type": "execute_result"
    }
   ],
   "source": [
    "c.getGroups().head()"
   ]
  },
  {
   "cell_type": "code",
   "execution_count": 5,
   "metadata": {},
   "outputs": [
    {
     "data": {
      "application/vnd.jupyter.widget-view+json": {
       "model_id": "568b5836294d43e3aeb8f5cfc84aa7e6",
       "version_major": 2,
       "version_minor": 0
      },
      "text/plain": [
       "  0%|          | 0/5 [00:00<?, ?it/s]"
      ]
     },
     "metadata": {},
     "output_type": "display_data"
    }
   ],
   "source": [
    "variables = c.getVariablesByGroup(\n",
    "    c.groups.EducationalAttainmentForThePopulation25YearsAndOver.code,\n",
    "    c.groups.EducationalAttainmentByPresenceOfAComputerAndTypesOfInternetSubscriptionInHousehold.code,\n",
    "    c.groups.EmploymentStatusForThePopulation16YearsAndOver.code,\n",
    "    c.groups.HealthInsuranceCoverageStatusAndTypeByAgeByEducationalAttainment.code,\n",
    "    c.groups.HealthInsuranceCoverageStatusAndTypeByEmploymentStatus.code,\n",
    ")"
   ]
  },
  {
   "cell_type": "code",
   "execution_count": 6,
   "metadata": {},
   "outputs": [
    {
     "data": {
      "application/vnd.jupyter.widget-view+json": {
       "model_id": "0063795bd71b48bb93b0f4899905811c",
       "version_major": 2,
       "version_minor": 0
      },
      "text/plain": [
       "  0%|          | 0/1 [00:00<?, ?it/s]"
      ]
     },
     "metadata": {},
     "output_type": "display_data"
    },
    {
     "data": {
      "application/vnd.jupyter.widget-view+json": {
       "model_id": "c692ce3fa89e4844a08f7ac48cfad4cc",
       "version_major": 2,
       "version_minor": 0
      },
      "text/plain": [
       "  0%|          | 0/1 [00:00<?, ?it/s]"
      ]
     },
     "metadata": {},
     "output_type": "display_data"
    },
    {
     "data": {
      "application/vnd.jupyter.widget-view+json": {
       "model_id": "69138bbe9c6142df9988eabd129db334",
       "version_major": 2,
       "version_minor": 0
      },
      "text/plain": [
       "  0%|          | 0/1 [00:00<?, ?it/s]"
      ]
     },
     "metadata": {},
     "output_type": "display_data"
    },
    {
     "data": {
      "application/vnd.jupyter.widget-view+json": {
       "model_id": "66e7e815cb594ccbb8722bc3fd094745",
       "version_major": 2,
       "version_minor": 0
      },
      "text/plain": [
       "  0%|          | 0/1 [00:00<?, ?it/s]"
      ]
     },
     "metadata": {},
     "output_type": "display_data"
    }
   ],
   "source": [
    "educVars = c.getVariablesByGroup(c.groups.EducationalAttainmentForThePopulation25YearsAndOver.code)\n",
    "educAndCompVars = c.getVariablesByGroup(c.groups.EducationalAttainmentByPresenceOfAComputerAndTypesOfInternetSubscriptionInHousehold.code)\n",
    "emplVars = c.getVariablesByGroup(c.groups.EmploymentStatusForThePopulation16YearsAndOver.code)\n",
    "healthInsByEduc = c.getVariablesByGroup(c.groups.HealthInsuranceCoverageStatusAndTypeByAgeByEducationalAttainment.code)\n"
   ]
  },
  {
   "cell_type": "code",
   "execution_count": 9,
   "metadata": {},
   "outputs": [
    {
     "data": {
      "application/vnd.jupyter.widget-view+json": {
       "model_id": "7251316d8d0949098ec10e349587a400",
       "version_major": 2,
       "version_minor": 0
      },
      "text/plain": [
       "|          | 0/? [00:00<?, ?it/s]"
      ]
     },
     "metadata": {},
     "output_type": "display_data"
    }
   ],
   "source": [
    "educData = c.getStats(educVars['code'].tolist(), GeoDomain('congressional district'), [GeoDomain('state')], replaceColumnHeaders=True)\n",
    "emplData = c.getStats(emplVars['code'].tolist(), GeoDomain('congressional district'), )"
   ]
  },
  {
   "cell_type": "code",
   "execution_count": 10,
   "metadata": {},
   "outputs": [
    {
     "data": {
      "text/html": [
       "<div>\n",
       "<style scoped>\n",
       "    .dataframe tbody tr th:only-of-type {\n",
       "        vertical-align: middle;\n",
       "    }\n",
       "\n",
       "    .dataframe tbody tr th {\n",
       "        vertical-align: top;\n",
       "    }\n",
       "\n",
       "    .dataframe thead th {\n",
       "        text-align: right;\n",
       "    }\n",
       "</style>\n",
       "<table border=\"1\" class=\"dataframe\">\n",
       "  <thead>\n",
       "    <tr style=\"text-align: right;\">\n",
       "      <th></th>\n",
       "      <th>NAME</th>\n",
       "      <th>congressional district</th>\n",
       "      <th>state</th>\n",
       "      <th>Estimate_Total</th>\n",
       "      <th>AnnotationOfEstimate_Total</th>\n",
       "      <th>MarginOfError_Total</th>\n",
       "      <th>AnnotationOfMarginOfError_Total</th>\n",
       "      <th>Estimate_Total_NoSchoolingCompleted</th>\n",
       "      <th>AnnotationOfEstimate_Total_NoSchoolingCompleted</th>\n",
       "      <th>MarginOfError_Total_NoSchoolingCompleted</th>\n",
       "      <th>...</th>\n",
       "      <th>MarginOfError_Total_MastersDegree</th>\n",
       "      <th>AnnotationOfMarginOfError_Total_MastersDegree</th>\n",
       "      <th>Estimate_Total_ProfessionalSchoolDegree</th>\n",
       "      <th>AnnotationOfEstimate_Total_ProfessionalSchoolDegree</th>\n",
       "      <th>MarginOfError_Total_ProfessionalSchoolDegree</th>\n",
       "      <th>AnnotationOfMarginOfError_Total_ProfessionalSchoolDegree</th>\n",
       "      <th>Estimate_Total_DoctorateDegree</th>\n",
       "      <th>AnnotationOfEstimate_Total_DoctorateDegree</th>\n",
       "      <th>MarginOfError_Total_DoctorateDegree</th>\n",
       "      <th>AnnotationOfMarginOfError_Total_DoctorateDegree</th>\n",
       "    </tr>\n",
       "  </thead>\n",
       "  <tbody>\n",
       "    <tr>\n",
       "      <th>0</th>\n",
       "      <td>Congressional District 3 (116th Congress), California</td>\n",
       "      <td>03</td>\n",
       "      <td>06</td>\n",
       "      <td>492041</td>\n",
       "      <td>None</td>\n",
       "      <td>6040</td>\n",
       "      <td>None</td>\n",
       "      <td>9757</td>\n",
       "      <td>None</td>\n",
       "      <td>1948</td>\n",
       "      <td>...</td>\n",
       "      <td>3477</td>\n",
       "      <td>None</td>\n",
       "      <td>9976</td>\n",
       "      <td>None</td>\n",
       "      <td>1574</td>\n",
       "      <td>None</td>\n",
       "      <td>6172</td>\n",
       "      <td>None</td>\n",
       "      <td>1214</td>\n",
       "      <td>None</td>\n",
       "    </tr>\n",
       "    <tr>\n",
       "      <th>1</th>\n",
       "      <td>Congressional District 21 (116th Congress), California</td>\n",
       "      <td>21</td>\n",
       "      <td>06</td>\n",
       "      <td>424849</td>\n",
       "      <td>None</td>\n",
       "      <td>10792</td>\n",
       "      <td>None</td>\n",
       "      <td>21911</td>\n",
       "      <td>None</td>\n",
       "      <td>3774</td>\n",
       "      <td>...</td>\n",
       "      <td>1546</td>\n",
       "      <td>None</td>\n",
       "      <td>3547</td>\n",
       "      <td>None</td>\n",
       "      <td>1356</td>\n",
       "      <td>None</td>\n",
       "      <td>889</td>\n",
       "      <td>None</td>\n",
       "      <td>422</td>\n",
       "      <td>None</td>\n",
       "    </tr>\n",
       "  </tbody>\n",
       "</table>\n",
       "<p>2 rows × 75 columns</p>\n",
       "</div>"
      ],
      "text/plain": [
       "                                                     NAME  \\\n",
       "0   Congressional District 3 (116th Congress), California   \n",
       "1  Congressional District 21 (116th Congress), California   \n",
       "\n",
       "  congressional district state  Estimate_Total AnnotationOfEstimate_Total  \\\n",
       "0                     03    06          492041                       None   \n",
       "1                     21    06          424849                       None   \n",
       "\n",
       "   MarginOfError_Total AnnotationOfMarginOfError_Total  \\\n",
       "0                 6040                            None   \n",
       "1                10792                            None   \n",
       "\n",
       "   Estimate_Total_NoSchoolingCompleted  \\\n",
       "0                                 9757   \n",
       "1                                21911   \n",
       "\n",
       "  AnnotationOfEstimate_Total_NoSchoolingCompleted  \\\n",
       "0                                            None   \n",
       "1                                            None   \n",
       "\n",
       "   MarginOfError_Total_NoSchoolingCompleted  ...  \\\n",
       "0                                      1948  ...   \n",
       "1                                      3774  ...   \n",
       "\n",
       "  MarginOfError_Total_MastersDegree  \\\n",
       "0                              3477   \n",
       "1                              1546   \n",
       "\n",
       "   AnnotationOfMarginOfError_Total_MastersDegree  \\\n",
       "0                                           None   \n",
       "1                                           None   \n",
       "\n",
       "  Estimate_Total_ProfessionalSchoolDegree  \\\n",
       "0                                    9976   \n",
       "1                                    3547   \n",
       "\n",
       "   AnnotationOfEstimate_Total_ProfessionalSchoolDegree  \\\n",
       "0                                                 None   \n",
       "1                                                 None   \n",
       "\n",
       "  MarginOfError_Total_ProfessionalSchoolDegree  \\\n",
       "0                                         1574   \n",
       "1                                         1356   \n",
       "\n",
       "   AnnotationOfMarginOfError_Total_ProfessionalSchoolDegree  \\\n",
       "0                                                      None   \n",
       "1                                                      None   \n",
       "\n",
       "  Estimate_Total_DoctorateDegree  AnnotationOfEstimate_Total_DoctorateDegree  \\\n",
       "0                           6172                                        None   \n",
       "1                            889                                        None   \n",
       "\n",
       "  MarginOfError_Total_DoctorateDegree  \\\n",
       "0                                1214   \n",
       "1                                 422   \n",
       "\n",
       "   AnnotationOfMarginOfError_Total_DoctorateDegree  \n",
       "0                                             None  \n",
       "1                                             None  \n",
       "\n",
       "[2 rows x 75 columns]"
      ]
     },
     "execution_count": 10,
     "metadata": {},
     "output_type": "execute_result"
    }
   ],
   "source": [
    "educData.head(n=2)"
   ]
  },
  {
   "cell_type": "code",
   "execution_count": 18,
   "metadata": {},
   "outputs": [
    {
     "data": {
      "text/plain": [
       "Index(['NAME', 'congressional district', 'state', 'Estimate_Total',\n",
       "       'Estimate_Total_NoSchoolingCompleted',\n",
       "       'Estimate_Total_NurseryTo4thGrade', 'Estimate_Total_5thAnd6thGrade',\n",
       "       'Estimate_Total_7thAnd8thGrade', 'Estimate_Total_9thGrade',\n",
       "       'Estimate_Total_10thGrade', 'Estimate_Total_11thGrade',\n",
       "       'Estimate_Total_12thGradeNoDiploma',\n",
       "       'Estimate_Total_RegularHighSchoolDiploma',\n",
       "       'Estimate_Total_GedOrAlternativeCredential',\n",
       "       'Estimate_Total_SomeCollegeLessThan1Year',\n",
       "       'Estimate_Total_SomeCollege1OrMoreYearsNoDegree',\n",
       "       'Estimate_Total_AssociatesDegree', 'Estimate_Total_BachelorsDegree',\n",
       "       'Estimate_Total_MastersDegree',\n",
       "       'Estimate_Total_ProfessionalSchoolDegree',\n",
       "       'Estimate_Total_DoctorateDegree'],\n",
       "      dtype='object')"
      ]
     },
     "execution_count": 18,
     "metadata": {},
     "output_type": "execute_result"
    }
   ],
   "source": [
    "educData.columns"
   ]
  },
  {
   "cell_type": "code",
   "execution_count": 19,
   "metadata": {},
   "outputs": [],
   "source": [
    "educPcts = educData.loc[:,['NAME', 'congressional district', 'state']]"
   ]
  },
  {
   "cell_type": "code",
   "execution_count": 20,
   "metadata": {},
   "outputs": [],
   "source": [
    "educPcts['pctNoHs'] = (educData.Estimate_Total_NoSchoolingCompleted \\\n",
    "                    + educData.Estimate_Total_NurseryTo4thGrade \\\n",
    "                    + educData.Estimate_Total_5thAnd6thGrade \\\n",
    "                    + educData.Estimate_Total_7thAnd8thGrade \\\n",
    "                    + educData.Estimate_Total_9thGrade \\\n",
    "                    + educData.Estimate_Total_10thGrade \\\n",
    "                    + educData.Estimate_Total_11thGrade \\\n",
    "                    + educData.Estimate_Total_12thGradeNoDiploma) / educData.Estimate_Total\n",
    "educPcts['pctHs'] = (educData.Estimate_Total_RegularHighSchoolDiploma \\\n",
    "                     + educData.Estimate_Total_GedOrAlternativeCredential) \\\n",
    "                        / educData.Estimate_Total\n",
    "educPcts['pctBach'] = educData.Estimate_Total_BachelorsDegree / educData.Estimate_Total\n",
    "educPcts['pctSomeCollege1YrNoDegree'] = educData.Estimate_Total_SomeCollegeLessThan1Year / educData.Estimate_Total\n",
    "educPcts['pctSomeCollegeManyYrsNoDegree'] = educData.Estimate_Total_SomeCollege1OrMoreYearsNoDegree / educData.Estimate_Total\n",
    "educPcts['pctGradPlus'] = (educData.Estimate_Total_DoctorateDegree + \\\n",
    "                          educData.Estimate_Total_MastersDegree ) / educData.Estimate_Total"
   ]
  },
  {
   "cell_type": "code",
   "execution_count": 21,
   "metadata": {},
   "outputs": [
    {
     "data": {
      "text/html": [
       "<div>\n",
       "<style scoped>\n",
       "    .dataframe tbody tr th:only-of-type {\n",
       "        vertical-align: middle;\n",
       "    }\n",
       "\n",
       "    .dataframe tbody tr th {\n",
       "        vertical-align: top;\n",
       "    }\n",
       "\n",
       "    .dataframe thead th {\n",
       "        text-align: right;\n",
       "    }\n",
       "</style>\n",
       "<table border=\"1\" class=\"dataframe\">\n",
       "  <thead>\n",
       "    <tr style=\"text-align: right;\">\n",
       "      <th></th>\n",
       "      <th>code</th>\n",
       "      <th>description</th>\n",
       "    </tr>\n",
       "  </thead>\n",
       "  <tbody>\n",
       "    <tr>\n",
       "      <th>0</th>\n",
       "      <td>B10058</td>\n",
       "      <td>EMPLOYMENT STATUS OF GRANDPARENTS LIVING WITH OWN GRANDCHILDREN UNDER 18 YEARS BY RESPONSIBILITY FOR OWN GRANDCHILDREN AND AGE OF GRANDPARENT</td>\n",
       "    </tr>\n",
       "    <tr>\n",
       "      <th>1</th>\n",
       "      <td>B14005</td>\n",
       "      <td>SEX BY SCHOOL ENROLLMENT BY EDUCATIONAL ATTAINMENT BY EMPLOYMENT STATUS FOR THE POPULATION 16 TO 19 YEARS</td>\n",
       "    </tr>\n",
       "    <tr>\n",
       "      <th>2</th>\n",
       "      <td>B16010</td>\n",
       "      <td>EDUCATIONAL ATTAINMENT AND EMPLOYMENT STATUS BY LANGUAGE SPOKEN AT HOME FOR THE POPULATION 25 YEARS AND OVER</td>\n",
       "    </tr>\n",
       "    <tr>\n",
       "      <th>3</th>\n",
       "      <td>B17005</td>\n",
       "      <td>POVERTY STATUS IN THE PAST 12 MONTHS OF INDIVIDUALS BY SEX BY EMPLOYMENT STATUS</td>\n",
       "    </tr>\n",
       "    <tr>\n",
       "      <th>4</th>\n",
       "      <td>B18120</td>\n",
       "      <td>EMPLOYMENT STATUS BY DISABILITY STATUS AND TYPE</td>\n",
       "    </tr>\n",
       "    <tr>\n",
       "      <th>5</th>\n",
       "      <td>B19053</td>\n",
       "      <td>SELF-EMPLOYMENT INCOME IN THE PAST 12 MONTHS FOR HOUSEHOLDS</td>\n",
       "    </tr>\n",
       "    <tr>\n",
       "      <th>6</th>\n",
       "      <td>B19063</td>\n",
       "      <td>AGGREGATE SELF-EMPLOYMENT INCOME IN THE PAST 12 MONTHS (IN 2019 INFLATION-ADJUSTED DOLLARS) FOR HOUSEHOLDS</td>\n",
       "    </tr>\n",
       "    <tr>\n",
       "      <th>7</th>\n",
       "      <td>B21005</td>\n",
       "      <td>AGE BY VETERAN STATUS BY EMPLOYMENT STATUS FOR THE CIVILIAN POPULATION 18 TO 64 YEARS</td>\n",
       "    </tr>\n",
       "    <tr>\n",
       "      <th>8</th>\n",
       "      <td>B23001</td>\n",
       "      <td>SEX BY AGE BY EMPLOYMENT STATUS FOR THE POPULATION 16 YEARS AND OVER</td>\n",
       "    </tr>\n",
       "    <tr>\n",
       "      <th>9</th>\n",
       "      <td>B23002A</td>\n",
       "      <td>SEX BY AGE BY EMPLOYMENT STATUS FOR THE POPULATION 16 YEARS AND OVER (WHITE ALONE)</td>\n",
       "    </tr>\n",
       "    <tr>\n",
       "      <th>10</th>\n",
       "      <td>B23002B</td>\n",
       "      <td>SEX BY AGE BY EMPLOYMENT STATUS FOR THE POPULATION 16 YEARS AND OVER (BLACK OR AFRICAN AMERICAN ALONE)</td>\n",
       "    </tr>\n",
       "    <tr>\n",
       "      <th>11</th>\n",
       "      <td>B23002C</td>\n",
       "      <td>SEX BY AGE BY EMPLOYMENT STATUS FOR THE POPULATION 16 YEARS AND OVER (AMERICAN INDIAN AND ALASKA NATIVE ALONE)</td>\n",
       "    </tr>\n",
       "    <tr>\n",
       "      <th>12</th>\n",
       "      <td>B23002D</td>\n",
       "      <td>SEX BY AGE BY EMPLOYMENT STATUS FOR THE POPULATION 16 YEARS AND OVER (ASIAN ALONE)</td>\n",
       "    </tr>\n",
       "    <tr>\n",
       "      <th>13</th>\n",
       "      <td>B23002E</td>\n",
       "      <td>SEX BY AGE BY EMPLOYMENT STATUS FOR THE POPULATION 16 YEARS AND OVER (NATIVE HAWAIIAN AND OTHER PACIFIC ISLANDER ALONE)</td>\n",
       "    </tr>\n",
       "    <tr>\n",
       "      <th>14</th>\n",
       "      <td>B23002F</td>\n",
       "      <td>SEX BY AGE BY EMPLOYMENT STATUS FOR THE POPULATION 16 YEARS AND OVER (SOME OTHER RACE ALONE)</td>\n",
       "    </tr>\n",
       "    <tr>\n",
       "      <th>15</th>\n",
       "      <td>B23002G</td>\n",
       "      <td>SEX BY AGE BY EMPLOYMENT STATUS FOR THE POPULATION 16 YEARS AND OVER (TWO OR MORE RACES)</td>\n",
       "    </tr>\n",
       "    <tr>\n",
       "      <th>16</th>\n",
       "      <td>B23002H</td>\n",
       "      <td>SEX BY AGE BY EMPLOYMENT STATUS FOR THE POPULATION 16 YEARS AND OVER (WHITE ALONE, NOT HISPANIC OR LATINO)</td>\n",
       "    </tr>\n",
       "    <tr>\n",
       "      <th>17</th>\n",
       "      <td>B23002I</td>\n",
       "      <td>SEX BY AGE BY EMPLOYMENT STATUS FOR THE POPULATION 16 YEARS AND OVER (HISPANIC OR LATINO)</td>\n",
       "    </tr>\n",
       "    <tr>\n",
       "      <th>18</th>\n",
       "      <td>B23003</td>\n",
       "      <td>PRESENCE OF OWN CHILDREN UNDER 18 YEARS BY AGE OF OWN CHILDREN UNDER 18 YEARS BY EMPLOYMENT STATUS FOR FEMALES 20 TO 64 YEARS</td>\n",
       "    </tr>\n",
       "    <tr>\n",
       "      <th>19</th>\n",
       "      <td>B23006</td>\n",
       "      <td>EDUCATIONAL ATTAINMENT BY EMPLOYMENT STATUS FOR THE POPULATION 25 TO 64 YEARS</td>\n",
       "    </tr>\n",
       "    <tr>\n",
       "      <th>20</th>\n",
       "      <td>B23007</td>\n",
       "      <td>PRESENCE OF OWN CHILDREN UNDER 18 YEARS BY FAMILY TYPE BY EMPLOYMENT STATUS</td>\n",
       "    </tr>\n",
       "    <tr>\n",
       "      <th>21</th>\n",
       "      <td>B23008</td>\n",
       "      <td>AGE OF OWN CHILDREN UNDER 18 YEARS IN FAMILIES AND SUBFAMILIES BY LIVING ARRANGEMENTS BY EMPLOYMENT STATUS OF PARENTS</td>\n",
       "    </tr>\n",
       "    <tr>\n",
       "      <th>22</th>\n",
       "      <td>B23024</td>\n",
       "      <td>POVERTY STATUS IN THE PAST 12 MONTHS BY DISABILITY STATUS BY EMPLOYMENT STATUS FOR THE POPULATION 20 TO 64 YEARS</td>\n",
       "    </tr>\n",
       "    <tr>\n",
       "      <th>23</th>\n",
       "      <td>B23025</td>\n",
       "      <td>EMPLOYMENT STATUS FOR THE POPULATION 16 YEARS AND OVER</td>\n",
       "    </tr>\n",
       "    <tr>\n",
       "      <th>24</th>\n",
       "      <td>B26114</td>\n",
       "      <td>GROUP QUARTERS TYPE (3 TYPES) BY EMPLOYMENT STATUS</td>\n",
       "    </tr>\n",
       "    <tr>\n",
       "      <th>25</th>\n",
       "      <td>B26214</td>\n",
       "      <td>GROUP QUARTERS TYPE (5 TYPES) BY EMPLOYMENT STATUS</td>\n",
       "    </tr>\n",
       "    <tr>\n",
       "      <th>26</th>\n",
       "      <td>B27011</td>\n",
       "      <td>HEALTH INSURANCE COVERAGE STATUS AND TYPE BY EMPLOYMENT STATUS</td>\n",
       "    </tr>\n",
       "    <tr>\n",
       "      <th>27</th>\n",
       "      <td>B99231</td>\n",
       "      <td>ALLOCATION OF EMPLOYMENT STATUS FOR THE POPULATION 16 YEARS AND OVER</td>\n",
       "    </tr>\n",
       "    <tr>\n",
       "      <th>28</th>\n",
       "      <td>C14005</td>\n",
       "      <td>SEX BY SCHOOL ENROLLMENT BY EDUCATIONAL ATTAINMENT BY EMPLOYMENT STATUS FOR THE POPULATION 16 TO 19 YEARS</td>\n",
       "    </tr>\n",
       "    <tr>\n",
       "      <th>29</th>\n",
       "      <td>C16010</td>\n",
       "      <td>EDUCATIONAL ATTAINMENT AND EMPLOYMENT STATUS BY LANGUAGE SPOKEN AT HOME FOR THE POPULATION 25 YEARS AND OVER</td>\n",
       "    </tr>\n",
       "    <tr>\n",
       "      <th>30</th>\n",
       "      <td>C18120</td>\n",
       "      <td>EMPLOYMENT STATUS BY DISABILITY STATUS</td>\n",
       "    </tr>\n",
       "    <tr>\n",
       "      <th>31</th>\n",
       "      <td>C21005</td>\n",
       "      <td>VETERAN STATUS BY EMPLOYMENT STATUS FOR THE CIVILIAN POPULATION 18 TO 64 YEARS</td>\n",
       "    </tr>\n",
       "    <tr>\n",
       "      <th>32</th>\n",
       "      <td>C23001</td>\n",
       "      <td>SEX BY AGE BY EMPLOYMENT STATUS FOR THE POPULATION 16 YEARS AND OVER</td>\n",
       "    </tr>\n",
       "    <tr>\n",
       "      <th>33</th>\n",
       "      <td>C23002A</td>\n",
       "      <td>SEX BY AGE BY EMPLOYMENT STATUS FOR THE POPULATION 16 YEARS AND OVER (WHITE ALONE)</td>\n",
       "    </tr>\n",
       "    <tr>\n",
       "      <th>34</th>\n",
       "      <td>C23002B</td>\n",
       "      <td>SEX BY AGE BY EMPLOYMENT STATUS FOR THE POPULATION 16 YEARS AND OVER (BLACK OR AFRICAN AMERICAN ALONE)</td>\n",
       "    </tr>\n",
       "    <tr>\n",
       "      <th>35</th>\n",
       "      <td>C23002C</td>\n",
       "      <td>SEX BY AGE BY EMPLOYMENT STATUS FOR THE POPULATION 16 YEARS AND OVER (AMERICAN INDIAN AND ALASKA NATIVE ALONE)</td>\n",
       "    </tr>\n",
       "    <tr>\n",
       "      <th>36</th>\n",
       "      <td>C23002D</td>\n",
       "      <td>SEX BY AGE BY EMPLOYMENT STATUS FOR THE POPULATION 16 YEARS AND OVER (ASIAN ALONE)</td>\n",
       "    </tr>\n",
       "    <tr>\n",
       "      <th>37</th>\n",
       "      <td>C23002E</td>\n",
       "      <td>SEX BY AGE BY EMPLOYMENT STATUS FOR THE POPULATION 16 YEARS AND OVER (NATIVE HAWAIIAN AND OTHER PACIFIC ISLANDER ALONE)</td>\n",
       "    </tr>\n",
       "    <tr>\n",
       "      <th>38</th>\n",
       "      <td>C23002F</td>\n",
       "      <td>SEX BY AGE BY EMPLOYMENT STATUS FOR THE POPULATION 16 YEARS AND OVER (SOME OTHER RACE ALONE)</td>\n",
       "    </tr>\n",
       "    <tr>\n",
       "      <th>39</th>\n",
       "      <td>C23002G</td>\n",
       "      <td>SEX BY AGE BY EMPLOYMENT STATUS FOR THE POPULATION 16 YEARS AND OVER (TWO OR MORE RACES)</td>\n",
       "    </tr>\n",
       "    <tr>\n",
       "      <th>40</th>\n",
       "      <td>C23002H</td>\n",
       "      <td>SEX BY AGE BY EMPLOYMENT STATUS FOR THE POPULATION 16 YEARS AND OVER (WHITE ALONE, NOT HISPANIC OR LATINO)</td>\n",
       "    </tr>\n",
       "    <tr>\n",
       "      <th>41</th>\n",
       "      <td>C23002I</td>\n",
       "      <td>SEX BY AGE BY EMPLOYMENT STATUS FOR THE POPULATION 16 YEARS AND OVER (HISPANIC OR LATINO)</td>\n",
       "    </tr>\n",
       "    <tr>\n",
       "      <th>42</th>\n",
       "      <td>C23004</td>\n",
       "      <td>WORK STATUS IN THE PAST 12 MONTHS BY EMPLOYMENT STATUS FOR THE CIVILIAN POPULATION 65 YEARS AND OVER</td>\n",
       "    </tr>\n",
       "    <tr>\n",
       "      <th>43</th>\n",
       "      <td>C23007</td>\n",
       "      <td>PRESENCE OF OWN CHILDREN UNDER 18 YEARS BY FAMILY TYPE BY EMPLOYMENT STATUS</td>\n",
       "    </tr>\n",
       "    <tr>\n",
       "      <th>44</th>\n",
       "      <td>C23008</td>\n",
       "      <td>AGE OF OWN CHILDREN UNDER 18 YEARS IN FAMILIES AND SUBFAMILIES BY LIVING ARRANGEMENTS BY EMPLOYMENT STATUS OF PARENTS</td>\n",
       "    </tr>\n",
       "  </tbody>\n",
       "</table>\n",
       "</div>"
      ],
      "text/plain": [
       "       code  \\\n",
       "0    B10058   \n",
       "1    B14005   \n",
       "2    B16010   \n",
       "3    B17005   \n",
       "4    B18120   \n",
       "5    B19053   \n",
       "6    B19063   \n",
       "7    B21005   \n",
       "8    B23001   \n",
       "9   B23002A   \n",
       "10  B23002B   \n",
       "11  B23002C   \n",
       "12  B23002D   \n",
       "13  B23002E   \n",
       "14  B23002F   \n",
       "15  B23002G   \n",
       "16  B23002H   \n",
       "17  B23002I   \n",
       "18   B23003   \n",
       "19   B23006   \n",
       "20   B23007   \n",
       "21   B23008   \n",
       "22   B23024   \n",
       "23   B23025   \n",
       "24   B26114   \n",
       "25   B26214   \n",
       "26   B27011   \n",
       "27   B99231   \n",
       "28   C14005   \n",
       "29   C16010   \n",
       "30   C18120   \n",
       "31   C21005   \n",
       "32   C23001   \n",
       "33  C23002A   \n",
       "34  C23002B   \n",
       "35  C23002C   \n",
       "36  C23002D   \n",
       "37  C23002E   \n",
       "38  C23002F   \n",
       "39  C23002G   \n",
       "40  C23002H   \n",
       "41  C23002I   \n",
       "42   C23004   \n",
       "43   C23007   \n",
       "44   C23008   \n",
       "\n",
       "                                                                                                                                      description  \n",
       "0   EMPLOYMENT STATUS OF GRANDPARENTS LIVING WITH OWN GRANDCHILDREN UNDER 18 YEARS BY RESPONSIBILITY FOR OWN GRANDCHILDREN AND AGE OF GRANDPARENT  \n",
       "1                                       SEX BY SCHOOL ENROLLMENT BY EDUCATIONAL ATTAINMENT BY EMPLOYMENT STATUS FOR THE POPULATION 16 TO 19 YEARS  \n",
       "2                                    EDUCATIONAL ATTAINMENT AND EMPLOYMENT STATUS BY LANGUAGE SPOKEN AT HOME FOR THE POPULATION 25 YEARS AND OVER  \n",
       "3                                                                 POVERTY STATUS IN THE PAST 12 MONTHS OF INDIVIDUALS BY SEX BY EMPLOYMENT STATUS  \n",
       "4                                                                                                 EMPLOYMENT STATUS BY DISABILITY STATUS AND TYPE  \n",
       "5                                                                                     SELF-EMPLOYMENT INCOME IN THE PAST 12 MONTHS FOR HOUSEHOLDS  \n",
       "6                                      AGGREGATE SELF-EMPLOYMENT INCOME IN THE PAST 12 MONTHS (IN 2019 INFLATION-ADJUSTED DOLLARS) FOR HOUSEHOLDS  \n",
       "7                                                           AGE BY VETERAN STATUS BY EMPLOYMENT STATUS FOR THE CIVILIAN POPULATION 18 TO 64 YEARS  \n",
       "8                                                                            SEX BY AGE BY EMPLOYMENT STATUS FOR THE POPULATION 16 YEARS AND OVER  \n",
       "9                                                              SEX BY AGE BY EMPLOYMENT STATUS FOR THE POPULATION 16 YEARS AND OVER (WHITE ALONE)  \n",
       "10                                         SEX BY AGE BY EMPLOYMENT STATUS FOR THE POPULATION 16 YEARS AND OVER (BLACK OR AFRICAN AMERICAN ALONE)  \n",
       "11                                 SEX BY AGE BY EMPLOYMENT STATUS FOR THE POPULATION 16 YEARS AND OVER (AMERICAN INDIAN AND ALASKA NATIVE ALONE)  \n",
       "12                                                             SEX BY AGE BY EMPLOYMENT STATUS FOR THE POPULATION 16 YEARS AND OVER (ASIAN ALONE)  \n",
       "13                        SEX BY AGE BY EMPLOYMENT STATUS FOR THE POPULATION 16 YEARS AND OVER (NATIVE HAWAIIAN AND OTHER PACIFIC ISLANDER ALONE)  \n",
       "14                                                   SEX BY AGE BY EMPLOYMENT STATUS FOR THE POPULATION 16 YEARS AND OVER (SOME OTHER RACE ALONE)  \n",
       "15                                                       SEX BY AGE BY EMPLOYMENT STATUS FOR THE POPULATION 16 YEARS AND OVER (TWO OR MORE RACES)  \n",
       "16                                     SEX BY AGE BY EMPLOYMENT STATUS FOR THE POPULATION 16 YEARS AND OVER (WHITE ALONE, NOT HISPANIC OR LATINO)  \n",
       "17                                                      SEX BY AGE BY EMPLOYMENT STATUS FOR THE POPULATION 16 YEARS AND OVER (HISPANIC OR LATINO)  \n",
       "18                  PRESENCE OF OWN CHILDREN UNDER 18 YEARS BY AGE OF OWN CHILDREN UNDER 18 YEARS BY EMPLOYMENT STATUS FOR FEMALES 20 TO 64 YEARS  \n",
       "19                                                                  EDUCATIONAL ATTAINMENT BY EMPLOYMENT STATUS FOR THE POPULATION 25 TO 64 YEARS  \n",
       "20                                                                    PRESENCE OF OWN CHILDREN UNDER 18 YEARS BY FAMILY TYPE BY EMPLOYMENT STATUS  \n",
       "21                          AGE OF OWN CHILDREN UNDER 18 YEARS IN FAMILIES AND SUBFAMILIES BY LIVING ARRANGEMENTS BY EMPLOYMENT STATUS OF PARENTS  \n",
       "22                               POVERTY STATUS IN THE PAST 12 MONTHS BY DISABILITY STATUS BY EMPLOYMENT STATUS FOR THE POPULATION 20 TO 64 YEARS  \n",
       "23                                                                                         EMPLOYMENT STATUS FOR THE POPULATION 16 YEARS AND OVER  \n",
       "24                                                                                             GROUP QUARTERS TYPE (3 TYPES) BY EMPLOYMENT STATUS  \n",
       "25                                                                                             GROUP QUARTERS TYPE (5 TYPES) BY EMPLOYMENT STATUS  \n",
       "26                                                                                 HEALTH INSURANCE COVERAGE STATUS AND TYPE BY EMPLOYMENT STATUS  \n",
       "27                                                                           ALLOCATION OF EMPLOYMENT STATUS FOR THE POPULATION 16 YEARS AND OVER  \n",
       "28                                      SEX BY SCHOOL ENROLLMENT BY EDUCATIONAL ATTAINMENT BY EMPLOYMENT STATUS FOR THE POPULATION 16 TO 19 YEARS  \n",
       "29                                   EDUCATIONAL ATTAINMENT AND EMPLOYMENT STATUS BY LANGUAGE SPOKEN AT HOME FOR THE POPULATION 25 YEARS AND OVER  \n",
       "30                                                                                                         EMPLOYMENT STATUS BY DISABILITY STATUS  \n",
       "31                                                                 VETERAN STATUS BY EMPLOYMENT STATUS FOR THE CIVILIAN POPULATION 18 TO 64 YEARS  \n",
       "32                                                                           SEX BY AGE BY EMPLOYMENT STATUS FOR THE POPULATION 16 YEARS AND OVER  \n",
       "33                                                             SEX BY AGE BY EMPLOYMENT STATUS FOR THE POPULATION 16 YEARS AND OVER (WHITE ALONE)  \n",
       "34                                         SEX BY AGE BY EMPLOYMENT STATUS FOR THE POPULATION 16 YEARS AND OVER (BLACK OR AFRICAN AMERICAN ALONE)  \n",
       "35                                 SEX BY AGE BY EMPLOYMENT STATUS FOR THE POPULATION 16 YEARS AND OVER (AMERICAN INDIAN AND ALASKA NATIVE ALONE)  \n",
       "36                                                             SEX BY AGE BY EMPLOYMENT STATUS FOR THE POPULATION 16 YEARS AND OVER (ASIAN ALONE)  \n",
       "37                        SEX BY AGE BY EMPLOYMENT STATUS FOR THE POPULATION 16 YEARS AND OVER (NATIVE HAWAIIAN AND OTHER PACIFIC ISLANDER ALONE)  \n",
       "38                                                   SEX BY AGE BY EMPLOYMENT STATUS FOR THE POPULATION 16 YEARS AND OVER (SOME OTHER RACE ALONE)  \n",
       "39                                                       SEX BY AGE BY EMPLOYMENT STATUS FOR THE POPULATION 16 YEARS AND OVER (TWO OR MORE RACES)  \n",
       "40                                     SEX BY AGE BY EMPLOYMENT STATUS FOR THE POPULATION 16 YEARS AND OVER (WHITE ALONE, NOT HISPANIC OR LATINO)  \n",
       "41                                                      SEX BY AGE BY EMPLOYMENT STATUS FOR THE POPULATION 16 YEARS AND OVER (HISPANIC OR LATINO)  \n",
       "42                                           WORK STATUS IN THE PAST 12 MONTHS BY EMPLOYMENT STATUS FOR THE CIVILIAN POPULATION 65 YEARS AND OVER  \n",
       "43                                                                    PRESENCE OF OWN CHILDREN UNDER 18 YEARS BY FAMILY TYPE BY EMPLOYMENT STATUS  \n",
       "44                          AGE OF OWN CHILDREN UNDER 18 YEARS IN FAMILIES AND SUBFAMILIES BY LIVING ARRANGEMENTS BY EMPLOYMENT STATUS OF PARENTS  "
      ]
     },
     "execution_count": 21,
     "metadata": {},
     "output_type": "execute_result"
    }
   ],
   "source": [
    "c.searchGroups('employment')"
   ]
  },
  {
   "cell_type": "code",
   "execution_count": 22,
   "metadata": {},
   "outputs": [
    {
     "data": {
      "application/vnd.jupyter.widget-view+json": {
       "model_id": "9c2f6450dc5642c28fc1b40d90f70ff8",
       "version_major": 2,
       "version_minor": 0
      },
      "text/plain": [
       "  0%|          | 0/1 [00:00<?, ?it/s]"
      ]
     },
     "metadata": {},
     "output_type": "display_data"
    }
   ],
   "source": [
    "employmentVars = c.getVariablesByGroup([c.groups.EmploymentStatusForThePopulation16YearsAndOver.code])"
   ]
  },
  {
   "cell_type": "code",
   "execution_count": 23,
   "metadata": {},
   "outputs": [
    {
     "data": {
      "application/vnd.jupyter.widget-view+json": {
       "model_id": "49b61b35e06c4969b0978a02ade9822b",
       "version_major": 2,
       "version_minor": 0
      },
      "text/plain": [
       "  0%|          | 0/1 [00:00<?, ?it/s]"
      ]
     },
     "metadata": {},
     "output_type": "display_data"
    }
   ],
   "source": [
    "employmentByEducVars = c.getVariablesByGroup([c.groups.EducationalAttainmentByEmploymentStatusForThePopulation25To64Years.code])"
   ]
  },
  {
   "cell_type": "code",
   "execution_count": 24,
   "metadata": {},
   "outputs": [
    {
     "data": {
      "application/vnd.jupyter.widget-view+json": {
       "model_id": "c0135777f83a435aa2baa17d280a871c",
       "version_major": 2,
       "version_minor": 0
      },
      "text/plain": [
       "  0%|          | 0/1 [00:00<?, ?it/s]"
      ]
     },
     "metadata": {},
     "output_type": "display_data"
    }
   ],
   "source": [
    "healthInsuranceByEmploymentVars = c.getVariablesByGroup([c.groups.HealthInsuranceCoverageStatusAndTypeByEmploymentStatus.code])"
   ]
  },
  {
   "cell_type": "code",
   "execution_count": 25,
   "metadata": {},
   "outputs": [],
   "source": [
    "filteredEmplVars = employmentVars[employmentVars['name'].str.contains('^Estimate')]"
   ]
  },
  {
   "cell_type": "code",
   "execution_count": 26,
   "metadata": {},
   "outputs": [
    {
     "data": {
      "application/vnd.jupyter.widget-view+json": {
       "model_id": "8f1e01720fd74597b1ab34e42d81b479",
       "version_major": 2,
       "version_minor": 0
      },
      "text/plain": [
       "|          | 0/? [00:00<?, ?it/s]"
      ]
     },
     "metadata": {},
     "output_type": "display_data"
    }
   ],
   "source": [
    "emplStats = c.getStats(filteredEmplVars['code'].tolist(), forDomain=GeoDomain('congressional district'), inDomains=[GeoDomain('state')], replaceColumnHeaders=True)"
   ]
  },
  {
   "cell_type": "code",
   "execution_count": 27,
   "metadata": {},
   "outputs": [
    {
     "data": {
      "text/plain": [
       "['NAME',\n",
       " 'congressional district',\n",
       " 'state',\n",
       " 'Estimate_Total',\n",
       " 'Estimate_Total_InLaborForce',\n",
       " 'Estimate_Total_InLaborForce_CivilianLaborForce',\n",
       " 'Estimate_Total_InLaborForce_CivilianLaborForce_Employed',\n",
       " 'Estimate_Total_InLaborForce_CivilianLaborForce_Unemployed',\n",
       " 'Estimate_Total_InLaborForce_ArmedForces',\n",
       " 'Estimate_Total_NotInLaborForce']"
      ]
     },
     "execution_count": 27,
     "metadata": {},
     "output_type": "execute_result"
    }
   ],
   "source": [
    "emplStats.columns.to_list()"
   ]
  },
  {
   "cell_type": "code",
   "execution_count": 28,
   "metadata": {},
   "outputs": [],
   "source": [
    "emplVars = c.groupToVarsMapping.EmploymentStatusForThePopulation16YearsAndOver"
   ]
  },
  {
   "cell_type": "code",
   "execution_count": 31,
   "metadata": {},
   "outputs": [
    {
     "data": {
      "text/plain": [
       "'Estimate_Total'"
      ]
     },
     "execution_count": 31,
     "metadata": {},
     "output_type": "execute_result"
    }
   ],
   "source": [
    "emplVars.Estimate_Total.name"
   ]
  },
  {
   "cell_type": "code",
   "execution_count": 32,
   "metadata": {},
   "outputs": [
    {
     "data": {
      "text/plain": [
       "Index(['NAME', 'congressional district', 'state', 'Estimate_Total',\n",
       "       'Estimate_Total_InLaborForce',\n",
       "       'Estimate_Total_InLaborForce_CivilianLaborForce',\n",
       "       'Estimate_Total_InLaborForce_CivilianLaborForce_Employed',\n",
       "       'Estimate_Total_InLaborForce_CivilianLaborForce_Unemployed',\n",
       "       'Estimate_Total_InLaborForce_ArmedForces',\n",
       "       'Estimate_Total_NotInLaborForce'],\n",
       "      dtype='object')"
      ]
     },
     "execution_count": 32,
     "metadata": {},
     "output_type": "execute_result"
    }
   ],
   "source": [
    "emplStats.columns"
   ]
  },
  {
   "cell_type": "code",
   "execution_count": 43,
   "metadata": {},
   "outputs": [],
   "source": [
    "emplPcts = emplStats.loc[:,['NAME', 'congressional district', 'state']]\n",
    "\n",
    "emplPcts['pctInLaborForce'] = (emplStats[emplVars.Estimate_Total_InLaborForce.name] /\n",
    "                            emplStats[emplVars.Estimate_Total.name])\n",
    "emplPcts['pctEmployed'] = (emplStats.Estimate_Total_InLaborForce_CivilianLaborForce_Employed /\n",
    "                          emplStats.Estimate_Total_InLaborForce)\n",
    "emplPcts['pctUnemployed'] = (emplStats.Estimate_Total_InLaborForce_CivilianLaborForce_Unemployed /\n",
    "                            emplStats.Estimate_Total_InLaborForce_CivilianLaborForce)"
   ]
  },
  {
   "cell_type": "code",
   "execution_count": 45,
   "metadata": {},
   "outputs": [
    {
     "data": {
      "text/html": [
       "<div>\n",
       "<style scoped>\n",
       "    .dataframe tbody tr th:only-of-type {\n",
       "        vertical-align: middle;\n",
       "    }\n",
       "\n",
       "    .dataframe tbody tr th {\n",
       "        vertical-align: top;\n",
       "    }\n",
       "\n",
       "    .dataframe thead th {\n",
       "        text-align: right;\n",
       "    }\n",
       "</style>\n",
       "<table border=\"1\" class=\"dataframe\">\n",
       "  <thead>\n",
       "    <tr style=\"text-align: right;\">\n",
       "      <th></th>\n",
       "      <th>NAME</th>\n",
       "      <th>congressional district</th>\n",
       "      <th>state</th>\n",
       "      <th>pctInLaborForce</th>\n",
       "      <th>pctEmployed</th>\n",
       "      <th>pctUnemployed</th>\n",
       "    </tr>\n",
       "  </thead>\n",
       "  <tbody>\n",
       "    <tr>\n",
       "      <th>0</th>\n",
       "      <td>Congressional District 3 (116th Congress), California</td>\n",
       "      <td>03</td>\n",
       "      <td>06</td>\n",
       "      <td>0.597684</td>\n",
       "      <td>0.934894</td>\n",
       "      <td>0.048259</td>\n",
       "    </tr>\n",
       "    <tr>\n",
       "      <th>1</th>\n",
       "      <td>Congressional District 21 (116th Congress), California</td>\n",
       "      <td>21</td>\n",
       "      <td>06</td>\n",
       "      <td>0.565143</td>\n",
       "      <td>0.886146</td>\n",
       "      <td>0.093307</td>\n",
       "    </tr>\n",
       "    <tr>\n",
       "      <th>2</th>\n",
       "      <td>Congressional District 48 (116th Congress), California</td>\n",
       "      <td>48</td>\n",
       "      <td>06</td>\n",
       "      <td>0.658193</td>\n",
       "      <td>0.955902</td>\n",
       "      <td>0.042958</td>\n",
       "    </tr>\n",
       "    <tr>\n",
       "      <th>3</th>\n",
       "      <td>Congressional District 10 (116th Congress), California</td>\n",
       "      <td>10</td>\n",
       "      <td>06</td>\n",
       "      <td>0.610736</td>\n",
       "      <td>0.933713</td>\n",
       "      <td>0.066175</td>\n",
       "    </tr>\n",
       "    <tr>\n",
       "      <th>4</th>\n",
       "      <td>Congressional District 34 (116th Congress), California</td>\n",
       "      <td>34</td>\n",
       "      <td>06</td>\n",
       "      <td>0.655622</td>\n",
       "      <td>0.942758</td>\n",
       "      <td>0.056410</td>\n",
       "    </tr>\n",
       "  </tbody>\n",
       "</table>\n",
       "</div>"
      ],
      "text/plain": [
       "                                                     NAME  \\\n",
       "0   Congressional District 3 (116th Congress), California   \n",
       "1  Congressional District 21 (116th Congress), California   \n",
       "2  Congressional District 48 (116th Congress), California   \n",
       "3  Congressional District 10 (116th Congress), California   \n",
       "4  Congressional District 34 (116th Congress), California   \n",
       "\n",
       "  congressional district state  pctInLaborForce  pctEmployed  pctUnemployed  \n",
       "0                     03    06         0.597684     0.934894       0.048259  \n",
       "1                     21    06         0.565143     0.886146       0.093307  \n",
       "2                     48    06         0.658193     0.955902       0.042958  \n",
       "3                     10    06         0.610736     0.933713       0.066175  \n",
       "4                     34    06         0.655622     0.942758       0.056410  "
      ]
     },
     "execution_count": 45,
     "metadata": {},
     "output_type": "execute_result"
    }
   ],
   "source": [
    "emplPcts.head()"
   ]
  },
  {
   "cell_type": "code",
   "execution_count": null,
   "metadata": {},
   "outputs": [],
   "source": []
  },
  {
   "cell_type": "code",
   "execution_count": null,
   "metadata": {},
   "outputs": [],
   "source": []
  }
 ],
 "metadata": {
  "kernelspec": {
   "display_name": "Python 3.9.1 64-bit ('.venv')",
   "language": "python",
   "name": "python39164bitvenv24530a99c8a64e648fbc291cfc88a7f8"
  },
  "language_info": {
   "codemirror_mode": {
    "name": "ipython",
    "version": 3
   },
   "file_extension": ".py",
   "mimetype": "text/x-python",
   "name": "python",
   "nbconvert_exporter": "python",
   "pygments_lexer": "ipython3",
   "version": "3.9.1"
  }
 },
 "nbformat": 4,
 "nbformat_minor": 2
}
