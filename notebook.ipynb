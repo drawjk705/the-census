{
 "cells": [
  {
   "cell_type": "markdown",
   "metadata": {},
   "source": [
    "[Census Documentation](https://www2.census.gov/programs-surveys/acs/tech_docs/subject_definitions/2019_ACSSubjectDefinitions.pdf)"
   ]
  },
  {
   "cell_type": "code",
   "execution_count": 1,
   "metadata": {},
   "outputs": [],
   "source": [
    "%config Completer.use_jedi = False"
   ]
  },
  {
   "cell_type": "code",
   "execution_count": 2,
   "metadata": {},
   "outputs": [],
   "source": [
    "from census.getCensus import getCensus\n",
    "from census.variables.models import GroupCode\n",
    "from census.models import GeoDomain\n",
    "import pandas as pd\n",
    "from pprint import pprint"
   ]
  },
  {
   "cell_type": "markdown",
   "metadata": {},
   "source": [
    "We'll use these since these are the primary geographies we care about"
   ]
  },
  {
   "cell_type": "code",
   "execution_count": 3,
   "metadata": {},
   "outputs": [],
   "source": [
    "geoDomains = [GeoDomain('congressional district'), GeoDomain('state')]"
   ]
  },
  {
   "cell_type": "code",
   "execution_count": 4,
   "metadata": {},
   "outputs": [],
   "source": [
    "c = getCensus(2019, shouldCacheOnDisk=True, shouldLoadFromExistingCache=True, shouldReplaceColumnHeaders=True)"
   ]
  },
  {
   "cell_type": "markdown",
   "metadata": {},
   "source": [
    "Get the group data"
   ]
  },
  {
   "cell_type": "code",
   "execution_count": 5,
   "metadata": {},
   "outputs": [],
   "source": [
    "_ = c.getGroups()"
   ]
  },
  {
   "cell_type": "markdown",
   "metadata": {},
   "source": [
    "# Education statistics"
   ]
  },
  {
   "cell_type": "code",
   "execution_count": 6,
   "metadata": {},
   "outputs": [
    {
     "data": {
      "application/vnd.jupyter.widget-view+json": {
       "model_id": "3db37e9b856044009c582a5651fc7482",
       "version_major": 2,
       "version_minor": 0
      },
      "text/plain": [
       "  0%|          | 0/1 [00:00<?, ?it/s]"
      ]
     },
     "metadata": {},
     "output_type": "display_data"
    }
   ],
   "source": [
    "educVars = c.getVariablesByGroup(c.groups.EducationalAttainmentForThePopulation25YearsAndOver.code)"
   ]
  },
  {
   "cell_type": "code",
   "execution_count": 7,
   "metadata": {},
   "outputs": [
    {
     "data": {
      "application/vnd.jupyter.widget-view+json": {
       "model_id": "fe6c383efea04a4ab80680cbe7e9bcae",
       "version_major": 2,
       "version_minor": 0
      },
      "text/plain": [
       "|          | 0/? [00:00<?, ?it/s]"
      ]
     },
     "metadata": {},
     "output_type": "display_data"
    }
   ],
   "source": [
    "educData = c.getStats(educVars['code'].tolist(), *geoDomains)\n"
   ]
  },
  {
   "cell_type": "code",
   "execution_count": 8,
   "metadata": {},
   "outputs": [],
   "source": [
    "educPcts = educData.loc[:,['NAME', 'congressional district', 'state']]"
   ]
  },
  {
   "cell_type": "code",
   "execution_count": 9,
   "metadata": {},
   "outputs": [],
   "source": [
    "educPcts['pctNoHs'] = (educData.Estimate_Total_NoSchoolingCompleted \\\n",
    "                    + educData.Estimate_Total_NurseryTo4thGrade \\\n",
    "                    + educData.Estimate_Total_5thAnd6thGrade \\\n",
    "                    + educData.Estimate_Total_7thAnd8thGrade \\\n",
    "                    + educData.Estimate_Total_9thGrade \\\n",
    "                    + educData.Estimate_Total_10thGrade \\\n",
    "                    + educData.Estimate_Total_11thGrade \\\n",
    "                    + educData.Estimate_Total_12thGradeNoDiploma) / educData.Estimate_Total\n",
    "educPcts['pctHs'] = (educData.Estimate_Total_RegularHighSchoolDiploma \\\n",
    "                     + educData.Estimate_Total_GedOrAlternativeCredential) \\\n",
    "                        / educData.Estimate_Total\n",
    "educPcts['pctBach'] = educData.Estimate_Total_BachelorsDegree / educData.Estimate_Total\n",
    "educPcts['pctSomeCollege1YrNoDegree'] = educData.Estimate_Total_SomeCollegeLessThan1Year / educData.Estimate_Total\n",
    "educPcts['pctSomeCollegeManyYrsNoDegree'] = educData.Estimate_Total_SomeCollege1OrMoreYearsNoDegree / educData.Estimate_Total\n",
    "educPcts['pctGradPlus'] = (educData.Estimate_Total_DoctorateDegree + \\\n",
    "                          educData.Estimate_Total_MastersDegree ) / educData.Estimate_Total"
   ]
  },
  {
   "cell_type": "markdown",
   "metadata": {},
   "source": [
    "# Employment statistics"
   ]
  },
  {
   "cell_type": "code",
   "execution_count": 10,
   "metadata": {},
   "outputs": [
    {
     "data": {
      "application/vnd.jupyter.widget-view+json": {
       "model_id": "4aec381ee95c4f5085c1ad1908d76a81",
       "version_major": 2,
       "version_minor": 0
      },
      "text/plain": [
       "  0%|          | 0/1 [00:00<?, ?it/s]"
      ]
     },
     "metadata": {},
     "output_type": "display_data"
    },
    {
     "data": {
      "application/vnd.jupyter.widget-view+json": {
       "model_id": "170f1d8288b74077829080eee5254120",
       "version_major": 2,
       "version_minor": 0
      },
      "text/plain": [
       "|          | 0/? [00:00<?, ?it/s]"
      ]
     },
     "metadata": {},
     "output_type": "display_data"
    }
   ],
   "source": [
    "emplVars = c.getVariablesByGroup(c.groups.EmploymentStatusForThePopulation16YearsAndOver.code)\n",
    "emplData = c.getStats(emplVars['code'].tolist(), *geoDomains)"
   ]
  },
  {
   "cell_type": "code",
   "execution_count": 11,
   "metadata": {},
   "outputs": [],
   "source": [
    "emplPcts = emplData.loc[:,['NAME', 'state', 'congressional district']]"
   ]
  },
  {
   "cell_type": "code",
   "execution_count": 12,
   "metadata": {},
   "outputs": [],
   "source": [
    "emplPcts['pctInLaborForce'] = (emplData.Estimate_Total_InLaborForce_CivilianLaborForce / \n",
    "                             emplData.Estimate_Total)\n",
    "emplPcts['pctEmployed'] = (emplData.Estimate_Total_InLaborForce_CivilianLaborForce_Employed /\n",
    "                         emplData.Estimate_Total_InLaborForce_CivilianLaborForce)\n",
    "emplPcts['pctUnemployed'] = (emplData.Estimate_Total_InLaborForce_CivilianLaborForce_Unemployed /\n",
    "                         emplData.Estimate_Total_InLaborForce_CivilianLaborForce)"
   ]
  },
  {
   "cell_type": "code",
   "execution_count": 13,
   "metadata": {},
   "outputs": [
    {
     "data": {
      "application/vnd.jupyter.widget-view+json": {
       "model_id": "918ecef441624ec6abd665ccdc6f1e2a",
       "version_major": 2,
       "version_minor": 0
      },
      "text/plain": [
       "  0%|          | 0/1 [00:00<?, ?it/s]"
      ]
     },
     "metadata": {},
     "output_type": "display_data"
    },
    {
     "data": {
      "application/vnd.jupyter.widget-view+json": {
       "model_id": "c3c5e2767ef84629803f8dbe88f0fa57",
       "version_major": 2,
       "version_minor": 0
      },
      "text/plain": [
       "|          | 0/? [00:00<?, ?it/s]"
      ]
     },
     "metadata": {},
     "output_type": "display_data"
    }
   ],
   "source": [
    "healthInsVars = c.getVariablesByGroup(c.groups.HealthInsuranceCoverageStatusBySexByAge.code)\n",
    "healthInsData = c.getStats(healthInsVars['code'].tolist(), *geoDomains)\n",
    "healthInsPct = healthInsData.loc[:,['NAME', 'state', 'congressional district']]"
   ]
  },
  {
   "cell_type": "code",
   "execution_count": 14,
   "metadata": {},
   "outputs": [],
   "source": [
    "healthInsPct['pctMaleWithIns'] = ( healthInsData.Estimate_Total_Male_19To64Years_WithHealthInsuranceCoverage /\n",
    "                                    healthInsData.Estimate_Total_Male_19To64Years)\n",
    "healthInsPct['pctFemWithIns'] = ( healthInsData.Estimate_Total_Female_19To64Years_WithHealthInsuranceCoverage /\n",
    "                                    healthInsData.Estimate_Total_Female_19To64Years)\n",
    "healthInsPct['pctMaleWithoutIns'] = ( healthInsData.Estimate_Total_Male_19To64Years_NoHealthInsuranceCoverage /\n",
    "                                    healthInsData.Estimate_Total_Male_19To64Years)\n",
    "healthInsPct['pctFemWithoutIns'] = ( healthInsData.Estimate_Total_Female_19To64Years_NoHealthInsuranceCoverage /\n",
    "                                    healthInsData.Estimate_Total_Female_19To64Years)\n",
    "healthInsPct['pctWithIns'] = (( healthInsData.Estimate_Total_Male_19To64Years_WithHealthInsuranceCoverage + \n",
    "                               healthInsData.Estimate_Total_Female_19To64Years_WithHealthInsuranceCoverage) /\n",
    "                                (healthInsData.Estimate_Total_Male_19To64Years +\n",
    "                                    healthInsData.Estimate_Total_Female_19To64Years))\n",
    "healthInsPct['pctWithoutIns'] = (( healthInsData.Estimate_Total_Male_19To64Years_NoHealthInsuranceCoverage +\n",
    "                                  healthInsData.Estimate_Total_Female_19To64Years_NoHealthInsuranceCoverage) /\n",
    "                                (healthInsData.Estimate_Total_Male_19To64Years +\n",
    "                                    healthInsData.Estimate_Total_Female_19To64Years))\n"
   ]
  },
  {
   "cell_type": "code",
   "execution_count": 15,
   "metadata": {},
   "outputs": [
    {
     "data": {
      "text/html": [
       "<div>\n",
       "<style scoped>\n",
       "    .dataframe tbody tr th:only-of-type {\n",
       "        vertical-align: middle;\n",
       "    }\n",
       "\n",
       "    .dataframe tbody tr th {\n",
       "        vertical-align: top;\n",
       "    }\n",
       "\n",
       "    .dataframe thead th {\n",
       "        text-align: right;\n",
       "    }\n",
       "</style>\n",
       "<table border=\"1\" class=\"dataframe\">\n",
       "  <thead>\n",
       "    <tr style=\"text-align: right;\">\n",
       "      <th></th>\n",
       "      <th>NAME</th>\n",
       "      <th>state</th>\n",
       "      <th>congressional district</th>\n",
       "      <th>pctMaleWithIns</th>\n",
       "      <th>pctFemWithIns</th>\n",
       "      <th>pctMaleWithoutIns</th>\n",
       "      <th>pctFemWithoutIns</th>\n",
       "      <th>pctWithIns</th>\n",
       "      <th>pctWithoutIns</th>\n",
       "    </tr>\n",
       "  </thead>\n",
       "  <tbody>\n",
       "    <tr>\n",
       "      <th>0</th>\n",
       "      <td>Congressional District 3 (116th Congress), California</td>\n",
       "      <td>06</td>\n",
       "      <td>03</td>\n",
       "      <td>0.913085</td>\n",
       "      <td>0.930216</td>\n",
       "      <td>0.086915</td>\n",
       "      <td>0.069784</td>\n",
       "      <td>0.921750</td>\n",
       "      <td>0.078250</td>\n",
       "    </tr>\n",
       "    <tr>\n",
       "      <th>1</th>\n",
       "      <td>Congressional District 21 (116th Congress), California</td>\n",
       "      <td>06</td>\n",
       "      <td>21</td>\n",
       "      <td>0.814732</td>\n",
       "      <td>0.863114</td>\n",
       "      <td>0.185268</td>\n",
       "      <td>0.136886</td>\n",
       "      <td>0.838887</td>\n",
       "      <td>0.161113</td>\n",
       "    </tr>\n",
       "  </tbody>\n",
       "</table>\n",
       "</div>"
      ],
      "text/plain": [
       "                                                     NAME state  \\\n",
       "0   Congressional District 3 (116th Congress), California    06   \n",
       "1  Congressional District 21 (116th Congress), California    06   \n",
       "\n",
       "  congressional district  pctMaleWithIns  pctFemWithIns  pctMaleWithoutIns  \\\n",
       "0                     03        0.913085       0.930216           0.086915   \n",
       "1                     21        0.814732       0.863114           0.185268   \n",
       "\n",
       "   pctFemWithoutIns  pctWithIns  pctWithoutIns  \n",
       "0          0.069784    0.921750       0.078250  \n",
       "1          0.136886    0.838887       0.161113  "
      ]
     },
     "execution_count": 15,
     "metadata": {},
     "output_type": "execute_result"
    }
   ],
   "source": [
    "healthInsPct.head(n=2)"
   ]
  },
  {
   "cell_type": "markdown",
   "metadata": {},
   "source": [
    "# Gini Index"
   ]
  },
  {
   "cell_type": "code",
   "execution_count": 16,
   "metadata": {},
   "outputs": [
    {
     "data": {
      "application/vnd.jupyter.widget-view+json": {
       "model_id": "32cbff6c7e3047189ef1f6124fa8fc06",
       "version_major": 2,
       "version_minor": 0
      },
      "text/plain": [
       "  0%|          | 0/1 [00:00<?, ?it/s]"
      ]
     },
     "metadata": {},
     "output_type": "display_data"
    },
    {
     "data": {
      "application/vnd.jupyter.widget-view+json": {
       "model_id": "f57b223ff4784836a33435dc4c297b65",
       "version_major": 2,
       "version_minor": 0
      },
      "text/plain": [
       "|          | 0/? [00:00<?, ?it/s]"
      ]
     },
     "metadata": {},
     "output_type": "display_data"
    }
   ],
   "source": [
    "giniVars = c.getVariablesByGroup(c.groups.GiniIndexOfIncomeInequality.code)\n",
    "giniData = c.getStats(giniVars['code'].tolist(), *geoDomains)"
   ]
  },
  {
   "cell_type": "code",
   "execution_count": 17,
   "metadata": {},
   "outputs": [
    {
     "data": {
      "text/plain": [
       "count    437.000000\n",
       "mean       0.459643\n",
       "std        0.031104\n",
       "min        0.392500\n",
       "25%        0.439100\n",
       "50%        0.456200\n",
       "75%        0.475000\n",
       "max        0.581900\n",
       "Name: Estimate_GiniIndex, dtype: float64"
      ]
     },
     "execution_count": 17,
     "metadata": {},
     "output_type": "execute_result"
    }
   ],
   "source": [
    "giniData.Estimate_GiniIndex.describe()"
   ]
  },
  {
   "cell_type": "markdown",
   "metadata": {},
   "source": [
    "# Income"
   ]
  },
  {
   "cell_type": "code",
   "execution_count": 18,
   "metadata": {},
   "outputs": [
    {
     "data": {
      "application/vnd.jupyter.widget-view+json": {
       "model_id": "317036a3a6054fceadaeeae8eb1f3e23",
       "version_major": 2,
       "version_minor": 0
      },
      "text/plain": [
       "  0%|          | 0/1 [00:00<?, ?it/s]"
      ]
     },
     "metadata": {},
     "output_type": "display_data"
    },
    {
     "data": {
      "application/vnd.jupyter.widget-view+json": {
       "model_id": "1339693cef204adebb9b5fb738677455",
       "version_major": 2,
       "version_minor": 0
      },
      "text/plain": [
       "|          | 0/? [00:00<?, ?it/s]"
      ]
     },
     "metadata": {},
     "output_type": "display_data"
    },
    {
     "data": {
      "application/vnd.jupyter.widget-view+json": {
       "model_id": "bc2af69e69e34e4d9dd40b63b1dd828a",
       "version_major": 2,
       "version_minor": 0
      },
      "text/plain": [
       "  0%|          | 0/1 [00:00<?, ?it/s]"
      ]
     },
     "metadata": {},
     "output_type": "display_data"
    },
    {
     "data": {
      "application/vnd.jupyter.widget-view+json": {
       "model_id": "41a0f3d8e89046f88f79fff334f7861e",
       "version_major": 2,
       "version_minor": 0
      },
      "text/plain": [
       "|          | 0/? [00:00<?, ?it/s]"
      ]
     },
     "metadata": {},
     "output_type": "display_data"
    }
   ],
   "source": [
    "c.searchGroups('aggregate income')\n",
    "\n",
    "incomeVars = c.getVariablesByGroup(c.groups.AggregateIncomeInThePast12MonthsIn2019InflationAdjustedDollars.code)\n",
    "incomeData = c.getStats(incomeVars['code'].tolist(), *geoDomains)\n",
    "\n",
    "populationVars = c.getVariablesByGroup(c.groups.TotalPopulation.code)\n",
    "populationData = c.getStats(populationVars['code'].tolist(), *geoDomains)"
   ]
  },
  {
   "cell_type": "code",
   "execution_count": 19,
   "metadata": {},
   "outputs": [],
   "source": [
    "avgIncome = incomeData.loc[:,['NAME', 'state', 'congressional district']]\n",
    "\n",
    "avgIncome['avgIncome'] = (incomeData.Estimate_AggregateIncomeInThePast12MonthsIn2019InflationAdjustedDollars /\n",
    "                         populationData.Estimate_Total)"
   ]
  },
  {
   "cell_type": "code",
   "execution_count": 20,
   "metadata": {},
   "outputs": [
    {
     "data": {
      "text/html": [
       "<div>\n",
       "<style scoped>\n",
       "    .dataframe tbody tr th:only-of-type {\n",
       "        vertical-align: middle;\n",
       "    }\n",
       "\n",
       "    .dataframe tbody tr th {\n",
       "        vertical-align: top;\n",
       "    }\n",
       "\n",
       "    .dataframe thead th {\n",
       "        text-align: right;\n",
       "    }\n",
       "</style>\n",
       "<table border=\"1\" class=\"dataframe\">\n",
       "  <thead>\n",
       "    <tr style=\"text-align: right;\">\n",
       "      <th></th>\n",
       "      <th>NAME</th>\n",
       "      <th>state</th>\n",
       "      <th>congressional district</th>\n",
       "      <th>avgIncome</th>\n",
       "    </tr>\n",
       "  </thead>\n",
       "  <tbody>\n",
       "    <tr>\n",
       "      <th>0</th>\n",
       "      <td>Congressional District 1 (116th Congress), Alabama</td>\n",
       "      <td>01</td>\n",
       "      <td>01</td>\n",
       "      <td>27463.206159</td>\n",
       "    </tr>\n",
       "    <tr>\n",
       "      <th>1</th>\n",
       "      <td>Congressional District 2 (116th Congress), Alabama</td>\n",
       "      <td>01</td>\n",
       "      <td>02</td>\n",
       "      <td>26790.405233</td>\n",
       "    </tr>\n",
       "  </tbody>\n",
       "</table>\n",
       "</div>"
      ],
      "text/plain": [
       "                                                 NAME state  \\\n",
       "0  Congressional District 1 (116th Congress), Alabama    01   \n",
       "1  Congressional District 2 (116th Congress), Alabama    01   \n",
       "\n",
       "  congressional district     avgIncome  \n",
       "0                     01  27463.206159  \n",
       "1                     02  26790.405233  "
      ]
     },
     "execution_count": 20,
     "metadata": {},
     "output_type": "execute_result"
    }
   ],
   "source": [
    "avgIncome.head(n=2)"
   ]
  },
  {
   "cell_type": "markdown",
   "metadata": {},
   "source": [
    "# Internet access"
   ]
  },
  {
   "cell_type": "code",
   "execution_count": 21,
   "metadata": {},
   "outputs": [
    {
     "data": {
      "application/vnd.jupyter.widget-view+json": {
       "model_id": "21b6c768f68f4616835ff049aacbadc3",
       "version_major": 2,
       "version_minor": 0
      },
      "text/plain": [
       "  0%|          | 0/1 [00:00<?, ?it/s]"
      ]
     },
     "metadata": {},
     "output_type": "display_data"
    },
    {
     "data": {
      "application/vnd.jupyter.widget-view+json": {
       "model_id": "cefe3ac002fa47148d2e9125304b6ec4",
       "version_major": 2,
       "version_minor": 0
      },
      "text/plain": [
       "|          | 0/? [00:00<?, ?it/s]"
      ]
     },
     "metadata": {},
     "output_type": "display_data"
    }
   ],
   "source": [
    "c.searchGroups('internet')\n",
    "internetVars = c.getVariablesByGroup(c.groups.PresenceAndTypesOfInternetSubscriptionsInHousehold.code)\n",
    "internetData = c.getStats(internetVars['code'].tolist(), *geoDomains)"
   ]
  },
  {
   "cell_type": "code",
   "execution_count": 22,
   "metadata": {},
   "outputs": [
    {
     "data": {
      "text/plain": [
       "['Estimate_Total',\n",
       " 'Estimate_Total_WithAnInternetSubscription',\n",
       " 'Estimate_Total_WithAnInternetSubscription_DialUpWithNoOtherTypeOfInternetSubscription',\n",
       " 'Estimate_Total_WithAnInternetSubscription_BroadbandOfAnyType',\n",
       " 'Estimate_Total_WithAnInternetSubscription_CellularDataPlan',\n",
       " 'Estimate_Total_WithAnInternetSubscription_CellularDataPlan_CellularDataPlanWithNoOtherTypeOfInternetSubscription',\n",
       " 'Estimate_Total_WithAnInternetSubscription_BroadbandSuchAsCableFiberOpticOrDsl',\n",
       " 'Estimate_Total_WithAnInternetSubscription_BroadbandSuchAsCableFiberOpticOrDsl_BroadbandSuchAsCableFiberOpticOrDslWithNoOtherTypeOfInternetSubscription',\n",
       " 'Estimate_Total_WithAnInternetSubscription_SatelliteInternetService',\n",
       " 'Estimate_Total_WithAnInternetSubscription_SatelliteInternetService_SatelliteInternetServiceWithNoOtherTypeOfInternetSubscription',\n",
       " 'Estimate_Total_WithAnInternetSubscription_OtherServiceWithNoOtherTypeOfInternetSubscription',\n",
       " 'Estimate_Total_InternetAccessWithoutASubscription',\n",
       " 'Estimate_Total_NoInternetAccess']"
      ]
     },
     "execution_count": 22,
     "metadata": {},
     "output_type": "execute_result"
    }
   ],
   "source": [
    "[col for col in internetData.columns.tolist() if col.startswith('Estimate')]"
   ]
  },
  {
   "cell_type": "code",
   "execution_count": 23,
   "metadata": {},
   "outputs": [],
   "source": [
    "pctInternetAccess = internetData.loc[:,['NAME', 'state', 'congressional district']]\n",
    "\n",
    "pctInternetAccess['pctHasInternet'] = (internetData.Estimate_Total_WithAnInternetSubscription /\n",
    "                                      internetData.Estimate_Total)\n",
    "pctInternetAccess['pctHasNoInternet'] = (internetData.Estimate_Total_NoInternetAccess /\n",
    "                                        internetData.Estimate_Total)\n",
    "pctInternetAccess['pctCellData'] = (internetData.Estimate_Total_WithAnInternetSubscription_CellularDataPlan /\n",
    "                                   internetData.Estimate_Total_WithAnInternetSubscription) * pctInternetAccess.pctHasInternet"
   ]
  },
  {
   "cell_type": "code",
   "execution_count": 24,
   "metadata": {},
   "outputs": [
    {
     "data": {
      "text/html": [
       "<div>\n",
       "<style scoped>\n",
       "    .dataframe tbody tr th:only-of-type {\n",
       "        vertical-align: middle;\n",
       "    }\n",
       "\n",
       "    .dataframe tbody tr th {\n",
       "        vertical-align: top;\n",
       "    }\n",
       "\n",
       "    .dataframe thead th {\n",
       "        text-align: right;\n",
       "    }\n",
       "</style>\n",
       "<table border=\"1\" class=\"dataframe\">\n",
       "  <thead>\n",
       "    <tr style=\"text-align: right;\">\n",
       "      <th></th>\n",
       "      <th>NAME</th>\n",
       "      <th>state</th>\n",
       "      <th>congressional district</th>\n",
       "      <th>pctHasInternet</th>\n",
       "      <th>pctHasNoInternet</th>\n",
       "      <th>pctCellData</th>\n",
       "    </tr>\n",
       "  </thead>\n",
       "  <tbody>\n",
       "    <tr>\n",
       "      <th>0</th>\n",
       "      <td>Congressional District 3 (116th Congress), California</td>\n",
       "      <td>06</td>\n",
       "      <td>03</td>\n",
       "      <td>0.901977</td>\n",
       "      <td>0.081209</td>\n",
       "      <td>0.844984</td>\n",
       "    </tr>\n",
       "    <tr>\n",
       "      <th>1</th>\n",
       "      <td>Congressional District 21 (116th Congress), California</td>\n",
       "      <td>06</td>\n",
       "      <td>21</td>\n",
       "      <td>0.767401</td>\n",
       "      <td>0.208614</td>\n",
       "      <td>0.649278</td>\n",
       "    </tr>\n",
       "  </tbody>\n",
       "</table>\n",
       "</div>"
      ],
      "text/plain": [
       "                                                     NAME state  \\\n",
       "0   Congressional District 3 (116th Congress), California    06   \n",
       "1  Congressional District 21 (116th Congress), California    06   \n",
       "\n",
       "  congressional district  pctHasInternet  pctHasNoInternet  pctCellData  \n",
       "0                     03        0.901977          0.081209     0.844984  \n",
       "1                     21        0.767401          0.208614     0.649278  "
      ]
     },
     "execution_count": 24,
     "metadata": {},
     "output_type": "execute_result"
    }
   ],
   "source": [
    "pctInternetAccess.head(n=2)"
   ]
  },
  {
   "cell_type": "markdown",
   "metadata": {},
   "source": [
    "# Tech access"
   ]
  },
  {
   "cell_type": "code",
   "execution_count": 25,
   "metadata": {},
   "outputs": [
    {
     "data": {
      "application/vnd.jupyter.widget-view+json": {
       "model_id": "fe19a9f5478946f998df65cf4d8054ca",
       "version_major": 2,
       "version_minor": 0
      },
      "text/plain": [
       "  0%|          | 0/1 [00:00<?, ?it/s]"
      ]
     },
     "metadata": {},
     "output_type": "display_data"
    }
   ],
   "source": [
    "computerVars = c.getVariablesByGroup(c.groups.TypesOfComputersInHousehold.code)"
   ]
  },
  {
   "cell_type": "code",
   "execution_count": 26,
   "metadata": {},
   "outputs": [
    {
     "data": {
      "text/plain": [
       "['Estimate!!Total:',\n",
       " 'Estimate!!Total:!!Has one or more types of computing devices:',\n",
       " 'Estimate!!Total:!!Has one or more types of computing devices:!!Desktop or laptop',\n",
       " 'Estimate!!Total:!!Has one or more types of computing devices:!!Desktop or laptop!!Desktop or laptop with no other type of computing device',\n",
       " 'Estimate!!Total:!!Has one or more types of computing devices:!!Smartphone',\n",
       " 'Estimate!!Total:!!Has one or more types of computing devices:!!Smartphone!!Smartphone with no other type of computing device',\n",
       " 'Estimate!!Total:!!Has one or more types of computing devices:!!Tablet or other portable wireless computer',\n",
       " 'Estimate!!Total:!!Has one or more types of computing devices:!!Tablet or other portable wireless computer!!Tablet or other portable wireless computer with no other type of computing device',\n",
       " 'Estimate!!Total:!!Has one or more types of computing devices:!!Other computer',\n",
       " 'Estimate!!Total:!!Has one or more types of computing devices:!!Other computer!!Other computer with no other type of computing device',\n",
       " 'Estimate!!Total:!!No Computer']"
      ]
     },
     "execution_count": 26,
     "metadata": {},
     "output_type": "execute_result"
    }
   ],
   "source": [
    "[var for var in computerVars['name'].tolist() if var.startswith('Estimate')]"
   ]
  },
  {
   "cell_type": "code",
   "execution_count": 27,
   "metadata": {},
   "outputs": [
    {
     "data": {
      "application/vnd.jupyter.widget-view+json": {
       "model_id": "2e63232d44d8475b91eaff2f16ee7ff5",
       "version_major": 2,
       "version_minor": 0
      },
      "text/plain": [
       "|          | 0/? [00:00<?, ?it/s]"
      ]
     },
     "metadata": {},
     "output_type": "display_data"
    }
   ],
   "source": [
    "computerStats = c.getStats(computerVars['code'].tolist(), *geoDomains)"
   ]
  },
  {
   "cell_type": "code",
   "execution_count": 28,
   "metadata": {},
   "outputs": [],
   "source": [
    "computerPcts = computerStats.loc[:,[\"NAME\", \"state\", \"congressional district\"]]\n",
    "\n",
    "computerPcts['pctHasTech'] = (computerStats.Estimate_Total_HasOneOrMoreTypesOfComputingDevices /\n",
    "                                 computerStats.Estimate_Total)\n",
    "computerPcts['pctNoTech'] = (computerStats.Estimate_Total_NoComputer / \n",
    "                                computerStats.Estimate_Total)\n",
    "computerPcts['pctSmartphone'] = (computerStats.Estimate_Total_HasOneOrMoreTypesOfComputingDevices_Smartphone /\n",
    "                               computerStats.Estimate_Total)\n",
    "computerPcts['pctNoSmartphone'] = 1 - computerPcts.pctSmartphone"
   ]
  },
  {
   "cell_type": "code",
   "execution_count": 29,
   "metadata": {},
   "outputs": [
    {
     "data": {
      "text/html": [
       "<div>\n",
       "<style scoped>\n",
       "    .dataframe tbody tr th:only-of-type {\n",
       "        vertical-align: middle;\n",
       "    }\n",
       "\n",
       "    .dataframe tbody tr th {\n",
       "        vertical-align: top;\n",
       "    }\n",
       "\n",
       "    .dataframe thead th {\n",
       "        text-align: right;\n",
       "    }\n",
       "</style>\n",
       "<table border=\"1\" class=\"dataframe\">\n",
       "  <thead>\n",
       "    <tr style=\"text-align: right;\">\n",
       "      <th></th>\n",
       "      <th>NAME</th>\n",
       "      <th>state</th>\n",
       "      <th>congressional district</th>\n",
       "      <th>pctHasTech</th>\n",
       "      <th>pctNoTech</th>\n",
       "      <th>pctSmartphone</th>\n",
       "      <th>pctNoSmartphone</th>\n",
       "    </tr>\n",
       "  </thead>\n",
       "  <tbody>\n",
       "    <tr>\n",
       "      <th>0</th>\n",
       "      <td>Congressional District 3 (116th Congress), California</td>\n",
       "      <td>06</td>\n",
       "      <td>03</td>\n",
       "      <td>0.947079</td>\n",
       "      <td>0.052921</td>\n",
       "      <td>0.896871</td>\n",
       "      <td>0.103129</td>\n",
       "    </tr>\n",
       "    <tr>\n",
       "      <th>1</th>\n",
       "      <td>Congressional District 21 (116th Congress), California</td>\n",
       "      <td>06</td>\n",
       "      <td>21</td>\n",
       "      <td>0.871476</td>\n",
       "      <td>0.128524</td>\n",
       "      <td>0.839932</td>\n",
       "      <td>0.160068</td>\n",
       "    </tr>\n",
       "  </tbody>\n",
       "</table>\n",
       "</div>"
      ],
      "text/plain": [
       "                                                     NAME state  \\\n",
       "0   Congressional District 3 (116th Congress), California    06   \n",
       "1  Congressional District 21 (116th Congress), California    06   \n",
       "\n",
       "  congressional district  pctHasTech  pctNoTech  pctSmartphone  \\\n",
       "0                     03    0.947079   0.052921       0.896871   \n",
       "1                     21    0.871476   0.128524       0.839932   \n",
       "\n",
       "   pctNoSmartphone  \n",
       "0         0.103129  \n",
       "1         0.160068  "
      ]
     },
     "execution_count": 29,
     "metadata": {},
     "output_type": "execute_result"
    }
   ],
   "source": [
    "computerPcts.head(n=2)"
   ]
  },
  {
   "cell_type": "markdown",
   "metadata": {},
   "source": [
    "# Language spoken at home"
   ]
  },
  {
   "cell_type": "code",
   "execution_count": 30,
   "metadata": {},
   "outputs": [
    {
     "data": {
      "text/plain": [
       "('HouseholdLanguageByHouseholdLimitedEnglishSpeakingStatus',)"
      ]
     },
     "execution_count": 30,
     "metadata": {},
     "output_type": "execute_result"
    }
   ],
   "source": [
    " 'LanguageSpokenAtHomeForThePopulation5YearsAndOver',\n",
    " 'HouseholdLanguageByHouseholdLimitedEnglishSpeakingStatus',"
   ]
  },
  {
   "cell_type": "markdown",
   "metadata": {},
   "source": [
    "# Work commute"
   ]
  },
  {
   "cell_type": "code",
   "execution_count": 31,
   "metadata": {},
   "outputs": [
    {
     "data": {
      "application/vnd.jupyter.widget-view+json": {
       "model_id": "0e3d901459eb490f91d93376c551cb42",
       "version_major": 2,
       "version_minor": 0
      },
      "text/plain": [
       "  0%|          | 0/1 [00:00<?, ?it/s]"
      ]
     },
     "metadata": {},
     "output_type": "display_data"
    },
    {
     "data": {
      "application/vnd.jupyter.widget-view+json": {
       "model_id": "befa2a73c1f84135b152451365060e4e",
       "version_major": 2,
       "version_minor": 0
      },
      "text/plain": [
       "|          | 0/? [00:00<?, ?it/s]"
      ]
     },
     "metadata": {},
     "output_type": "display_data"
    }
   ],
   "source": [
    "transportationVars = c.getVariablesByGroup(c.groups.MeansOfTransportationToWork.code)\n",
    "transportationStats = c.getStats(transportationVars['code'].tolist(), *geoDomains)"
   ]
  },
  {
   "cell_type": "code",
   "execution_count": 32,
   "metadata": {},
   "outputs": [
    {
     "data": {
      "text/plain": [
       "['Estimate_Total',\n",
       " 'Estimate_Total_CarTruckOrVan',\n",
       " 'Estimate_Total_CarTruckOrVan_DroveAlone',\n",
       " 'Estimate_Total_CarTruckOrVan_Carpooled',\n",
       " 'Estimate_Total_CarTruckOrVan_Carpooled_In2PersonCarpool',\n",
       " 'Estimate_Total_CarTruckOrVan_Carpooled_In3PersonCarpool',\n",
       " 'Estimate_Total_CarTruckOrVan_Carpooled_In4OrMorePersonCarpool',\n",
       " 'Estimate_Total_PublicTransportationExcludingTaxicab',\n",
       " 'Estimate_Total_Walked',\n",
       " 'Estimate_Total_TaxicabMotorcycleBicycleOrOtherMeans',\n",
       " 'Estimate_Total_WorkedFromHome']"
      ]
     },
     "execution_count": 32,
     "metadata": {},
     "output_type": "execute_result"
    }
   ],
   "source": [
    "[stat for stat in transportationStats.columns.tolist() if stat.startswith('Estimate')]"
   ]
  },
  {
   "cell_type": "markdown",
   "metadata": {},
   "source": [
    "# Commute time"
   ]
  },
  {
   "cell_type": "code",
   "execution_count": 33,
   "metadata": {},
   "outputs": [
    {
     "data": {
      "text/html": [
       "<div>\n",
       "<style scoped>\n",
       "    .dataframe tbody tr th:only-of-type {\n",
       "        vertical-align: middle;\n",
       "    }\n",
       "\n",
       "    .dataframe tbody tr th {\n",
       "        vertical-align: top;\n",
       "    }\n",
       "\n",
       "    .dataframe thead th {\n",
       "        text-align: right;\n",
       "    }\n",
       "</style>\n",
       "<table border=\"1\" class=\"dataframe\">\n",
       "  <thead>\n",
       "    <tr style=\"text-align: right;\">\n",
       "      <th></th>\n",
       "      <th>code</th>\n",
       "      <th>description</th>\n",
       "    </tr>\n",
       "  </thead>\n",
       "  <tbody>\n",
       "    <tr>\n",
       "      <th>0</th>\n",
       "      <td>B08012</td>\n",
       "      <td>SEX OF WORKERS BY TRAVEL TIME TO WORK</td>\n",
       "    </tr>\n",
       "    <tr>\n",
       "      <th>1</th>\n",
       "      <td>B08013</td>\n",
       "      <td>AGGREGATE TRAVEL TIME TO WORK (IN MINUTES) OF WORKERS BY SEX</td>\n",
       "    </tr>\n",
       "    <tr>\n",
       "      <th>2</th>\n",
       "      <td>B08131</td>\n",
       "      <td>AGGREGATE TRAVEL TIME TO WORK (IN MINUTES) OF WORKERS BY PLACE OF WORK--STATE AND COUNTY LEVEL</td>\n",
       "    </tr>\n",
       "    <tr>\n",
       "      <th>3</th>\n",
       "      <td>B08133</td>\n",
       "      <td>AGGREGATE TRAVEL TIME TO WORK (IN MINUTES) OF WORKERS BY TIME OF DEPARTURE TO GO TO WORK</td>\n",
       "    </tr>\n",
       "    <tr>\n",
       "      <th>4</th>\n",
       "      <td>B08134</td>\n",
       "      <td>MEANS OF TRANSPORTATION TO WORK BY TRAVEL TIME TO WORK</td>\n",
       "    </tr>\n",
       "    <tr>\n",
       "      <th>5</th>\n",
       "      <td>B08135</td>\n",
       "      <td>AGGREGATE TRAVEL TIME TO WORK (IN MINUTES) OF WORKERS BY TRAVEL TIME TO WORK</td>\n",
       "    </tr>\n",
       "    <tr>\n",
       "      <th>6</th>\n",
       "      <td>B08136</td>\n",
       "      <td>AGGREGATE TRAVEL TIME TO WORK (IN MINUTES) OF WORKERS BY MEANS OF TRANSPORTATION TO WORK</td>\n",
       "    </tr>\n",
       "    <tr>\n",
       "      <th>7</th>\n",
       "      <td>B08303</td>\n",
       "      <td>TRAVEL TIME TO WORK</td>\n",
       "    </tr>\n",
       "    <tr>\n",
       "      <th>8</th>\n",
       "      <td>B08412</td>\n",
       "      <td>SEX OF WORKERS BY TRAVEL TIME TO WORK FOR WORKPLACE GEOGRAPHY</td>\n",
       "    </tr>\n",
       "    <tr>\n",
       "      <th>9</th>\n",
       "      <td>B08534</td>\n",
       "      <td>MEANS OF TRANSPORTATION TO WORK BY TRAVEL TIME TO WORK FOR WORKPLACE GEOGRAPHY</td>\n",
       "    </tr>\n",
       "    <tr>\n",
       "      <th>10</th>\n",
       "      <td>B08536</td>\n",
       "      <td>AGGREGATE TRAVEL TIME TO WORK (IN MINUTES) OF WORKERS BY MEANS OF TRANSPORTATION TO WORK FOR WORKPLACE GEOGRAPHY</td>\n",
       "    </tr>\n",
       "    <tr>\n",
       "      <th>11</th>\n",
       "      <td>B08603</td>\n",
       "      <td>TRAVEL TIME TO WORK FOR WORKPLACE GEOGRAPHY</td>\n",
       "    </tr>\n",
       "    <tr>\n",
       "      <th>12</th>\n",
       "      <td>B99084</td>\n",
       "      <td>ALLOCATION OF TRAVEL TIME TO WORK</td>\n",
       "    </tr>\n",
       "    <tr>\n",
       "      <th>13</th>\n",
       "      <td>B99088</td>\n",
       "      <td>ALLOCATION OF TRAVEL TIME TO WORK FOR WORKPLACE GEOGRAPHY</td>\n",
       "    </tr>\n",
       "    <tr>\n",
       "      <th>14</th>\n",
       "      <td>C08134</td>\n",
       "      <td>MEANS OF TRANSPORTATION TO WORK BY TRAVEL TIME TO WORK</td>\n",
       "    </tr>\n",
       "    <tr>\n",
       "      <th>15</th>\n",
       "      <td>C08136</td>\n",
       "      <td>AGGREGATE TRAVEL TIME TO WORK (IN MINUTES) OF WORKERS BY MEANS OF TRANSPORTATION TO WORK</td>\n",
       "    </tr>\n",
       "    <tr>\n",
       "      <th>16</th>\n",
       "      <td>C08534</td>\n",
       "      <td>MEANS OF TRANSPORTATION TO WORK BY TRAVEL TIME TO WORK FOR WORKPLACE GEOGRAPHY</td>\n",
       "    </tr>\n",
       "    <tr>\n",
       "      <th>17</th>\n",
       "      <td>C08536</td>\n",
       "      <td>AGGREGATE TRAVEL TIME TO WORK (IN MINUTES) OF WORKERS BY MEANS OF TRANSPORTATION TO WORK FOR WORKPLACE GEOGRAPHY</td>\n",
       "    </tr>\n",
       "  </tbody>\n",
       "</table>\n",
       "</div>"
      ],
      "text/plain": [
       "      code  \\\n",
       "0   B08012   \n",
       "1   B08013   \n",
       "2   B08131   \n",
       "3   B08133   \n",
       "4   B08134   \n",
       "5   B08135   \n",
       "6   B08136   \n",
       "7   B08303   \n",
       "8   B08412   \n",
       "9   B08534   \n",
       "10  B08536   \n",
       "11  B08603   \n",
       "12  B99084   \n",
       "13  B99088   \n",
       "14  C08134   \n",
       "15  C08136   \n",
       "16  C08534   \n",
       "17  C08536   \n",
       "\n",
       "                                                                                                         description  \n",
       "0                                                                              SEX OF WORKERS BY TRAVEL TIME TO WORK  \n",
       "1                                                       AGGREGATE TRAVEL TIME TO WORK (IN MINUTES) OF WORKERS BY SEX  \n",
       "2                     AGGREGATE TRAVEL TIME TO WORK (IN MINUTES) OF WORKERS BY PLACE OF WORK--STATE AND COUNTY LEVEL  \n",
       "3                           AGGREGATE TRAVEL TIME TO WORK (IN MINUTES) OF WORKERS BY TIME OF DEPARTURE TO GO TO WORK  \n",
       "4                                                             MEANS OF TRANSPORTATION TO WORK BY TRAVEL TIME TO WORK  \n",
       "5                                       AGGREGATE TRAVEL TIME TO WORK (IN MINUTES) OF WORKERS BY TRAVEL TIME TO WORK  \n",
       "6                           AGGREGATE TRAVEL TIME TO WORK (IN MINUTES) OF WORKERS BY MEANS OF TRANSPORTATION TO WORK  \n",
       "7                                                                                                TRAVEL TIME TO WORK  \n",
       "8                                                      SEX OF WORKERS BY TRAVEL TIME TO WORK FOR WORKPLACE GEOGRAPHY  \n",
       "9                                     MEANS OF TRANSPORTATION TO WORK BY TRAVEL TIME TO WORK FOR WORKPLACE GEOGRAPHY  \n",
       "10  AGGREGATE TRAVEL TIME TO WORK (IN MINUTES) OF WORKERS BY MEANS OF TRANSPORTATION TO WORK FOR WORKPLACE GEOGRAPHY  \n",
       "11                                                                       TRAVEL TIME TO WORK FOR WORKPLACE GEOGRAPHY  \n",
       "12                                                                                 ALLOCATION OF TRAVEL TIME TO WORK  \n",
       "13                                                         ALLOCATION OF TRAVEL TIME TO WORK FOR WORKPLACE GEOGRAPHY  \n",
       "14                                                            MEANS OF TRANSPORTATION TO WORK BY TRAVEL TIME TO WORK  \n",
       "15                          AGGREGATE TRAVEL TIME TO WORK (IN MINUTES) OF WORKERS BY MEANS OF TRANSPORTATION TO WORK  \n",
       "16                                    MEANS OF TRANSPORTATION TO WORK BY TRAVEL TIME TO WORK FOR WORKPLACE GEOGRAPHY  \n",
       "17  AGGREGATE TRAVEL TIME TO WORK (IN MINUTES) OF WORKERS BY MEANS OF TRANSPORTATION TO WORK FOR WORKPLACE GEOGRAPHY  "
      ]
     },
     "execution_count": 33,
     "metadata": {},
     "output_type": "execute_result"
    }
   ],
   "source": [
    "c.searchGroups('travel')"
   ]
  },
  {
   "cell_type": "markdown",
   "metadata": {},
   "source": [
    "# Means of transportation by commute time"
   ]
  },
  {
   "cell_type": "code",
   "execution_count": 34,
   "metadata": {},
   "outputs": [
    {
     "data": {
      "application/vnd.jupyter.widget-view+json": {
       "model_id": "19cf554e1445408cac200c7193d17450",
       "version_major": 2,
       "version_minor": 0
      },
      "text/plain": [
       "  0%|          | 0/1 [00:00<?, ?it/s]"
      ]
     },
     "metadata": {},
     "output_type": "display_data"
    },
    {
     "data": {
      "application/vnd.jupyter.widget-view+json": {
       "model_id": "f3849dd174bd4f06996a9d992dd163e0",
       "version_major": 2,
       "version_minor": 0
      },
      "text/plain": [
       "|          | 0/? [00:00<?, ?it/s]"
      ]
     },
     "metadata": {},
     "output_type": "display_data"
    }
   ],
   "source": [
    "transByCommuteTimeVars = c.getVariablesByGroup(c.groups.MeansOfTransportationToWorkByTravelTimeToWork.code)\n",
    "transByCommuteTimeStats = c.getStats(transByCommuteTimeVars['code'].tolist(), *geoDomains)"
   ]
  },
  {
   "cell_type": "code",
   "execution_count": 35,
   "metadata": {},
   "outputs": [],
   "source": [
    "cols = [col for col in transByCommuteTimeStats.columns.tolist() if col.startswith('Estimate')]\n",
    "transByCommuteTimeStats = transByCommuteTimeStats[['NAME', 'state', 'congressional district'] + cols]"
   ]
  },
  {
   "cell_type": "code",
   "execution_count": 36,
   "metadata": {},
   "outputs": [],
   "source": [
    "transByCommuteTimePcts = transByCommuteTimeStats.loc[:,['NAME', 'state', 'congressional district']]\n",
    "\n",
    "transByCommuteTimePcts['pctLt10'] = (transByCommuteTimeStats.Estimate_Total_LessThan10Minutes /\n",
    "                                    transByCommuteTimeStats.Estimate_Total)\n",
    "transByCommuteTimePcts['pct10to14'] = (transByCommuteTimeStats.Estimate_Total_10To14Minutes /\n",
    "                                    transByCommuteTimeStats.Estimate_Total)\n",
    "transByCommuteTimePcts['pct15to19'] = (transByCommuteTimeStats.Estimate_Total_15To19Minutes /\n",
    "                                    transByCommuteTimeStats.Estimate_Total)\n",
    "transByCommuteTimePcts['pct20to24'] = (transByCommuteTimeStats.Estimate_Total_20To24Minutes /\n",
    "                                    transByCommuteTimeStats.Estimate_Total)\n",
    "transByCommuteTimePcts['pct25to29'] = (transByCommuteTimeStats.Estimate_Total_25To29Minutes /\n",
    "                                    transByCommuteTimeStats.Estimate_Total)\n",
    "transByCommuteTimePcts['pct30to34'] = (transByCommuteTimeStats.Estimate_Total_30To34Minutes /\n",
    "                                    transByCommuteTimeStats.Estimate_Total)\n",
    "transByCommuteTimePcts['pct35to44'] = (transByCommuteTimeStats.Estimate_Total_35To44Minutes /\n",
    "                                    transByCommuteTimeStats.Estimate_Total)\n",
    "transByCommuteTimePcts['pct44to59'] = (transByCommuteTimeStats.Estimate_Total_45To59Minutes /\n",
    "                                    transByCommuteTimeStats.Estimate_Total)\n",
    "transByCommuteTimePcts['pct60plus'] = (transByCommuteTimeStats.Estimate_Total_60OrMoreMinutes /\n",
    "                                    transByCommuteTimeStats.Estimate_Total)"
   ]
  },
  {
   "cell_type": "code",
   "execution_count": 37,
   "metadata": {},
   "outputs": [
    {
     "data": {
      "text/html": [
       "<div>\n",
       "<style scoped>\n",
       "    .dataframe tbody tr th:only-of-type {\n",
       "        vertical-align: middle;\n",
       "    }\n",
       "\n",
       "    .dataframe tbody tr th {\n",
       "        vertical-align: top;\n",
       "    }\n",
       "\n",
       "    .dataframe thead th {\n",
       "        text-align: right;\n",
       "    }\n",
       "</style>\n",
       "<table border=\"1\" class=\"dataframe\">\n",
       "  <thead>\n",
       "    <tr style=\"text-align: right;\">\n",
       "      <th></th>\n",
       "      <th>pctLt10</th>\n",
       "      <th>pct10to14</th>\n",
       "      <th>pct15to19</th>\n",
       "      <th>pct20to24</th>\n",
       "      <th>pct25to29</th>\n",
       "      <th>pct30to34</th>\n",
       "      <th>pct35to44</th>\n",
       "      <th>pct44to59</th>\n",
       "      <th>pct60plus</th>\n",
       "    </tr>\n",
       "  </thead>\n",
       "  <tbody>\n",
       "    <tr>\n",
       "      <th>count</th>\n",
       "      <td>437.000000</td>\n",
       "      <td>437.000000</td>\n",
       "      <td>437.000000</td>\n",
       "      <td>437.000000</td>\n",
       "      <td>437.000000</td>\n",
       "      <td>437.000000</td>\n",
       "      <td>437.000000</td>\n",
       "      <td>437.000000</td>\n",
       "      <td>437.000000</td>\n",
       "    </tr>\n",
       "    <tr>\n",
       "      <th>mean</th>\n",
       "      <td>0.121342</td>\n",
       "      <td>0.130172</td>\n",
       "      <td>0.149963</td>\n",
       "      <td>0.140375</td>\n",
       "      <td>0.065557</td>\n",
       "      <td>0.137498</td>\n",
       "      <td>0.072203</td>\n",
       "      <td>0.084572</td>\n",
       "      <td>0.098318</td>\n",
       "    </tr>\n",
       "    <tr>\n",
       "      <th>std</th>\n",
       "      <td>0.055188</td>\n",
       "      <td>0.034026</td>\n",
       "      <td>0.030290</td>\n",
       "      <td>0.026597</td>\n",
       "      <td>0.016654</td>\n",
       "      <td>0.031528</td>\n",
       "      <td>0.021628</td>\n",
       "      <td>0.032521</td>\n",
       "      <td>0.057980</td>\n",
       "    </tr>\n",
       "    <tr>\n",
       "      <th>min</th>\n",
       "      <td>0.020903</td>\n",
       "      <td>0.036667</td>\n",
       "      <td>0.035380</td>\n",
       "      <td>0.061593</td>\n",
       "      <td>0.023220</td>\n",
       "      <td>0.056777</td>\n",
       "      <td>0.019706</td>\n",
       "      <td>0.025861</td>\n",
       "      <td>0.024628</td>\n",
       "    </tr>\n",
       "    <tr>\n",
       "      <th>25%</th>\n",
       "      <td>0.079812</td>\n",
       "      <td>0.108312</td>\n",
       "      <td>0.131845</td>\n",
       "      <td>0.122912</td>\n",
       "      <td>0.055837</td>\n",
       "      <td>0.116477</td>\n",
       "      <td>0.056266</td>\n",
       "      <td>0.060898</td>\n",
       "      <td>0.058075</td>\n",
       "    </tr>\n",
       "    <tr>\n",
       "      <th>50%</th>\n",
       "      <td>0.113645</td>\n",
       "      <td>0.130965</td>\n",
       "      <td>0.150303</td>\n",
       "      <td>0.139941</td>\n",
       "      <td>0.065057</td>\n",
       "      <td>0.133991</td>\n",
       "      <td>0.070505</td>\n",
       "      <td>0.080233</td>\n",
       "      <td>0.081621</td>\n",
       "    </tr>\n",
       "    <tr>\n",
       "      <th>75%</th>\n",
       "      <td>0.148323</td>\n",
       "      <td>0.152541</td>\n",
       "      <td>0.169617</td>\n",
       "      <td>0.154432</td>\n",
       "      <td>0.074629</td>\n",
       "      <td>0.156770</td>\n",
       "      <td>0.086230</td>\n",
       "      <td>0.104302</td>\n",
       "      <td>0.122141</td>\n",
       "    </tr>\n",
       "    <tr>\n",
       "      <th>max</th>\n",
       "      <td>0.377546</td>\n",
       "      <td>0.224908</td>\n",
       "      <td>0.246341</td>\n",
       "      <td>0.220081</td>\n",
       "      <td>0.224424</td>\n",
       "      <td>0.251859</td>\n",
       "      <td>0.147998</td>\n",
       "      <td>0.216932</td>\n",
       "      <td>0.384638</td>\n",
       "    </tr>\n",
       "  </tbody>\n",
       "</table>\n",
       "</div>"
      ],
      "text/plain": [
       "          pctLt10   pct10to14   pct15to19   pct20to24   pct25to29   pct30to34  \\\n",
       "count  437.000000  437.000000  437.000000  437.000000  437.000000  437.000000   \n",
       "mean     0.121342    0.130172    0.149963    0.140375    0.065557    0.137498   \n",
       "std      0.055188    0.034026    0.030290    0.026597    0.016654    0.031528   \n",
       "min      0.020903    0.036667    0.035380    0.061593    0.023220    0.056777   \n",
       "25%      0.079812    0.108312    0.131845    0.122912    0.055837    0.116477   \n",
       "50%      0.113645    0.130965    0.150303    0.139941    0.065057    0.133991   \n",
       "75%      0.148323    0.152541    0.169617    0.154432    0.074629    0.156770   \n",
       "max      0.377546    0.224908    0.246341    0.220081    0.224424    0.251859   \n",
       "\n",
       "        pct35to44   pct44to59   pct60plus  \n",
       "count  437.000000  437.000000  437.000000  \n",
       "mean     0.072203    0.084572    0.098318  \n",
       "std      0.021628    0.032521    0.057980  \n",
       "min      0.019706    0.025861    0.024628  \n",
       "25%      0.056266    0.060898    0.058075  \n",
       "50%      0.070505    0.080233    0.081621  \n",
       "75%      0.086230    0.104302    0.122141  \n",
       "max      0.147998    0.216932    0.384638  "
      ]
     },
     "execution_count": 37,
     "metadata": {},
     "output_type": "execute_result"
    }
   ],
   "source": [
    "transByCommuteTimePcts.describe()"
   ]
  },
  {
   "cell_type": "markdown",
   "metadata": {},
   "source": [
    "# Agg Traveltime"
   ]
  },
  {
   "cell_type": "code",
   "execution_count": 38,
   "metadata": {},
   "outputs": [
    {
     "data": {
      "application/vnd.jupyter.widget-view+json": {
       "model_id": "02a3af1a585542f1883df1f6fe792406",
       "version_major": 2,
       "version_minor": 0
      },
      "text/plain": [
       "  0%|          | 0/1 [00:00<?, ?it/s]"
      ]
     },
     "metadata": {},
     "output_type": "display_data"
    },
    {
     "data": {
      "application/vnd.jupyter.widget-view+json": {
       "model_id": "20f83a9393e3473caa9f3490ad243a62",
       "version_major": 2,
       "version_minor": 0
      },
      "text/plain": [
       "|          | 0/? [00:00<?, ?it/s]"
      ]
     },
     "metadata": {},
     "output_type": "display_data"
    }
   ],
   "source": [
    "aggTravTimeVars = c.getVariablesByGroup(c.groups.AggregateTravelTimeToWorkInMinutesOfWorkersByTravelTimeToWork.code)\n",
    "aggTravTimeStats = c.getStats(aggTravTimeVars['code'].tolist(), *geoDomains)"
   ]
  },
  {
   "cell_type": "code",
   "execution_count": 39,
   "metadata": {},
   "outputs": [],
   "source": [
    "avgTravelTime = aggTravTimeStats.loc[:,['NAME', 'state', 'congressional district']]\n",
    "avgTravelTime['avgTravelTime'] = (aggTravTimeStats.Estimate_AggregateTravelTimeToWorkInMinutes /\n",
    "                                 populationData.Estimate_Total)"
   ]
  },
  {
   "cell_type": "code",
   "execution_count": 40,
   "metadata": {},
   "outputs": [
    {
     "data": {
      "text/html": [
       "<div>\n",
       "<style scoped>\n",
       "    .dataframe tbody tr th:only-of-type {\n",
       "        vertical-align: middle;\n",
       "    }\n",
       "\n",
       "    .dataframe tbody tr th {\n",
       "        vertical-align: top;\n",
       "    }\n",
       "\n",
       "    .dataframe thead th {\n",
       "        text-align: right;\n",
       "    }\n",
       "</style>\n",
       "<table border=\"1\" class=\"dataframe\">\n",
       "  <thead>\n",
       "    <tr style=\"text-align: right;\">\n",
       "      <th></th>\n",
       "      <th>avgTravelTime</th>\n",
       "    </tr>\n",
       "  </thead>\n",
       "  <tbody>\n",
       "    <tr>\n",
       "      <th>count</th>\n",
       "      <td>437.000000</td>\n",
       "    </tr>\n",
       "    <tr>\n",
       "      <th>mean</th>\n",
       "      <td>12.511271</td>\n",
       "    </tr>\n",
       "    <tr>\n",
       "      <th>std</th>\n",
       "      <td>3.214731</td>\n",
       "    </tr>\n",
       "    <tr>\n",
       "      <th>min</th>\n",
       "      <td>5.195114</td>\n",
       "    </tr>\n",
       "    <tr>\n",
       "      <th>25%</th>\n",
       "      <td>10.289913</td>\n",
       "    </tr>\n",
       "    <tr>\n",
       "      <th>50%</th>\n",
       "      <td>11.995362</td>\n",
       "    </tr>\n",
       "    <tr>\n",
       "      <th>75%</th>\n",
       "      <td>14.555139</td>\n",
       "    </tr>\n",
       "    <tr>\n",
       "      <th>max</th>\n",
       "      <td>35.766639</td>\n",
       "    </tr>\n",
       "  </tbody>\n",
       "</table>\n",
       "</div>"
      ],
      "text/plain": [
       "       avgTravelTime\n",
       "count     437.000000\n",
       "mean       12.511271\n",
       "std         3.214731\n",
       "min         5.195114\n",
       "25%        10.289913\n",
       "50%        11.995362\n",
       "75%        14.555139\n",
       "max        35.766639"
      ]
     },
     "execution_count": 40,
     "metadata": {},
     "output_type": "execute_result"
    }
   ],
   "source": [
    "avgTravelTime.describe()"
   ]
  },
  {
   "cell_type": "markdown",
   "metadata": {},
   "source": [
    "# Time of departure to work"
   ]
  },
  {
   "cell_type": "code",
   "execution_count": 41,
   "metadata": {},
   "outputs": [
    {
     "data": {
      "application/vnd.jupyter.widget-view+json": {
       "model_id": "1386bbf8e7c4487fa31a946fe4ca0d79",
       "version_major": 2,
       "version_minor": 0
      },
      "text/plain": [
       "  0%|          | 0/1 [00:00<?, ?it/s]"
      ]
     },
     "metadata": {},
     "output_type": "display_data"
    },
    {
     "data": {
      "application/vnd.jupyter.widget-view+json": {
       "model_id": "26ea1227f0fb4401812795eaed6ab458",
       "version_major": 2,
       "version_minor": 0
      },
      "text/plain": [
       "|          | 0/? [00:00<?, ?it/s]"
      ]
     },
     "metadata": {},
     "output_type": "display_data"
    }
   ],
   "source": [
    "depTimeVars = c.getVariablesByGroup(c.groups.TimeOfDepartureToGoToWork.code)\n",
    "filteredVars = [rec['code'] for rec in depTimeVars.to_dict('records') if rec['name'].startswith('Estimate')]\n",
    "depTimeStats = c.getStats(filteredVars, *geoDomains)"
   ]
  },
  {
   "cell_type": "code",
   "execution_count": 42,
   "metadata": {},
   "outputs": [
    {
     "data": {
      "text/html": [
       "<div>\n",
       "<style scoped>\n",
       "    .dataframe tbody tr th:only-of-type {\n",
       "        vertical-align: middle;\n",
       "    }\n",
       "\n",
       "    .dataframe tbody tr th {\n",
       "        vertical-align: top;\n",
       "    }\n",
       "\n",
       "    .dataframe thead th {\n",
       "        text-align: right;\n",
       "    }\n",
       "</style>\n",
       "<table border=\"1\" class=\"dataframe\">\n",
       "  <thead>\n",
       "    <tr style=\"text-align: right;\">\n",
       "      <th></th>\n",
       "      <th>NAME</th>\n",
       "      <th>congressional district</th>\n",
       "      <th>state</th>\n",
       "      <th>Estimate_Total</th>\n",
       "      <th>Estimate_Total_1200AMTo459AM</th>\n",
       "      <th>Estimate_Total_500AMTo529AM</th>\n",
       "      <th>Estimate_Total_530AMTo559AM</th>\n",
       "      <th>Estimate_Total_600AMTo629AM</th>\n",
       "      <th>Estimate_Total_630AMTo659AM</th>\n",
       "      <th>Estimate_Total_700AMTo729AM</th>\n",
       "      <th>Estimate_Total_730AMTo759AM</th>\n",
       "      <th>Estimate_Total_800AMTo829AM</th>\n",
       "      <th>Estimate_Total_830AMTo859AM</th>\n",
       "      <th>Estimate_Total_900AMTo959AM</th>\n",
       "      <th>Estimate_Total_1000AMTo1059AM</th>\n",
       "      <th>Estimate_Total_1100AMTo1159AM</th>\n",
       "      <th>Estimate_Total_1200PMTo359PM</th>\n",
       "      <th>Estimate_Total_400PMTo1159PM</th>\n",
       "    </tr>\n",
       "  </thead>\n",
       "  <tbody>\n",
       "    <tr>\n",
       "      <th>0</th>\n",
       "      <td>Congressional District 3 (116th Congress), California</td>\n",
       "      <td>03</td>\n",
       "      <td>06</td>\n",
       "      <td>314682.0</td>\n",
       "      <td>26741.0</td>\n",
       "      <td>16787.0</td>\n",
       "      <td>19492.0</td>\n",
       "      <td>31712.0</td>\n",
       "      <td>26062.0</td>\n",
       "      <td>43886.0</td>\n",
       "      <td>31333.0</td>\n",
       "      <td>33143.0</td>\n",
       "      <td>12272.0</td>\n",
       "      <td>17245.0</td>\n",
       "      <td>9211.0</td>\n",
       "      <td>5075.0</td>\n",
       "      <td>21692.0</td>\n",
       "      <td>20031.0</td>\n",
       "    </tr>\n",
       "    <tr>\n",
       "      <th>1</th>\n",
       "      <td>Congressional District 21 (116th Congress), California</td>\n",
       "      <td>21</td>\n",
       "      <td>06</td>\n",
       "      <td>256320.0</td>\n",
       "      <td>26698.0</td>\n",
       "      <td>21522.0</td>\n",
       "      <td>18375.0</td>\n",
       "      <td>45534.0</td>\n",
       "      <td>22858.0</td>\n",
       "      <td>31950.0</td>\n",
       "      <td>21036.0</td>\n",
       "      <td>21417.0</td>\n",
       "      <td>4900.0</td>\n",
       "      <td>6170.0</td>\n",
       "      <td>2632.0</td>\n",
       "      <td>4165.0</td>\n",
       "      <td>14240.0</td>\n",
       "      <td>14823.0</td>\n",
       "    </tr>\n",
       "    <tr>\n",
       "      <th>2</th>\n",
       "      <td>Congressional District 48 (116th Congress), California</td>\n",
       "      <td>48</td>\n",
       "      <td>06</td>\n",
       "      <td>329666.0</td>\n",
       "      <td>12781.0</td>\n",
       "      <td>9615.0</td>\n",
       "      <td>12462.0</td>\n",
       "      <td>19348.0</td>\n",
       "      <td>27016.0</td>\n",
       "      <td>47089.0</td>\n",
       "      <td>39038.0</td>\n",
       "      <td>45705.0</td>\n",
       "      <td>24188.0</td>\n",
       "      <td>36766.0</td>\n",
       "      <td>15167.0</td>\n",
       "      <td>4614.0</td>\n",
       "      <td>17659.0</td>\n",
       "      <td>18218.0</td>\n",
       "    </tr>\n",
       "    <tr>\n",
       "      <th>3</th>\n",
       "      <td>Congressional District 10 (116th Congress), California</td>\n",
       "      <td>10</td>\n",
       "      <td>06</td>\n",
       "      <td>312510.0</td>\n",
       "      <td>43302.0</td>\n",
       "      <td>16967.0</td>\n",
       "      <td>17249.0</td>\n",
       "      <td>28971.0</td>\n",
       "      <td>21347.0</td>\n",
       "      <td>40645.0</td>\n",
       "      <td>30509.0</td>\n",
       "      <td>31312.0</td>\n",
       "      <td>8217.0</td>\n",
       "      <td>16879.0</td>\n",
       "      <td>7730.0</td>\n",
       "      <td>3197.0</td>\n",
       "      <td>19128.0</td>\n",
       "      <td>27057.0</td>\n",
       "    </tr>\n",
       "    <tr>\n",
       "      <th>4</th>\n",
       "      <td>Congressional District 34 (116th Congress), California</td>\n",
       "      <td>34</td>\n",
       "      <td>06</td>\n",
       "      <td>343177.0</td>\n",
       "      <td>13176.0</td>\n",
       "      <td>16335.0</td>\n",
       "      <td>12591.0</td>\n",
       "      <td>25823.0</td>\n",
       "      <td>23396.0</td>\n",
       "      <td>51813.0</td>\n",
       "      <td>30443.0</td>\n",
       "      <td>48710.0</td>\n",
       "      <td>27191.0</td>\n",
       "      <td>30991.0</td>\n",
       "      <td>15428.0</td>\n",
       "      <td>5885.0</td>\n",
       "      <td>22384.0</td>\n",
       "      <td>19011.0</td>\n",
       "    </tr>\n",
       "    <tr>\n",
       "      <th>...</th>\n",
       "      <td>...</td>\n",
       "      <td>...</td>\n",
       "      <td>...</td>\n",
       "      <td>...</td>\n",
       "      <td>...</td>\n",
       "      <td>...</td>\n",
       "      <td>...</td>\n",
       "      <td>...</td>\n",
       "      <td>...</td>\n",
       "      <td>...</td>\n",
       "      <td>...</td>\n",
       "      <td>...</td>\n",
       "      <td>...</td>\n",
       "      <td>...</td>\n",
       "      <td>...</td>\n",
       "      <td>...</td>\n",
       "      <td>...</td>\n",
       "      <td>...</td>\n",
       "    </tr>\n",
       "    <tr>\n",
       "      <th>432</th>\n",
       "      <td>Congressional District 1 (116th Congress), New York</td>\n",
       "      <td>01</td>\n",
       "      <td>36</td>\n",
       "      <td>343248.0</td>\n",
       "      <td>14557.0</td>\n",
       "      <td>10292.0</td>\n",
       "      <td>11127.0</td>\n",
       "      <td>30171.0</td>\n",
       "      <td>27786.0</td>\n",
       "      <td>45043.0</td>\n",
       "      <td>33763.0</td>\n",
       "      <td>63262.0</td>\n",
       "      <td>28084.0</td>\n",
       "      <td>28805.0</td>\n",
       "      <td>9873.0</td>\n",
       "      <td>4863.0</td>\n",
       "      <td>17306.0</td>\n",
       "      <td>18316.0</td>\n",
       "    </tr>\n",
       "    <tr>\n",
       "      <th>433</th>\n",
       "      <td>Congressional District 7 (116th Congress), New York</td>\n",
       "      <td>07</td>\n",
       "      <td>36</td>\n",
       "      <td>323486.0</td>\n",
       "      <td>7733.0</td>\n",
       "      <td>6897.0</td>\n",
       "      <td>7439.0</td>\n",
       "      <td>15247.0</td>\n",
       "      <td>13294.0</td>\n",
       "      <td>45222.0</td>\n",
       "      <td>29388.0</td>\n",
       "      <td>55117.0</td>\n",
       "      <td>35142.0</td>\n",
       "      <td>55118.0</td>\n",
       "      <td>17095.0</td>\n",
       "      <td>5985.0</td>\n",
       "      <td>16117.0</td>\n",
       "      <td>13692.0</td>\n",
       "    </tr>\n",
       "    <tr>\n",
       "      <th>434</th>\n",
       "      <td>Congressional District 17 (116th Congress), New York</td>\n",
       "      <td>17</td>\n",
       "      <td>36</td>\n",
       "      <td>335642.0</td>\n",
       "      <td>6810.0</td>\n",
       "      <td>8097.0</td>\n",
       "      <td>9804.0</td>\n",
       "      <td>25144.0</td>\n",
       "      <td>31342.0</td>\n",
       "      <td>50233.0</td>\n",
       "      <td>40410.0</td>\n",
       "      <td>49224.0</td>\n",
       "      <td>32979.0</td>\n",
       "      <td>28732.0</td>\n",
       "      <td>10567.0</td>\n",
       "      <td>5500.0</td>\n",
       "      <td>20374.0</td>\n",
       "      <td>16426.0</td>\n",
       "    </tr>\n",
       "    <tr>\n",
       "      <th>435</th>\n",
       "      <td>Congressional District 6 (116th Congress), New York</td>\n",
       "      <td>06</td>\n",
       "      <td>36</td>\n",
       "      <td>336560.0</td>\n",
       "      <td>10341.0</td>\n",
       "      <td>7139.0</td>\n",
       "      <td>7643.0</td>\n",
       "      <td>23829.0</td>\n",
       "      <td>18490.0</td>\n",
       "      <td>62061.0</td>\n",
       "      <td>30334.0</td>\n",
       "      <td>65258.0</td>\n",
       "      <td>22214.0</td>\n",
       "      <td>40017.0</td>\n",
       "      <td>14310.0</td>\n",
       "      <td>6583.0</td>\n",
       "      <td>17712.0</td>\n",
       "      <td>10629.0</td>\n",
       "    </tr>\n",
       "    <tr>\n",
       "      <th>436</th>\n",
       "      <td>Congressional District 5 (116th Congress), New York</td>\n",
       "      <td>05</td>\n",
       "      <td>36</td>\n",
       "      <td>346669.0</td>\n",
       "      <td>21987.0</td>\n",
       "      <td>13224.0</td>\n",
       "      <td>16274.0</td>\n",
       "      <td>34539.0</td>\n",
       "      <td>23274.0</td>\n",
       "      <td>63941.0</td>\n",
       "      <td>26725.0</td>\n",
       "      <td>38297.0</td>\n",
       "      <td>12958.0</td>\n",
       "      <td>25287.0</td>\n",
       "      <td>10576.0</td>\n",
       "      <td>4653.0</td>\n",
       "      <td>29522.0</td>\n",
       "      <td>25412.0</td>\n",
       "    </tr>\n",
       "  </tbody>\n",
       "</table>\n",
       "<p>437 rows × 18 columns</p>\n",
       "</div>"
      ],
      "text/plain": [
       "                                                       NAME  \\\n",
       "0     Congressional District 3 (116th Congress), California   \n",
       "1    Congressional District 21 (116th Congress), California   \n",
       "2    Congressional District 48 (116th Congress), California   \n",
       "3    Congressional District 10 (116th Congress), California   \n",
       "4    Congressional District 34 (116th Congress), California   \n",
       "..                                                      ...   \n",
       "432     Congressional District 1 (116th Congress), New York   \n",
       "433     Congressional District 7 (116th Congress), New York   \n",
       "434    Congressional District 17 (116th Congress), New York   \n",
       "435     Congressional District 6 (116th Congress), New York   \n",
       "436     Congressional District 5 (116th Congress), New York   \n",
       "\n",
       "    congressional district state  Estimate_Total  \\\n",
       "0                       03    06        314682.0   \n",
       "1                       21    06        256320.0   \n",
       "2                       48    06        329666.0   \n",
       "3                       10    06        312510.0   \n",
       "4                       34    06        343177.0   \n",
       "..                     ...   ...             ...   \n",
       "432                     01    36        343248.0   \n",
       "433                     07    36        323486.0   \n",
       "434                     17    36        335642.0   \n",
       "435                     06    36        336560.0   \n",
       "436                     05    36        346669.0   \n",
       "\n",
       "     Estimate_Total_1200AMTo459AM  Estimate_Total_500AMTo529AM  \\\n",
       "0                         26741.0                      16787.0   \n",
       "1                         26698.0                      21522.0   \n",
       "2                         12781.0                       9615.0   \n",
       "3                         43302.0                      16967.0   \n",
       "4                         13176.0                      16335.0   \n",
       "..                            ...                          ...   \n",
       "432                       14557.0                      10292.0   \n",
       "433                        7733.0                       6897.0   \n",
       "434                        6810.0                       8097.0   \n",
       "435                       10341.0                       7139.0   \n",
       "436                       21987.0                      13224.0   \n",
       "\n",
       "     Estimate_Total_530AMTo559AM  Estimate_Total_600AMTo629AM  \\\n",
       "0                        19492.0                      31712.0   \n",
       "1                        18375.0                      45534.0   \n",
       "2                        12462.0                      19348.0   \n",
       "3                        17249.0                      28971.0   \n",
       "4                        12591.0                      25823.0   \n",
       "..                           ...                          ...   \n",
       "432                      11127.0                      30171.0   \n",
       "433                       7439.0                      15247.0   \n",
       "434                       9804.0                      25144.0   \n",
       "435                       7643.0                      23829.0   \n",
       "436                      16274.0                      34539.0   \n",
       "\n",
       "     Estimate_Total_630AMTo659AM  Estimate_Total_700AMTo729AM  \\\n",
       "0                        26062.0                      43886.0   \n",
       "1                        22858.0                      31950.0   \n",
       "2                        27016.0                      47089.0   \n",
       "3                        21347.0                      40645.0   \n",
       "4                        23396.0                      51813.0   \n",
       "..                           ...                          ...   \n",
       "432                      27786.0                      45043.0   \n",
       "433                      13294.0                      45222.0   \n",
       "434                      31342.0                      50233.0   \n",
       "435                      18490.0                      62061.0   \n",
       "436                      23274.0                      63941.0   \n",
       "\n",
       "     Estimate_Total_730AMTo759AM  Estimate_Total_800AMTo829AM  \\\n",
       "0                        31333.0                      33143.0   \n",
       "1                        21036.0                      21417.0   \n",
       "2                        39038.0                      45705.0   \n",
       "3                        30509.0                      31312.0   \n",
       "4                        30443.0                      48710.0   \n",
       "..                           ...                          ...   \n",
       "432                      33763.0                      63262.0   \n",
       "433                      29388.0                      55117.0   \n",
       "434                      40410.0                      49224.0   \n",
       "435                      30334.0                      65258.0   \n",
       "436                      26725.0                      38297.0   \n",
       "\n",
       "     Estimate_Total_830AMTo859AM  Estimate_Total_900AMTo959AM  \\\n",
       "0                        12272.0                      17245.0   \n",
       "1                         4900.0                       6170.0   \n",
       "2                        24188.0                      36766.0   \n",
       "3                         8217.0                      16879.0   \n",
       "4                        27191.0                      30991.0   \n",
       "..                           ...                          ...   \n",
       "432                      28084.0                      28805.0   \n",
       "433                      35142.0                      55118.0   \n",
       "434                      32979.0                      28732.0   \n",
       "435                      22214.0                      40017.0   \n",
       "436                      12958.0                      25287.0   \n",
       "\n",
       "     Estimate_Total_1000AMTo1059AM  Estimate_Total_1100AMTo1159AM  \\\n",
       "0                           9211.0                         5075.0   \n",
       "1                           2632.0                         4165.0   \n",
       "2                          15167.0                         4614.0   \n",
       "3                           7730.0                         3197.0   \n",
       "4                          15428.0                         5885.0   \n",
       "..                             ...                            ...   \n",
       "432                         9873.0                         4863.0   \n",
       "433                        17095.0                         5985.0   \n",
       "434                        10567.0                         5500.0   \n",
       "435                        14310.0                         6583.0   \n",
       "436                        10576.0                         4653.0   \n",
       "\n",
       "     Estimate_Total_1200PMTo359PM  Estimate_Total_400PMTo1159PM  \n",
       "0                         21692.0                       20031.0  \n",
       "1                         14240.0                       14823.0  \n",
       "2                         17659.0                       18218.0  \n",
       "3                         19128.0                       27057.0  \n",
       "4                         22384.0                       19011.0  \n",
       "..                            ...                           ...  \n",
       "432                       17306.0                       18316.0  \n",
       "433                       16117.0                       13692.0  \n",
       "434                       20374.0                       16426.0  \n",
       "435                       17712.0                       10629.0  \n",
       "436                       29522.0                       25412.0  \n",
       "\n",
       "[437 rows x 18 columns]"
      ]
     },
     "execution_count": 42,
     "metadata": {},
     "output_type": "execute_result"
    }
   ],
   "source": [
    "depTimeStats"
   ]
  },
  {
   "cell_type": "code",
   "execution_count": 43,
   "metadata": {},
   "outputs": [],
   "source": [
    "mgd = pd.merge(left=educPcts, right=emplPcts, on=['state', 'congressional district', 'NAME'])\n",
    "mgd = pd.merge(left=mgd, right=computerPcts, on=['state', 'congressional district', 'NAME'])\n",
    "mgd = pd.merge(left=mgd, right=giniData, on=['state', 'congressional district', 'NAME'])\n",
    "mgd = pd.merge(left=mgd, right=avgIncome, on=['state', 'congressional district', 'NAME'])"
   ]
  },
  {
   "cell_type": "code",
   "execution_count": 44,
   "metadata": {},
   "outputs": [
    {
     "data": {
      "text/html": [
       "<div>\n",
       "<style scoped>\n",
       "    .dataframe tbody tr th:only-of-type {\n",
       "        vertical-align: middle;\n",
       "    }\n",
       "\n",
       "    .dataframe tbody tr th {\n",
       "        vertical-align: top;\n",
       "    }\n",
       "\n",
       "    .dataframe thead th {\n",
       "        text-align: right;\n",
       "    }\n",
       "</style>\n",
       "<table border=\"1\" class=\"dataframe\">\n",
       "  <thead>\n",
       "    <tr style=\"text-align: right;\">\n",
       "      <th></th>\n",
       "      <th>pctNoHs</th>\n",
       "      <th>pctHs</th>\n",
       "      <th>pctBach</th>\n",
       "      <th>pctSomeCollege1YrNoDegree</th>\n",
       "      <th>pctSomeCollegeManyYrsNoDegree</th>\n",
       "      <th>pctGradPlus</th>\n",
       "      <th>pctInLaborForce</th>\n",
       "      <th>pctEmployed</th>\n",
       "      <th>pctUnemployed</th>\n",
       "      <th>pctHasTech</th>\n",
       "      <th>pctNoTech</th>\n",
       "      <th>pctSmartphone</th>\n",
       "      <th>pctNoSmartphone</th>\n",
       "      <th>Estimate_GiniIndex</th>\n",
       "      <th>MarginOfError_GiniIndex</th>\n",
       "      <th>avgIncome</th>\n",
       "    </tr>\n",
       "  </thead>\n",
       "  <tbody>\n",
       "    <tr>\n",
       "      <th>pctNoHs</th>\n",
       "      <td>1.000000</td>\n",
       "      <td>0.178613</td>\n",
       "      <td>-0.559658</td>\n",
       "      <td>-0.198253</td>\n",
       "      <td>0.105307</td>\n",
       "      <td>-0.531119</td>\n",
       "      <td>-0.245193</td>\n",
       "      <td>-0.502975</td>\n",
       "      <td>0.502975</td>\n",
       "      <td>-0.345541</td>\n",
       "      <td>0.345541</td>\n",
       "      <td>-0.079459</td>\n",
       "      <td>0.079459</td>\n",
       "      <td>0.091300</td>\n",
       "      <td>0.291348</td>\n",
       "      <td>-0.525402</td>\n",
       "    </tr>\n",
       "    <tr>\n",
       "      <th>pctHs</th>\n",
       "      <td>0.178613</td>\n",
       "      <td>1.000000</td>\n",
       "      <td>-0.820182</td>\n",
       "      <td>0.419146</td>\n",
       "      <td>0.099233</td>\n",
       "      <td>-0.725833</td>\n",
       "      <td>-0.576897</td>\n",
       "      <td>-0.217133</td>\n",
       "      <td>0.217133</td>\n",
       "      <td>-0.709414</td>\n",
       "      <td>0.709414</td>\n",
       "      <td>-0.767809</td>\n",
       "      <td>0.767809</td>\n",
       "      <td>-0.190939</td>\n",
       "      <td>0.153568</td>\n",
       "      <td>-0.714676</td>\n",
       "    </tr>\n",
       "    <tr>\n",
       "      <th>pctBach</th>\n",
       "      <td>-0.559658</td>\n",
       "      <td>-0.820182</td>\n",
       "      <td>1.000000</td>\n",
       "      <td>-0.456921</td>\n",
       "      <td>-0.388264</td>\n",
       "      <td>0.845960</td>\n",
       "      <td>0.677671</td>\n",
       "      <td>0.471912</td>\n",
       "      <td>-0.471912</td>\n",
       "      <td>0.665961</td>\n",
       "      <td>-0.665961</td>\n",
       "      <td>0.620782</td>\n",
       "      <td>-0.620782</td>\n",
       "      <td>0.176874</td>\n",
       "      <td>-0.263496</td>\n",
       "      <td>0.860153</td>\n",
       "    </tr>\n",
       "    <tr>\n",
       "      <th>pctSomeCollege1YrNoDegree</th>\n",
       "      <td>-0.198253</td>\n",
       "      <td>0.419146</td>\n",
       "      <td>-0.456921</td>\n",
       "      <td>1.000000</td>\n",
       "      <td>0.607048</td>\n",
       "      <td>-0.521287</td>\n",
       "      <td>-0.390142</td>\n",
       "      <td>0.017666</td>\n",
       "      <td>-0.017666</td>\n",
       "      <td>-0.060080</td>\n",
       "      <td>0.060080</td>\n",
       "      <td>-0.236031</td>\n",
       "      <td>0.236031</td>\n",
       "      <td>-0.468974</td>\n",
       "      <td>-0.010577</td>\n",
       "      <td>-0.432199</td>\n",
       "    </tr>\n",
       "    <tr>\n",
       "      <th>pctSomeCollegeManyYrsNoDegree</th>\n",
       "      <td>0.105307</td>\n",
       "      <td>0.099233</td>\n",
       "      <td>-0.388264</td>\n",
       "      <td>0.607048</td>\n",
       "      <td>1.000000</td>\n",
       "      <td>-0.526781</td>\n",
       "      <td>-0.292324</td>\n",
       "      <td>-0.300941</td>\n",
       "      <td>0.300941</td>\n",
       "      <td>0.022361</td>\n",
       "      <td>-0.022361</td>\n",
       "      <td>0.077350</td>\n",
       "      <td>-0.077350</td>\n",
       "      <td>-0.251097</td>\n",
       "      <td>0.115139</td>\n",
       "      <td>-0.485254</td>\n",
       "    </tr>\n",
       "    <tr>\n",
       "      <th>pctGradPlus</th>\n",
       "      <td>-0.531119</td>\n",
       "      <td>-0.725833</td>\n",
       "      <td>0.845960</td>\n",
       "      <td>-0.521287</td>\n",
       "      <td>-0.526781</td>\n",
       "      <td>1.000000</td>\n",
       "      <td>0.538701</td>\n",
       "      <td>0.369490</td>\n",
       "      <td>-0.369490</td>\n",
       "      <td>0.511530</td>\n",
       "      <td>-0.511530</td>\n",
       "      <td>0.442343</td>\n",
       "      <td>-0.442343</td>\n",
       "      <td>0.258362</td>\n",
       "      <td>-0.229895</td>\n",
       "      <td>0.881395</td>\n",
       "    </tr>\n",
       "    <tr>\n",
       "      <th>pctInLaborForce</th>\n",
       "      <td>-0.245193</td>\n",
       "      <td>-0.576897</td>\n",
       "      <td>0.677671</td>\n",
       "      <td>-0.390142</td>\n",
       "      <td>-0.292324</td>\n",
       "      <td>0.538701</td>\n",
       "      <td>1.000000</td>\n",
       "      <td>0.451960</td>\n",
       "      <td>-0.451960</td>\n",
       "      <td>0.582327</td>\n",
       "      <td>-0.582327</td>\n",
       "      <td>0.604844</td>\n",
       "      <td>-0.604844</td>\n",
       "      <td>-0.112872</td>\n",
       "      <td>-0.203314</td>\n",
       "      <td>0.538522</td>\n",
       "    </tr>\n",
       "    <tr>\n",
       "      <th>pctEmployed</th>\n",
       "      <td>-0.502975</td>\n",
       "      <td>-0.217133</td>\n",
       "      <td>0.471912</td>\n",
       "      <td>0.017666</td>\n",
       "      <td>-0.300941</td>\n",
       "      <td>0.369490</td>\n",
       "      <td>0.451960</td>\n",
       "      <td>1.000000</td>\n",
       "      <td>-1.000000</td>\n",
       "      <td>0.432663</td>\n",
       "      <td>-0.432663</td>\n",
       "      <td>0.263500</td>\n",
       "      <td>-0.263500</td>\n",
       "      <td>-0.287001</td>\n",
       "      <td>-0.311713</td>\n",
       "      <td>0.444400</td>\n",
       "    </tr>\n",
       "    <tr>\n",
       "      <th>pctUnemployed</th>\n",
       "      <td>0.502975</td>\n",
       "      <td>0.217133</td>\n",
       "      <td>-0.471912</td>\n",
       "      <td>-0.017666</td>\n",
       "      <td>0.300941</td>\n",
       "      <td>-0.369490</td>\n",
       "      <td>-0.451960</td>\n",
       "      <td>-1.000000</td>\n",
       "      <td>1.000000</td>\n",
       "      <td>-0.432663</td>\n",
       "      <td>0.432663</td>\n",
       "      <td>-0.263500</td>\n",
       "      <td>0.263500</td>\n",
       "      <td>0.287001</td>\n",
       "      <td>0.311713</td>\n",
       "      <td>-0.444400</td>\n",
       "    </tr>\n",
       "    <tr>\n",
       "      <th>pctHasTech</th>\n",
       "      <td>-0.345541</td>\n",
       "      <td>-0.709414</td>\n",
       "      <td>0.665961</td>\n",
       "      <td>-0.060080</td>\n",
       "      <td>0.022361</td>\n",
       "      <td>0.511530</td>\n",
       "      <td>0.582327</td>\n",
       "      <td>0.432663</td>\n",
       "      <td>-0.432663</td>\n",
       "      <td>1.000000</td>\n",
       "      <td>-1.000000</td>\n",
       "      <td>0.899346</td>\n",
       "      <td>-0.899346</td>\n",
       "      <td>-0.234855</td>\n",
       "      <td>-0.163076</td>\n",
       "      <td>0.578956</td>\n",
       "    </tr>\n",
       "    <tr>\n",
       "      <th>pctNoTech</th>\n",
       "      <td>0.345541</td>\n",
       "      <td>0.709414</td>\n",
       "      <td>-0.665961</td>\n",
       "      <td>0.060080</td>\n",
       "      <td>-0.022361</td>\n",
       "      <td>-0.511530</td>\n",
       "      <td>-0.582327</td>\n",
       "      <td>-0.432663</td>\n",
       "      <td>0.432663</td>\n",
       "      <td>-1.000000</td>\n",
       "      <td>1.000000</td>\n",
       "      <td>-0.899346</td>\n",
       "      <td>0.899346</td>\n",
       "      <td>0.234855</td>\n",
       "      <td>0.163076</td>\n",
       "      <td>-0.578956</td>\n",
       "    </tr>\n",
       "    <tr>\n",
       "      <th>pctSmartphone</th>\n",
       "      <td>-0.079459</td>\n",
       "      <td>-0.767809</td>\n",
       "      <td>0.620782</td>\n",
       "      <td>-0.236031</td>\n",
       "      <td>0.077350</td>\n",
       "      <td>0.442343</td>\n",
       "      <td>0.604844</td>\n",
       "      <td>0.263500</td>\n",
       "      <td>-0.263500</td>\n",
       "      <td>0.899346</td>\n",
       "      <td>-0.899346</td>\n",
       "      <td>1.000000</td>\n",
       "      <td>-1.000000</td>\n",
       "      <td>-0.097597</td>\n",
       "      <td>-0.062808</td>\n",
       "      <td>0.486996</td>\n",
       "    </tr>\n",
       "    <tr>\n",
       "      <th>pctNoSmartphone</th>\n",
       "      <td>0.079459</td>\n",
       "      <td>0.767809</td>\n",
       "      <td>-0.620782</td>\n",
       "      <td>0.236031</td>\n",
       "      <td>-0.077350</td>\n",
       "      <td>-0.442343</td>\n",
       "      <td>-0.604844</td>\n",
       "      <td>-0.263500</td>\n",
       "      <td>0.263500</td>\n",
       "      <td>-0.899346</td>\n",
       "      <td>0.899346</td>\n",
       "      <td>-1.000000</td>\n",
       "      <td>1.000000</td>\n",
       "      <td>0.097597</td>\n",
       "      <td>0.062808</td>\n",
       "      <td>-0.486996</td>\n",
       "    </tr>\n",
       "    <tr>\n",
       "      <th>Estimate_GiniIndex</th>\n",
       "      <td>0.091300</td>\n",
       "      <td>-0.190939</td>\n",
       "      <td>0.176874</td>\n",
       "      <td>-0.468974</td>\n",
       "      <td>-0.251097</td>\n",
       "      <td>0.258362</td>\n",
       "      <td>-0.112872</td>\n",
       "      <td>-0.287001</td>\n",
       "      <td>0.287001</td>\n",
       "      <td>-0.234855</td>\n",
       "      <td>0.234855</td>\n",
       "      <td>-0.097597</td>\n",
       "      <td>0.097597</td>\n",
       "      <td>1.000000</td>\n",
       "      <td>0.308439</td>\n",
       "      <td>0.245679</td>\n",
       "    </tr>\n",
       "    <tr>\n",
       "      <th>MarginOfError_GiniIndex</th>\n",
       "      <td>0.291348</td>\n",
       "      <td>0.153568</td>\n",
       "      <td>-0.263496</td>\n",
       "      <td>-0.010577</td>\n",
       "      <td>0.115139</td>\n",
       "      <td>-0.229895</td>\n",
       "      <td>-0.203314</td>\n",
       "      <td>-0.311713</td>\n",
       "      <td>0.311713</td>\n",
       "      <td>-0.163076</td>\n",
       "      <td>0.163076</td>\n",
       "      <td>-0.062808</td>\n",
       "      <td>0.062808</td>\n",
       "      <td>0.308439</td>\n",
       "      <td>1.000000</td>\n",
       "      <td>-0.221991</td>\n",
       "    </tr>\n",
       "    <tr>\n",
       "      <th>avgIncome</th>\n",
       "      <td>-0.525402</td>\n",
       "      <td>-0.714676</td>\n",
       "      <td>0.860153</td>\n",
       "      <td>-0.432199</td>\n",
       "      <td>-0.485254</td>\n",
       "      <td>0.881395</td>\n",
       "      <td>0.538522</td>\n",
       "      <td>0.444400</td>\n",
       "      <td>-0.444400</td>\n",
       "      <td>0.578956</td>\n",
       "      <td>-0.578956</td>\n",
       "      <td>0.486996</td>\n",
       "      <td>-0.486996</td>\n",
       "      <td>0.245679</td>\n",
       "      <td>-0.221991</td>\n",
       "      <td>1.000000</td>\n",
       "    </tr>\n",
       "  </tbody>\n",
       "</table>\n",
       "</div>"
      ],
      "text/plain": [
       "                                pctNoHs     pctHs   pctBach  \\\n",
       "pctNoHs                        1.000000  0.178613 -0.559658   \n",
       "pctHs                          0.178613  1.000000 -0.820182   \n",
       "pctBach                       -0.559658 -0.820182  1.000000   \n",
       "pctSomeCollege1YrNoDegree     -0.198253  0.419146 -0.456921   \n",
       "pctSomeCollegeManyYrsNoDegree  0.105307  0.099233 -0.388264   \n",
       "pctGradPlus                   -0.531119 -0.725833  0.845960   \n",
       "pctInLaborForce               -0.245193 -0.576897  0.677671   \n",
       "pctEmployed                   -0.502975 -0.217133  0.471912   \n",
       "pctUnemployed                  0.502975  0.217133 -0.471912   \n",
       "pctHasTech                    -0.345541 -0.709414  0.665961   \n",
       "pctNoTech                      0.345541  0.709414 -0.665961   \n",
       "pctSmartphone                 -0.079459 -0.767809  0.620782   \n",
       "pctNoSmartphone                0.079459  0.767809 -0.620782   \n",
       "Estimate_GiniIndex             0.091300 -0.190939  0.176874   \n",
       "MarginOfError_GiniIndex        0.291348  0.153568 -0.263496   \n",
       "avgIncome                     -0.525402 -0.714676  0.860153   \n",
       "\n",
       "                               pctSomeCollege1YrNoDegree  \\\n",
       "pctNoHs                                        -0.198253   \n",
       "pctHs                                           0.419146   \n",
       "pctBach                                        -0.456921   \n",
       "pctSomeCollege1YrNoDegree                       1.000000   \n",
       "pctSomeCollegeManyYrsNoDegree                   0.607048   \n",
       "pctGradPlus                                    -0.521287   \n",
       "pctInLaborForce                                -0.390142   \n",
       "pctEmployed                                     0.017666   \n",
       "pctUnemployed                                  -0.017666   \n",
       "pctHasTech                                     -0.060080   \n",
       "pctNoTech                                       0.060080   \n",
       "pctSmartphone                                  -0.236031   \n",
       "pctNoSmartphone                                 0.236031   \n",
       "Estimate_GiniIndex                             -0.468974   \n",
       "MarginOfError_GiniIndex                        -0.010577   \n",
       "avgIncome                                      -0.432199   \n",
       "\n",
       "                               pctSomeCollegeManyYrsNoDegree  pctGradPlus  \\\n",
       "pctNoHs                                             0.105307    -0.531119   \n",
       "pctHs                                               0.099233    -0.725833   \n",
       "pctBach                                            -0.388264     0.845960   \n",
       "pctSomeCollege1YrNoDegree                           0.607048    -0.521287   \n",
       "pctSomeCollegeManyYrsNoDegree                       1.000000    -0.526781   \n",
       "pctGradPlus                                        -0.526781     1.000000   \n",
       "pctInLaborForce                                    -0.292324     0.538701   \n",
       "pctEmployed                                        -0.300941     0.369490   \n",
       "pctUnemployed                                       0.300941    -0.369490   \n",
       "pctHasTech                                          0.022361     0.511530   \n",
       "pctNoTech                                          -0.022361    -0.511530   \n",
       "pctSmartphone                                       0.077350     0.442343   \n",
       "pctNoSmartphone                                    -0.077350    -0.442343   \n",
       "Estimate_GiniIndex                                 -0.251097     0.258362   \n",
       "MarginOfError_GiniIndex                             0.115139    -0.229895   \n",
       "avgIncome                                          -0.485254     0.881395   \n",
       "\n",
       "                               pctInLaborForce  pctEmployed  pctUnemployed  \\\n",
       "pctNoHs                              -0.245193    -0.502975       0.502975   \n",
       "pctHs                                -0.576897    -0.217133       0.217133   \n",
       "pctBach                               0.677671     0.471912      -0.471912   \n",
       "pctSomeCollege1YrNoDegree            -0.390142     0.017666      -0.017666   \n",
       "pctSomeCollegeManyYrsNoDegree        -0.292324    -0.300941       0.300941   \n",
       "pctGradPlus                           0.538701     0.369490      -0.369490   \n",
       "pctInLaborForce                       1.000000     0.451960      -0.451960   \n",
       "pctEmployed                           0.451960     1.000000      -1.000000   \n",
       "pctUnemployed                        -0.451960    -1.000000       1.000000   \n",
       "pctHasTech                            0.582327     0.432663      -0.432663   \n",
       "pctNoTech                            -0.582327    -0.432663       0.432663   \n",
       "pctSmartphone                         0.604844     0.263500      -0.263500   \n",
       "pctNoSmartphone                      -0.604844    -0.263500       0.263500   \n",
       "Estimate_GiniIndex                   -0.112872    -0.287001       0.287001   \n",
       "MarginOfError_GiniIndex              -0.203314    -0.311713       0.311713   \n",
       "avgIncome                             0.538522     0.444400      -0.444400   \n",
       "\n",
       "                               pctHasTech  pctNoTech  pctSmartphone  \\\n",
       "pctNoHs                         -0.345541   0.345541      -0.079459   \n",
       "pctHs                           -0.709414   0.709414      -0.767809   \n",
       "pctBach                          0.665961  -0.665961       0.620782   \n",
       "pctSomeCollege1YrNoDegree       -0.060080   0.060080      -0.236031   \n",
       "pctSomeCollegeManyYrsNoDegree    0.022361  -0.022361       0.077350   \n",
       "pctGradPlus                      0.511530  -0.511530       0.442343   \n",
       "pctInLaborForce                  0.582327  -0.582327       0.604844   \n",
       "pctEmployed                      0.432663  -0.432663       0.263500   \n",
       "pctUnemployed                   -0.432663   0.432663      -0.263500   \n",
       "pctHasTech                       1.000000  -1.000000       0.899346   \n",
       "pctNoTech                       -1.000000   1.000000      -0.899346   \n",
       "pctSmartphone                    0.899346  -0.899346       1.000000   \n",
       "pctNoSmartphone                 -0.899346   0.899346      -1.000000   \n",
       "Estimate_GiniIndex              -0.234855   0.234855      -0.097597   \n",
       "MarginOfError_GiniIndex         -0.163076   0.163076      -0.062808   \n",
       "avgIncome                        0.578956  -0.578956       0.486996   \n",
       "\n",
       "                               pctNoSmartphone  Estimate_GiniIndex  \\\n",
       "pctNoHs                               0.079459            0.091300   \n",
       "pctHs                                 0.767809           -0.190939   \n",
       "pctBach                              -0.620782            0.176874   \n",
       "pctSomeCollege1YrNoDegree             0.236031           -0.468974   \n",
       "pctSomeCollegeManyYrsNoDegree        -0.077350           -0.251097   \n",
       "pctGradPlus                          -0.442343            0.258362   \n",
       "pctInLaborForce                      -0.604844           -0.112872   \n",
       "pctEmployed                          -0.263500           -0.287001   \n",
       "pctUnemployed                         0.263500            0.287001   \n",
       "pctHasTech                           -0.899346           -0.234855   \n",
       "pctNoTech                             0.899346            0.234855   \n",
       "pctSmartphone                        -1.000000           -0.097597   \n",
       "pctNoSmartphone                       1.000000            0.097597   \n",
       "Estimate_GiniIndex                    0.097597            1.000000   \n",
       "MarginOfError_GiniIndex               0.062808            0.308439   \n",
       "avgIncome                            -0.486996            0.245679   \n",
       "\n",
       "                               MarginOfError_GiniIndex  avgIncome  \n",
       "pctNoHs                                       0.291348  -0.525402  \n",
       "pctHs                                         0.153568  -0.714676  \n",
       "pctBach                                      -0.263496   0.860153  \n",
       "pctSomeCollege1YrNoDegree                    -0.010577  -0.432199  \n",
       "pctSomeCollegeManyYrsNoDegree                 0.115139  -0.485254  \n",
       "pctGradPlus                                  -0.229895   0.881395  \n",
       "pctInLaborForce                              -0.203314   0.538522  \n",
       "pctEmployed                                  -0.311713   0.444400  \n",
       "pctUnemployed                                 0.311713  -0.444400  \n",
       "pctHasTech                                   -0.163076   0.578956  \n",
       "pctNoTech                                     0.163076  -0.578956  \n",
       "pctSmartphone                                -0.062808   0.486996  \n",
       "pctNoSmartphone                               0.062808  -0.486996  \n",
       "Estimate_GiniIndex                            0.308439   0.245679  \n",
       "MarginOfError_GiniIndex                       1.000000  -0.221991  \n",
       "avgIncome                                    -0.221991   1.000000  "
      ]
     },
     "execution_count": 44,
     "metadata": {},
     "output_type": "execute_result"
    }
   ],
   "source": [
    "mgd.corr()"
   ]
  },
  {
   "cell_type": "markdown",
   "metadata": {},
   "source": [
    "# Poverty"
   ]
  },
  {
   "cell_type": "code",
   "execution_count": 45,
   "metadata": {},
   "outputs": [
    {
     "data": {
      "application/vnd.jupyter.widget-view+json": {
       "model_id": "68b7f0c045ad461f996e298988e1d12c",
       "version_major": 2,
       "version_minor": 0
      },
      "text/plain": [
       "  0%|          | 0/1 [00:00<?, ?it/s]"
      ]
     },
     "metadata": {},
     "output_type": "display_data"
    },
    {
     "data": {
      "application/vnd.jupyter.widget-view+json": {
       "model_id": "e4263546de1f4299b8ace2ee9d270472",
       "version_major": 2,
       "version_minor": 0
      },
      "text/plain": [
       "|          | 0/? [00:00<?, ?it/s]"
      ]
     },
     "metadata": {},
     "output_type": "display_data"
    }
   ],
   "source": [
    "povertyVars = c.getVariablesByGroup(c.groups.PovertyStatusInThePast12MonthsByAge.code)\n",
    "filteredVars = [var['code'] for var in povertyVars.to_dict('records') if var['name'].startswith('Estimate')]\n",
    "povertyStats = c.getStats(filteredVars, *geoDomains)"
   ]
  },
  {
   "cell_type": "code",
   "execution_count": 46,
   "metadata": {},
   "outputs": [],
   "source": [
    "povertyPcts = povertyStats.loc[:,['NAME', 'state', 'congressional district']]\n",
    "\n",
    "povertyPcts['atOrAbove'] = (povertyStats.Estimate_Total_IncomeInThePast12MonthsAtOrAbovePovertyLevel /\n",
    "             povertyStats.Estimate_Total)\n",
    "\n",
    "povertyPcts['below'] = (povertyStats.Estimate_Total_IncomeInThePast12MonthsBelowPovertyLevel /\n",
    "                       povertyStats.Estimate_Total)"
   ]
  },
  {
   "cell_type": "code",
   "execution_count": 47,
   "metadata": {},
   "outputs": [
    {
     "data": {
      "text/html": [
       "<div>\n",
       "<style scoped>\n",
       "    .dataframe tbody tr th:only-of-type {\n",
       "        vertical-align: middle;\n",
       "    }\n",
       "\n",
       "    .dataframe tbody tr th {\n",
       "        vertical-align: top;\n",
       "    }\n",
       "\n",
       "    .dataframe thead th {\n",
       "        text-align: right;\n",
       "    }\n",
       "</style>\n",
       "<table border=\"1\" class=\"dataframe\">\n",
       "  <thead>\n",
       "    <tr style=\"text-align: right;\">\n",
       "      <th></th>\n",
       "      <th>atOrAbove</th>\n",
       "      <th>below</th>\n",
       "    </tr>\n",
       "  </thead>\n",
       "  <tbody>\n",
       "    <tr>\n",
       "      <th>count</th>\n",
       "      <td>437.000000</td>\n",
       "      <td>437.000000</td>\n",
       "    </tr>\n",
       "    <tr>\n",
       "      <th>mean</th>\n",
       "      <td>0.875172</td>\n",
       "      <td>0.124828</td>\n",
       "    </tr>\n",
       "    <tr>\n",
       "      <th>std</th>\n",
       "      <td>0.047464</td>\n",
       "      <td>0.047464</td>\n",
       "    </tr>\n",
       "    <tr>\n",
       "      <th>min</th>\n",
       "      <td>0.565290</td>\n",
       "      <td>0.034630</td>\n",
       "    </tr>\n",
       "    <tr>\n",
       "      <th>25%</th>\n",
       "      <td>0.852099</td>\n",
       "      <td>0.091802</td>\n",
       "    </tr>\n",
       "    <tr>\n",
       "      <th>50%</th>\n",
       "      <td>0.881482</td>\n",
       "      <td>0.118518</td>\n",
       "    </tr>\n",
       "    <tr>\n",
       "      <th>75%</th>\n",
       "      <td>0.908198</td>\n",
       "      <td>0.147901</td>\n",
       "    </tr>\n",
       "    <tr>\n",
       "      <th>max</th>\n",
       "      <td>0.965370</td>\n",
       "      <td>0.434710</td>\n",
       "    </tr>\n",
       "  </tbody>\n",
       "</table>\n",
       "</div>"
      ],
      "text/plain": [
       "        atOrAbove       below\n",
       "count  437.000000  437.000000\n",
       "mean     0.875172    0.124828\n",
       "std      0.047464    0.047464\n",
       "min      0.565290    0.034630\n",
       "25%      0.852099    0.091802\n",
       "50%      0.881482    0.118518\n",
       "75%      0.908198    0.147901\n",
       "max      0.965370    0.434710"
      ]
     },
     "execution_count": 47,
     "metadata": {},
     "output_type": "execute_result"
    }
   ],
   "source": [
    "povertyPcts.describe()"
   ]
  },
  {
   "cell_type": "code",
   "execution_count": 48,
   "metadata": {},
   "outputs": [],
   "source": [
    "geoCodes = c.getGeographyCodes(GeoDomain('state'))"
   ]
  },
  {
   "cell_type": "code",
   "execution_count": 49,
   "metadata": {},
   "outputs": [
    {
     "data": {
      "text/html": [
       "<div>\n",
       "<style scoped>\n",
       "    .dataframe tbody tr th:only-of-type {\n",
       "        vertical-align: middle;\n",
       "    }\n",
       "\n",
       "    .dataframe tbody tr th {\n",
       "        vertical-align: top;\n",
       "    }\n",
       "\n",
       "    .dataframe thead th {\n",
       "        text-align: right;\n",
       "    }\n",
       "</style>\n",
       "<table border=\"1\" class=\"dataframe\">\n",
       "  <thead>\n",
       "    <tr style=\"text-align: right;\">\n",
       "      <th></th>\n",
       "      <th>NAME</th>\n",
       "      <th>state</th>\n",
       "    </tr>\n",
       "  </thead>\n",
       "  <tbody>\n",
       "    <tr>\n",
       "      <th>32</th>\n",
       "      <td>New York</td>\n",
       "      <td>36</td>\n",
       "    </tr>\n",
       "  </tbody>\n",
       "</table>\n",
       "</div>"
      ],
      "text/plain": [
       "        NAME state\n",
       "32  New York    36"
      ]
     },
     "execution_count": 49,
     "metadata": {},
     "output_type": "execute_result"
    }
   ],
   "source": [
    "geoCodes[geoCodes['NAME'] == 'New York']"
   ]
  },
  {
   "cell_type": "code",
   "execution_count": 50,
   "metadata": {},
   "outputs": [],
   "source": [
    "congDistCodes = c.getGeographyCodes(GeoDomain('congressional district'),\n",
    "                                   GeoDomain('state', '36'))"
   ]
  },
  {
   "cell_type": "code",
   "execution_count": 51,
   "metadata": {},
   "outputs": [
    {
     "data": {
      "text/html": [
       "<div>\n",
       "<style scoped>\n",
       "    .dataframe tbody tr th:only-of-type {\n",
       "        vertical-align: middle;\n",
       "    }\n",
       "\n",
       "    .dataframe tbody tr th {\n",
       "        vertical-align: top;\n",
       "    }\n",
       "\n",
       "    .dataframe thead th {\n",
       "        text-align: right;\n",
       "    }\n",
       "</style>\n",
       "<table border=\"1\" class=\"dataframe\">\n",
       "  <thead>\n",
       "    <tr style=\"text-align: right;\">\n",
       "      <th></th>\n",
       "      <th>NAME</th>\n",
       "      <th>state</th>\n",
       "      <th>congressional district</th>\n",
       "      <th>atOrAbove</th>\n",
       "      <th>below</th>\n",
       "    </tr>\n",
       "  </thead>\n",
       "  <tbody>\n",
       "    <tr>\n",
       "      <th>220</th>\n",
       "      <td>Congressional District 14 (116th Congress), New York</td>\n",
       "      <td>36</td>\n",
       "      <td>14</td>\n",
       "      <td>0.871396</td>\n",
       "      <td>0.128604</td>\n",
       "    </tr>\n",
       "  </tbody>\n",
       "</table>\n",
       "</div>"
      ],
      "text/plain": [
       "                                                     NAME state  \\\n",
       "220  Congressional District 14 (116th Congress), New York    36   \n",
       "\n",
       "    congressional district  atOrAbove     below  \n",
       "220                     14   0.871396  0.128604  "
      ]
     },
     "execution_count": 51,
     "metadata": {},
     "output_type": "execute_result"
    }
   ],
   "source": [
    "povertyPcts[(povertyPcts.state == '36') & (povertyPcts['congressional district'] == '14')]"
   ]
  },
  {
   "cell_type": "code",
   "execution_count": 52,
   "metadata": {},
   "outputs": [
    {
     "data": {
      "application/vnd.jupyter.widget-view+json": {
       "model_id": "c612490e0a954ae9a100f2db99ebad24",
       "version_major": 2,
       "version_minor": 0
      },
      "text/plain": [
       "  0%|          | 0/1 [00:00<?, ?it/s]"
      ]
     },
     "metadata": {},
     "output_type": "display_data"
    },
    {
     "data": {
      "application/vnd.jupyter.widget-view+json": {
       "model_id": "cc72214a5344423b97026fae02d23059",
       "version_major": 2,
       "version_minor": 0
      },
      "text/plain": [
       "|          | 0/? [00:00<?, ?it/s]"
      ]
     },
     "metadata": {},
     "output_type": "display_data"
    }
   ],
   "source": [
    "blackPovVars = c.getVariablesByGroup(c.groups.PovertyStatusInThePast12MonthsByAgeBlackOrAfricanAmericanAlone.code)\n",
    "blackPovStats = c.getStats(blackPovVars['code'].tolist(), *geoDomains)"
   ]
  },
  {
   "cell_type": "code",
   "execution_count": 53,
   "metadata": {},
   "outputs": [
    {
     "data": {
      "text/html": [
       "<div>\n",
       "<style scoped>\n",
       "    .dataframe tbody tr th:only-of-type {\n",
       "        vertical-align: middle;\n",
       "    }\n",
       "\n",
       "    .dataframe tbody tr th {\n",
       "        vertical-align: top;\n",
       "    }\n",
       "\n",
       "    .dataframe thead th {\n",
       "        text-align: right;\n",
       "    }\n",
       "</style>\n",
       "<table border=\"1\" class=\"dataframe\">\n",
       "  <thead>\n",
       "    <tr style=\"text-align: right;\">\n",
       "      <th></th>\n",
       "      <th>NAME</th>\n",
       "      <th>congressional district</th>\n",
       "      <th>state</th>\n",
       "      <th>Estimate_Total</th>\n",
       "      <th>AnnotationOfEstimate_Total</th>\n",
       "      <th>MarginOfError_Total</th>\n",
       "      <th>AnnotationOfMarginOfError_Total</th>\n",
       "      <th>Estimate_Total_IncomeInThePast12MonthsBelowPovertyLevel</th>\n",
       "      <th>AnnotationOfEstimate_Total_IncomeInThePast12MonthsBelowPovertyLevel</th>\n",
       "      <th>MarginOfError_Total_IncomeInThePast12MonthsBelowPovertyLevel</th>\n",
       "      <th>...</th>\n",
       "      <th>MarginOfError_Total_IncomeInThePast12MonthsAtOrAbovePovertyLevel_60To74Years</th>\n",
       "      <th>AnnotationOfMarginOfError_Total_IncomeInThePast12MonthsAtOrAbovePovertyLevel_60To74Years</th>\n",
       "      <th>Estimate_Total_IncomeInThePast12MonthsAtOrAbovePovertyLevel_75To84Years</th>\n",
       "      <th>AnnotationOfEstimate_Total_IncomeInThePast12MonthsAtOrAbovePovertyLevel_75To84Years</th>\n",
       "      <th>MarginOfError_Total_IncomeInThePast12MonthsAtOrAbovePovertyLevel_75To84Years</th>\n",
       "      <th>AnnotationOfMarginOfError_Total_IncomeInThePast12MonthsAtOrAbovePovertyLevel_75To84Years</th>\n",
       "      <th>Estimate_Total_IncomeInThePast12MonthsAtOrAbovePovertyLevel_85YearsAndOver</th>\n",
       "      <th>AnnotationOfEstimate_Total_IncomeInThePast12MonthsAtOrAbovePovertyLevel_85YearsAndOver</th>\n",
       "      <th>MarginOfError_Total_IncomeInThePast12MonthsAtOrAbovePovertyLevel_85YearsAndOver</th>\n",
       "      <th>AnnotationOfMarginOfError_Total_IncomeInThePast12MonthsAtOrAbovePovertyLevel_85YearsAndOver</th>\n",
       "    </tr>\n",
       "  </thead>\n",
       "  <tbody>\n",
       "    <tr>\n",
       "      <th>0</th>\n",
       "      <td>Congressional District 3 (116th Congress), California</td>\n",
       "      <td>03</td>\n",
       "      <td>06</td>\n",
       "      <td>42544.0</td>\n",
       "      <td>None</td>\n",
       "      <td>4899.0</td>\n",
       "      <td>None</td>\n",
       "      <td>6292.0</td>\n",
       "      <td>None</td>\n",
       "      <td>2221.0</td>\n",
       "      <td>...</td>\n",
       "      <td>1177.0</td>\n",
       "      <td>None</td>\n",
       "      <td>1885.0</td>\n",
       "      <td>None</td>\n",
       "      <td>702.0</td>\n",
       "      <td>None</td>\n",
       "      <td>935.0</td>\n",
       "      <td>None</td>\n",
       "      <td>588.0</td>\n",
       "      <td>None</td>\n",
       "    </tr>\n",
       "    <tr>\n",
       "      <th>1</th>\n",
       "      <td>Congressional District 21 (116th Congress), California</td>\n",
       "      <td>21</td>\n",
       "      <td>06</td>\n",
       "      <td>14416.0</td>\n",
       "      <td>None</td>\n",
       "      <td>2649.0</td>\n",
       "      <td>None</td>\n",
       "      <td>4694.0</td>\n",
       "      <td>None</td>\n",
       "      <td>1763.0</td>\n",
       "      <td>...</td>\n",
       "      <td>572.0</td>\n",
       "      <td>None</td>\n",
       "      <td>259.0</td>\n",
       "      <td>None</td>\n",
       "      <td>239.0</td>\n",
       "      <td>None</td>\n",
       "      <td>94.0</td>\n",
       "      <td>None</td>\n",
       "      <td>145.0</td>\n",
       "      <td>None</td>\n",
       "    </tr>\n",
       "    <tr>\n",
       "      <th>2</th>\n",
       "      <td>Congressional District 48 (116th Congress), California</td>\n",
       "      <td>48</td>\n",
       "      <td>06</td>\n",
       "      <td>NaN</td>\n",
       "      <td>None</td>\n",
       "      <td>NaN</td>\n",
       "      <td>None</td>\n",
       "      <td>NaN</td>\n",
       "      <td>None</td>\n",
       "      <td>NaN</td>\n",
       "      <td>...</td>\n",
       "      <td>NaN</td>\n",
       "      <td>None</td>\n",
       "      <td>NaN</td>\n",
       "      <td>None</td>\n",
       "      <td>NaN</td>\n",
       "      <td>None</td>\n",
       "      <td>NaN</td>\n",
       "      <td>None</td>\n",
       "      <td>NaN</td>\n",
       "      <td>None</td>\n",
       "    </tr>\n",
       "    <tr>\n",
       "      <th>3</th>\n",
       "      <td>Congressional District 10 (116th Congress), California</td>\n",
       "      <td>10</td>\n",
       "      <td>06</td>\n",
       "      <td>25979.0</td>\n",
       "      <td>None</td>\n",
       "      <td>3741.0</td>\n",
       "      <td>None</td>\n",
       "      <td>5378.0</td>\n",
       "      <td>None</td>\n",
       "      <td>2563.0</td>\n",
       "      <td>...</td>\n",
       "      <td>874.0</td>\n",
       "      <td>None</td>\n",
       "      <td>847.0</td>\n",
       "      <td>None</td>\n",
       "      <td>531.0</td>\n",
       "      <td>None</td>\n",
       "      <td>152.0</td>\n",
       "      <td>None</td>\n",
       "      <td>215.0</td>\n",
       "      <td>None</td>\n",
       "    </tr>\n",
       "    <tr>\n",
       "      <th>4</th>\n",
       "      <td>Congressional District 34 (116th Congress), California</td>\n",
       "      <td>34</td>\n",
       "      <td>06</td>\n",
       "      <td>32134.0</td>\n",
       "      <td>None</td>\n",
       "      <td>3785.0</td>\n",
       "      <td>None</td>\n",
       "      <td>11748.0</td>\n",
       "      <td>None</td>\n",
       "      <td>2728.0</td>\n",
       "      <td>...</td>\n",
       "      <td>732.0</td>\n",
       "      <td>None</td>\n",
       "      <td>1107.0</td>\n",
       "      <td>None</td>\n",
       "      <td>476.0</td>\n",
       "      <td>None</td>\n",
       "      <td>0.0</td>\n",
       "      <td>None</td>\n",
       "      <td>216.0</td>\n",
       "      <td>None</td>\n",
       "    </tr>\n",
       "    <tr>\n",
       "      <th>...</th>\n",
       "      <td>...</td>\n",
       "      <td>...</td>\n",
       "      <td>...</td>\n",
       "      <td>...</td>\n",
       "      <td>...</td>\n",
       "      <td>...</td>\n",
       "      <td>...</td>\n",
       "      <td>...</td>\n",
       "      <td>...</td>\n",
       "      <td>...</td>\n",
       "      <td>...</td>\n",
       "      <td>...</td>\n",
       "      <td>...</td>\n",
       "      <td>...</td>\n",
       "      <td>...</td>\n",
       "      <td>...</td>\n",
       "      <td>...</td>\n",
       "      <td>...</td>\n",
       "      <td>...</td>\n",
       "      <td>...</td>\n",
       "      <td>...</td>\n",
       "    </tr>\n",
       "    <tr>\n",
       "      <th>432</th>\n",
       "      <td>Congressional District 1 (116th Congress), New York</td>\n",
       "      <td>01</td>\n",
       "      <td>36</td>\n",
       "      <td>34458.0</td>\n",
       "      <td>None</td>\n",
       "      <td>5398.0</td>\n",
       "      <td>None</td>\n",
       "      <td>2495.0</td>\n",
       "      <td>None</td>\n",
       "      <td>1148.0</td>\n",
       "      <td>...</td>\n",
       "      <td>1178.0</td>\n",
       "      <td>None</td>\n",
       "      <td>432.0</td>\n",
       "      <td>None</td>\n",
       "      <td>286.0</td>\n",
       "      <td>None</td>\n",
       "      <td>236.0</td>\n",
       "      <td>None</td>\n",
       "      <td>286.0</td>\n",
       "      <td>None</td>\n",
       "    </tr>\n",
       "    <tr>\n",
       "      <th>433</th>\n",
       "      <td>Congressional District 7 (116th Congress), New York</td>\n",
       "      <td>07</td>\n",
       "      <td>36</td>\n",
       "      <td>79466.0</td>\n",
       "      <td>None</td>\n",
       "      <td>7731.0</td>\n",
       "      <td>None</td>\n",
       "      <td>22223.0</td>\n",
       "      <td>None</td>\n",
       "      <td>4296.0</td>\n",
       "      <td>...</td>\n",
       "      <td>1805.0</td>\n",
       "      <td>None</td>\n",
       "      <td>2747.0</td>\n",
       "      <td>None</td>\n",
       "      <td>1287.0</td>\n",
       "      <td>None</td>\n",
       "      <td>805.0</td>\n",
       "      <td>None</td>\n",
       "      <td>498.0</td>\n",
       "      <td>None</td>\n",
       "    </tr>\n",
       "    <tr>\n",
       "      <th>434</th>\n",
       "      <td>Congressional District 17 (116th Congress), New York</td>\n",
       "      <td>17</td>\n",
       "      <td>36</td>\n",
       "      <td>79222.0</td>\n",
       "      <td>None</td>\n",
       "      <td>6987.0</td>\n",
       "      <td>None</td>\n",
       "      <td>7129.0</td>\n",
       "      <td>None</td>\n",
       "      <td>2305.0</td>\n",
       "      <td>...</td>\n",
       "      <td>1817.0</td>\n",
       "      <td>None</td>\n",
       "      <td>2076.0</td>\n",
       "      <td>None</td>\n",
       "      <td>787.0</td>\n",
       "      <td>None</td>\n",
       "      <td>643.0</td>\n",
       "      <td>None</td>\n",
       "      <td>326.0</td>\n",
       "      <td>None</td>\n",
       "    </tr>\n",
       "    <tr>\n",
       "      <th>435</th>\n",
       "      <td>Congressional District 6 (116th Congress), New York</td>\n",
       "      <td>06</td>\n",
       "      <td>36</td>\n",
       "      <td>37128.0</td>\n",
       "      <td>None</td>\n",
       "      <td>6771.0</td>\n",
       "      <td>None</td>\n",
       "      <td>2760.0</td>\n",
       "      <td>None</td>\n",
       "      <td>1229.0</td>\n",
       "      <td>...</td>\n",
       "      <td>869.0</td>\n",
       "      <td>None</td>\n",
       "      <td>813.0</td>\n",
       "      <td>None</td>\n",
       "      <td>451.0</td>\n",
       "      <td>None</td>\n",
       "      <td>364.0</td>\n",
       "      <td>None</td>\n",
       "      <td>293.0</td>\n",
       "      <td>None</td>\n",
       "    </tr>\n",
       "    <tr>\n",
       "      <th>436</th>\n",
       "      <td>Congressional District 5 (116th Congress), New York</td>\n",
       "      <td>05</td>\n",
       "      <td>36</td>\n",
       "      <td>365429.0</td>\n",
       "      <td>None</td>\n",
       "      <td>9802.0</td>\n",
       "      <td>None</td>\n",
       "      <td>31554.0</td>\n",
       "      <td>None</td>\n",
       "      <td>5064.0</td>\n",
       "      <td>...</td>\n",
       "      <td>2390.0</td>\n",
       "      <td>None</td>\n",
       "      <td>16273.0</td>\n",
       "      <td>None</td>\n",
       "      <td>1626.0</td>\n",
       "      <td>None</td>\n",
       "      <td>6997.0</td>\n",
       "      <td>None</td>\n",
       "      <td>1333.0</td>\n",
       "      <td>None</td>\n",
       "    </tr>\n",
       "  </tbody>\n",
       "</table>\n",
       "<p>437 rows × 71 columns</p>\n",
       "</div>"
      ],
      "text/plain": [
       "                                                       NAME  \\\n",
       "0     Congressional District 3 (116th Congress), California   \n",
       "1    Congressional District 21 (116th Congress), California   \n",
       "2    Congressional District 48 (116th Congress), California   \n",
       "3    Congressional District 10 (116th Congress), California   \n",
       "4    Congressional District 34 (116th Congress), California   \n",
       "..                                                      ...   \n",
       "432     Congressional District 1 (116th Congress), New York   \n",
       "433     Congressional District 7 (116th Congress), New York   \n",
       "434    Congressional District 17 (116th Congress), New York   \n",
       "435     Congressional District 6 (116th Congress), New York   \n",
       "436     Congressional District 5 (116th Congress), New York   \n",
       "\n",
       "    congressional district state  Estimate_Total AnnotationOfEstimate_Total  \\\n",
       "0                       03    06         42544.0                       None   \n",
       "1                       21    06         14416.0                       None   \n",
       "2                       48    06             NaN                       None   \n",
       "3                       10    06         25979.0                       None   \n",
       "4                       34    06         32134.0                       None   \n",
       "..                     ...   ...             ...                        ...   \n",
       "432                     01    36         34458.0                       None   \n",
       "433                     07    36         79466.0                       None   \n",
       "434                     17    36         79222.0                       None   \n",
       "435                     06    36         37128.0                       None   \n",
       "436                     05    36        365429.0                       None   \n",
       "\n",
       "     MarginOfError_Total AnnotationOfMarginOfError_Total  \\\n",
       "0                 4899.0                            None   \n",
       "1                 2649.0                            None   \n",
       "2                    NaN                            None   \n",
       "3                 3741.0                            None   \n",
       "4                 3785.0                            None   \n",
       "..                   ...                             ...   \n",
       "432               5398.0                            None   \n",
       "433               7731.0                            None   \n",
       "434               6987.0                            None   \n",
       "435               6771.0                            None   \n",
       "436               9802.0                            None   \n",
       "\n",
       "     Estimate_Total_IncomeInThePast12MonthsBelowPovertyLevel  \\\n",
       "0                                                     6292.0   \n",
       "1                                                     4694.0   \n",
       "2                                                        NaN   \n",
       "3                                                     5378.0   \n",
       "4                                                    11748.0   \n",
       "..                                                       ...   \n",
       "432                                                   2495.0   \n",
       "433                                                  22223.0   \n",
       "434                                                   7129.0   \n",
       "435                                                   2760.0   \n",
       "436                                                  31554.0   \n",
       "\n",
       "    AnnotationOfEstimate_Total_IncomeInThePast12MonthsBelowPovertyLevel  \\\n",
       "0                                                                  None   \n",
       "1                                                                  None   \n",
       "2                                                                  None   \n",
       "3                                                                  None   \n",
       "4                                                                  None   \n",
       "..                                                                  ...   \n",
       "432                                                                None   \n",
       "433                                                                None   \n",
       "434                                                                None   \n",
       "435                                                                None   \n",
       "436                                                                None   \n",
       "\n",
       "     MarginOfError_Total_IncomeInThePast12MonthsBelowPovertyLevel  ...  \\\n",
       "0                                                          2221.0  ...   \n",
       "1                                                          1763.0  ...   \n",
       "2                                                             NaN  ...   \n",
       "3                                                          2563.0  ...   \n",
       "4                                                          2728.0  ...   \n",
       "..                                                            ...  ...   \n",
       "432                                                        1148.0  ...   \n",
       "433                                                        4296.0  ...   \n",
       "434                                                        2305.0  ...   \n",
       "435                                                        1229.0  ...   \n",
       "436                                                        5064.0  ...   \n",
       "\n",
       "    MarginOfError_Total_IncomeInThePast12MonthsAtOrAbovePovertyLevel_60To74Years  \\\n",
       "0                                                                         1177.0   \n",
       "1                                                                          572.0   \n",
       "2                                                                            NaN   \n",
       "3                                                                          874.0   \n",
       "4                                                                          732.0   \n",
       "..                                                                           ...   \n",
       "432                                                                       1178.0   \n",
       "433                                                                       1805.0   \n",
       "434                                                                       1817.0   \n",
       "435                                                                        869.0   \n",
       "436                                                                       2390.0   \n",
       "\n",
       "     AnnotationOfMarginOfError_Total_IncomeInThePast12MonthsAtOrAbovePovertyLevel_60To74Years  \\\n",
       "0                                                                                        None   \n",
       "1                                                                                        None   \n",
       "2                                                                                        None   \n",
       "3                                                                                        None   \n",
       "4                                                                                        None   \n",
       "..                                                                                        ...   \n",
       "432                                                                                      None   \n",
       "433                                                                                      None   \n",
       "434                                                                                      None   \n",
       "435                                                                                      None   \n",
       "436                                                                                      None   \n",
       "\n",
       "    Estimate_Total_IncomeInThePast12MonthsAtOrAbovePovertyLevel_75To84Years  \\\n",
       "0                                                                    1885.0   \n",
       "1                                                                     259.0   \n",
       "2                                                                       NaN   \n",
       "3                                                                     847.0   \n",
       "4                                                                    1107.0   \n",
       "..                                                                      ...   \n",
       "432                                                                   432.0   \n",
       "433                                                                  2747.0   \n",
       "434                                                                  2076.0   \n",
       "435                                                                   813.0   \n",
       "436                                                                 16273.0   \n",
       "\n",
       "     AnnotationOfEstimate_Total_IncomeInThePast12MonthsAtOrAbovePovertyLevel_75To84Years  \\\n",
       "0                                                                                   None   \n",
       "1                                                                                   None   \n",
       "2                                                                                   None   \n",
       "3                                                                                   None   \n",
       "4                                                                                   None   \n",
       "..                                                                                   ...   \n",
       "432                                                                                 None   \n",
       "433                                                                                 None   \n",
       "434                                                                                 None   \n",
       "435                                                                                 None   \n",
       "436                                                                                 None   \n",
       "\n",
       "    MarginOfError_Total_IncomeInThePast12MonthsAtOrAbovePovertyLevel_75To84Years  \\\n",
       "0                                                                          702.0   \n",
       "1                                                                          239.0   \n",
       "2                                                                            NaN   \n",
       "3                                                                          531.0   \n",
       "4                                                                          476.0   \n",
       "..                                                                           ...   \n",
       "432                                                                        286.0   \n",
       "433                                                                       1287.0   \n",
       "434                                                                        787.0   \n",
       "435                                                                        451.0   \n",
       "436                                                                       1626.0   \n",
       "\n",
       "     AnnotationOfMarginOfError_Total_IncomeInThePast12MonthsAtOrAbovePovertyLevel_75To84Years  \\\n",
       "0                                                                                        None   \n",
       "1                                                                                        None   \n",
       "2                                                                                        None   \n",
       "3                                                                                        None   \n",
       "4                                                                                        None   \n",
       "..                                                                                        ...   \n",
       "432                                                                                      None   \n",
       "433                                                                                      None   \n",
       "434                                                                                      None   \n",
       "435                                                                                      None   \n",
       "436                                                                                      None   \n",
       "\n",
       "    Estimate_Total_IncomeInThePast12MonthsAtOrAbovePovertyLevel_85YearsAndOver  \\\n",
       "0                                                                        935.0   \n",
       "1                                                                         94.0   \n",
       "2                                                                          NaN   \n",
       "3                                                                        152.0   \n",
       "4                                                                          0.0   \n",
       "..                                                                         ...   \n",
       "432                                                                      236.0   \n",
       "433                                                                      805.0   \n",
       "434                                                                      643.0   \n",
       "435                                                                      364.0   \n",
       "436                                                                     6997.0   \n",
       "\n",
       "     AnnotationOfEstimate_Total_IncomeInThePast12MonthsAtOrAbovePovertyLevel_85YearsAndOver  \\\n",
       "0                                                                                      None   \n",
       "1                                                                                      None   \n",
       "2                                                                                      None   \n",
       "3                                                                                      None   \n",
       "4                                                                                      None   \n",
       "..                                                                                      ...   \n",
       "432                                                                                    None   \n",
       "433                                                                                    None   \n",
       "434                                                                                    None   \n",
       "435                                                                                    None   \n",
       "436                                                                                    None   \n",
       "\n",
       "    MarginOfError_Total_IncomeInThePast12MonthsAtOrAbovePovertyLevel_85YearsAndOver  \\\n",
       "0                                                                             588.0   \n",
       "1                                                                             145.0   \n",
       "2                                                                               NaN   \n",
       "3                                                                             215.0   \n",
       "4                                                                             216.0   \n",
       "..                                                                              ...   \n",
       "432                                                                           286.0   \n",
       "433                                                                           498.0   \n",
       "434                                                                           326.0   \n",
       "435                                                                           293.0   \n",
       "436                                                                          1333.0   \n",
       "\n",
       "     AnnotationOfMarginOfError_Total_IncomeInThePast12MonthsAtOrAbovePovertyLevel_85YearsAndOver  \n",
       "0                                                                                           None  \n",
       "1                                                                                           None  \n",
       "2                                                                                           None  \n",
       "3                                                                                           None  \n",
       "4                                                                                           None  \n",
       "..                                                                                           ...  \n",
       "432                                                                                         None  \n",
       "433                                                                                         None  \n",
       "434                                                                                         None  \n",
       "435                                                                                         None  \n",
       "436                                                                                         None  \n",
       "\n",
       "[437 rows x 71 columns]"
      ]
     },
     "execution_count": 53,
     "metadata": {},
     "output_type": "execute_result"
    }
   ],
   "source": [
    "blackPovStats"
   ]
  },
  {
   "cell_type": "code",
   "execution_count": null,
   "metadata": {},
   "outputs": [],
   "source": []
  }
 ],
 "metadata": {
  "kernelspec": {
   "display_name": "Python 3.9.1 64-bit ('.venv')",
   "language": "python",
   "name": "python39164bitvenv24530a99c8a64e648fbc291cfc88a7f8"
  },
  "language_info": {
   "codemirror_mode": {
    "name": "ipython",
    "version": 3
   },
   "file_extension": ".py",
   "mimetype": "text/x-python",
   "name": "python",
   "nbconvert_exporter": "python",
   "pygments_lexer": "ipython3",
   "version": "3.9.1"
  }
 },
 "nbformat": 4,
 "nbformat_minor": 4
}
