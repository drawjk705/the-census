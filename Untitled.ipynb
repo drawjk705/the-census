{
 "cells": [
  {
   "cell_type": "code",
   "execution_count": 1,
   "metadata": {},
   "outputs": [],
   "source": [
    "%config Completer.use_jedi = False"
   ]
  },
  {
   "cell_type": "code",
   "execution_count": 1,
   "metadata": {},
   "outputs": [
    {
     "name": "stdout",
     "output_type": "stream",
     "text": [
      "     year                                               name  \\\n",
      "0    2020    2020 Planning Database - State and County Level   \n",
      "1    2020     Decennial Census: Decennial Self-Response Rate   \n",
      "2    2020                Planning Database Block Group Level   \n",
      "3    2020                     Planning Database: Tract Level   \n",
      "4    2019  American Community Survey: 1-Year Estimates: C...   \n",
      "..    ...                                                ...   \n",
      "476  1990  1990 Population Estimates - 1990-2000 Intercen...   \n",
      "477  1989   1989 County Business Patterns: Business Patterns   \n",
      "478  1988   1988 County Business Patterns: Business Patterns   \n",
      "479  1987   1987 County Business Patterns: Business Patterns   \n",
      "480  1986   1986 County Business Patterns: Business Patterns   \n",
      "\n",
      "                                           description datasetType  \\\n",
      "0    This is a one-time release of the Census Burea...         pdb   \n",
      "1                  Daily Decennial Self-Response Rates         dec   \n",
      "2    The PDB is a database of U.S. housing, demogra...         pdb   \n",
      "3    The PDB is a database of U.S. housing, demogra...         pdb   \n",
      "4    The American Community Survey (ACS) is an ongo...         acs   \n",
      "..                                                 ...         ...   \n",
      "476  Monthly Intercensal Estimates of the Resident ...         pep   \n",
      "477  County Business Patterns (CBP) is an annual se...         cbp   \n",
      "478  County Business Patterns (CBP) is an annual se...         cbp   \n",
      "479  County Business Patterns (CBP) is an annual se...         cbp   \n",
      "480  County Business Patterns (CBP) is an annual se...         cbp   \n",
      "\n",
      "        surveyType  \n",
      "0      statecounty  \n",
      "1     responserate  \n",
      "2       blockgroup  \n",
      "3            tract  \n",
      "4    acs1/cprofile  \n",
      "..             ...  \n",
      "476  int_natresafo  \n",
      "477                 \n",
      "478                 \n",
      "479                 \n",
      "480                 \n",
      "\n",
      "[481 rows x 5 columns]\n"
     ]
    }
   ],
   "source": [
    "from census import getCensus"
   ]
  },
  {
   "cell_type": "code",
   "execution_count": null,
   "metadata": {},
   "outputs": [],
   "source": []
  }
 ],
 "metadata": {
  "kernelspec": {
   "display_name": "Python 3.9.1 64-bit ('.venv')",
   "language": "python",
   "name": "python39164bitvenv24530a99c8a64e648fbc291cfc88a7f8"
  },
  "language_info": {
   "codemirror_mode": {
    "name": "ipython",
    "version": 3
   },
   "file_extension": ".py",
   "mimetype": "text/x-python",
   "name": "python",
   "nbconvert_exporter": "python",
   "pygments_lexer": "ipython3",
   "version": "3.9.1"
  }
 },
 "nbformat": 4,
 "nbformat_minor": 4
}
