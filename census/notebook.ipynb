{
 "cells": [
  {
   "cell_type": "code",
   "execution_count": 1,
   "metadata": {},
   "outputs": [],
   "source": [
    "%config Completer.use_jedi = False"
   ]
  },
  {
   "cell_type": "code",
   "execution_count": 2,
   "metadata": {},
   "outputs": [],
   "source": [
    "from census.getCensus import getCensus"
   ]
  },
  {
   "cell_type": "code",
   "execution_count": 3,
   "metadata": {},
   "outputs": [],
   "source": [
    "c = getCensus(2019, shouldCacheOnDisk=True, shouldLoadFromExistingCache=True)"
   ]
  },
  {
   "cell_type": "code",
   "execution_count": 4,
   "metadata": {},
   "outputs": [],
   "source": [
    "groups = c.getGroups()"
   ]
  },
  {
   "cell_type": "code",
   "execution_count": 5,
   "metadata": {},
   "outputs": [],
   "source": [
    "educGroups = c.searchGroups(\"education\")"
   ]
  },
  {
   "cell_type": "code",
   "execution_count": 6,
   "metadata": {},
   "outputs": [
    {
     "data": {
      "text/html": [
       "<div>\n",
       "<style scoped>\n",
       "    .dataframe tbody tr th:only-of-type {\n",
       "        vertical-align: middle;\n",
       "    }\n",
       "\n",
       "    .dataframe tbody tr th {\n",
       "        vertical-align: top;\n",
       "    }\n",
       "\n",
       "    .dataframe thead th {\n",
       "        text-align: right;\n",
       "    }\n",
       "</style>\n",
       "<table border=\"1\" class=\"dataframe\">\n",
       "  <thead>\n",
       "    <tr style=\"text-align: right;\">\n",
       "      <th></th>\n",
       "      <th>code</th>\n",
       "      <th>description</th>\n",
       "    </tr>\n",
       "  </thead>\n",
       "  <tbody>\n",
       "    <tr>\n",
       "      <th>0</th>\n",
       "      <td>B28001</td>\n",
       "      <td>TYPES OF COMPUTERS IN HOUSEHOLD</td>\n",
       "    </tr>\n",
       "    <tr>\n",
       "      <th>1</th>\n",
       "      <td>B28003</td>\n",
       "      <td>PRESENCE OF A COMPUTER AND TYPE OF INTERNET SUBSCRIPTION IN HOUSEHOLD</td>\n",
       "    </tr>\n",
       "    <tr>\n",
       "      <th>2</th>\n",
       "      <td>B28005</td>\n",
       "      <td>AGE BY PRESENCE OF A COMPUTER AND TYPES OF INTERNET SUBSCRIPTION IN HOUSEHOLD</td>\n",
       "    </tr>\n",
       "    <tr>\n",
       "      <th>3</th>\n",
       "      <td>B28006</td>\n",
       "      <td>EDUCATIONAL ATTAINMENT BY PRESENCE OF A COMPUTER AND TYPES OF INTERNET SUBSCRIPTION IN HOUSEHOLD</td>\n",
       "    </tr>\n",
       "    <tr>\n",
       "      <th>4</th>\n",
       "      <td>B28007</td>\n",
       "      <td>LABOR FORCE STATUS BY PRESENCE OF A COMPUTER AND TYPES OF INTERNET SUBSCRIPTION IN HOUSEHOLD</td>\n",
       "    </tr>\n",
       "  </tbody>\n",
       "</table>\n",
       "</div>"
      ],
      "text/plain": [
       "     code  \\\n",
       "0  B28001   \n",
       "1  B28003   \n",
       "2  B28005   \n",
       "3  B28006   \n",
       "4  B28007   \n",
       "\n",
       "                                                                                        description  \n",
       "0                                                                   TYPES OF COMPUTERS IN HOUSEHOLD  \n",
       "1                             PRESENCE OF A COMPUTER AND TYPE OF INTERNET SUBSCRIPTION IN HOUSEHOLD  \n",
       "2                     AGE BY PRESENCE OF A COMPUTER AND TYPES OF INTERNET SUBSCRIPTION IN HOUSEHOLD  \n",
       "3  EDUCATIONAL ATTAINMENT BY PRESENCE OF A COMPUTER AND TYPES OF INTERNET SUBSCRIPTION IN HOUSEHOLD  \n",
       "4      LABOR FORCE STATUS BY PRESENCE OF A COMPUTER AND TYPES OF INTERNET SUBSCRIPTION IN HOUSEHOLD  "
      ]
     },
     "execution_count": 6,
     "metadata": {},
     "output_type": "execute_result"
    }
   ],
   "source": [
    "c.searchGroups(\"computer\").head()"
   ]
  },
  {
   "cell_type": "code",
   "execution_count": 7,
   "metadata": {},
   "outputs": [],
   "source": [
    "# B16010    EDUCATIONAL ATTAINMENT AND EMPLOYMENT STATUS BY LANGUAGE SPOKEN AT HOME FOR THE POPULATION 25 YEARS AND OVER\n",
    "# C15003\tEDUCATIONAL ATTAINMENT FOR THE POPULATION 25 YEARS AND OVER\n",
    "# B28010\tCOMPUTERS IN HOUSEHOLD\n",
    "# B28003\tPRESENCE OF A COMPUTER AND TYPE OF INTERNET SUBSCRIPTION IN\n",
    "# B28006\tEDUCATIONAL ATTAINMENT BY PRESENCE OF A COMPUTER AND TYPES OF INTERNET SUBSCRIPTION IN HOUSEHOLD\n",
    "# B23025\tEMPLOYMENT STATUS FOR THE POPULATION 16 YEARS AND OVER\n",
    "# B27011\tHEALTH INSURANCE COVERAGE STATUS AND TYPE BY EMPLOYMENT STATUS"
   ]
  },
  {
   "cell_type": "code",
   "execution_count": 8,
   "metadata": {},
   "outputs": [],
   "source": [
    "from census.variables.models import GroupCode"
   ]
  },
  {
   "cell_type": "code",
   "execution_count": 9,
   "metadata": {},
   "outputs": [
    {
     "data": {
      "application/vnd.jupyter.widget-view+json": {
       "model_id": "b5262ccd20f64d2a9bc273b33fe9c509",
       "version_major": 2,
       "version_minor": 0
      },
      "text/plain": [
       "  0%|          | 0/6 [00:00<?, ?it/s]"
      ]
     },
     "metadata": {},
     "output_type": "display_data"
    }
   ],
   "source": [
    "variables = c.getVariablesByGroup([\n",
    "    'C15003',\n",
    "    'B28010',\n",
    "    'B28003',\n",
    "    'B28006',\n",
    "    'B23025',\n",
    "    'B27011',\n",
    "])"
   ]
  },
  {
   "cell_type": "code",
   "execution_count": 10,
   "metadata": {},
   "outputs": [],
   "source": [
    "filteredVars = variables[variables['name'].str.contains('^estimate!!', case=False)]"
   ]
  },
  {
   "cell_type": "code",
   "execution_count": 11,
   "metadata": {},
   "outputs": [],
   "source": [
    "varCodes = filteredVars['code'].tolist()"
   ]
  },
  {
   "cell_type": "code",
   "execution_count": 12,
   "metadata": {},
   "outputs": [],
   "source": [
    "from census.models import GeoDomain"
   ]
  },
  {
   "cell_type": "code",
   "execution_count": 13,
   "metadata": {},
   "outputs": [],
   "source": [
    "from census.utils.chunk import chunk\n",
    "import pandas as pd"
   ]
  },
  {
   "cell_type": "code",
   "execution_count": 14,
   "metadata": {},
   "outputs": [
    {
     "data": {
      "text/plain": [
       "74"
      ]
     },
     "execution_count": 14,
     "metadata": {},
     "output_type": "execute_result"
    }
   ],
   "source": [
    "len(filteredVars)"
   ]
  },
  {
   "cell_type": "code",
   "execution_count": 15,
   "metadata": {},
   "outputs": [],
   "source": [
    "df = filteredVars[filteredVars['groupCode'] == 'C15003']"
   ]
  },
  {
   "cell_type": "code",
   "execution_count": 16,
   "metadata": {},
   "outputs": [
    {
     "data": {
      "text/html": [
       "<div>\n",
       "<style scoped>\n",
       "    .dataframe tbody tr th:only-of-type {\n",
       "        vertical-align: middle;\n",
       "    }\n",
       "\n",
       "    .dataframe tbody tr th {\n",
       "        vertical-align: top;\n",
       "    }\n",
       "\n",
       "    .dataframe thead th {\n",
       "        text-align: right;\n",
       "    }\n",
       "</style>\n",
       "<table border=\"1\" class=\"dataframe\">\n",
       "  <thead>\n",
       "    <tr style=\"text-align: right;\">\n",
       "      <th></th>\n",
       "      <th>code</th>\n",
       "      <th>groupCode</th>\n",
       "      <th>groupConcept</th>\n",
       "      <th>name</th>\n",
       "    </tr>\n",
       "  </thead>\n",
       "  <tbody>\n",
       "    <tr>\n",
       "      <th>0</th>\n",
       "      <td>C15003_001E</td>\n",
       "      <td>C15003</td>\n",
       "      <td>EDUCATIONAL ATTAINMENT FOR THE POPULATION 25 YEARS AND OVER</td>\n",
       "      <td>Estimate!!Total:</td>\n",
       "    </tr>\n",
       "    <tr>\n",
       "      <th>4</th>\n",
       "      <td>C15003_002E</td>\n",
       "      <td>C15003</td>\n",
       "      <td>EDUCATIONAL ATTAINMENT FOR THE POPULATION 25 YEARS AND OVER</td>\n",
       "      <td>Estimate!!Total:!!No schooling completed</td>\n",
       "    </tr>\n",
       "    <tr>\n",
       "      <th>8</th>\n",
       "      <td>C15003_003E</td>\n",
       "      <td>C15003</td>\n",
       "      <td>EDUCATIONAL ATTAINMENT FOR THE POPULATION 25 YEARS AND OVER</td>\n",
       "      <td>Estimate!!Total:!!Nursery to 4th grade</td>\n",
       "    </tr>\n",
       "    <tr>\n",
       "      <th>12</th>\n",
       "      <td>C15003_004E</td>\n",
       "      <td>C15003</td>\n",
       "      <td>EDUCATIONAL ATTAINMENT FOR THE POPULATION 25 YEARS AND OVER</td>\n",
       "      <td>Estimate!!Total:!!5th and 6th grade</td>\n",
       "    </tr>\n",
       "    <tr>\n",
       "      <th>16</th>\n",
       "      <td>C15003_005E</td>\n",
       "      <td>C15003</td>\n",
       "      <td>EDUCATIONAL ATTAINMENT FOR THE POPULATION 25 YEARS AND OVER</td>\n",
       "      <td>Estimate!!Total:!!7th and 8th grade</td>\n",
       "    </tr>\n",
       "    <tr>\n",
       "      <th>20</th>\n",
       "      <td>C15003_006E</td>\n",
       "      <td>C15003</td>\n",
       "      <td>EDUCATIONAL ATTAINMENT FOR THE POPULATION 25 YEARS AND OVER</td>\n",
       "      <td>Estimate!!Total:!!9th grade</td>\n",
       "    </tr>\n",
       "    <tr>\n",
       "      <th>24</th>\n",
       "      <td>C15003_007E</td>\n",
       "      <td>C15003</td>\n",
       "      <td>EDUCATIONAL ATTAINMENT FOR THE POPULATION 25 YEARS AND OVER</td>\n",
       "      <td>Estimate!!Total:!!10th grade</td>\n",
       "    </tr>\n",
       "    <tr>\n",
       "      <th>28</th>\n",
       "      <td>C15003_008E</td>\n",
       "      <td>C15003</td>\n",
       "      <td>EDUCATIONAL ATTAINMENT FOR THE POPULATION 25 YEARS AND OVER</td>\n",
       "      <td>Estimate!!Total:!!11th grade</td>\n",
       "    </tr>\n",
       "    <tr>\n",
       "      <th>32</th>\n",
       "      <td>C15003_009E</td>\n",
       "      <td>C15003</td>\n",
       "      <td>EDUCATIONAL ATTAINMENT FOR THE POPULATION 25 YEARS AND OVER</td>\n",
       "      <td>Estimate!!Total:!!12th grade, no diploma</td>\n",
       "    </tr>\n",
       "    <tr>\n",
       "      <th>36</th>\n",
       "      <td>C15003_010E</td>\n",
       "      <td>C15003</td>\n",
       "      <td>EDUCATIONAL ATTAINMENT FOR THE POPULATION 25 YEARS AND OVER</td>\n",
       "      <td>Estimate!!Total:!!Regular high school diploma</td>\n",
       "    </tr>\n",
       "    <tr>\n",
       "      <th>40</th>\n",
       "      <td>C15003_011E</td>\n",
       "      <td>C15003</td>\n",
       "      <td>EDUCATIONAL ATTAINMENT FOR THE POPULATION 25 YEARS AND OVER</td>\n",
       "      <td>Estimate!!Total:!!GED or alternative credential</td>\n",
       "    </tr>\n",
       "    <tr>\n",
       "      <th>44</th>\n",
       "      <td>C15003_012E</td>\n",
       "      <td>C15003</td>\n",
       "      <td>EDUCATIONAL ATTAINMENT FOR THE POPULATION 25 YEARS AND OVER</td>\n",
       "      <td>Estimate!!Total:!!Some college, less than 1 year</td>\n",
       "    </tr>\n",
       "    <tr>\n",
       "      <th>48</th>\n",
       "      <td>C15003_013E</td>\n",
       "      <td>C15003</td>\n",
       "      <td>EDUCATIONAL ATTAINMENT FOR THE POPULATION 25 YEARS AND OVER</td>\n",
       "      <td>Estimate!!Total:!!Some college, 1 or more years, no degree</td>\n",
       "    </tr>\n",
       "    <tr>\n",
       "      <th>52</th>\n",
       "      <td>C15003_014E</td>\n",
       "      <td>C15003</td>\n",
       "      <td>EDUCATIONAL ATTAINMENT FOR THE POPULATION 25 YEARS AND OVER</td>\n",
       "      <td>Estimate!!Total:!!Associate's degree</td>\n",
       "    </tr>\n",
       "    <tr>\n",
       "      <th>56</th>\n",
       "      <td>C15003_015E</td>\n",
       "      <td>C15003</td>\n",
       "      <td>EDUCATIONAL ATTAINMENT FOR THE POPULATION 25 YEARS AND OVER</td>\n",
       "      <td>Estimate!!Total:!!Bachelor's degree</td>\n",
       "    </tr>\n",
       "    <tr>\n",
       "      <th>60</th>\n",
       "      <td>C15003_016E</td>\n",
       "      <td>C15003</td>\n",
       "      <td>EDUCATIONAL ATTAINMENT FOR THE POPULATION 25 YEARS AND OVER</td>\n",
       "      <td>Estimate!!Total:!!Master's degree</td>\n",
       "    </tr>\n",
       "    <tr>\n",
       "      <th>64</th>\n",
       "      <td>C15003_017E</td>\n",
       "      <td>C15003</td>\n",
       "      <td>EDUCATIONAL ATTAINMENT FOR THE POPULATION 25 YEARS AND OVER</td>\n",
       "      <td>Estimate!!Total:!!Professional school degree</td>\n",
       "    </tr>\n",
       "    <tr>\n",
       "      <th>68</th>\n",
       "      <td>C15003_018E</td>\n",
       "      <td>C15003</td>\n",
       "      <td>EDUCATIONAL ATTAINMENT FOR THE POPULATION 25 YEARS AND OVER</td>\n",
       "      <td>Estimate!!Total:!!Doctorate degree</td>\n",
       "    </tr>\n",
       "  </tbody>\n",
       "</table>\n",
       "</div>"
      ],
      "text/plain": [
       "           code groupCode  \\\n",
       "0   C15003_001E    C15003   \n",
       "4   C15003_002E    C15003   \n",
       "8   C15003_003E    C15003   \n",
       "12  C15003_004E    C15003   \n",
       "16  C15003_005E    C15003   \n",
       "20  C15003_006E    C15003   \n",
       "24  C15003_007E    C15003   \n",
       "28  C15003_008E    C15003   \n",
       "32  C15003_009E    C15003   \n",
       "36  C15003_010E    C15003   \n",
       "40  C15003_011E    C15003   \n",
       "44  C15003_012E    C15003   \n",
       "48  C15003_013E    C15003   \n",
       "52  C15003_014E    C15003   \n",
       "56  C15003_015E    C15003   \n",
       "60  C15003_016E    C15003   \n",
       "64  C15003_017E    C15003   \n",
       "68  C15003_018E    C15003   \n",
       "\n",
       "                                                   groupConcept  \\\n",
       "0   EDUCATIONAL ATTAINMENT FOR THE POPULATION 25 YEARS AND OVER   \n",
       "4   EDUCATIONAL ATTAINMENT FOR THE POPULATION 25 YEARS AND OVER   \n",
       "8   EDUCATIONAL ATTAINMENT FOR THE POPULATION 25 YEARS AND OVER   \n",
       "12  EDUCATIONAL ATTAINMENT FOR THE POPULATION 25 YEARS AND OVER   \n",
       "16  EDUCATIONAL ATTAINMENT FOR THE POPULATION 25 YEARS AND OVER   \n",
       "20  EDUCATIONAL ATTAINMENT FOR THE POPULATION 25 YEARS AND OVER   \n",
       "24  EDUCATIONAL ATTAINMENT FOR THE POPULATION 25 YEARS AND OVER   \n",
       "28  EDUCATIONAL ATTAINMENT FOR THE POPULATION 25 YEARS AND OVER   \n",
       "32  EDUCATIONAL ATTAINMENT FOR THE POPULATION 25 YEARS AND OVER   \n",
       "36  EDUCATIONAL ATTAINMENT FOR THE POPULATION 25 YEARS AND OVER   \n",
       "40  EDUCATIONAL ATTAINMENT FOR THE POPULATION 25 YEARS AND OVER   \n",
       "44  EDUCATIONAL ATTAINMENT FOR THE POPULATION 25 YEARS AND OVER   \n",
       "48  EDUCATIONAL ATTAINMENT FOR THE POPULATION 25 YEARS AND OVER   \n",
       "52  EDUCATIONAL ATTAINMENT FOR THE POPULATION 25 YEARS AND OVER   \n",
       "56  EDUCATIONAL ATTAINMENT FOR THE POPULATION 25 YEARS AND OVER   \n",
       "60  EDUCATIONAL ATTAINMENT FOR THE POPULATION 25 YEARS AND OVER   \n",
       "64  EDUCATIONAL ATTAINMENT FOR THE POPULATION 25 YEARS AND OVER   \n",
       "68  EDUCATIONAL ATTAINMENT FOR THE POPULATION 25 YEARS AND OVER   \n",
       "\n",
       "                                                          name  \n",
       "0                                             Estimate!!Total:  \n",
       "4                     Estimate!!Total:!!No schooling completed  \n",
       "8                       Estimate!!Total:!!Nursery to 4th grade  \n",
       "12                         Estimate!!Total:!!5th and 6th grade  \n",
       "16                         Estimate!!Total:!!7th and 8th grade  \n",
       "20                                 Estimate!!Total:!!9th grade  \n",
       "24                                Estimate!!Total:!!10th grade  \n",
       "28                                Estimate!!Total:!!11th grade  \n",
       "32                    Estimate!!Total:!!12th grade, no diploma  \n",
       "36               Estimate!!Total:!!Regular high school diploma  \n",
       "40             Estimate!!Total:!!GED or alternative credential  \n",
       "44            Estimate!!Total:!!Some college, less than 1 year  \n",
       "48  Estimate!!Total:!!Some college, 1 or more years, no degree  \n",
       "52                        Estimate!!Total:!!Associate's degree  \n",
       "56                         Estimate!!Total:!!Bachelor's degree  \n",
       "60                           Estimate!!Total:!!Master's degree  \n",
       "64                Estimate!!Total:!!Professional school degree  \n",
       "68                          Estimate!!Total:!!Doctorate degree  "
      ]
     },
     "execution_count": 16,
     "metadata": {},
     "output_type": "execute_result"
    }
   ],
   "source": [
    "df"
   ]
  },
  {
   "cell_type": "code",
   "execution_count": 17,
   "metadata": {},
   "outputs": [
    {
     "data": {
      "application/vnd.jupyter.widget-view+json": {
       "model_id": "3e828ea56905442aacf3b1d28be59936",
       "version_major": 2,
       "version_minor": 0
      },
      "text/plain": [
       "|          | 0/? [00:00<?, ?it/s]"
      ]
     },
     "metadata": {},
     "output_type": "display_data"
    }
   ],
   "source": [
    "educData = c.getStats(df['code'].tolist(), GeoDomain('congressional district'), [GeoDomain('state')], replaceColumnHeaders=True)"
   ]
  },
  {
   "cell_type": "code",
   "execution_count": 18,
   "metadata": {},
   "outputs": [
    {
     "data": {
      "text/html": [
       "<div>\n",
       "<style scoped>\n",
       "    .dataframe tbody tr th:only-of-type {\n",
       "        vertical-align: middle;\n",
       "    }\n",
       "\n",
       "    .dataframe tbody tr th {\n",
       "        vertical-align: top;\n",
       "    }\n",
       "\n",
       "    .dataframe thead th {\n",
       "        text-align: right;\n",
       "    }\n",
       "</style>\n",
       "<table border=\"1\" class=\"dataframe\">\n",
       "  <thead>\n",
       "    <tr style=\"text-align: right;\">\n",
       "      <th></th>\n",
       "      <th>NAME</th>\n",
       "      <th>congressional district</th>\n",
       "      <th>state</th>\n",
       "      <th>Estimate_Total</th>\n",
       "      <th>Estimate_Total_NoSchoolingCompleted</th>\n",
       "      <th>Estimate_Total_NurseryTo4thGrade</th>\n",
       "      <th>Estimate_Total_5thAnd6thGrade</th>\n",
       "      <th>Estimate_Total_7thAnd8thGrade</th>\n",
       "      <th>Estimate_Total_9thGrade</th>\n",
       "      <th>Estimate_Total_10thGrade</th>\n",
       "      <th>...</th>\n",
       "      <th>Estimate_Total_12thGradeNoDiploma</th>\n",
       "      <th>Estimate_Total_RegularHighSchoolDiploma</th>\n",
       "      <th>Estimate_Total_GedOrAlternativeCredential</th>\n",
       "      <th>Estimate_Total_SomeCollegeLessThan1Year</th>\n",
       "      <th>Estimate_Total_SomeCollege1OrMoreYearsNoDegree</th>\n",
       "      <th>Estimate_Total_Associate'sDegree</th>\n",
       "      <th>Estimate_Total_Bachelor'sDegree</th>\n",
       "      <th>Estimate_Total_Master'sDegree</th>\n",
       "      <th>Estimate_Total_ProfessionalSchoolDegree</th>\n",
       "      <th>Estimate_Total_DoctorateDegree</th>\n",
       "    </tr>\n",
       "  </thead>\n",
       "  <tbody>\n",
       "    <tr>\n",
       "      <th>0</th>\n",
       "      <td>Congressional District 3 (116th Congress), California</td>\n",
       "      <td>03</td>\n",
       "      <td>06</td>\n",
       "      <td>492041</td>\n",
       "      <td>9757</td>\n",
       "      <td>5077</td>\n",
       "      <td>12445</td>\n",
       "      <td>5491</td>\n",
       "      <td>5655</td>\n",
       "      <td>5461</td>\n",
       "      <td>...</td>\n",
       "      <td>11891</td>\n",
       "      <td>105373</td>\n",
       "      <td>13456</td>\n",
       "      <td>36042</td>\n",
       "      <td>86013</td>\n",
       "      <td>50948</td>\n",
       "      <td>83536</td>\n",
       "      <td>34271</td>\n",
       "      <td>9976</td>\n",
       "      <td>6172</td>\n",
       "    </tr>\n",
       "    <tr>\n",
       "      <th>1</th>\n",
       "      <td>Congressional District 21 (116th Congress), California</td>\n",
       "      <td>21</td>\n",
       "      <td>06</td>\n",
       "      <td>424849</td>\n",
       "      <td>21911</td>\n",
       "      <td>21062</td>\n",
       "      <td>39352</td>\n",
       "      <td>15217</td>\n",
       "      <td>20351</td>\n",
       "      <td>12229</td>\n",
       "      <td>...</td>\n",
       "      <td>15204</td>\n",
       "      <td>98332</td>\n",
       "      <td>13409</td>\n",
       "      <td>23653</td>\n",
       "      <td>59324</td>\n",
       "      <td>24457</td>\n",
       "      <td>32602</td>\n",
       "      <td>8271</td>\n",
       "      <td>3547</td>\n",
       "      <td>889</td>\n",
       "    </tr>\n",
       "  </tbody>\n",
       "</table>\n",
       "<p>2 rows × 21 columns</p>\n",
       "</div>"
      ],
      "text/plain": [
       "                                                     NAME  \\\n",
       "0   Congressional District 3 (116th Congress), California   \n",
       "1  Congressional District 21 (116th Congress), California   \n",
       "\n",
       "  congressional district state Estimate_Total  \\\n",
       "0                     03    06         492041   \n",
       "1                     21    06         424849   \n",
       "\n",
       "  Estimate_Total_NoSchoolingCompleted Estimate_Total_NurseryTo4thGrade  \\\n",
       "0                                9757                             5077   \n",
       "1                               21911                            21062   \n",
       "\n",
       "  Estimate_Total_5thAnd6thGrade Estimate_Total_7thAnd8thGrade  \\\n",
       "0                         12445                          5491   \n",
       "1                         39352                         15217   \n",
       "\n",
       "  Estimate_Total_9thGrade Estimate_Total_10thGrade  ...  \\\n",
       "0                    5655                     5461  ...   \n",
       "1                   20351                    12229  ...   \n",
       "\n",
       "  Estimate_Total_12thGradeNoDiploma Estimate_Total_RegularHighSchoolDiploma  \\\n",
       "0                             11891                                  105373   \n",
       "1                             15204                                   98332   \n",
       "\n",
       "  Estimate_Total_GedOrAlternativeCredential  \\\n",
       "0                                     13456   \n",
       "1                                     13409   \n",
       "\n",
       "  Estimate_Total_SomeCollegeLessThan1Year  \\\n",
       "0                                   36042   \n",
       "1                                   23653   \n",
       "\n",
       "  Estimate_Total_SomeCollege1OrMoreYearsNoDegree  \\\n",
       "0                                          86013   \n",
       "1                                          59324   \n",
       "\n",
       "  Estimate_Total_Associate'sDegree Estimate_Total_Bachelor'sDegree  \\\n",
       "0                            50948                           83536   \n",
       "1                            24457                           32602   \n",
       "\n",
       "  Estimate_Total_Master'sDegree Estimate_Total_ProfessionalSchoolDegree  \\\n",
       "0                         34271                                    9976   \n",
       "1                          8271                                    3547   \n",
       "\n",
       "  Estimate_Total_DoctorateDegree  \n",
       "0                           6172  \n",
       "1                            889  \n",
       "\n",
       "[2 rows x 21 columns]"
      ]
     },
     "execution_count": 18,
     "metadata": {},
     "output_type": "execute_result"
    }
   ],
   "source": [
    "educData.head(n=2)"
   ]
  },
  {
   "cell_type": "code",
   "execution_count": 19,
   "metadata": {},
   "outputs": [
    {
     "data": {
      "text/plain": [
       "Index(['NAME', 'congressional district', 'state', 'Estimate_Total',\n",
       "       'Estimate_Total_NoSchoolingCompleted',\n",
       "       'Estimate_Total_NurseryTo4thGrade', 'Estimate_Total_5thAnd6thGrade',\n",
       "       'Estimate_Total_7thAnd8thGrade', 'Estimate_Total_9thGrade',\n",
       "       'Estimate_Total_10thGrade', 'Estimate_Total_11thGrade',\n",
       "       'Estimate_Total_12thGradeNoDiploma',\n",
       "       'Estimate_Total_RegularHighSchoolDiploma',\n",
       "       'Estimate_Total_GedOrAlternativeCredential',\n",
       "       'Estimate_Total_SomeCollegeLessThan1Year',\n",
       "       'Estimate_Total_SomeCollege1OrMoreYearsNoDegree',\n",
       "       'Estimate_Total_Associate'sDegree', 'Estimate_Total_Bachelor'sDegree',\n",
       "       'Estimate_Total_Master'sDegree',\n",
       "       'Estimate_Total_ProfessionalSchoolDegree',\n",
       "       'Estimate_Total_DoctorateDegree'],\n",
       "      dtype='object')"
      ]
     },
     "execution_count": 19,
     "metadata": {},
     "output_type": "execute_result"
    }
   ],
   "source": [
    "educData.columns"
   ]
  },
  {
   "cell_type": "code",
   "execution_count": 19,
   "metadata": {},
   "outputs": [
    {
     "ename": "TypeError",
     "evalue": "unsupported operand type(s) for /: 'str' and 'str'",
     "output_type": "error",
     "traceback": [
      "\u001b[0;31m-----------------------------------------------------------------\u001b[0m",
      "\u001b[0;31mTypeError\u001b[0m                       Traceback (most recent call last)",
      "\u001b[0;32m~/src/us-stats/census/venv/lib/python3.9/site-packages/pandas/core/ops/array_ops.py\u001b[0m in \u001b[0;36m_na_arithmetic_op\u001b[0;34m(left, right, op, is_cmp)\u001b[0m\n\u001b[1;32m    141\u001b[0m     \u001b[0;32mtry\u001b[0m\u001b[0;34m:\u001b[0m\u001b[0;34m\u001b[0m\u001b[0;34m\u001b[0m\u001b[0m\n\u001b[0;32m--> 142\u001b[0;31m         \u001b[0mresult\u001b[0m \u001b[0;34m=\u001b[0m \u001b[0mexpressions\u001b[0m\u001b[0;34m.\u001b[0m\u001b[0mevaluate\u001b[0m\u001b[0;34m(\u001b[0m\u001b[0mop\u001b[0m\u001b[0;34m,\u001b[0m \u001b[0mleft\u001b[0m\u001b[0;34m,\u001b[0m \u001b[0mright\u001b[0m\u001b[0;34m)\u001b[0m\u001b[0;34m\u001b[0m\u001b[0;34m\u001b[0m\u001b[0m\n\u001b[0m\u001b[1;32m    143\u001b[0m     \u001b[0;32mexcept\u001b[0m \u001b[0mTypeError\u001b[0m\u001b[0;34m:\u001b[0m\u001b[0;34m\u001b[0m\u001b[0;34m\u001b[0m\u001b[0m\n",
      "\u001b[0;32m~/src/us-stats/census/venv/lib/python3.9/site-packages/pandas/core/computation/expressions.py\u001b[0m in \u001b[0;36mevaluate\u001b[0;34m(op, a, b, use_numexpr)\u001b[0m\n\u001b[1;32m    234\u001b[0m             \u001b[0;31m# error: \"None\" not callable\u001b[0m\u001b[0;34m\u001b[0m\u001b[0;34m\u001b[0m\u001b[0;34m\u001b[0m\u001b[0m\n\u001b[0;32m--> 235\u001b[0;31m             \u001b[0;32mreturn\u001b[0m \u001b[0m_evaluate\u001b[0m\u001b[0;34m(\u001b[0m\u001b[0mop\u001b[0m\u001b[0;34m,\u001b[0m \u001b[0mop_str\u001b[0m\u001b[0;34m,\u001b[0m \u001b[0ma\u001b[0m\u001b[0;34m,\u001b[0m \u001b[0mb\u001b[0m\u001b[0;34m)\u001b[0m  \u001b[0;31m# type: ignore[misc]\u001b[0m\u001b[0;34m\u001b[0m\u001b[0;34m\u001b[0m\u001b[0m\n\u001b[0m\u001b[1;32m    236\u001b[0m     \u001b[0;32mreturn\u001b[0m \u001b[0m_evaluate_standard\u001b[0m\u001b[0;34m(\u001b[0m\u001b[0mop\u001b[0m\u001b[0;34m,\u001b[0m \u001b[0mop_str\u001b[0m\u001b[0;34m,\u001b[0m \u001b[0ma\u001b[0m\u001b[0;34m,\u001b[0m \u001b[0mb\u001b[0m\u001b[0;34m)\u001b[0m\u001b[0;34m\u001b[0m\u001b[0;34m\u001b[0m\u001b[0m\n",
      "\u001b[0;32m~/src/us-stats/census/venv/lib/python3.9/site-packages/pandas/core/computation/expressions.py\u001b[0m in \u001b[0;36m_evaluate_standard\u001b[0;34m(op, op_str, a, b)\u001b[0m\n\u001b[1;32m     68\u001b[0m     \u001b[0;32mwith\u001b[0m \u001b[0mnp\u001b[0m\u001b[0;34m.\u001b[0m\u001b[0merrstate\u001b[0m\u001b[0;34m(\u001b[0m\u001b[0mall\u001b[0m\u001b[0;34m=\u001b[0m\u001b[0;34m\"ignore\"\u001b[0m\u001b[0;34m)\u001b[0m\u001b[0;34m:\u001b[0m\u001b[0;34m\u001b[0m\u001b[0;34m\u001b[0m\u001b[0m\n\u001b[0;32m---> 69\u001b[0;31m         \u001b[0;32mreturn\u001b[0m \u001b[0mop\u001b[0m\u001b[0;34m(\u001b[0m\u001b[0ma\u001b[0m\u001b[0;34m,\u001b[0m \u001b[0mb\u001b[0m\u001b[0;34m)\u001b[0m\u001b[0;34m\u001b[0m\u001b[0;34m\u001b[0m\u001b[0m\n\u001b[0m\u001b[1;32m     70\u001b[0m \u001b[0;34m\u001b[0m\u001b[0m\n",
      "\u001b[0;31mTypeError\u001b[0m: unsupported operand type(s) for /: 'str' and 'str'",
      "\nDuring handling of the above exception, another exception occurred:\n",
      "\u001b[0;31mTypeError\u001b[0m                       Traceback (most recent call last)",
      "\u001b[0;32m<ipython-input-19-927ab0010bdb>\u001b[0m in \u001b[0;36m<module>\u001b[0;34m\u001b[0m\n\u001b[0;32m----> 1\u001b[0;31m educData['pctNoHs'] = (educData.Estimate_Total_NoSchoolingCompleted \\\n\u001b[0m\u001b[1;32m      2\u001b[0m                     \u001b[0;34m+\u001b[0m \u001b[0meducData\u001b[0m\u001b[0;34m.\u001b[0m\u001b[0mEstimate_Total_NurseryTo4thGrade\u001b[0m\u001b[0;31m \u001b[0m\u001b[0;31m\\\u001b[0m\u001b[0;34m\u001b[0m\u001b[0;34m\u001b[0m\u001b[0m\n\u001b[1;32m      3\u001b[0m                     \u001b[0;34m+\u001b[0m \u001b[0meducData\u001b[0m\u001b[0;34m.\u001b[0m\u001b[0mEstimate_Total_5thAnd6thGrade\u001b[0m\u001b[0;31m \u001b[0m\u001b[0;31m\\\u001b[0m\u001b[0;34m\u001b[0m\u001b[0;34m\u001b[0m\u001b[0m\n\u001b[1;32m      4\u001b[0m                     \u001b[0;34m+\u001b[0m \u001b[0meducData\u001b[0m\u001b[0;34m.\u001b[0m\u001b[0mEstimate_Total_7thAnd8thGrade\u001b[0m\u001b[0;31m \u001b[0m\u001b[0;31m\\\u001b[0m\u001b[0;34m\u001b[0m\u001b[0;34m\u001b[0m\u001b[0m\n\u001b[1;32m      5\u001b[0m                     \u001b[0;34m+\u001b[0m \u001b[0meducData\u001b[0m\u001b[0;34m.\u001b[0m\u001b[0mEstimate_Total_9thGrade\u001b[0m\u001b[0;31m \u001b[0m\u001b[0;31m\\\u001b[0m\u001b[0;34m\u001b[0m\u001b[0;34m\u001b[0m\u001b[0m\n",
      "\u001b[0;32m~/src/us-stats/census/venv/lib/python3.9/site-packages/pandas/core/ops/common.py\u001b[0m in \u001b[0;36mnew_method\u001b[0;34m(self, other)\u001b[0m\n\u001b[1;32m     63\u001b[0m         \u001b[0mother\u001b[0m \u001b[0;34m=\u001b[0m \u001b[0mitem_from_zerodim\u001b[0m\u001b[0;34m(\u001b[0m\u001b[0mother\u001b[0m\u001b[0;34m)\u001b[0m\u001b[0;34m\u001b[0m\u001b[0;34m\u001b[0m\u001b[0m\n\u001b[1;32m     64\u001b[0m \u001b[0;34m\u001b[0m\u001b[0m\n\u001b[0;32m---> 65\u001b[0;31m         \u001b[0;32mreturn\u001b[0m \u001b[0mmethod\u001b[0m\u001b[0;34m(\u001b[0m\u001b[0mself\u001b[0m\u001b[0;34m,\u001b[0m \u001b[0mother\u001b[0m\u001b[0;34m)\u001b[0m\u001b[0;34m\u001b[0m\u001b[0;34m\u001b[0m\u001b[0m\n\u001b[0m\u001b[1;32m     66\u001b[0m \u001b[0;34m\u001b[0m\u001b[0m\n\u001b[1;32m     67\u001b[0m     \u001b[0;32mreturn\u001b[0m \u001b[0mnew_method\u001b[0m\u001b[0;34m\u001b[0m\u001b[0;34m\u001b[0m\u001b[0m\n",
      "\u001b[0;32m~/src/us-stats/census/venv/lib/python3.9/site-packages/pandas/core/arraylike.py\u001b[0m in \u001b[0;36m__truediv__\u001b[0;34m(self, other)\u001b[0m\n\u001b[1;32m    111\u001b[0m     \u001b[0;34m@\u001b[0m\u001b[0munpack_zerodim_and_defer\u001b[0m\u001b[0;34m(\u001b[0m\u001b[0;34m\"__truediv__\"\u001b[0m\u001b[0;34m)\u001b[0m\u001b[0;34m\u001b[0m\u001b[0;34m\u001b[0m\u001b[0m\n\u001b[1;32m    112\u001b[0m     \u001b[0;32mdef\u001b[0m \u001b[0m__truediv__\u001b[0m\u001b[0;34m(\u001b[0m\u001b[0mself\u001b[0m\u001b[0;34m,\u001b[0m \u001b[0mother\u001b[0m\u001b[0;34m)\u001b[0m\u001b[0;34m:\u001b[0m\u001b[0;34m\u001b[0m\u001b[0;34m\u001b[0m\u001b[0m\n\u001b[0;32m--> 113\u001b[0;31m         \u001b[0;32mreturn\u001b[0m \u001b[0mself\u001b[0m\u001b[0;34m.\u001b[0m\u001b[0m_arith_method\u001b[0m\u001b[0;34m(\u001b[0m\u001b[0mother\u001b[0m\u001b[0;34m,\u001b[0m \u001b[0moperator\u001b[0m\u001b[0;34m.\u001b[0m\u001b[0mtruediv\u001b[0m\u001b[0;34m)\u001b[0m\u001b[0;34m\u001b[0m\u001b[0;34m\u001b[0m\u001b[0m\n\u001b[0m\u001b[1;32m    114\u001b[0m \u001b[0;34m\u001b[0m\u001b[0m\n\u001b[1;32m    115\u001b[0m     \u001b[0;34m@\u001b[0m\u001b[0munpack_zerodim_and_defer\u001b[0m\u001b[0;34m(\u001b[0m\u001b[0;34m\"__rtruediv__\"\u001b[0m\u001b[0;34m)\u001b[0m\u001b[0;34m\u001b[0m\u001b[0;34m\u001b[0m\u001b[0m\n",
      "\u001b[0;32m~/src/us-stats/census/venv/lib/python3.9/site-packages/pandas/core/series.py\u001b[0m in \u001b[0;36m_arith_method\u001b[0;34m(self, other, op)\u001b[0m\n\u001b[1;32m   4957\u001b[0m         \u001b[0mlvalues\u001b[0m \u001b[0;34m=\u001b[0m \u001b[0mextract_array\u001b[0m\u001b[0;34m(\u001b[0m\u001b[0mself\u001b[0m\u001b[0;34m,\u001b[0m \u001b[0mextract_numpy\u001b[0m\u001b[0;34m=\u001b[0m\u001b[0;32mTrue\u001b[0m\u001b[0;34m)\u001b[0m\u001b[0;34m\u001b[0m\u001b[0;34m\u001b[0m\u001b[0m\n\u001b[1;32m   4958\u001b[0m         \u001b[0mrvalues\u001b[0m \u001b[0;34m=\u001b[0m \u001b[0mextract_array\u001b[0m\u001b[0;34m(\u001b[0m\u001b[0mother\u001b[0m\u001b[0;34m,\u001b[0m \u001b[0mextract_numpy\u001b[0m\u001b[0;34m=\u001b[0m\u001b[0;32mTrue\u001b[0m\u001b[0;34m)\u001b[0m\u001b[0;34m\u001b[0m\u001b[0;34m\u001b[0m\u001b[0m\n\u001b[0;32m-> 4959\u001b[0;31m         \u001b[0mresult\u001b[0m \u001b[0;34m=\u001b[0m \u001b[0mops\u001b[0m\u001b[0;34m.\u001b[0m\u001b[0marithmetic_op\u001b[0m\u001b[0;34m(\u001b[0m\u001b[0mlvalues\u001b[0m\u001b[0;34m,\u001b[0m \u001b[0mrvalues\u001b[0m\u001b[0;34m,\u001b[0m \u001b[0mop\u001b[0m\u001b[0;34m)\u001b[0m\u001b[0;34m\u001b[0m\u001b[0;34m\u001b[0m\u001b[0m\n\u001b[0m\u001b[1;32m   4960\u001b[0m \u001b[0;34m\u001b[0m\u001b[0m\n\u001b[1;32m   4961\u001b[0m         \u001b[0;32mreturn\u001b[0m \u001b[0mself\u001b[0m\u001b[0;34m.\u001b[0m\u001b[0m_construct_result\u001b[0m\u001b[0;34m(\u001b[0m\u001b[0mresult\u001b[0m\u001b[0;34m,\u001b[0m \u001b[0mname\u001b[0m\u001b[0;34m=\u001b[0m\u001b[0mres_name\u001b[0m\u001b[0;34m)\u001b[0m\u001b[0;34m\u001b[0m\u001b[0;34m\u001b[0m\u001b[0m\n",
      "\u001b[0;32m~/src/us-stats/census/venv/lib/python3.9/site-packages/pandas/core/ops/array_ops.py\u001b[0m in \u001b[0;36marithmetic_op\u001b[0;34m(left, right, op)\u001b[0m\n\u001b[1;32m    187\u001b[0m     \u001b[0;32melse\u001b[0m\u001b[0;34m:\u001b[0m\u001b[0;34m\u001b[0m\u001b[0;34m\u001b[0m\u001b[0m\n\u001b[1;32m    188\u001b[0m         \u001b[0;32mwith\u001b[0m \u001b[0mnp\u001b[0m\u001b[0;34m.\u001b[0m\u001b[0merrstate\u001b[0m\u001b[0;34m(\u001b[0m\u001b[0mall\u001b[0m\u001b[0;34m=\u001b[0m\u001b[0;34m\"ignore\"\u001b[0m\u001b[0;34m)\u001b[0m\u001b[0;34m:\u001b[0m\u001b[0;34m\u001b[0m\u001b[0;34m\u001b[0m\u001b[0m\n\u001b[0;32m--> 189\u001b[0;31m             \u001b[0mres_values\u001b[0m \u001b[0;34m=\u001b[0m \u001b[0m_na_arithmetic_op\u001b[0m\u001b[0;34m(\u001b[0m\u001b[0mlvalues\u001b[0m\u001b[0;34m,\u001b[0m \u001b[0mrvalues\u001b[0m\u001b[0;34m,\u001b[0m \u001b[0mop\u001b[0m\u001b[0;34m)\u001b[0m\u001b[0;34m\u001b[0m\u001b[0;34m\u001b[0m\u001b[0m\n\u001b[0m\u001b[1;32m    190\u001b[0m \u001b[0;34m\u001b[0m\u001b[0m\n\u001b[1;32m    191\u001b[0m     \u001b[0;32mreturn\u001b[0m \u001b[0mres_values\u001b[0m\u001b[0;34m\u001b[0m\u001b[0;34m\u001b[0m\u001b[0m\n",
      "\u001b[0;32m~/src/us-stats/census/venv/lib/python3.9/site-packages/pandas/core/ops/array_ops.py\u001b[0m in \u001b[0;36m_na_arithmetic_op\u001b[0;34m(left, right, op, is_cmp)\u001b[0m\n\u001b[1;32m    147\u001b[0m             \u001b[0;31m#  will handle complex numbers incorrectly, see GH#32047\u001b[0m\u001b[0;34m\u001b[0m\u001b[0;34m\u001b[0m\u001b[0;34m\u001b[0m\u001b[0m\n\u001b[1;32m    148\u001b[0m             \u001b[0;32mraise\u001b[0m\u001b[0;34m\u001b[0m\u001b[0;34m\u001b[0m\u001b[0m\n\u001b[0;32m--> 149\u001b[0;31m         \u001b[0mresult\u001b[0m \u001b[0;34m=\u001b[0m \u001b[0m_masked_arith_op\u001b[0m\u001b[0;34m(\u001b[0m\u001b[0mleft\u001b[0m\u001b[0;34m,\u001b[0m \u001b[0mright\u001b[0m\u001b[0;34m,\u001b[0m \u001b[0mop\u001b[0m\u001b[0;34m)\u001b[0m\u001b[0;34m\u001b[0m\u001b[0;34m\u001b[0m\u001b[0m\n\u001b[0m\u001b[1;32m    150\u001b[0m \u001b[0;34m\u001b[0m\u001b[0m\n\u001b[1;32m    151\u001b[0m     \u001b[0;32mif\u001b[0m \u001b[0mis_cmp\u001b[0m \u001b[0;32mand\u001b[0m \u001b[0;34m(\u001b[0m\u001b[0mis_scalar\u001b[0m\u001b[0;34m(\u001b[0m\u001b[0mresult\u001b[0m\u001b[0;34m)\u001b[0m \u001b[0;32mor\u001b[0m \u001b[0mresult\u001b[0m \u001b[0;32mis\u001b[0m \u001b[0mNotImplemented\u001b[0m\u001b[0;34m)\u001b[0m\u001b[0;34m:\u001b[0m\u001b[0;34m\u001b[0m\u001b[0;34m\u001b[0m\u001b[0m\n",
      "\u001b[0;32m~/src/us-stats/census/venv/lib/python3.9/site-packages/pandas/core/ops/array_ops.py\u001b[0m in \u001b[0;36m_masked_arith_op\u001b[0;34m(x, y, op)\u001b[0m\n\u001b[1;32m     89\u001b[0m         \u001b[0;32mif\u001b[0m \u001b[0mmask\u001b[0m\u001b[0;34m.\u001b[0m\u001b[0many\u001b[0m\u001b[0;34m(\u001b[0m\u001b[0;34m)\u001b[0m\u001b[0;34m:\u001b[0m\u001b[0;34m\u001b[0m\u001b[0;34m\u001b[0m\u001b[0m\n\u001b[1;32m     90\u001b[0m             \u001b[0;32mwith\u001b[0m \u001b[0mnp\u001b[0m\u001b[0;34m.\u001b[0m\u001b[0merrstate\u001b[0m\u001b[0;34m(\u001b[0m\u001b[0mall\u001b[0m\u001b[0;34m=\u001b[0m\u001b[0;34m\"ignore\"\u001b[0m\u001b[0;34m)\u001b[0m\u001b[0;34m:\u001b[0m\u001b[0;34m\u001b[0m\u001b[0;34m\u001b[0m\u001b[0m\n\u001b[0;32m---> 91\u001b[0;31m                 \u001b[0mresult\u001b[0m\u001b[0;34m[\u001b[0m\u001b[0mmask\u001b[0m\u001b[0;34m]\u001b[0m \u001b[0;34m=\u001b[0m \u001b[0mop\u001b[0m\u001b[0;34m(\u001b[0m\u001b[0mxrav\u001b[0m\u001b[0;34m[\u001b[0m\u001b[0mmask\u001b[0m\u001b[0;34m]\u001b[0m\u001b[0;34m,\u001b[0m \u001b[0myrav\u001b[0m\u001b[0;34m[\u001b[0m\u001b[0mmask\u001b[0m\u001b[0;34m]\u001b[0m\u001b[0;34m)\u001b[0m\u001b[0;34m\u001b[0m\u001b[0;34m\u001b[0m\u001b[0m\n\u001b[0m\u001b[1;32m     92\u001b[0m \u001b[0;34m\u001b[0m\u001b[0m\n\u001b[1;32m     93\u001b[0m     \u001b[0;32melse\u001b[0m\u001b[0;34m:\u001b[0m\u001b[0;34m\u001b[0m\u001b[0;34m\u001b[0m\u001b[0m\n",
      "\u001b[0;31mTypeError\u001b[0m: unsupported operand type(s) for /: 'str' and 'str'"
     ]
    }
   ],
   "source": [
    "educData['pctNoHs'] = (educData.Estimate_Total_NoSchoolingCompleted \\\n",
    "                    + educData.Estimate_Total_NurseryTo4thGrade \\\n",
    "                    + educData.Estimate_Total_5thAnd6thGrade \\\n",
    "                    + educData.Estimate_Total_7thAnd8thGrade \\\n",
    "                    + educData.Estimate_Total_9thGrade \\\n",
    "                    + educData.Estimate_Total_10thGrade \\\n",
    "                    + educData.Estimate_Total_11thGrade \\\n",
    "                    + educData.Estimate_Total_12thGradeNoDiploma) / educData.Estimate_Total"
   ]
  },
  {
   "cell_type": "code",
   "execution_count": null,
   "metadata": {},
   "outputs": [],
   "source": []
  }
 ],
 "metadata": {
  "kernelspec": {
   "display_name": "Python 3.9.1 64-bit ('venv')",
   "language": "python",
   "name": "python39164bitvenv4c88f40478f240098553cf3ce2aa2c00"
  },
  "language_info": {
   "codemirror_mode": {
    "name": "ipython",
    "version": 3
   },
   "file_extension": ".py",
   "mimetype": "text/x-python",
   "name": "python",
   "nbconvert_exporter": "python",
   "pygments_lexer": "ipython3",
   "version": "3.9.1"
  }
 },
 "nbformat": 4,
 "nbformat_minor": 2
}
