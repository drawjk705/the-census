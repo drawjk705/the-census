{
 "cells": [
  {
   "cell_type": "code",
   "execution_count": 1,
   "metadata": {},
   "outputs": [],
   "source": [
    "%config Completer.use_jedi = False"
   ]
  },
  {
   "cell_type": "code",
   "execution_count": 2,
   "metadata": {},
   "outputs": [],
   "source": [
    "from census.getCensus import getCensus"
   ]
  },
  {
   "cell_type": "code",
   "execution_count": 3,
   "metadata": {},
   "outputs": [],
   "source": [
    "c = getCensus(2019, shouldCacheOnDisk=True, shouldLoadFromExistingCache=True)"
   ]
  },
  {
   "cell_type": "code",
   "execution_count": 4,
   "metadata": {},
   "outputs": [],
   "source": [
    "groups = c.getGroups()"
   ]
  },
  {
   "cell_type": "code",
   "execution_count": 5,
   "metadata": {},
   "outputs": [],
   "source": [
    "educGroups = c.searchGroups(\"education\")"
   ]
  },
  {
   "cell_type": "code",
   "execution_count": 6,
   "metadata": {},
   "outputs": [
    {
     "data": {
      "text/html": [
       "<div>\n",
       "<style scoped>\n",
       "    .dataframe tbody tr th:only-of-type {\n",
       "        vertical-align: middle;\n",
       "    }\n",
       "\n",
       "    .dataframe tbody tr th {\n",
       "        vertical-align: top;\n",
       "    }\n",
       "\n",
       "    .dataframe thead th {\n",
       "        text-align: right;\n",
       "    }\n",
       "</style>\n",
       "<table border=\"1\" class=\"dataframe\">\n",
       "  <thead>\n",
       "    <tr style=\"text-align: right;\">\n",
       "      <th></th>\n",
       "      <th>code</th>\n",
       "      <th>description</th>\n",
       "    </tr>\n",
       "  </thead>\n",
       "  <tbody>\n",
       "    <tr>\n",
       "      <th>0</th>\n",
       "      <td>B28001</td>\n",
       "      <td>TYPES OF COMPUTERS IN HOUSEHOLD</td>\n",
       "    </tr>\n",
       "    <tr>\n",
       "      <th>1</th>\n",
       "      <td>B28003</td>\n",
       "      <td>PRESENCE OF A COMPUTER AND TYPE OF INTERNET SUBSCRIPTION IN HOUSEHOLD</td>\n",
       "    </tr>\n",
       "    <tr>\n",
       "      <th>2</th>\n",
       "      <td>B28005</td>\n",
       "      <td>AGE BY PRESENCE OF A COMPUTER AND TYPES OF INTERNET SUBSCRIPTION IN HOUSEHOLD</td>\n",
       "    </tr>\n",
       "    <tr>\n",
       "      <th>3</th>\n",
       "      <td>B28006</td>\n",
       "      <td>EDUCATIONAL ATTAINMENT BY PRESENCE OF A COMPUTER AND TYPES OF INTERNET SUBSCRIPTION IN HOUSEHOLD</td>\n",
       "    </tr>\n",
       "    <tr>\n",
       "      <th>4</th>\n",
       "      <td>B28007</td>\n",
       "      <td>LABOR FORCE STATUS BY PRESENCE OF A COMPUTER AND TYPES OF INTERNET SUBSCRIPTION IN HOUSEHOLD</td>\n",
       "    </tr>\n",
       "  </tbody>\n",
       "</table>\n",
       "</div>"
      ],
      "text/plain": [
       "     code  \\\n",
       "0  B28001   \n",
       "1  B28003   \n",
       "2  B28005   \n",
       "3  B28006   \n",
       "4  B28007   \n",
       "\n",
       "                                                                                        description  \n",
       "0                                                                   TYPES OF COMPUTERS IN HOUSEHOLD  \n",
       "1                             PRESENCE OF A COMPUTER AND TYPE OF INTERNET SUBSCRIPTION IN HOUSEHOLD  \n",
       "2                     AGE BY PRESENCE OF A COMPUTER AND TYPES OF INTERNET SUBSCRIPTION IN HOUSEHOLD  \n",
       "3  EDUCATIONAL ATTAINMENT BY PRESENCE OF A COMPUTER AND TYPES OF INTERNET SUBSCRIPTION IN HOUSEHOLD  \n",
       "4      LABOR FORCE STATUS BY PRESENCE OF A COMPUTER AND TYPES OF INTERNET SUBSCRIPTION IN HOUSEHOLD  "
      ]
     },
     "execution_count": 6,
     "metadata": {},
     "output_type": "execute_result"
    }
   ],
   "source": [
    "c.searchGroups(\"computer\").head()"
   ]
  },
  {
   "cell_type": "code",
   "execution_count": 7,
   "metadata": {},
   "outputs": [],
   "source": [
    "# B16010    EDUCATIONAL ATTAINMENT AND EMPLOYMENT STATUS BY LANGUAGE SPOKEN AT HOME FOR THE POPULATION 25 YEARS AND OVER\n",
    "# C15003\tEDUCATIONAL ATTAINMENT FOR THE POPULATION 25 YEARS AND OVER\n",
    "# B28010\tCOMPUTERS IN HOUSEHOLD\n",
    "# B28003\tPRESENCE OF A COMPUTER AND TYPE OF INTERNET SUBSCRIPTION IN\n",
    "# B28006\tEDUCATIONAL ATTAINMENT BY PRESENCE OF A COMPUTER AND TYPES OF INTERNET SUBSCRIPTION IN HOUSEHOLD\n",
    "# B23025\tEMPLOYMENT STATUS FOR THE POPULATION 16 YEARS AND OVER\n",
    "# B27011\tHEALTH INSURANCE COVERAGE STATUS AND TYPE BY EMPLOYMENT STATUS"
   ]
  },
  {
   "cell_type": "code",
   "execution_count": 8,
   "metadata": {},
   "outputs": [],
   "source": [
    "from census.variables.models import GroupCode"
   ]
  },
  {
   "cell_type": "code",
   "execution_count": 9,
   "metadata": {},
   "outputs": [
    {
     "data": {
      "application/vnd.jupyter.widget-view+json": {
       "model_id": "f4a4ce7204854a6d95ed81470e8339eb",
       "version_major": 2,
       "version_minor": 0
      },
      "text/plain": [
       "  0%|          | 0/6 [00:00<?, ?it/s]"
      ]
     },
     "metadata": {},
     "output_type": "display_data"
    }
   ],
   "source": [
    "variables = c.getVariablesByGroup([\n",
    "    'C15003',\n",
    "    'B28010',\n",
    "    'B28003',\n",
    "    'B28006',\n",
    "    'B23025',\n",
    "    'B27011',\n",
    "])"
   ]
  },
  {
   "cell_type": "code",
   "execution_count": 10,
   "metadata": {},
   "outputs": [],
   "source": [
    "filteredVars = variables[variables['name'].str.contains('^estimate!!', case=False)]"
   ]
  },
  {
   "cell_type": "code",
   "execution_count": 11,
   "metadata": {},
   "outputs": [],
   "source": [
    "varCodes = filteredVars['code'].tolist()"
   ]
  },
  {
   "cell_type": "code",
   "execution_count": 12,
   "metadata": {},
   "outputs": [],
   "source": [
    "from census.models import GeoDomain"
   ]
  },
  {
   "cell_type": "code",
   "execution_count": 13,
   "metadata": {},
   "outputs": [],
   "source": [
    "from census.utils.chunk import chunk\n",
    "import pandas as pd"
   ]
  },
  {
   "cell_type": "code",
   "execution_count": 14,
   "metadata": {},
   "outputs": [
    {
     "data": {
      "text/plain": [
       "74"
      ]
     },
     "execution_count": 14,
     "metadata": {},
     "output_type": "execute_result"
    }
   ],
   "source": [
    "len(filteredVars)"
   ]
  },
  {
   "cell_type": "code",
   "execution_count": 15,
   "metadata": {},
   "outputs": [],
   "source": [
    "df = filteredVars[filteredVars['groupCode'] == 'C15003']"
   ]
  },
  {
   "cell_type": "code",
   "execution_count": 16,
   "metadata": {},
   "outputs": [
    {
     "data": {
      "text/html": [
       "<div>\n",
       "<style scoped>\n",
       "    .dataframe tbody tr th:only-of-type {\n",
       "        vertical-align: middle;\n",
       "    }\n",
       "\n",
       "    .dataframe tbody tr th {\n",
       "        vertical-align: top;\n",
       "    }\n",
       "\n",
       "    .dataframe thead th {\n",
       "        text-align: right;\n",
       "    }\n",
       "</style>\n",
       "<table border=\"1\" class=\"dataframe\">\n",
       "  <thead>\n",
       "    <tr style=\"text-align: right;\">\n",
       "      <th></th>\n",
       "      <th>code</th>\n",
       "      <th>groupCode</th>\n",
       "      <th>groupConcept</th>\n",
       "      <th>name</th>\n",
       "    </tr>\n",
       "  </thead>\n",
       "  <tbody>\n",
       "    <tr>\n",
       "      <th>0</th>\n",
       "      <td>C15003_001E</td>\n",
       "      <td>C15003</td>\n",
       "      <td>EDUCATIONAL ATTAINMENT FOR THE POPULATION 25 YEARS AND OVER</td>\n",
       "      <td>Estimate!!Total:</td>\n",
       "    </tr>\n",
       "    <tr>\n",
       "      <th>4</th>\n",
       "      <td>C15003_002E</td>\n",
       "      <td>C15003</td>\n",
       "      <td>EDUCATIONAL ATTAINMENT FOR THE POPULATION 25 YEARS AND OVER</td>\n",
       "      <td>Estimate!!Total:!!No schooling completed</td>\n",
       "    </tr>\n",
       "    <tr>\n",
       "      <th>8</th>\n",
       "      <td>C15003_003E</td>\n",
       "      <td>C15003</td>\n",
       "      <td>EDUCATIONAL ATTAINMENT FOR THE POPULATION 25 YEARS AND OVER</td>\n",
       "      <td>Estimate!!Total:!!Nursery to 4th grade</td>\n",
       "    </tr>\n",
       "    <tr>\n",
       "      <th>12</th>\n",
       "      <td>C15003_004E</td>\n",
       "      <td>C15003</td>\n",
       "      <td>EDUCATIONAL ATTAINMENT FOR THE POPULATION 25 YEARS AND OVER</td>\n",
       "      <td>Estimate!!Total:!!5th and 6th grade</td>\n",
       "    </tr>\n",
       "    <tr>\n",
       "      <th>16</th>\n",
       "      <td>C15003_005E</td>\n",
       "      <td>C15003</td>\n",
       "      <td>EDUCATIONAL ATTAINMENT FOR THE POPULATION 25 YEARS AND OVER</td>\n",
       "      <td>Estimate!!Total:!!7th and 8th grade</td>\n",
       "    </tr>\n",
       "    <tr>\n",
       "      <th>20</th>\n",
       "      <td>C15003_006E</td>\n",
       "      <td>C15003</td>\n",
       "      <td>EDUCATIONAL ATTAINMENT FOR THE POPULATION 25 YEARS AND OVER</td>\n",
       "      <td>Estimate!!Total:!!9th grade</td>\n",
       "    </tr>\n",
       "    <tr>\n",
       "      <th>24</th>\n",
       "      <td>C15003_007E</td>\n",
       "      <td>C15003</td>\n",
       "      <td>EDUCATIONAL ATTAINMENT FOR THE POPULATION 25 YEARS AND OVER</td>\n",
       "      <td>Estimate!!Total:!!10th grade</td>\n",
       "    </tr>\n",
       "    <tr>\n",
       "      <th>28</th>\n",
       "      <td>C15003_008E</td>\n",
       "      <td>C15003</td>\n",
       "      <td>EDUCATIONAL ATTAINMENT FOR THE POPULATION 25 YEARS AND OVER</td>\n",
       "      <td>Estimate!!Total:!!11th grade</td>\n",
       "    </tr>\n",
       "    <tr>\n",
       "      <th>32</th>\n",
       "      <td>C15003_009E</td>\n",
       "      <td>C15003</td>\n",
       "      <td>EDUCATIONAL ATTAINMENT FOR THE POPULATION 25 YEARS AND OVER</td>\n",
       "      <td>Estimate!!Total:!!12th grade, no diploma</td>\n",
       "    </tr>\n",
       "    <tr>\n",
       "      <th>36</th>\n",
       "      <td>C15003_010E</td>\n",
       "      <td>C15003</td>\n",
       "      <td>EDUCATIONAL ATTAINMENT FOR THE POPULATION 25 YEARS AND OVER</td>\n",
       "      <td>Estimate!!Total:!!Regular high school diploma</td>\n",
       "    </tr>\n",
       "    <tr>\n",
       "      <th>40</th>\n",
       "      <td>C15003_011E</td>\n",
       "      <td>C15003</td>\n",
       "      <td>EDUCATIONAL ATTAINMENT FOR THE POPULATION 25 YEARS AND OVER</td>\n",
       "      <td>Estimate!!Total:!!GED or alternative credential</td>\n",
       "    </tr>\n",
       "    <tr>\n",
       "      <th>44</th>\n",
       "      <td>C15003_012E</td>\n",
       "      <td>C15003</td>\n",
       "      <td>EDUCATIONAL ATTAINMENT FOR THE POPULATION 25 YEARS AND OVER</td>\n",
       "      <td>Estimate!!Total:!!Some college, less than 1 year</td>\n",
       "    </tr>\n",
       "    <tr>\n",
       "      <th>48</th>\n",
       "      <td>C15003_013E</td>\n",
       "      <td>C15003</td>\n",
       "      <td>EDUCATIONAL ATTAINMENT FOR THE POPULATION 25 YEARS AND OVER</td>\n",
       "      <td>Estimate!!Total:!!Some college, 1 or more years, no degree</td>\n",
       "    </tr>\n",
       "    <tr>\n",
       "      <th>52</th>\n",
       "      <td>C15003_014E</td>\n",
       "      <td>C15003</td>\n",
       "      <td>EDUCATIONAL ATTAINMENT FOR THE POPULATION 25 YEARS AND OVER</td>\n",
       "      <td>Estimate!!Total:!!Associate's degree</td>\n",
       "    </tr>\n",
       "    <tr>\n",
       "      <th>56</th>\n",
       "      <td>C15003_015E</td>\n",
       "      <td>C15003</td>\n",
       "      <td>EDUCATIONAL ATTAINMENT FOR THE POPULATION 25 YEARS AND OVER</td>\n",
       "      <td>Estimate!!Total:!!Bachelor's degree</td>\n",
       "    </tr>\n",
       "    <tr>\n",
       "      <th>60</th>\n",
       "      <td>C15003_016E</td>\n",
       "      <td>C15003</td>\n",
       "      <td>EDUCATIONAL ATTAINMENT FOR THE POPULATION 25 YEARS AND OVER</td>\n",
       "      <td>Estimate!!Total:!!Master's degree</td>\n",
       "    </tr>\n",
       "    <tr>\n",
       "      <th>64</th>\n",
       "      <td>C15003_017E</td>\n",
       "      <td>C15003</td>\n",
       "      <td>EDUCATIONAL ATTAINMENT FOR THE POPULATION 25 YEARS AND OVER</td>\n",
       "      <td>Estimate!!Total:!!Professional school degree</td>\n",
       "    </tr>\n",
       "    <tr>\n",
       "      <th>68</th>\n",
       "      <td>C15003_018E</td>\n",
       "      <td>C15003</td>\n",
       "      <td>EDUCATIONAL ATTAINMENT FOR THE POPULATION 25 YEARS AND OVER</td>\n",
       "      <td>Estimate!!Total:!!Doctorate degree</td>\n",
       "    </tr>\n",
       "  </tbody>\n",
       "</table>\n",
       "</div>"
      ],
      "text/plain": [
       "           code groupCode  \\\n",
       "0   C15003_001E    C15003   \n",
       "4   C15003_002E    C15003   \n",
       "8   C15003_003E    C15003   \n",
       "12  C15003_004E    C15003   \n",
       "16  C15003_005E    C15003   \n",
       "20  C15003_006E    C15003   \n",
       "24  C15003_007E    C15003   \n",
       "28  C15003_008E    C15003   \n",
       "32  C15003_009E    C15003   \n",
       "36  C15003_010E    C15003   \n",
       "40  C15003_011E    C15003   \n",
       "44  C15003_012E    C15003   \n",
       "48  C15003_013E    C15003   \n",
       "52  C15003_014E    C15003   \n",
       "56  C15003_015E    C15003   \n",
       "60  C15003_016E    C15003   \n",
       "64  C15003_017E    C15003   \n",
       "68  C15003_018E    C15003   \n",
       "\n",
       "                                                   groupConcept  \\\n",
       "0   EDUCATIONAL ATTAINMENT FOR THE POPULATION 25 YEARS AND OVER   \n",
       "4   EDUCATIONAL ATTAINMENT FOR THE POPULATION 25 YEARS AND OVER   \n",
       "8   EDUCATIONAL ATTAINMENT FOR THE POPULATION 25 YEARS AND OVER   \n",
       "12  EDUCATIONAL ATTAINMENT FOR THE POPULATION 25 YEARS AND OVER   \n",
       "16  EDUCATIONAL ATTAINMENT FOR THE POPULATION 25 YEARS AND OVER   \n",
       "20  EDUCATIONAL ATTAINMENT FOR THE POPULATION 25 YEARS AND OVER   \n",
       "24  EDUCATIONAL ATTAINMENT FOR THE POPULATION 25 YEARS AND OVER   \n",
       "28  EDUCATIONAL ATTAINMENT FOR THE POPULATION 25 YEARS AND OVER   \n",
       "32  EDUCATIONAL ATTAINMENT FOR THE POPULATION 25 YEARS AND OVER   \n",
       "36  EDUCATIONAL ATTAINMENT FOR THE POPULATION 25 YEARS AND OVER   \n",
       "40  EDUCATIONAL ATTAINMENT FOR THE POPULATION 25 YEARS AND OVER   \n",
       "44  EDUCATIONAL ATTAINMENT FOR THE POPULATION 25 YEARS AND OVER   \n",
       "48  EDUCATIONAL ATTAINMENT FOR THE POPULATION 25 YEARS AND OVER   \n",
       "52  EDUCATIONAL ATTAINMENT FOR THE POPULATION 25 YEARS AND OVER   \n",
       "56  EDUCATIONAL ATTAINMENT FOR THE POPULATION 25 YEARS AND OVER   \n",
       "60  EDUCATIONAL ATTAINMENT FOR THE POPULATION 25 YEARS AND OVER   \n",
       "64  EDUCATIONAL ATTAINMENT FOR THE POPULATION 25 YEARS AND OVER   \n",
       "68  EDUCATIONAL ATTAINMENT FOR THE POPULATION 25 YEARS AND OVER   \n",
       "\n",
       "                                                          name  \n",
       "0                                             Estimate!!Total:  \n",
       "4                     Estimate!!Total:!!No schooling completed  \n",
       "8                       Estimate!!Total:!!Nursery to 4th grade  \n",
       "12                         Estimate!!Total:!!5th and 6th grade  \n",
       "16                         Estimate!!Total:!!7th and 8th grade  \n",
       "20                                 Estimate!!Total:!!9th grade  \n",
       "24                                Estimate!!Total:!!10th grade  \n",
       "28                                Estimate!!Total:!!11th grade  \n",
       "32                    Estimate!!Total:!!12th grade, no diploma  \n",
       "36               Estimate!!Total:!!Regular high school diploma  \n",
       "40             Estimate!!Total:!!GED or alternative credential  \n",
       "44            Estimate!!Total:!!Some college, less than 1 year  \n",
       "48  Estimate!!Total:!!Some college, 1 or more years, no degree  \n",
       "52                        Estimate!!Total:!!Associate's degree  \n",
       "56                         Estimate!!Total:!!Bachelor's degree  \n",
       "60                           Estimate!!Total:!!Master's degree  \n",
       "64                Estimate!!Total:!!Professional school degree  \n",
       "68                          Estimate!!Total:!!Doctorate degree  "
      ]
     },
     "execution_count": 16,
     "metadata": {},
     "output_type": "execute_result"
    }
   ],
   "source": [
    "df"
   ]
  },
  {
   "cell_type": "code",
   "execution_count": 17,
   "metadata": {},
   "outputs": [
    {
     "data": {
      "application/vnd.jupyter.widget-view+json": {
       "model_id": "10a8733558044ba1b7dd5777d79cd25c",
       "version_major": 2,
       "version_minor": 0
      },
      "text/plain": [
       "|          | 0/? [00:00<?, ?it/s]"
      ]
     },
     "metadata": {},
     "output_type": "display_data"
    }
   ],
   "source": [
    "educData = c.getStats(df['code'].tolist(), GeoDomain('congressional district'), [GeoDomain('state')], replaceColumnHeaders=True)"
   ]
  },
  {
   "cell_type": "code",
   "execution_count": 18,
   "metadata": {},
   "outputs": [
    {
     "data": {
      "text/html": [
       "<div>\n",
       "<style scoped>\n",
       "    .dataframe tbody tr th:only-of-type {\n",
       "        vertical-align: middle;\n",
       "    }\n",
       "\n",
       "    .dataframe tbody tr th {\n",
       "        vertical-align: top;\n",
       "    }\n",
       "\n",
       "    .dataframe thead th {\n",
       "        text-align: right;\n",
       "    }\n",
       "</style>\n",
       "<table border=\"1\" class=\"dataframe\">\n",
       "  <thead>\n",
       "    <tr style=\"text-align: right;\">\n",
       "      <th></th>\n",
       "      <th>NAME</th>\n",
       "      <th>congressional district</th>\n",
       "      <th>state</th>\n",
       "      <th>Estimate!!Total:</th>\n",
       "      <th>Estimate!!Total:!!No schooling completed</th>\n",
       "      <th>Estimate!!Total:!!Nursery to 4th grade</th>\n",
       "      <th>Estimate!!Total:!!5th and 6th grade</th>\n",
       "      <th>Estimate!!Total:!!7th and 8th grade</th>\n",
       "      <th>Estimate!!Total:!!9th grade</th>\n",
       "      <th>Estimate!!Total:!!10th grade</th>\n",
       "      <th>...</th>\n",
       "      <th>Estimate!!Total:!!12th grade, no diploma</th>\n",
       "      <th>Estimate!!Total:!!Regular high school diploma</th>\n",
       "      <th>Estimate!!Total:!!GED or alternative credential</th>\n",
       "      <th>Estimate!!Total:!!Some college, less than 1 year</th>\n",
       "      <th>Estimate!!Total:!!Some college, 1 or more years, no degree</th>\n",
       "      <th>Estimate!!Total:!!Associate's degree</th>\n",
       "      <th>Estimate!!Total:!!Bachelor's degree</th>\n",
       "      <th>Estimate!!Total:!!Master's degree</th>\n",
       "      <th>Estimate!!Total:!!Professional school degree</th>\n",
       "      <th>Estimate!!Total:!!Doctorate degree</th>\n",
       "    </tr>\n",
       "  </thead>\n",
       "  <tbody>\n",
       "    <tr>\n",
       "      <th>0</th>\n",
       "      <td>Congressional District 3 (116th Congress), California</td>\n",
       "      <td>03</td>\n",
       "      <td>06</td>\n",
       "      <td>492041</td>\n",
       "      <td>9757</td>\n",
       "      <td>5077</td>\n",
       "      <td>12445</td>\n",
       "      <td>5491</td>\n",
       "      <td>5655</td>\n",
       "      <td>5461</td>\n",
       "      <td>...</td>\n",
       "      <td>11891</td>\n",
       "      <td>105373</td>\n",
       "      <td>13456</td>\n",
       "      <td>36042</td>\n",
       "      <td>86013</td>\n",
       "      <td>50948</td>\n",
       "      <td>83536</td>\n",
       "      <td>34271</td>\n",
       "      <td>9976</td>\n",
       "      <td>6172</td>\n",
       "    </tr>\n",
       "    <tr>\n",
       "      <th>1</th>\n",
       "      <td>Congressional District 21 (116th Congress), California</td>\n",
       "      <td>21</td>\n",
       "      <td>06</td>\n",
       "      <td>424849</td>\n",
       "      <td>21911</td>\n",
       "      <td>21062</td>\n",
       "      <td>39352</td>\n",
       "      <td>15217</td>\n",
       "      <td>20351</td>\n",
       "      <td>12229</td>\n",
       "      <td>...</td>\n",
       "      <td>15204</td>\n",
       "      <td>98332</td>\n",
       "      <td>13409</td>\n",
       "      <td>23653</td>\n",
       "      <td>59324</td>\n",
       "      <td>24457</td>\n",
       "      <td>32602</td>\n",
       "      <td>8271</td>\n",
       "      <td>3547</td>\n",
       "      <td>889</td>\n",
       "    </tr>\n",
       "  </tbody>\n",
       "</table>\n",
       "<p>2 rows × 21 columns</p>\n",
       "</div>"
      ],
      "text/plain": [
       "                                                     NAME  \\\n",
       "0   Congressional District 3 (116th Congress), California   \n",
       "1  Congressional District 21 (116th Congress), California   \n",
       "\n",
       "  congressional district state Estimate!!Total:  \\\n",
       "0                     03    06           492041   \n",
       "1                     21    06           424849   \n",
       "\n",
       "  Estimate!!Total:!!No schooling completed  \\\n",
       "0                                     9757   \n",
       "1                                    21911   \n",
       "\n",
       "  Estimate!!Total:!!Nursery to 4th grade Estimate!!Total:!!5th and 6th grade  \\\n",
       "0                                   5077                               12445   \n",
       "1                                  21062                               39352   \n",
       "\n",
       "  Estimate!!Total:!!7th and 8th grade Estimate!!Total:!!9th grade  \\\n",
       "0                                5491                        5655   \n",
       "1                               15217                       20351   \n",
       "\n",
       "  Estimate!!Total:!!10th grade  ... Estimate!!Total:!!12th grade, no diploma  \\\n",
       "0                         5461  ...                                    11891   \n",
       "1                        12229  ...                                    15204   \n",
       "\n",
       "  Estimate!!Total:!!Regular high school diploma  \\\n",
       "0                                        105373   \n",
       "1                                         98332   \n",
       "\n",
       "  Estimate!!Total:!!GED or alternative credential  \\\n",
       "0                                           13456   \n",
       "1                                           13409   \n",
       "\n",
       "  Estimate!!Total:!!Some college, less than 1 year  \\\n",
       "0                                            36042   \n",
       "1                                            23653   \n",
       "\n",
       "  Estimate!!Total:!!Some college, 1 or more years, no degree  \\\n",
       "0                                                      86013   \n",
       "1                                                      59324   \n",
       "\n",
       "  Estimate!!Total:!!Associate's degree Estimate!!Total:!!Bachelor's degree  \\\n",
       "0                                50948                               83536   \n",
       "1                                24457                               32602   \n",
       "\n",
       "  Estimate!!Total:!!Master's degree  \\\n",
       "0                             34271   \n",
       "1                              8271   \n",
       "\n",
       "  Estimate!!Total:!!Professional school degree  \\\n",
       "0                                         9976   \n",
       "1                                         3547   \n",
       "\n",
       "  Estimate!!Total:!!Doctorate degree  \n",
       "0                               6172  \n",
       "1                                889  \n",
       "\n",
       "[2 rows x 21 columns]"
      ]
     },
     "execution_count": 18,
     "metadata": {},
     "output_type": "execute_result"
    }
   ],
   "source": [
    "educData.head(n=2)"
   ]
  },
  {
   "cell_type": "code",
   "execution_count": null,
   "metadata": {},
   "outputs": [],
   "source": [
    "educData['pctNoHs'] = educData.C15003_0"
   ]
  },
  {
   "cell_type": "code",
   "execution_count": 20,
   "metadata": {},
   "outputs": [
    {
     "data": {
      "text/plain": [
       "dict_keys(['C15003_001E', 'C15003_001EA', 'C15003_001M', 'C15003_001MA', 'C15003_002E', 'C15003_002EA', 'C15003_002M', 'C15003_002MA', 'C15003_003E', 'C15003_003EA', 'C15003_003M', 'C15003_003MA', 'C15003_004E', 'C15003_004EA', 'C15003_004M', 'C15003_004MA', 'C15003_005E', 'C15003_005EA', 'C15003_005M', 'C15003_005MA', 'C15003_006E', 'C15003_006EA', 'C15003_006M', 'C15003_006MA', 'C15003_007E', 'C15003_007EA', 'C15003_007M', 'C15003_007MA', 'C15003_008E', 'C15003_008EA', 'C15003_008M', 'C15003_008MA', 'C15003_009E', 'C15003_009EA', 'C15003_009M', 'C15003_009MA', 'C15003_010E', 'C15003_010EA', 'C15003_010M', 'C15003_010MA', 'C15003_011E', 'C15003_011EA', 'C15003_011M', 'C15003_011MA', 'C15003_012E', 'C15003_012EA', 'C15003_012M', 'C15003_012MA', 'C15003_013E', 'C15003_013EA', 'C15003_013M', 'C15003_013MA', 'C15003_014E', 'C15003_014EA', 'C15003_014M', 'C15003_014MA', 'C15003_015E', 'C15003_015EA', 'C15003_015M', 'C15003_015MA', 'C15003_016E', 'C15003_016EA', 'C15003_016M', 'C15003_016MA', 'C15003_017E', 'C15003_017EA', 'C15003_017M', 'C15003_017MA', 'C15003_018E', 'C15003_018EA', 'C15003_018M', 'C15003_018MA', 'B28010_001E', 'B28010_001EA', 'B28010_001M', 'B28010_001MA', 'B28010_002E', 'B28010_002EA', 'B28010_002M', 'B28010_002MA', 'B28010_003E', 'B28010_003EA', 'B28010_003M', 'B28010_003MA', 'B28010_004E', 'B28010_004EA', 'B28010_004M', 'B28010_004MA', 'B28010_005E', 'B28010_005EA', 'B28010_005M', 'B28010_005MA', 'B28010_006E', 'B28010_006EA', 'B28010_006M', 'B28010_006MA', 'B28010_007E', 'B28010_007EA', 'B28010_007M', 'B28010_007MA', 'B28003_001E', 'B28003_001EA', 'B28003_001M', 'B28003_001MA', 'B28003_002E', 'B28003_002EA', 'B28003_002M', 'B28003_002MA', 'B28003_003E', 'B28003_003EA', 'B28003_003M', 'B28003_003MA', 'B28003_004E', 'B28003_004EA', 'B28003_004M', 'B28003_004MA', 'B28003_005E', 'B28003_005EA', 'B28003_005M', 'B28003_005MA', 'B28003_006E', 'B28003_006EA', 'B28003_006M', 'B28003_006MA', 'B28006_001E', 'B28006_001EA', 'B28006_001M', 'B28006_001MA', 'B28006_002E', 'B28006_002EA', 'B28006_002M', 'B28006_002MA', 'B28006_003E', 'B28006_003EA', 'B28006_003M', 'B28006_003MA', 'B28006_004E', 'B28006_004EA', 'B28006_004M', 'B28006_004MA', 'B28006_005E', 'B28006_005EA', 'B28006_005M', 'B28006_005MA', 'B28006_006E', 'B28006_006EA', 'B28006_006M', 'B28006_006MA', 'B28006_007E', 'B28006_007EA', 'B28006_007M', 'B28006_007MA', 'B28006_008E', 'B28006_008EA', 'B28006_008M', 'B28006_008MA', 'B28006_009E', 'B28006_009EA', 'B28006_009M', 'B28006_009MA', 'B28006_010E', 'B28006_010EA', 'B28006_010M', 'B28006_010MA', 'B28006_011E', 'B28006_011EA', 'B28006_011M', 'B28006_011MA', 'B28006_012E', 'B28006_012EA', 'B28006_012M', 'B28006_012MA', 'B28006_013E', 'B28006_013EA', 'B28006_013M', 'B28006_013MA', 'B28006_014E', 'B28006_014EA', 'B28006_014M', 'B28006_014MA', 'B28006_015E', 'B28006_015EA', 'B28006_015M', 'B28006_015MA', 'B28006_016E', 'B28006_016EA', 'B28006_016M', 'B28006_016MA', 'B28006_017E', 'B28006_017EA', 'B28006_017M', 'B28006_017MA', 'B28006_018E', 'B28006_018EA', 'B28006_018M', 'B28006_018MA', 'B28006_019E', 'B28006_019EA', 'B28006_019M', 'B28006_019MA', 'B23025_001E', 'B23025_001EA', 'B23025_001M', 'B23025_001MA', 'B23025_002E', 'B23025_002EA', 'B23025_002M', 'B23025_002MA', 'B23025_003E', 'B23025_003EA', 'B23025_003M', 'B23025_003MA', 'B23025_004E', 'B23025_004EA', 'B23025_004M', 'B23025_004MA', 'B23025_005E', 'B23025_005EA', 'B23025_005M', 'B23025_005MA', 'B23025_006E', 'B23025_006EA', 'B23025_006M', 'B23025_006MA', 'B23025_007E', 'B23025_007EA', 'B23025_007M', 'B23025_007MA', 'B27011_001E', 'B27011_001EA', 'B27011_001M', 'B27011_001MA', 'B27011_002E', 'B27011_002EA', 'B27011_002M', 'B27011_002MA', 'B27011_003E', 'B27011_003EA', 'B27011_003M', 'B27011_003MA', 'B27011_004E', 'B27011_004EA', 'B27011_004M', 'B27011_004MA', 'B27011_005E', 'B27011_005EA', 'B27011_005M', 'B27011_005MA', 'B27011_006E', 'B27011_006EA', 'B27011_006M', 'B27011_006MA', 'B27011_007E', 'B27011_007EA', 'B27011_007M', 'B27011_007MA', 'B27011_008E', 'B27011_008EA', 'B27011_008M', 'B27011_008MA', 'B27011_009E', 'B27011_009EA', 'B27011_009M', 'B27011_009MA', 'B27011_010E', 'B27011_010EA', 'B27011_010M', 'B27011_010MA', 'B27011_011E', 'B27011_011EA', 'B27011_011M', 'B27011_011MA', 'B27011_012E', 'B27011_012EA', 'B27011_012M', 'B27011_012MA', 'B27011_013E', 'B27011_013EA', 'B27011_013M', 'B27011_013MA', 'B27011_014E', 'B27011_014EA', 'B27011_014M', 'B27011_014MA', 'B27011_015E', 'B27011_015EA', 'B27011_015M', 'B27011_015MA', 'B27011_016E', 'B27011_016EA', 'B27011_016M', 'B27011_016MA', 'B27011_017E', 'B27011_017EA', 'B27011_017M', 'B27011_017MA'])"
      ]
     },
     "execution_count": 20,
     "metadata": {},
     "output_type": "execute_result"
    }
   ],
   "source": [
    "c.variables."
   ]
  },
  {
   "cell_type": "code",
   "execution_count": null,
   "metadata": {},
   "outputs": [],
   "source": []
  }
 ],
 "metadata": {
  "kernelspec": {
   "display_name": "Python 3.9.1 64-bit ('venv')",
   "language": "python",
   "name": "python39164bitvenv4c88f40478f240098553cf3ce2aa2c00"
  },
  "language_info": {
   "codemirror_mode": {
    "name": "ipython",
    "version": 3
   },
   "file_extension": ".py",
   "mimetype": "text/x-python",
   "name": "python",
   "nbconvert_exporter": "python",
   "pygments_lexer": "ipython3",
   "version": "3.9.1"
  }
 },
 "nbformat": 4,
 "nbformat_minor": 2
}
